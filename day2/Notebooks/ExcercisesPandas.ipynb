{
 "cells": [
  {
   "cell_type": "markdown",
   "id": "accompanied-inspector",
   "metadata": {},
   "source": [
    "## Excercises pandas\n",
    "\n",
    "Let's practice data exploration and wrangling in Pandas. \n",
    "\n",
    "We will work with data collected through the Twitter API (more on API's tomorrow ;)). Few months ago I collected tweets published by the RIVM twice. I have also already run a sentiment analysis on these tweets and have saved it in a separate file.\n",
    "We have three datasets:\n",
    "* Two datasets with tweets by the RIVM (public tweets by account)\n",
    "* One dataset with sentiment of those tweets (simulated dataset, with two sentiment scores)\n",
    "\n",
    "We want to see how sentiment changes over time (per month), compare number of positive and negative tweets and analyze the relation between sentiment and engagement with the tweets\n",
    "\n",
    "We want to prepare the dataset for analysis:\n",
    "\n",
    "**Morning**\n",
    "* Data exploration\n",
    "    * Check columns, data types, missing values, descriptives for numeric variables measuring engagement and sentiment, value_counts for relevant categorical variables\n",
    "* Handling missing values and data types\n",
    "    * Handle missing values in variables of interest: number of likes and retweets - what can nan's mean?\n",
    "    * Make sure created_at has the right format (to use it for aggregation later)\n",
    "* Creating necessary variables (sentiment)\n",
    "    * Overall measure of sentiment - create it from positive and negative\n",
    "    * Binary variable (positive or negative tweet) - Tip: Write a function that \"recodes\" the sentiment column\n",
    "    \n",
    "\n",
    "**Afternoon**\n",
    "\n",
    "Pandas continued\n",
    "* Concatenating the dataframes (tweets1 and tweets2)\n",
    "* Merging the files (tweets with sentiment)\n",
    "    * Make sure the columns you merge match and check how to merge\n",
    "* Agrregating the files per month\n",
    "    * Tip: Create a column for month by transforming the date column. Remember that the date column needs the right format first!\n",
    "    \n",
    "    `df['month'] = df['date_dt_column'].dt.strftime('%Y-%m')`\n",
    "\n",
    "\n",
    "\n",
    "\n",
    "\n",
    "Visualisations:\n",
    "* Visualise different columns of the tweet dataset (change of sentiment over time, sentiment, engagement, relation between sentiment and engagement)\n",
    "* But *more fun*: use your own data to play with visualisations"
   ]
  },
  {
   "cell_type": "code",
   "execution_count": 2,
   "id": "brazilian-giving",
   "metadata": {},
   "outputs": [],
   "source": [
    "import pandas as pd"
   ]
  },
  {
   "cell_type": "code",
   "execution_count": 3,
   "id": "appreciated-cigarette",
   "metadata": {},
   "outputs": [],
   "source": [
    "tweets1 = pd.read_csv('Datasets/RIVM_1.csv')"
   ]
  },
  {
   "cell_type": "code",
   "execution_count": 4,
   "id": "hollow-honduras",
   "metadata": {},
   "outputs": [],
   "source": [
    "tweets2 = pd.read_csv('Datasets/RIVM_2.csv')"
   ]
  },
  {
   "cell_type": "code",
   "execution_count": 5,
   "id": "leading-adelaide",
   "metadata": {},
   "outputs": [],
   "source": [
    "sentiment = pd.read_csv('Datasets/RIVM_sentiment.csv')"
   ]
  },
  {
   "cell_type": "code",
   "execution_count": null,
   "id": "antique-specific",
   "metadata": {},
   "outputs": [],
   "source": []
  }
 ],
 "metadata": {
  "kernelspec": {
   "display_name": "Python 3",
   "language": "python",
   "name": "python3"
  },
  "language_info": {
   "codemirror_mode": {
    "name": "ipython",
    "version": 3
   },
   "file_extension": ".py",
   "mimetype": "text/x-python",
   "name": "python",
   "nbconvert_exporter": "python",
   "pygments_lexer": "ipython3",
   "version": "3.9.1"
  }
 },
 "nbformat": 4,
 "nbformat_minor": 5
}

{
 "cells": [
  {
   "cell_type": "markdown",
   "id": "national-alexander",
   "metadata": {},
   "source": [
    "## Excercises pandas\n",
    "\n",
    "Let's practice data exploration and wrangling in Pandas. \n",
    "\n",
    "We will work with data collected through the Twitter API (more on API's tomorrow ;)). Few months ago I collected tweets published by the RIVM twice. I have also already run a sentiment analysis on these tweets and have saved it in a separate file.\n",
    "We have three datasets:\n",
    "* Two datasets with tweets by the RIVM \n",
    "* One dataset with sentiment of those tweets\n",
    "\n",
    "Later, we will analyse hwo sentiment changed over time and the relation between sentiment and engagement with the tweets\n",
    "\n",
    "We want to prepare the dataset for analysis:\n",
    "* Data exploration\n",
    "* Handling missing values and data types\n",
    "    * Engagement variables?\n",
    "    * Created at?\n",
    "* Concatting the dataframes\n",
    "* Merging the files\n",
    "    * Make sure the columns you merge on match and check how to merge"
   ]
  },
  {
   "cell_type": "code",
   "execution_count": 1,
   "id": "alien-midnight",
   "metadata": {},
   "outputs": [],
   "source": [
    "import pandas as pd"
   ]
  },
  {
   "cell_type": "code",
   "execution_count": 21,
   "id": "adjacent-petite",
   "metadata": {},
   "outputs": [],
   "source": [
    "tweets1 = pd.read_csv('RIVM_1.csv')"
   ]
  },
  {
   "cell_type": "code",
   "execution_count": 22,
   "id": "mighty-brand",
   "metadata": {},
   "outputs": [],
   "source": [
    "tweets2 = pd.read_csv('RIVM_2.csv')"
   ]
  },
  {
   "cell_type": "code",
   "execution_count": 24,
   "id": "patent-indie",
   "metadata": {},
   "outputs": [],
   "source": [
    "sentiment = pd.read_csv('RIVM_sentiment.csv')"
   ]
  },
  {
   "cell_type": "code",
   "execution_count": null,
   "id": "particular-economy",
   "metadata": {},
   "outputs": [],
   "source": []
  }
 ],
 "metadata": {
  "kernelspec": {
   "display_name": "Python 3",
   "language": "python",
   "name": "python3"
  },
  "language_info": {
   "codemirror_mode": {
    "name": "ipython",
    "version": 3
   },
   "file_extension": ".py",
   "mimetype": "text/x-python",
   "name": "python",
   "nbconvert_exporter": "python",
   "pygments_lexer": "ipython3",
   "version": "3.9.1"
  }
 },
 "nbformat": 4,
 "nbformat_minor": 5
}

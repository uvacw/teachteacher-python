{
 "cells": [
  {
   "cell_type": "markdown",
   "metadata": {},
   "source": [
    "# Data cleaning\n",
    "\n",
    "In this notebook:\n",
    "\n",
    "* Inspection of dataframes\n",
    "* Identification and handling of missing values\n",
    "* Usage of functions to clean columns\n",
    "* Merging dataframes\n",
    "\n",
    "\n",
    "* .describe(), .dtypes\n",
    "* .isna().sum(), .fillna(), . dropna()\n",
    "* .apply() and selection of functions based on existing list\n",
    "* .merge()"
   ]
  },
  {
   "cell_type": "code",
   "execution_count": 2,
   "metadata": {},
   "outputs": [],
   "source": [
    "import pandas as pd\n",
    "import numpy as np"
   ]
  },
  {
   "cell_type": "markdown",
   "metadata": {},
   "source": [
    "## Loading data"
   ]
  },
  {
   "cell_type": "markdown",
   "metadata": {},
   "source": [
    "Two datasets:\n",
    "* YouTube videos on climate change\n",
    "* Sentiment analysis on titles of these videos (three scores, on Thursday you will learn what is wrong with that ;))\n",
    "\n",
    "### What do we want to know?\n",
    "\n",
    "* To what extent does the sentiment expressed in the title of the video influence user engagement (views, likes and dislikes)?\n",
    "* To what extent does the sentiment expressed in the title of the video vary depending on the category in which the video is published?\n",
    "\n",
    "**Important:** We only want to do this for videos published in 2018 till 2020. \n",
    "\n",
    "What do we need to do\n",
    "1. **Inspect** datasets\n",
    "2. Make sure we have the user engagement variables (**likes**, **dislikes**, and **views**)\n",
    "3. Make sure we have a variable for the **category** of the video\n",
    "4. Know **when the video was published**, and remove old videos\n",
    "5. **Merge** the two datasets"
   ]
  },
  {
   "cell_type": "code",
   "execution_count": 5,
   "metadata": {},
   "outputs": [
    {
     "ename": "ParserError",
     "evalue": "Error tokenizing data. C error: Expected 4 fields in line 3, saw 6\n",
     "output_type": "error",
     "traceback": [
      "\u001b[0;31m---------------------------------------------------------------------------\u001b[0m",
      "\u001b[0;31mParserError\u001b[0m                               Traceback (most recent call last)",
      "\u001b[0;32m<ipython-input-5-70a34e0eabd1>\u001b[0m in \u001b[0;36m<module>\u001b[0;34m\u001b[0m\n\u001b[0;32m----> 1\u001b[0;31m \u001b[0mvideos\u001b[0m \u001b[0;34m=\u001b[0m \u001b[0mpd\u001b[0m\u001b[0;34m.\u001b[0m\u001b[0mread_csv\u001b[0m\u001b[0;34m(\u001b[0m\u001b[0;34m'videolist_search500_2020_01_25-12_34_16.tab'\u001b[0m\u001b[0;34m)\u001b[0m\u001b[0;34m\u001b[0m\u001b[0;34m\u001b[0m\u001b[0m\n\u001b[0m",
      "\u001b[0;32m/Library/Frameworks/Python.framework/Versions/3.9/lib/python3.9/site-packages/pandas/io/parsers.py\u001b[0m in \u001b[0;36mread_csv\u001b[0;34m(filepath_or_buffer, sep, delimiter, header, names, index_col, usecols, squeeze, prefix, mangle_dupe_cols, dtype, engine, converters, true_values, false_values, skipinitialspace, skiprows, skipfooter, nrows, na_values, keep_default_na, na_filter, verbose, skip_blank_lines, parse_dates, infer_datetime_format, keep_date_col, date_parser, dayfirst, cache_dates, iterator, chunksize, compression, thousands, decimal, lineterminator, quotechar, quoting, doublequote, escapechar, comment, encoding, dialect, error_bad_lines, warn_bad_lines, delim_whitespace, low_memory, memory_map, float_precision, storage_options)\u001b[0m\n\u001b[1;32m    603\u001b[0m     \u001b[0mkwds\u001b[0m\u001b[0;34m.\u001b[0m\u001b[0mupdate\u001b[0m\u001b[0;34m(\u001b[0m\u001b[0mkwds_defaults\u001b[0m\u001b[0;34m)\u001b[0m\u001b[0;34m\u001b[0m\u001b[0;34m\u001b[0m\u001b[0m\n\u001b[1;32m    604\u001b[0m \u001b[0;34m\u001b[0m\u001b[0m\n\u001b[0;32m--> 605\u001b[0;31m     \u001b[0;32mreturn\u001b[0m \u001b[0m_read\u001b[0m\u001b[0;34m(\u001b[0m\u001b[0mfilepath_or_buffer\u001b[0m\u001b[0;34m,\u001b[0m \u001b[0mkwds\u001b[0m\u001b[0;34m)\u001b[0m\u001b[0;34m\u001b[0m\u001b[0;34m\u001b[0m\u001b[0m\n\u001b[0m\u001b[1;32m    606\u001b[0m \u001b[0;34m\u001b[0m\u001b[0m\n\u001b[1;32m    607\u001b[0m \u001b[0;34m\u001b[0m\u001b[0m\n",
      "\u001b[0;32m/Library/Frameworks/Python.framework/Versions/3.9/lib/python3.9/site-packages/pandas/io/parsers.py\u001b[0m in \u001b[0;36m_read\u001b[0;34m(filepath_or_buffer, kwds)\u001b[0m\n\u001b[1;32m    461\u001b[0m \u001b[0;34m\u001b[0m\u001b[0m\n\u001b[1;32m    462\u001b[0m     \u001b[0;32mwith\u001b[0m \u001b[0mparser\u001b[0m\u001b[0;34m:\u001b[0m\u001b[0;34m\u001b[0m\u001b[0;34m\u001b[0m\u001b[0m\n\u001b[0;32m--> 463\u001b[0;31m         \u001b[0;32mreturn\u001b[0m \u001b[0mparser\u001b[0m\u001b[0;34m.\u001b[0m\u001b[0mread\u001b[0m\u001b[0;34m(\u001b[0m\u001b[0mnrows\u001b[0m\u001b[0;34m)\u001b[0m\u001b[0;34m\u001b[0m\u001b[0;34m\u001b[0m\u001b[0m\n\u001b[0m\u001b[1;32m    464\u001b[0m \u001b[0;34m\u001b[0m\u001b[0m\n\u001b[1;32m    465\u001b[0m \u001b[0;34m\u001b[0m\u001b[0m\n",
      "\u001b[0;32m/Library/Frameworks/Python.framework/Versions/3.9/lib/python3.9/site-packages/pandas/io/parsers.py\u001b[0m in \u001b[0;36mread\u001b[0;34m(self, nrows)\u001b[0m\n\u001b[1;32m   1050\u001b[0m     \u001b[0;32mdef\u001b[0m \u001b[0mread\u001b[0m\u001b[0;34m(\u001b[0m\u001b[0mself\u001b[0m\u001b[0;34m,\u001b[0m \u001b[0mnrows\u001b[0m\u001b[0;34m=\u001b[0m\u001b[0;32mNone\u001b[0m\u001b[0;34m)\u001b[0m\u001b[0;34m:\u001b[0m\u001b[0;34m\u001b[0m\u001b[0;34m\u001b[0m\u001b[0m\n\u001b[1;32m   1051\u001b[0m         \u001b[0mnrows\u001b[0m \u001b[0;34m=\u001b[0m \u001b[0mvalidate_integer\u001b[0m\u001b[0;34m(\u001b[0m\u001b[0;34m\"nrows\"\u001b[0m\u001b[0;34m,\u001b[0m \u001b[0mnrows\u001b[0m\u001b[0;34m)\u001b[0m\u001b[0;34m\u001b[0m\u001b[0;34m\u001b[0m\u001b[0m\n\u001b[0;32m-> 1052\u001b[0;31m         \u001b[0mindex\u001b[0m\u001b[0;34m,\u001b[0m \u001b[0mcolumns\u001b[0m\u001b[0;34m,\u001b[0m \u001b[0mcol_dict\u001b[0m \u001b[0;34m=\u001b[0m \u001b[0mself\u001b[0m\u001b[0;34m.\u001b[0m\u001b[0m_engine\u001b[0m\u001b[0;34m.\u001b[0m\u001b[0mread\u001b[0m\u001b[0;34m(\u001b[0m\u001b[0mnrows\u001b[0m\u001b[0;34m)\u001b[0m\u001b[0;34m\u001b[0m\u001b[0;34m\u001b[0m\u001b[0m\n\u001b[0m\u001b[1;32m   1053\u001b[0m \u001b[0;34m\u001b[0m\u001b[0m\n\u001b[1;32m   1054\u001b[0m         \u001b[0;32mif\u001b[0m \u001b[0mindex\u001b[0m \u001b[0;32mis\u001b[0m \u001b[0;32mNone\u001b[0m\u001b[0;34m:\u001b[0m\u001b[0;34m\u001b[0m\u001b[0;34m\u001b[0m\u001b[0m\n",
      "\u001b[0;32m/Library/Frameworks/Python.framework/Versions/3.9/lib/python3.9/site-packages/pandas/io/parsers.py\u001b[0m in \u001b[0;36mread\u001b[0;34m(self, nrows)\u001b[0m\n\u001b[1;32m   2054\u001b[0m     \u001b[0;32mdef\u001b[0m \u001b[0mread\u001b[0m\u001b[0;34m(\u001b[0m\u001b[0mself\u001b[0m\u001b[0;34m,\u001b[0m \u001b[0mnrows\u001b[0m\u001b[0;34m=\u001b[0m\u001b[0;32mNone\u001b[0m\u001b[0;34m)\u001b[0m\u001b[0;34m:\u001b[0m\u001b[0;34m\u001b[0m\u001b[0;34m\u001b[0m\u001b[0m\n\u001b[1;32m   2055\u001b[0m         \u001b[0;32mtry\u001b[0m\u001b[0;34m:\u001b[0m\u001b[0;34m\u001b[0m\u001b[0;34m\u001b[0m\u001b[0m\n\u001b[0;32m-> 2056\u001b[0;31m             \u001b[0mdata\u001b[0m \u001b[0;34m=\u001b[0m \u001b[0mself\u001b[0m\u001b[0;34m.\u001b[0m\u001b[0m_reader\u001b[0m\u001b[0;34m.\u001b[0m\u001b[0mread\u001b[0m\u001b[0;34m(\u001b[0m\u001b[0mnrows\u001b[0m\u001b[0;34m)\u001b[0m\u001b[0;34m\u001b[0m\u001b[0;34m\u001b[0m\u001b[0m\n\u001b[0m\u001b[1;32m   2057\u001b[0m         \u001b[0;32mexcept\u001b[0m \u001b[0mStopIteration\u001b[0m\u001b[0;34m:\u001b[0m\u001b[0;34m\u001b[0m\u001b[0;34m\u001b[0m\u001b[0m\n\u001b[1;32m   2058\u001b[0m             \u001b[0;32mif\u001b[0m \u001b[0mself\u001b[0m\u001b[0;34m.\u001b[0m\u001b[0m_first_chunk\u001b[0m\u001b[0;34m:\u001b[0m\u001b[0;34m\u001b[0m\u001b[0;34m\u001b[0m\u001b[0m\n",
      "\u001b[0;32mpandas/_libs/parsers.pyx\u001b[0m in \u001b[0;36mpandas._libs.parsers.TextReader.read\u001b[0;34m()\u001b[0m\n",
      "\u001b[0;32mpandas/_libs/parsers.pyx\u001b[0m in \u001b[0;36mpandas._libs.parsers.TextReader._read_low_memory\u001b[0;34m()\u001b[0m\n",
      "\u001b[0;32mpandas/_libs/parsers.pyx\u001b[0m in \u001b[0;36mpandas._libs.parsers.TextReader._read_rows\u001b[0;34m()\u001b[0m\n",
      "\u001b[0;32mpandas/_libs/parsers.pyx\u001b[0m in \u001b[0;36mpandas._libs.parsers.TextReader._tokenize_rows\u001b[0;34m()\u001b[0m\n",
      "\u001b[0;32mpandas/_libs/parsers.pyx\u001b[0m in \u001b[0;36mpandas._libs.parsers.raise_parser_error\u001b[0;34m()\u001b[0m\n",
      "\u001b[0;31mParserError\u001b[0m: Error tokenizing data. C error: Expected 4 fields in line 3, saw 6\n"
     ]
    }
   ],
   "source": [
    "videos = pd.read_csv('Datasets/YouTube_climatechange.tab')"
   ]
  },
  {
   "cell_type": "code",
   "execution_count": 3,
   "metadata": {},
   "outputs": [
    {
     "data": {
      "text/html": [
       "<div>\n",
       "<style scoped>\n",
       "    .dataframe tbody tr th:only-of-type {\n",
       "        vertical-align: middle;\n",
       "    }\n",
       "\n",
       "    .dataframe tbody tr th {\n",
       "        vertical-align: top;\n",
       "    }\n",
       "\n",
       "    .dataframe thead th {\n",
       "        text-align: right;\n",
       "    }\n",
       "</style>\n",
       "<table border=\"1\" class=\"dataframe\">\n",
       "  <thead>\n",
       "    <tr style=\"text-align: right;\">\n",
       "      <th></th>\n",
       "      <th>position</th>\n",
       "      <th>channelId</th>\n",
       "      <th>channelTitle</th>\n",
       "      <th>videoId</th>\n",
       "      <th>publishedAt</th>\n",
       "      <th>publishedAtSQL</th>\n",
       "      <th>videoTitle</th>\n",
       "      <th>videoDescription</th>\n",
       "      <th>videoCategoryId</th>\n",
       "      <th>videoCategoryLabel</th>\n",
       "      <th>...</th>\n",
       "      <th>dimension</th>\n",
       "      <th>definition</th>\n",
       "      <th>caption</th>\n",
       "      <th>thumbnail_maxres</th>\n",
       "      <th>licensedContent</th>\n",
       "      <th>viewCount</th>\n",
       "      <th>likeCount</th>\n",
       "      <th>dislikeCount</th>\n",
       "      <th>favoriteCount</th>\n",
       "      <th>commentCount</th>\n",
       "    </tr>\n",
       "  </thead>\n",
       "  <tbody>\n",
       "    <tr>\n",
       "      <th>0</th>\n",
       "      <td>1</td>\n",
       "      <td>UCIALMKvObZNtJ6AmdCLP7Lg</td>\n",
       "      <td>Bloomberg Markets and Finance</td>\n",
       "      <td>sGHq_EwXDn8</td>\n",
       "      <td>2020-01-24T04:15:28.000Z</td>\n",
       "      <td>2020-01-24 04:15:28</td>\n",
       "      <td>Australia’s Policies Going in Wrong Direction ...</td>\n",
       "      <td>Jan.23 -- Michael Mann, distinguished professo...</td>\n",
       "      <td>25</td>\n",
       "      <td>News &amp; Politics</td>\n",
       "      <td>...</td>\n",
       "      <td>2d</td>\n",
       "      <td>hd</td>\n",
       "      <td>False</td>\n",
       "      <td>https://i.ytimg.com/vi/sGHq_EwXDn8/maxresdefau...</td>\n",
       "      <td>1.0</td>\n",
       "      <td>2017</td>\n",
       "      <td>31.0</td>\n",
       "      <td>24.0</td>\n",
       "      <td>0</td>\n",
       "      <td>57.0</td>\n",
       "    </tr>\n",
       "    <tr>\n",
       "      <th>1</th>\n",
       "      <td>2</td>\n",
       "      <td>UCb1Ti1WKPauPpXkYKVHNpsw</td>\n",
       "      <td>LBC</td>\n",
       "      <td>PRtn1W2RAVU</td>\n",
       "      <td>2020-01-23T10:32:38.000Z</td>\n",
       "      <td>2020-01-23 10:32:38</td>\n",
       "      <td>Nigel Farage compares President Trump and Prin...</td>\n",
       "      <td>This is Nigel Farage's reaction to President T...</td>\n",
       "      <td>25</td>\n",
       "      <td>News &amp; Politics</td>\n",
       "      <td>...</td>\n",
       "      <td>2d</td>\n",
       "      <td>hd</td>\n",
       "      <td>False</td>\n",
       "      <td>https://i.ytimg.com/vi/PRtn1W2RAVU/maxresdefau...</td>\n",
       "      <td>1.0</td>\n",
       "      <td>65633</td>\n",
       "      <td>1637.0</td>\n",
       "      <td>100.0</td>\n",
       "      <td>0</td>\n",
       "      <td>1093.0</td>\n",
       "    </tr>\n",
       "    <tr>\n",
       "      <th>2</th>\n",
       "      <td>3</td>\n",
       "      <td>UC-SJ6nODDmufqBzPBwCvYvQ</td>\n",
       "      <td>CBS This Morning</td>\n",
       "      <td>2CQvBGSiDvw</td>\n",
       "      <td>2019-12-23T13:38:55.000Z</td>\n",
       "      <td>2019-12-23 13:38:55</td>\n",
       "      <td>Climate change in the 2020s: What impacts to e...</td>\n",
       "      <td>In our series The 2020's, we're exploring the ...</td>\n",
       "      <td>25</td>\n",
       "      <td>News &amp; Politics</td>\n",
       "      <td>...</td>\n",
       "      <td>2d</td>\n",
       "      <td>hd</td>\n",
       "      <td>False</td>\n",
       "      <td>https://i.ytimg.com/vi/2CQvBGSiDvw/maxresdefau...</td>\n",
       "      <td>1.0</td>\n",
       "      <td>34455</td>\n",
       "      <td>646.0</td>\n",
       "      <td>97.0</td>\n",
       "      <td>0</td>\n",
       "      <td>618.0</td>\n",
       "    </tr>\n",
       "    <tr>\n",
       "      <th>3</th>\n",
       "      <td>4</td>\n",
       "      <td>UCcyq283he07B7_KUX07mmtA</td>\n",
       "      <td>Business Insider</td>\n",
       "      <td>Cbwv1jg4gZU</td>\n",
       "      <td>2020-01-22T22:28:34.000Z</td>\n",
       "      <td>2020-01-22 22:28:34</td>\n",
       "      <td>Solution To Climate Change Is To Make It Profi...</td>\n",
       "      <td>Environmental problems rose to the top of the ...</td>\n",
       "      <td>25</td>\n",
       "      <td>News &amp; Politics</td>\n",
       "      <td>...</td>\n",
       "      <td>2d</td>\n",
       "      <td>hd</td>\n",
       "      <td>True</td>\n",
       "      <td>https://i.ytimg.com/vi/Cbwv1jg4gZU/maxresdefau...</td>\n",
       "      <td>1.0</td>\n",
       "      <td>24345</td>\n",
       "      <td>871.0</td>\n",
       "      <td>54.0</td>\n",
       "      <td>0</td>\n",
       "      <td>166.0</td>\n",
       "    </tr>\n",
       "    <tr>\n",
       "      <th>4</th>\n",
       "      <td>5</td>\n",
       "      <td>UCWafKqurzE49MzZ6eHFwXvQ</td>\n",
       "      <td>EconClips</td>\n",
       "      <td>cWsCX_yxXqw</td>\n",
       "      <td>2020-01-22T20:01:12.000Z</td>\n",
       "      <td>2020-01-22 20:01:12</td>\n",
       "      <td>🌤 Climate Change from the Economic Point of View</td>\n",
       "      <td>Climate change from the economic point of view...</td>\n",
       "      <td>27</td>\n",
       "      <td>Education</td>\n",
       "      <td>...</td>\n",
       "      <td>2d</td>\n",
       "      <td>hd</td>\n",
       "      <td>True</td>\n",
       "      <td>https://i.ytimg.com/vi/cWsCX_yxXqw/maxresdefau...</td>\n",
       "      <td>1.0</td>\n",
       "      <td>2085</td>\n",
       "      <td>129.0</td>\n",
       "      <td>23.0</td>\n",
       "      <td>0</td>\n",
       "      <td>74.0</td>\n",
       "    </tr>\n",
       "    <tr>\n",
       "      <th>...</th>\n",
       "      <td>...</td>\n",
       "      <td>...</td>\n",
       "      <td>...</td>\n",
       "      <td>...</td>\n",
       "      <td>...</td>\n",
       "      <td>...</td>\n",
       "      <td>...</td>\n",
       "      <td>...</td>\n",
       "      <td>...</td>\n",
       "      <td>...</td>\n",
       "      <td>...</td>\n",
       "      <td>...</td>\n",
       "      <td>...</td>\n",
       "      <td>...</td>\n",
       "      <td>...</td>\n",
       "      <td>...</td>\n",
       "      <td>...</td>\n",
       "      <td>...</td>\n",
       "      <td>...</td>\n",
       "      <td>...</td>\n",
       "      <td>...</td>\n",
       "    </tr>\n",
       "    <tr>\n",
       "      <th>495</th>\n",
       "      <td>496</td>\n",
       "      <td>UC4-AGCUwX7C-D4BsBook9fQ</td>\n",
       "      <td>YAFTV</td>\n",
       "      <td>i-qBOyrD0-0</td>\n",
       "      <td>2019-10-05T23:34:52.000Z</td>\n",
       "      <td>2019-10-05 23:34:52</td>\n",
       "      <td>HOW DARE YOU: 10 reasons not to believe climat...</td>\n",
       "      <td>Famous for her hard-hitting video segments, Li...</td>\n",
       "      <td>29</td>\n",
       "      <td>Nonprofits &amp; Activism</td>\n",
       "      <td>...</td>\n",
       "      <td>2d</td>\n",
       "      <td>hd</td>\n",
       "      <td>False</td>\n",
       "      <td>NaN</td>\n",
       "      <td>NaN</td>\n",
       "      <td>550692</td>\n",
       "      <td>20821.0</td>\n",
       "      <td>702.0</td>\n",
       "      <td>0</td>\n",
       "      <td>6500.0</td>\n",
       "    </tr>\n",
       "    <tr>\n",
       "      <th>496</th>\n",
       "      <td>497</td>\n",
       "      <td>UCeo9P_uFXJOi4v0XvHczGRQ</td>\n",
       "      <td>wocomoDOCS</td>\n",
       "      <td>itgNMmhcXPA</td>\n",
       "      <td>2016-06-23T08:00:01.000Z</td>\n",
       "      <td>2016-06-23 08:00:01</td>\n",
       "      <td>Global warming and wine | Viticulture and Clim...</td>\n",
       "      <td>Global warming could drastically alter the wor...</td>\n",
       "      <td>27</td>\n",
       "      <td>Education</td>\n",
       "      <td>...</td>\n",
       "      <td>2d</td>\n",
       "      <td>hd</td>\n",
       "      <td>False</td>\n",
       "      <td>https://i.ytimg.com/vi/itgNMmhcXPA/maxresdefau...</td>\n",
       "      <td>1.0</td>\n",
       "      <td>28587</td>\n",
       "      <td>194.0</td>\n",
       "      <td>11.0</td>\n",
       "      <td>0</td>\n",
       "      <td>23.0</td>\n",
       "    </tr>\n",
       "    <tr>\n",
       "      <th>497</th>\n",
       "      <td>498</td>\n",
       "      <td>UCqKnDDavIqBKZuvgQtYAJsA</td>\n",
       "      <td>Future Thinkers</td>\n",
       "      <td>58xtN6Dw8kw</td>\n",
       "      <td>2017-09-08T09:59:08.000Z</td>\n",
       "      <td>2017-09-08 09:59:08</td>\n",
       "      <td>7 Ways Blockchain Can Stop Climate Change &amp; Sa...</td>\n",
       "      <td>The blockchain is the technology that underlie...</td>\n",
       "      <td>28</td>\n",
       "      <td>Science &amp; Technology</td>\n",
       "      <td>...</td>\n",
       "      <td>2d</td>\n",
       "      <td>hd</td>\n",
       "      <td>False</td>\n",
       "      <td>https://i.ytimg.com/vi/58xtN6Dw8kw/maxresdefau...</td>\n",
       "      <td>1.0</td>\n",
       "      <td>35771</td>\n",
       "      <td>861.0</td>\n",
       "      <td>20.0</td>\n",
       "      <td>0</td>\n",
       "      <td>59.0</td>\n",
       "    </tr>\n",
       "    <tr>\n",
       "      <th>498</th>\n",
       "      <td>499</td>\n",
       "      <td>UCD_DaKNac0Ta-2PeHuoQ1uA</td>\n",
       "      <td>Senator Bernie Sanders</td>\n",
       "      <td>-wCcQE0eLbM</td>\n",
       "      <td>2018-12-04T02:26:34.000Z</td>\n",
       "      <td>2018-12-04 02:26:34</td>\n",
       "      <td>Climate Change Town Hall</td>\n",
       "      <td>Sen. Bernie Sanders hosts a national town hall...</td>\n",
       "      <td>25</td>\n",
       "      <td>News &amp; Politics</td>\n",
       "      <td>...</td>\n",
       "      <td>2d</td>\n",
       "      <td>hd</td>\n",
       "      <td>False</td>\n",
       "      <td>NaN</td>\n",
       "      <td>NaN</td>\n",
       "      <td>27003</td>\n",
       "      <td>1544.0</td>\n",
       "      <td>90.0</td>\n",
       "      <td>0</td>\n",
       "      <td>282.0</td>\n",
       "    </tr>\n",
       "    <tr>\n",
       "      <th>499</th>\n",
       "      <td>500</td>\n",
       "      <td>UCpwvZwUam-URkxB7g4USKpg</td>\n",
       "      <td>RT</td>\n",
       "      <td>eEmUS7PAWFw</td>\n",
       "      <td>2010-08-09T18:30:46.000Z</td>\n",
       "      <td>2010-08-09 18:30:46</td>\n",
       "      <td>'Never mind the heat, climate change is hoax b...</td>\n",
       "      <td>Russia's deadly wildfires, the smog-filled cit...</td>\n",
       "      <td>25</td>\n",
       "      <td>News &amp; Politics</td>\n",
       "      <td>...</td>\n",
       "      <td>2d</td>\n",
       "      <td>sd</td>\n",
       "      <td>False</td>\n",
       "      <td>NaN</td>\n",
       "      <td>1.0</td>\n",
       "      <td>448767</td>\n",
       "      <td>9808.0</td>\n",
       "      <td>559.0</td>\n",
       "      <td>0</td>\n",
       "      <td>4533.0</td>\n",
       "    </tr>\n",
       "  </tbody>\n",
       "</table>\n",
       "<p>500 rows × 22 columns</p>\n",
       "</div>"
      ],
      "text/plain": [
       "     position                 channelId                   channelTitle  \\\n",
       "0           1  UCIALMKvObZNtJ6AmdCLP7Lg  Bloomberg Markets and Finance   \n",
       "1           2  UCb1Ti1WKPauPpXkYKVHNpsw                            LBC   \n",
       "2           3  UC-SJ6nODDmufqBzPBwCvYvQ               CBS This Morning   \n",
       "3           4  UCcyq283he07B7_KUX07mmtA               Business Insider   \n",
       "4           5  UCWafKqurzE49MzZ6eHFwXvQ                      EconClips   \n",
       "..        ...                       ...                            ...   \n",
       "495       496  UC4-AGCUwX7C-D4BsBook9fQ                          YAFTV   \n",
       "496       497  UCeo9P_uFXJOi4v0XvHczGRQ                     wocomoDOCS   \n",
       "497       498  UCqKnDDavIqBKZuvgQtYAJsA                Future Thinkers   \n",
       "498       499  UCD_DaKNac0Ta-2PeHuoQ1uA         Senator Bernie Sanders   \n",
       "499       500  UCpwvZwUam-URkxB7g4USKpg                             RT   \n",
       "\n",
       "         videoId               publishedAt       publishedAtSQL  \\\n",
       "0    sGHq_EwXDn8  2020-01-24T04:15:28.000Z  2020-01-24 04:15:28   \n",
       "1    PRtn1W2RAVU  2020-01-23T10:32:38.000Z  2020-01-23 10:32:38   \n",
       "2    2CQvBGSiDvw  2019-12-23T13:38:55.000Z  2019-12-23 13:38:55   \n",
       "3    Cbwv1jg4gZU  2020-01-22T22:28:34.000Z  2020-01-22 22:28:34   \n",
       "4    cWsCX_yxXqw  2020-01-22T20:01:12.000Z  2020-01-22 20:01:12   \n",
       "..           ...                       ...                  ...   \n",
       "495  i-qBOyrD0-0  2019-10-05T23:34:52.000Z  2019-10-05 23:34:52   \n",
       "496  itgNMmhcXPA  2016-06-23T08:00:01.000Z  2016-06-23 08:00:01   \n",
       "497  58xtN6Dw8kw  2017-09-08T09:59:08.000Z  2017-09-08 09:59:08   \n",
       "498  -wCcQE0eLbM  2018-12-04T02:26:34.000Z  2018-12-04 02:26:34   \n",
       "499  eEmUS7PAWFw  2010-08-09T18:30:46.000Z  2010-08-09 18:30:46   \n",
       "\n",
       "                                            videoTitle  \\\n",
       "0    Australia’s Policies Going in Wrong Direction ...   \n",
       "1    Nigel Farage compares President Trump and Prin...   \n",
       "2    Climate change in the 2020s: What impacts to e...   \n",
       "3    Solution To Climate Change Is To Make It Profi...   \n",
       "4     🌤 Climate Change from the Economic Point of View   \n",
       "..                                                 ...   \n",
       "495  HOW DARE YOU: 10 reasons not to believe climat...   \n",
       "496  Global warming and wine | Viticulture and Clim...   \n",
       "497  7 Ways Blockchain Can Stop Climate Change & Sa...   \n",
       "498                           Climate Change Town Hall   \n",
       "499  'Never mind the heat, climate change is hoax b...   \n",
       "\n",
       "                                      videoDescription  videoCategoryId  \\\n",
       "0    Jan.23 -- Michael Mann, distinguished professo...               25   \n",
       "1    This is Nigel Farage's reaction to President T...               25   \n",
       "2    In our series The 2020's, we're exploring the ...               25   \n",
       "3    Environmental problems rose to the top of the ...               25   \n",
       "4    Climate change from the economic point of view...               27   \n",
       "..                                                 ...              ...   \n",
       "495  Famous for her hard-hitting video segments, Li...               29   \n",
       "496  Global warming could drastically alter the wor...               27   \n",
       "497  The blockchain is the technology that underlie...               28   \n",
       "498  Sen. Bernie Sanders hosts a national town hall...               25   \n",
       "499  Russia's deadly wildfires, the smog-filled cit...               25   \n",
       "\n",
       "        videoCategoryLabel  ... dimension  definition caption  \\\n",
       "0          News & Politics  ...        2d          hd   False   \n",
       "1          News & Politics  ...        2d          hd   False   \n",
       "2          News & Politics  ...        2d          hd   False   \n",
       "3          News & Politics  ...        2d          hd    True   \n",
       "4                Education  ...        2d          hd    True   \n",
       "..                     ...  ...       ...         ...     ...   \n",
       "495  Nonprofits & Activism  ...        2d          hd   False   \n",
       "496              Education  ...        2d          hd   False   \n",
       "497   Science & Technology  ...        2d          hd   False   \n",
       "498        News & Politics  ...        2d          hd   False   \n",
       "499        News & Politics  ...        2d          sd   False   \n",
       "\n",
       "                                      thumbnail_maxres  licensedContent  \\\n",
       "0    https://i.ytimg.com/vi/sGHq_EwXDn8/maxresdefau...              1.0   \n",
       "1    https://i.ytimg.com/vi/PRtn1W2RAVU/maxresdefau...              1.0   \n",
       "2    https://i.ytimg.com/vi/2CQvBGSiDvw/maxresdefau...              1.0   \n",
       "3    https://i.ytimg.com/vi/Cbwv1jg4gZU/maxresdefau...              1.0   \n",
       "4    https://i.ytimg.com/vi/cWsCX_yxXqw/maxresdefau...              1.0   \n",
       "..                                                 ...              ...   \n",
       "495                                                NaN              NaN   \n",
       "496  https://i.ytimg.com/vi/itgNMmhcXPA/maxresdefau...              1.0   \n",
       "497  https://i.ytimg.com/vi/58xtN6Dw8kw/maxresdefau...              1.0   \n",
       "498                                                NaN              NaN   \n",
       "499                                                NaN              1.0   \n",
       "\n",
       "    viewCount  likeCount  dislikeCount  favoriteCount  commentCount  \n",
       "0        2017       31.0          24.0              0          57.0  \n",
       "1       65633     1637.0         100.0              0        1093.0  \n",
       "2       34455      646.0          97.0              0         618.0  \n",
       "3       24345      871.0          54.0              0         166.0  \n",
       "4        2085      129.0          23.0              0          74.0  \n",
       "..        ...        ...           ...            ...           ...  \n",
       "495    550692    20821.0         702.0              0        6500.0  \n",
       "496     28587      194.0          11.0              0          23.0  \n",
       "497     35771      861.0          20.0              0          59.0  \n",
       "498     27003     1544.0          90.0              0         282.0  \n",
       "499    448767     9808.0         559.0              0        4533.0  \n",
       "\n",
       "[500 rows x 22 columns]"
      ]
     },
     "execution_count": 3,
     "metadata": {},
     "output_type": "execute_result"
    }
   ],
   "source": [
    "videos = pd.read_csv('Datasets/YouTube_climatechange.tab', sep='\\t')\n",
    "videos"
   ]
  },
  {
   "cell_type": "markdown",
   "metadata": {},
   "source": [
    "## Data exploration"
   ]
  },
  {
   "cell_type": "code",
   "execution_count": 8,
   "metadata": {},
   "outputs": [
    {
     "data": {
      "text/plain": [
       "500"
      ]
     },
     "execution_count": 8,
     "metadata": {},
     "output_type": "execute_result"
    }
   ],
   "source": [
    "len(videos)"
   ]
  },
  {
   "cell_type": "code",
   "execution_count": 9,
   "metadata": {},
   "outputs": [
    {
     "data": {
      "text/html": [
       "<div>\n",
       "<style scoped>\n",
       "    .dataframe tbody tr th:only-of-type {\n",
       "        vertical-align: middle;\n",
       "    }\n",
       "\n",
       "    .dataframe tbody tr th {\n",
       "        vertical-align: top;\n",
       "    }\n",
       "\n",
       "    .dataframe thead th {\n",
       "        text-align: right;\n",
       "    }\n",
       "</style>\n",
       "<table border=\"1\" class=\"dataframe\">\n",
       "  <thead>\n",
       "    <tr style=\"text-align: right;\">\n",
       "      <th></th>\n",
       "      <th>position</th>\n",
       "      <th>channelId</th>\n",
       "      <th>channelTitle</th>\n",
       "      <th>videoId</th>\n",
       "      <th>publishedAt</th>\n",
       "      <th>publishedAtSQL</th>\n",
       "      <th>videoTitle</th>\n",
       "      <th>videoDescription</th>\n",
       "      <th>videoCategoryId</th>\n",
       "      <th>videoCategoryLabel</th>\n",
       "      <th>...</th>\n",
       "      <th>dimension</th>\n",
       "      <th>definition</th>\n",
       "      <th>caption</th>\n",
       "      <th>thumbnail_maxres</th>\n",
       "      <th>licensedContent</th>\n",
       "      <th>viewCount</th>\n",
       "      <th>likeCount</th>\n",
       "      <th>dislikeCount</th>\n",
       "      <th>favoriteCount</th>\n",
       "      <th>commentCount</th>\n",
       "    </tr>\n",
       "  </thead>\n",
       "  <tbody>\n",
       "    <tr>\n",
       "      <th>0</th>\n",
       "      <td>1</td>\n",
       "      <td>UCIALMKvObZNtJ6AmdCLP7Lg</td>\n",
       "      <td>Bloomberg Markets and Finance</td>\n",
       "      <td>sGHq_EwXDn8</td>\n",
       "      <td>2020-01-24T04:15:28.000Z</td>\n",
       "      <td>2020-01-24 04:15:28</td>\n",
       "      <td>Australia’s Policies Going in Wrong Direction ...</td>\n",
       "      <td>Jan.23 -- Michael Mann, distinguished professo...</td>\n",
       "      <td>25</td>\n",
       "      <td>News &amp; Politics</td>\n",
       "      <td>...</td>\n",
       "      <td>2d</td>\n",
       "      <td>hd</td>\n",
       "      <td>False</td>\n",
       "      <td>https://i.ytimg.com/vi/sGHq_EwXDn8/maxresdefau...</td>\n",
       "      <td>1.0</td>\n",
       "      <td>2017</td>\n",
       "      <td>31.0</td>\n",
       "      <td>24.0</td>\n",
       "      <td>0</td>\n",
       "      <td>57.0</td>\n",
       "    </tr>\n",
       "    <tr>\n",
       "      <th>1</th>\n",
       "      <td>2</td>\n",
       "      <td>UCb1Ti1WKPauPpXkYKVHNpsw</td>\n",
       "      <td>LBC</td>\n",
       "      <td>PRtn1W2RAVU</td>\n",
       "      <td>2020-01-23T10:32:38.000Z</td>\n",
       "      <td>2020-01-23 10:32:38</td>\n",
       "      <td>Nigel Farage compares President Trump and Prin...</td>\n",
       "      <td>This is Nigel Farage's reaction to President T...</td>\n",
       "      <td>25</td>\n",
       "      <td>News &amp; Politics</td>\n",
       "      <td>...</td>\n",
       "      <td>2d</td>\n",
       "      <td>hd</td>\n",
       "      <td>False</td>\n",
       "      <td>https://i.ytimg.com/vi/PRtn1W2RAVU/maxresdefau...</td>\n",
       "      <td>1.0</td>\n",
       "      <td>65633</td>\n",
       "      <td>1637.0</td>\n",
       "      <td>100.0</td>\n",
       "      <td>0</td>\n",
       "      <td>1093.0</td>\n",
       "    </tr>\n",
       "    <tr>\n",
       "      <th>2</th>\n",
       "      <td>3</td>\n",
       "      <td>UC-SJ6nODDmufqBzPBwCvYvQ</td>\n",
       "      <td>CBS This Morning</td>\n",
       "      <td>2CQvBGSiDvw</td>\n",
       "      <td>2019-12-23T13:38:55.000Z</td>\n",
       "      <td>2019-12-23 13:38:55</td>\n",
       "      <td>Climate change in the 2020s: What impacts to e...</td>\n",
       "      <td>In our series The 2020's, we're exploring the ...</td>\n",
       "      <td>25</td>\n",
       "      <td>News &amp; Politics</td>\n",
       "      <td>...</td>\n",
       "      <td>2d</td>\n",
       "      <td>hd</td>\n",
       "      <td>False</td>\n",
       "      <td>https://i.ytimg.com/vi/2CQvBGSiDvw/maxresdefau...</td>\n",
       "      <td>1.0</td>\n",
       "      <td>34455</td>\n",
       "      <td>646.0</td>\n",
       "      <td>97.0</td>\n",
       "      <td>0</td>\n",
       "      <td>618.0</td>\n",
       "    </tr>\n",
       "    <tr>\n",
       "      <th>3</th>\n",
       "      <td>4</td>\n",
       "      <td>UCcyq283he07B7_KUX07mmtA</td>\n",
       "      <td>Business Insider</td>\n",
       "      <td>Cbwv1jg4gZU</td>\n",
       "      <td>2020-01-22T22:28:34.000Z</td>\n",
       "      <td>2020-01-22 22:28:34</td>\n",
       "      <td>Solution To Climate Change Is To Make It Profi...</td>\n",
       "      <td>Environmental problems rose to the top of the ...</td>\n",
       "      <td>25</td>\n",
       "      <td>News &amp; Politics</td>\n",
       "      <td>...</td>\n",
       "      <td>2d</td>\n",
       "      <td>hd</td>\n",
       "      <td>True</td>\n",
       "      <td>https://i.ytimg.com/vi/Cbwv1jg4gZU/maxresdefau...</td>\n",
       "      <td>1.0</td>\n",
       "      <td>24345</td>\n",
       "      <td>871.0</td>\n",
       "      <td>54.0</td>\n",
       "      <td>0</td>\n",
       "      <td>166.0</td>\n",
       "    </tr>\n",
       "    <tr>\n",
       "      <th>4</th>\n",
       "      <td>5</td>\n",
       "      <td>UCWafKqurzE49MzZ6eHFwXvQ</td>\n",
       "      <td>EconClips</td>\n",
       "      <td>cWsCX_yxXqw</td>\n",
       "      <td>2020-01-22T20:01:12.000Z</td>\n",
       "      <td>2020-01-22 20:01:12</td>\n",
       "      <td>🌤 Climate Change from the Economic Point of View</td>\n",
       "      <td>Climate change from the economic point of view...</td>\n",
       "      <td>27</td>\n",
       "      <td>Education</td>\n",
       "      <td>...</td>\n",
       "      <td>2d</td>\n",
       "      <td>hd</td>\n",
       "      <td>True</td>\n",
       "      <td>https://i.ytimg.com/vi/cWsCX_yxXqw/maxresdefau...</td>\n",
       "      <td>1.0</td>\n",
       "      <td>2085</td>\n",
       "      <td>129.0</td>\n",
       "      <td>23.0</td>\n",
       "      <td>0</td>\n",
       "      <td>74.0</td>\n",
       "    </tr>\n",
       "  </tbody>\n",
       "</table>\n",
       "<p>5 rows × 22 columns</p>\n",
       "</div>"
      ],
      "text/plain": [
       "   position                 channelId                   channelTitle  \\\n",
       "0         1  UCIALMKvObZNtJ6AmdCLP7Lg  Bloomberg Markets and Finance   \n",
       "1         2  UCb1Ti1WKPauPpXkYKVHNpsw                            LBC   \n",
       "2         3  UC-SJ6nODDmufqBzPBwCvYvQ               CBS This Morning   \n",
       "3         4  UCcyq283he07B7_KUX07mmtA               Business Insider   \n",
       "4         5  UCWafKqurzE49MzZ6eHFwXvQ                      EconClips   \n",
       "\n",
       "       videoId               publishedAt       publishedAtSQL  \\\n",
       "0  sGHq_EwXDn8  2020-01-24T04:15:28.000Z  2020-01-24 04:15:28   \n",
       "1  PRtn1W2RAVU  2020-01-23T10:32:38.000Z  2020-01-23 10:32:38   \n",
       "2  2CQvBGSiDvw  2019-12-23T13:38:55.000Z  2019-12-23 13:38:55   \n",
       "3  Cbwv1jg4gZU  2020-01-22T22:28:34.000Z  2020-01-22 22:28:34   \n",
       "4  cWsCX_yxXqw  2020-01-22T20:01:12.000Z  2020-01-22 20:01:12   \n",
       "\n",
       "                                          videoTitle  \\\n",
       "0  Australia’s Policies Going in Wrong Direction ...   \n",
       "1  Nigel Farage compares President Trump and Prin...   \n",
       "2  Climate change in the 2020s: What impacts to e...   \n",
       "3  Solution To Climate Change Is To Make It Profi...   \n",
       "4   🌤 Climate Change from the Economic Point of View   \n",
       "\n",
       "                                    videoDescription  videoCategoryId  \\\n",
       "0  Jan.23 -- Michael Mann, distinguished professo...               25   \n",
       "1  This is Nigel Farage's reaction to President T...               25   \n",
       "2  In our series The 2020's, we're exploring the ...               25   \n",
       "3  Environmental problems rose to the top of the ...               25   \n",
       "4  Climate change from the economic point of view...               27   \n",
       "\n",
       "  videoCategoryLabel  ... dimension  definition caption  \\\n",
       "0    News & Politics  ...        2d          hd   False   \n",
       "1    News & Politics  ...        2d          hd   False   \n",
       "2    News & Politics  ...        2d          hd   False   \n",
       "3    News & Politics  ...        2d          hd    True   \n",
       "4          Education  ...        2d          hd    True   \n",
       "\n",
       "                                    thumbnail_maxres  licensedContent  \\\n",
       "0  https://i.ytimg.com/vi/sGHq_EwXDn8/maxresdefau...              1.0   \n",
       "1  https://i.ytimg.com/vi/PRtn1W2RAVU/maxresdefau...              1.0   \n",
       "2  https://i.ytimg.com/vi/2CQvBGSiDvw/maxresdefau...              1.0   \n",
       "3  https://i.ytimg.com/vi/Cbwv1jg4gZU/maxresdefau...              1.0   \n",
       "4  https://i.ytimg.com/vi/cWsCX_yxXqw/maxresdefau...              1.0   \n",
       "\n",
       "  viewCount  likeCount  dislikeCount  favoriteCount  commentCount  \n",
       "0      2017       31.0          24.0              0          57.0  \n",
       "1     65633     1637.0         100.0              0        1093.0  \n",
       "2     34455      646.0          97.0              0         618.0  \n",
       "3     24345      871.0          54.0              0         166.0  \n",
       "4      2085      129.0          23.0              0          74.0  \n",
       "\n",
       "[5 rows x 22 columns]"
      ]
     },
     "execution_count": 9,
     "metadata": {},
     "output_type": "execute_result"
    }
   ],
   "source": [
    "videos.head()"
   ]
  },
  {
   "cell_type": "code",
   "execution_count": 10,
   "metadata": {},
   "outputs": [
    {
     "data": {
      "text/plain": [
       "Index(['position', 'channelId', 'channelTitle', 'videoId', 'publishedAt',\n",
       "       'publishedAtSQL', 'videoTitle', 'videoDescription', 'videoCategoryId',\n",
       "       'videoCategoryLabel', 'duration', 'durationSec', 'dimension',\n",
       "       'definition', 'caption', 'thumbnail_maxres', 'licensedContent',\n",
       "       'viewCount', 'likeCount', 'dislikeCount', 'favoriteCount',\n",
       "       'commentCount'],\n",
       "      dtype='object')"
      ]
     },
     "execution_count": 10,
     "metadata": {},
     "output_type": "execute_result"
    }
   ],
   "source": [
    "videos.columns"
   ]
  },
  {
   "cell_type": "code",
   "execution_count": 11,
   "metadata": {},
   "outputs": [
    {
     "data": {
      "text/html": [
       "<div>\n",
       "<style scoped>\n",
       "    .dataframe tbody tr th:only-of-type {\n",
       "        vertical-align: middle;\n",
       "    }\n",
       "\n",
       "    .dataframe tbody tr th {\n",
       "        vertical-align: top;\n",
       "    }\n",
       "\n",
       "    .dataframe thead th {\n",
       "        text-align: right;\n",
       "    }\n",
       "</style>\n",
       "<table border=\"1\" class=\"dataframe\">\n",
       "  <thead>\n",
       "    <tr style=\"text-align: right;\">\n",
       "      <th></th>\n",
       "      <th>position</th>\n",
       "      <th>videoCategoryId</th>\n",
       "      <th>durationSec</th>\n",
       "      <th>licensedContent</th>\n",
       "      <th>viewCount</th>\n",
       "      <th>likeCount</th>\n",
       "      <th>dislikeCount</th>\n",
       "      <th>favoriteCount</th>\n",
       "      <th>commentCount</th>\n",
       "    </tr>\n",
       "  </thead>\n",
       "  <tbody>\n",
       "    <tr>\n",
       "      <th>count</th>\n",
       "      <td>500.000000</td>\n",
       "      <td>500.000000</td>\n",
       "      <td>500.000000</td>\n",
       "      <td>361.0</td>\n",
       "      <td>5.000000e+02</td>\n",
       "      <td>487.000000</td>\n",
       "      <td>487.000000</td>\n",
       "      <td>500.0</td>\n",
       "      <td>452.000000</td>\n",
       "    </tr>\n",
       "    <tr>\n",
       "      <th>mean</th>\n",
       "      <td>250.500000</td>\n",
       "      <td>25.666000</td>\n",
       "      <td>673.624000</td>\n",
       "      <td>1.0</td>\n",
       "      <td>3.370684e+05</td>\n",
       "      <td>6849.008214</td>\n",
       "      <td>1146.439425</td>\n",
       "      <td>0.0</td>\n",
       "      <td>2029.535398</td>\n",
       "    </tr>\n",
       "    <tr>\n",
       "      <th>std</th>\n",
       "      <td>144.481833</td>\n",
       "      <td>3.031968</td>\n",
       "      <td>703.703284</td>\n",
       "      <td>0.0</td>\n",
       "      <td>8.991955e+05</td>\n",
       "      <td>17441.571604</td>\n",
       "      <td>6519.772674</td>\n",
       "      <td>0.0</td>\n",
       "      <td>5616.323412</td>\n",
       "    </tr>\n",
       "    <tr>\n",
       "      <th>min</th>\n",
       "      <td>1.000000</td>\n",
       "      <td>1.000000</td>\n",
       "      <td>15.000000</td>\n",
       "      <td>1.0</td>\n",
       "      <td>1.900000e+01</td>\n",
       "      <td>0.000000</td>\n",
       "      <td>0.000000</td>\n",
       "      <td>0.0</td>\n",
       "      <td>0.000000</td>\n",
       "    </tr>\n",
       "    <tr>\n",
       "      <th>25%</th>\n",
       "      <td>125.750000</td>\n",
       "      <td>25.000000</td>\n",
       "      <td>242.500000</td>\n",
       "      <td>1.0</td>\n",
       "      <td>1.456550e+04</td>\n",
       "      <td>181.000000</td>\n",
       "      <td>26.500000</td>\n",
       "      <td>0.0</td>\n",
       "      <td>58.000000</td>\n",
       "    </tr>\n",
       "    <tr>\n",
       "      <th>50%</th>\n",
       "      <td>250.500000</td>\n",
       "      <td>25.000000</td>\n",
       "      <td>406.500000</td>\n",
       "      <td>1.0</td>\n",
       "      <td>5.884900e+04</td>\n",
       "      <td>907.000000</td>\n",
       "      <td>116.000000</td>\n",
       "      <td>0.0</td>\n",
       "      <td>452.000000</td>\n",
       "    </tr>\n",
       "    <tr>\n",
       "      <th>75%</th>\n",
       "      <td>375.250000</td>\n",
       "      <td>28.000000</td>\n",
       "      <td>813.750000</td>\n",
       "      <td>1.0</td>\n",
       "      <td>2.605585e+05</td>\n",
       "      <td>4555.500000</td>\n",
       "      <td>483.000000</td>\n",
       "      <td>0.0</td>\n",
       "      <td>1539.750000</td>\n",
       "    </tr>\n",
       "    <tr>\n",
       "      <th>max</th>\n",
       "      <td>500.000000</td>\n",
       "      <td>29.000000</td>\n",
       "      <td>3574.000000</td>\n",
       "      <td>1.0</td>\n",
       "      <td>1.208920e+07</td>\n",
       "      <td>167789.000000</td>\n",
       "      <td>113733.000000</td>\n",
       "      <td>0.0</td>\n",
       "      <td>88424.000000</td>\n",
       "    </tr>\n",
       "  </tbody>\n",
       "</table>\n",
       "</div>"
      ],
      "text/plain": [
       "         position  videoCategoryId  durationSec  licensedContent  \\\n",
       "count  500.000000       500.000000   500.000000            361.0   \n",
       "mean   250.500000        25.666000   673.624000              1.0   \n",
       "std    144.481833         3.031968   703.703284              0.0   \n",
       "min      1.000000         1.000000    15.000000              1.0   \n",
       "25%    125.750000        25.000000   242.500000              1.0   \n",
       "50%    250.500000        25.000000   406.500000              1.0   \n",
       "75%    375.250000        28.000000   813.750000              1.0   \n",
       "max    500.000000        29.000000  3574.000000              1.0   \n",
       "\n",
       "          viewCount      likeCount   dislikeCount  favoriteCount  commentCount  \n",
       "count  5.000000e+02     487.000000     487.000000          500.0    452.000000  \n",
       "mean   3.370684e+05    6849.008214    1146.439425            0.0   2029.535398  \n",
       "std    8.991955e+05   17441.571604    6519.772674            0.0   5616.323412  \n",
       "min    1.900000e+01       0.000000       0.000000            0.0      0.000000  \n",
       "25%    1.456550e+04     181.000000      26.500000            0.0     58.000000  \n",
       "50%    5.884900e+04     907.000000     116.000000            0.0    452.000000  \n",
       "75%    2.605585e+05    4555.500000     483.000000            0.0   1539.750000  \n",
       "max    1.208920e+07  167789.000000  113733.000000            0.0  88424.000000  "
      ]
     },
     "execution_count": 11,
     "metadata": {},
     "output_type": "execute_result"
    }
   ],
   "source": [
    "videos.describe()"
   ]
  },
  {
   "cell_type": "code",
   "execution_count": 12,
   "metadata": {},
   "outputs": [
    {
     "data": {
      "text/plain": [
       "position                0\n",
       "channelId               0\n",
       "channelTitle            0\n",
       "videoId                 0\n",
       "publishedAt             0\n",
       "publishedAtSQL          0\n",
       "videoTitle              0\n",
       "videoDescription        5\n",
       "videoCategoryId         0\n",
       "videoCategoryLabel      0\n",
       "duration                0\n",
       "durationSec             0\n",
       "dimension               0\n",
       "definition              0\n",
       "caption                 0\n",
       "thumbnail_maxres       94\n",
       "licensedContent       139\n",
       "viewCount               0\n",
       "likeCount              13\n",
       "dislikeCount           13\n",
       "favoriteCount           0\n",
       "commentCount           48\n",
       "dtype: int64"
      ]
     },
     "execution_count": 12,
     "metadata": {},
     "output_type": "execute_result"
    }
   ],
   "source": [
    "videos.isna().sum()"
   ]
  },
  {
   "cell_type": "markdown",
   "metadata": {},
   "source": [
    "# Data cleaning"
   ]
  },
  {
   "cell_type": "markdown",
   "metadata": {},
   "source": [
    "### Missing values"
   ]
  },
  {
   "cell_type": "code",
   "execution_count": 13,
   "metadata": {},
   "outputs": [
    {
     "data": {
      "text/plain": [
       "position                0\n",
       "channelId               0\n",
       "channelTitle            0\n",
       "videoId                 0\n",
       "publishedAt             0\n",
       "publishedAtSQL          0\n",
       "videoTitle              0\n",
       "videoDescription        5\n",
       "videoCategoryId         0\n",
       "videoCategoryLabel      0\n",
       "duration                0\n",
       "durationSec             0\n",
       "dimension               0\n",
       "definition              0\n",
       "caption                 0\n",
       "thumbnail_maxres       94\n",
       "licensedContent       139\n",
       "viewCount               0\n",
       "likeCount              13\n",
       "dislikeCount           13\n",
       "favoriteCount           0\n",
       "commentCount           48\n",
       "dtype: int64"
      ]
     },
     "execution_count": 13,
     "metadata": {},
     "output_type": "execute_result"
    }
   ],
   "source": [
    "videos.isna().sum()"
   ]
  },
  {
   "cell_type": "code",
   "execution_count": 14,
   "metadata": {},
   "outputs": [
    {
     "data": {
      "text/html": [
       "<div>\n",
       "<style scoped>\n",
       "    .dataframe tbody tr th:only-of-type {\n",
       "        vertical-align: middle;\n",
       "    }\n",
       "\n",
       "    .dataframe tbody tr th {\n",
       "        vertical-align: top;\n",
       "    }\n",
       "\n",
       "    .dataframe thead th {\n",
       "        text-align: right;\n",
       "    }\n",
       "</style>\n",
       "<table border=\"1\" class=\"dataframe\">\n",
       "  <thead>\n",
       "    <tr style=\"text-align: right;\">\n",
       "      <th></th>\n",
       "      <th>likeCount</th>\n",
       "      <th>dislikeCount</th>\n",
       "    </tr>\n",
       "  </thead>\n",
       "  <tbody>\n",
       "    <tr>\n",
       "      <th>count</th>\n",
       "      <td>487.000000</td>\n",
       "      <td>487.000000</td>\n",
       "    </tr>\n",
       "    <tr>\n",
       "      <th>mean</th>\n",
       "      <td>6849.008214</td>\n",
       "      <td>1146.439425</td>\n",
       "    </tr>\n",
       "    <tr>\n",
       "      <th>std</th>\n",
       "      <td>17441.571604</td>\n",
       "      <td>6519.772674</td>\n",
       "    </tr>\n",
       "    <tr>\n",
       "      <th>min</th>\n",
       "      <td>0.000000</td>\n",
       "      <td>0.000000</td>\n",
       "    </tr>\n",
       "    <tr>\n",
       "      <th>25%</th>\n",
       "      <td>181.000000</td>\n",
       "      <td>26.500000</td>\n",
       "    </tr>\n",
       "    <tr>\n",
       "      <th>50%</th>\n",
       "      <td>907.000000</td>\n",
       "      <td>116.000000</td>\n",
       "    </tr>\n",
       "    <tr>\n",
       "      <th>75%</th>\n",
       "      <td>4555.500000</td>\n",
       "      <td>483.000000</td>\n",
       "    </tr>\n",
       "    <tr>\n",
       "      <th>max</th>\n",
       "      <td>167789.000000</td>\n",
       "      <td>113733.000000</td>\n",
       "    </tr>\n",
       "  </tbody>\n",
       "</table>\n",
       "</div>"
      ],
      "text/plain": [
       "           likeCount   dislikeCount\n",
       "count     487.000000     487.000000\n",
       "mean     6849.008214    1146.439425\n",
       "std     17441.571604    6519.772674\n",
       "min         0.000000       0.000000\n",
       "25%       181.000000      26.500000\n",
       "50%       907.000000     116.000000\n",
       "75%      4555.500000     483.000000\n",
       "max    167789.000000  113733.000000"
      ]
     },
     "execution_count": 14,
     "metadata": {},
     "output_type": "execute_result"
    }
   ],
   "source": [
    "videos[['likeCount', 'dislikeCount']].describe()"
   ]
  },
  {
   "cell_type": "markdown",
   "metadata": {},
   "source": [
    "The minimum value is 0, so probably something else is going on. Let's see if this is related to channels (e.g., some channels not allowing users to like videos, perhaps?)."
   ]
  },
  {
   "cell_type": "code",
   "execution_count": 15,
   "metadata": {},
   "outputs": [
    {
     "data": {
      "text/plain": [
       "Intergovernmental Panel on Climate Change (IPCC)                 4\n",
       "Food and Agriculture Organization of the United Nations          3\n",
       "The Lancet                                                       1\n",
       "ESB                                                              1\n",
       "Insight SBS                                                      1\n",
       "Climate-KIC                                                      1\n",
       "The National Academies of Sciences, Engineering, and Medicine    1\n",
       "BBC News Hindi                                                   1\n",
       "Name: channelTitle, dtype: int64"
      ]
     },
     "execution_count": 15,
     "metadata": {},
     "output_type": "execute_result"
    }
   ],
   "source": [
    "videos[videos['likeCount'].isna()]['channelTitle'].value_counts()"
   ]
  },
  {
   "cell_type": "code",
   "execution_count": 16,
   "metadata": {},
   "outputs": [],
   "source": [
    "channels_with_likes = videos[videos['likeCount'].isna()==False]['channelTitle'].unique().tolist()"
   ]
  },
  {
   "cell_type": "code",
   "execution_count": 17,
   "metadata": {},
   "outputs": [
    {
     "data": {
      "text/plain": [
       "['Bloomberg Markets and Finance',\n",
       " 'LBC',\n",
       " 'CBS This Morning',\n",
       " 'Business Insider',\n",
       " 'EconClips',\n",
       " 'Sky News Australia',\n",
       " 'CNBC International',\n",
       " 'ITV News',\n",
       " 'Discovery',\n",
       " 'CBS News',\n",
       " 'National Geographic',\n",
       " 'BBC Newsnight',\n",
       " 'Valuetainment',\n",
       " 'DW News',\n",
       " 'CNN',\n",
       " 'The Royal Family Channel',\n",
       " 'The Telegraph',\n",
       " 'QuickTake by Bloomberg',\n",
       " 'European Space Agency, ESA',\n",
       " 'C-SPAN',\n",
       " 'GWPF',\n",
       " 'NDTV',\n",
       " 'The Sun',\n",
       " 'WIRED',\n",
       " 'TEDx Talks',\n",
       " 'DW Documentary',\n",
       " 'Washington Post',\n",
       " 'Global News',\n",
       " 'NBC News',\n",
       " 'Sky News',\n",
       " 'ABC News (Australia)',\n",
       " 'Bozeman Science',\n",
       " 'CNBC International TV',\n",
       " 'ABC News',\n",
       " 'Siemens',\n",
       " 'Vox',\n",
       " 'Centre for Effective Altruism',\n",
       " 'Al Jazeera English',\n",
       " 'Simon Clark',\n",
       " 'Crash Course Kids',\n",
       " 'SciShow',\n",
       " 'VideoFromSpace',\n",
       " 'The Guardian',\n",
       " 'Hot Mess',\n",
       " 'Veritasium',\n",
       " \"It's Okay To Be Smart\",\n",
       " 'CNBC',\n",
       " 'NASA Goddard',\n",
       " 'edX',\n",
       " 'AFP News Agency',\n",
       " 'Guardian News',\n",
       " 'TED Archive',\n",
       " 'LastWeekTonight',\n",
       " 'U.S. Environmental Protection Agency',\n",
       " 'Met Office - Weather',\n",
       " 'The Economist',\n",
       " 'Harvard Business Review',\n",
       " 'University of California Television (UCTV)',\n",
       " 'The Royal Society',\n",
       " 'TED-Ed',\n",
       " 'California Academy of Sciences',\n",
       " 'Nobel Prize',\n",
       " 'Sabine Hossenfelder',\n",
       " 'MinuteEarth',\n",
       " 'TED',\n",
       " \"Sauvons l'eau\",\n",
       " 'Channel 4 News',\n",
       " 'Spark',\n",
       " 'ReasonTV',\n",
       " 'Big Think',\n",
       " 'BBC Learning English',\n",
       " 'Absolute Science',\n",
       " 'KQED Arts',\n",
       " 'ClimateAdam',\n",
       " 'Comedy Central UK',\n",
       " 'AsapSCIENCE',\n",
       " 'World Bank',\n",
       " 'PBS NewsHour',\n",
       " 'The Obama White House',\n",
       " 'European Environment Agency',\n",
       " 'MSNBC',\n",
       " 'A Little Late With Lilly Singh',\n",
       " 'Long Now Foundation',\n",
       " 'UK Parliament',\n",
       " 'FRANCE 24 English',\n",
       " 'eNCA',\n",
       " 'UNESCO',\n",
       " 'SpaceRip',\n",
       " 'CBC News',\n",
       " 'VOA News',\n",
       " 'Goalcast',\n",
       " 'Stanford',\n",
       " 'Above The Noise',\n",
       " 'Rappler',\n",
       " 'London School of Economics and Political Science (LSE)',\n",
       " 'United Nations',\n",
       " 'AJR',\n",
       " 'PICSCanada',\n",
       " 'CBC News: The National',\n",
       " '外務省 / MOFA',\n",
       " 'Gresham College',\n",
       " 'Atlas Pro',\n",
       " 'Down To Earth',\n",
       " 'ACCIONA',\n",
       " 'ARIRANG NEWS',\n",
       " 'Jubilee',\n",
       " 'Economics Explained',\n",
       " 'The RSA',\n",
       " 'World Health Organization (WHO)',\n",
       " 'GeoScience Videos',\n",
       " 'GIZ',\n",
       " 'OECD',\n",
       " 'Jack Harries',\n",
       " 'Bloomberg Live',\n",
       " 'YaleUniversity',\n",
       " 'VICE News',\n",
       " 'Jimmy Kimmel Live',\n",
       " 'thebrainscoop',\n",
       " 'ideacity',\n",
       " 'Global Citizen',\n",
       " 'Joe Scott',\n",
       " 'Harvard GSD',\n",
       " 'University of Virginia School of Law',\n",
       " 'University of California',\n",
       " 'Financial Times',\n",
       " 'The Heritage Foundation',\n",
       " 'NRDCflix',\n",
       " 'wwwAAASorg',\n",
       " \"NOVA's Secret Life of Scientists and Engineers\",\n",
       " 'Imperial College London',\n",
       " 'Grist',\n",
       " 'The YEARS Project',\n",
       " 'Late Night with Seth Meyers',\n",
       " 'Bloomberg Technology',\n",
       " '350.org',\n",
       " 'United Nations Foundation',\n",
       " 'BBC',\n",
       " 'BeckmanInstitute',\n",
       " 'Global Documentary',\n",
       " 'Mount Sinai Health System',\n",
       " 'Just For Laughs',\n",
       " 'Mallen Baker',\n",
       " 'UNDP Climate',\n",
       " 'Oxford Martin School',\n",
       " 'Institute of Public Affairs',\n",
       " 'Sadhguru',\n",
       " 'The Nation',\n",
       " 'Center for Inquiry',\n",
       " 'United Nations Development Programme (UNDP)',\n",
       " 'Fox News',\n",
       " 'The University of Edinburgh',\n",
       " 'Mashable Watercooler',\n",
       " 'YouTube',\n",
       " 'Global Weirding with Katharine Hayhoe',\n",
       " 'Quartz',\n",
       " 'Arizona Public Media',\n",
       " 'vlogbrothers',\n",
       " 'Mark Steyn',\n",
       " 'Climate Reality',\n",
       " 'CAFOD',\n",
       " 'The Onion',\n",
       " 'The Feed',\n",
       " 'Team Coco',\n",
       " 'AJ+',\n",
       " 'Perimeter Institute for Theoretical Physics',\n",
       " 'UN Climate Change',\n",
       " 'The University of Chicago',\n",
       " 'Full Frontal with Samantha Bee',\n",
       " 'The Tonight Show Starring Jimmy Fallon',\n",
       " 'European Parliament',\n",
       " 'talkRADIO',\n",
       " 'The B1M',\n",
       " 'Saturday Night Live',\n",
       " 'Real Engineering',\n",
       " 'ArcGIS',\n",
       " 'OpenMind',\n",
       " 'Good Morning Britain',\n",
       " 'Just Have a Think',\n",
       " 'WIRED UK',\n",
       " 'Evan Fraser',\n",
       " 'Aquarium of the Pacific',\n",
       " 'Henrik Kniberg',\n",
       " 'ABC News In-depth',\n",
       " '60 Minutes Australia',\n",
       " 'Earth Touch',\n",
       " 'news.com.au',\n",
       " 'Oregon State University Ecampus',\n",
       " 'The Real News Network',\n",
       " 'CrashCourse',\n",
       " 'Connect4Climate',\n",
       " 'Vanity Fair',\n",
       " 'Mike Likes Science',\n",
       " 'Real Time with Bill Maher',\n",
       " 'Bill Gates',\n",
       " 'The Late Show with Stephen Colbert',\n",
       " 'WWF-Brasil',\n",
       " 'euronews (in English)',\n",
       " 'Fig. 1 by University of California',\n",
       " 'Australian Academy of Science',\n",
       " 'ShirleyFilms',\n",
       " 'Conversations That Matter',\n",
       " 'Global Change Institute',\n",
       " 'NowThis News',\n",
       " 'Southern Seminary',\n",
       " 'Sustainable Human',\n",
       " 'loai alaa',\n",
       " 'Becker Friedman Institute at UChicago - BFI',\n",
       " 'The Daily Show with Trevor Noah',\n",
       " 'Newsy',\n",
       " 'Senator Ted Cruz',\n",
       " 'The Professor Harry Messel International Science School',\n",
       " 'Yorkshire Wildlife Park',\n",
       " 'CBS Boston',\n",
       " 'friendlyjordies',\n",
       " 'BBC News',\n",
       " 'asianetnews',\n",
       " 'CBS Denver',\n",
       " 'Berkeley Lab',\n",
       " 'VICE',\n",
       " 'World Economic Forum',\n",
       " 'Fox Business',\n",
       " 'Dhruv Rathee',\n",
       " 'Comedy Unleashed',\n",
       " 'The Daily Conversation',\n",
       " 'CNBC Television',\n",
       " 'UPFSI',\n",
       " 'ProductiehuisEU',\n",
       " 'SustainableWorld',\n",
       " 'The Free Speech Club',\n",
       " 'YaleClimateConnections',\n",
       " 'tveInspiringChange',\n",
       " 'Spiritual Unfoldment with John Butler',\n",
       " 'PragerU',\n",
       " 'Carbon Neutral University Sheffield',\n",
       " 'VOA Learning English',\n",
       " 'John Stossel',\n",
       " 'CaspianReport',\n",
       " 'Philip K.',\n",
       " 'ClimateCommission',\n",
       " 'NPR',\n",
       " 'Месть Земли',\n",
       " 'EDCHAT®',\n",
       " 'FBE',\n",
       " 'Guy Science',\n",
       " 'Michael Killen',\n",
       " 'Gerard',\n",
       " 'Archipelago Creative',\n",
       " 'ET Canada',\n",
       " 'Carbon Control',\n",
       " 'The Rubin Report',\n",
       " 'UNICEF',\n",
       " 'Ministerie van Infrastructuur en Waterstaat',\n",
       " 'Mic the Vegan',\n",
       " 'OxfordUnion',\n",
       " 'NTV Kenya',\n",
       " 'The Heartland Institute',\n",
       " 'London Real',\n",
       " 'YAFTV',\n",
       " 'wocomoDOCS',\n",
       " 'Future Thinkers',\n",
       " 'Senator Bernie Sanders',\n",
       " 'RT']"
      ]
     },
     "execution_count": 17,
     "metadata": {},
     "output_type": "execute_result"
    }
   ],
   "source": [
    "channels_with_likes"
   ]
  },
  {
   "cell_type": "markdown",
   "metadata": {},
   "source": [
    "Using \"in\" operator we can check if an element is present in a list."
   ]
  },
  {
   "cell_type": "code",
   "execution_count": 18,
   "metadata": {},
   "outputs": [
    {
     "data": {
      "text/plain": [
       "False"
      ]
     },
     "execution_count": 18,
     "metadata": {},
     "output_type": "execute_result"
    }
   ],
   "source": [
    "'Intergovernmental Panel on Climate Change (IPCC)' in channels_with_likes"
   ]
  },
  {
   "cell_type": "code",
   "execution_count": 19,
   "metadata": {},
   "outputs": [
    {
     "data": {
      "text/plain": [
       "False"
      ]
     },
     "execution_count": 19,
     "metadata": {},
     "output_type": "execute_result"
    }
   ],
   "source": [
    "'The Lancet' in channels_with_likes"
   ]
  },
  {
   "cell_type": "markdown",
   "metadata": {},
   "source": [
    "If I wanted to substitute them by another value, I would use the following command:"
   ]
  },
  {
   "cell_type": "code",
   "execution_count": 20,
   "metadata": {},
   "outputs": [],
   "source": [
    "#Fill NA's with 0\n",
    "videos['dislikeCount_no_na'] = videos['dislikeCount'].fillna(0)"
   ]
  },
  {
   "cell_type": "code",
   "execution_count": 21,
   "metadata": {},
   "outputs": [
    {
     "data": {
      "text/plain": [
       "position                0\n",
       "channelId               0\n",
       "channelTitle            0\n",
       "videoId                 0\n",
       "publishedAt             0\n",
       "publishedAtSQL          0\n",
       "videoTitle              0\n",
       "videoDescription        5\n",
       "videoCategoryId         0\n",
       "videoCategoryLabel      0\n",
       "duration                0\n",
       "durationSec             0\n",
       "dimension               0\n",
       "definition              0\n",
       "caption                 0\n",
       "thumbnail_maxres       94\n",
       "licensedContent       139\n",
       "viewCount               0\n",
       "likeCount              13\n",
       "dislikeCount           13\n",
       "favoriteCount           0\n",
       "commentCount           48\n",
       "dislikeCount_no_na      0\n",
       "dtype: int64"
      ]
     },
     "execution_count": 21,
     "metadata": {},
     "output_type": "execute_result"
    }
   ],
   "source": [
    "videos.isna().sum()"
   ]
  },
  {
   "cell_type": "code",
   "execution_count": 22,
   "metadata": {},
   "outputs": [],
   "source": [
    "#Drop rows with NA\n",
    "videos = videos.dropna(subset=['likeCount', 'dislikeCount'])"
   ]
  },
  {
   "cell_type": "code",
   "execution_count": 23,
   "metadata": {},
   "outputs": [
    {
     "data": {
      "text/plain": [
       "position                0\n",
       "channelId               0\n",
       "channelTitle            0\n",
       "videoId                 0\n",
       "publishedAt             0\n",
       "publishedAtSQL          0\n",
       "videoTitle              0\n",
       "videoDescription        5\n",
       "videoCategoryId         0\n",
       "videoCategoryLabel      0\n",
       "duration                0\n",
       "durationSec             0\n",
       "dimension               0\n",
       "definition              0\n",
       "caption                 0\n",
       "thumbnail_maxres       93\n",
       "licensedContent       128\n",
       "viewCount               0\n",
       "likeCount               0\n",
       "dislikeCount            0\n",
       "favoriteCount           0\n",
       "commentCount           36\n",
       "dislikeCount_no_na      0\n",
       "dtype: int64"
      ]
     },
     "execution_count": 23,
     "metadata": {},
     "output_type": "execute_result"
    }
   ],
   "source": [
    "videos.isna().sum()"
   ]
  },
  {
   "cell_type": "code",
   "execution_count": 24,
   "metadata": {},
   "outputs": [
    {
     "data": {
      "text/plain": [
       "487"
      ]
     },
     "execution_count": 24,
     "metadata": {},
     "output_type": "execute_result"
    }
   ],
   "source": [
    "len(videos)"
   ]
  },
  {
   "cell_type": "markdown",
   "metadata": {},
   "source": [
    "## Filter on date - \"recoding\" a column"
   ]
  },
  {
   "cell_type": "code",
   "execution_count": 25,
   "metadata": {},
   "outputs": [
    {
     "data": {
      "text/plain": [
       "position                int64\n",
       "channelId              object\n",
       "channelTitle           object\n",
       "videoId                object\n",
       "publishedAt            object\n",
       "publishedAtSQL         object\n",
       "videoTitle             object\n",
       "videoDescription       object\n",
       "videoCategoryId         int64\n",
       "videoCategoryLabel     object\n",
       "duration               object\n",
       "durationSec             int64\n",
       "dimension              object\n",
       "definition             object\n",
       "caption                  bool\n",
       "thumbnail_maxres       object\n",
       "licensedContent       float64\n",
       "viewCount               int64\n",
       "likeCount             float64\n",
       "dislikeCount          float64\n",
       "favoriteCount           int64\n",
       "commentCount          float64\n",
       "dislikeCount_no_na    float64\n",
       "dtype: object"
      ]
     },
     "execution_count": 25,
     "metadata": {},
     "output_type": "execute_result"
    }
   ],
   "source": [
    "videos.dtypes"
   ]
  },
  {
   "cell_type": "markdown",
   "metadata": {},
   "source": [
    "From my key variables so far (likeCount, dislikeCount, videoTitle, videoCategoryLabel), all looks OK. The numeric variables are in numeric form (int or float), and the text variables are in object form.\n",
    "\n",
    "But the date variable (publishedAt) is stored as an object... and it should be a date."
   ]
  },
  {
   "cell_type": "code",
   "execution_count": 26,
   "metadata": {},
   "outputs": [
    {
     "data": {
      "text/plain": [
       "0    2020-01-24T04:15:28.000Z\n",
       "1    2020-01-23T10:32:38.000Z\n",
       "2    2019-12-23T13:38:55.000Z\n",
       "3    2020-01-22T22:28:34.000Z\n",
       "4    2020-01-22T20:01:12.000Z\n",
       "Name: publishedAt, dtype: object"
      ]
     },
     "execution_count": 26,
     "metadata": {},
     "output_type": "execute_result"
    }
   ],
   "source": [
    "videos['publishedAt'].head()"
   ]
  },
  {
   "cell_type": "code",
   "execution_count": 27,
   "metadata": {},
   "outputs": [
    {
     "name": "stderr",
     "output_type": "stream",
     "text": [
      "<ipython-input-27-a45418e9b2c5>:1: SettingWithCopyWarning: \n",
      "A value is trying to be set on a copy of a slice from a DataFrame.\n",
      "Try using .loc[row_indexer,col_indexer] = value instead\n",
      "\n",
      "See the caveats in the documentation: https://pandas.pydata.org/pandas-docs/stable/user_guide/indexing.html#returning-a-view-versus-a-copy\n",
      "  videos['publishedAt'] = videos['publishedAt'].apply(pd.to_datetime)\n"
     ]
    }
   ],
   "source": [
    "#Apply a funcation to a column\n",
    "videos['publishedAt'] = videos['publishedAt'].apply(pd.to_datetime)"
   ]
  },
  {
   "cell_type": "code",
   "execution_count": 28,
   "metadata": {},
   "outputs": [
    {
     "data": {
      "text/plain": [
       "0   2020-01-24 04:15:28+00:00\n",
       "1   2020-01-23 10:32:38+00:00\n",
       "2   2019-12-23 13:38:55+00:00\n",
       "3   2020-01-22 22:28:34+00:00\n",
       "4   2020-01-22 20:01:12+00:00\n",
       "Name: publishedAt, dtype: datetime64[ns, UTC]"
      ]
     },
     "execution_count": 28,
     "metadata": {},
     "output_type": "execute_result"
    }
   ],
   "source": [
    "videos['publishedAt'].head()"
   ]
  },
  {
   "cell_type": "code",
   "execution_count": 29,
   "metadata": {},
   "outputs": [
    {
     "data": {
      "text/plain": [
       "position                            int64\n",
       "channelId                          object\n",
       "channelTitle                       object\n",
       "videoId                            object\n",
       "publishedAt           datetime64[ns, UTC]\n",
       "publishedAtSQL                     object\n",
       "videoTitle                         object\n",
       "videoDescription                   object\n",
       "videoCategoryId                     int64\n",
       "videoCategoryLabel                 object\n",
       "duration                           object\n",
       "durationSec                         int64\n",
       "dimension                          object\n",
       "definition                         object\n",
       "caption                              bool\n",
       "thumbnail_maxres                   object\n",
       "licensedContent                   float64\n",
       "viewCount                           int64\n",
       "likeCount                         float64\n",
       "dislikeCount                      float64\n",
       "favoriteCount                       int64\n",
       "commentCount                      float64\n",
       "dislikeCount_no_na                float64\n",
       "dtype: object"
      ]
     },
     "execution_count": 29,
     "metadata": {},
     "output_type": "execute_result"
    }
   ],
   "source": [
    "videos.dtypes"
   ]
  },
  {
   "cell_type": "markdown",
   "metadata": {},
   "source": [
    "Now we can filter based on publication date"
   ]
  },
  {
   "cell_type": "code",
   "execution_count": 30,
   "metadata": {},
   "outputs": [
    {
     "data": {
      "text/html": [
       "<div>\n",
       "<style scoped>\n",
       "    .dataframe tbody tr th:only-of-type {\n",
       "        vertical-align: middle;\n",
       "    }\n",
       "\n",
       "    .dataframe tbody tr th {\n",
       "        vertical-align: top;\n",
       "    }\n",
       "\n",
       "    .dataframe thead th {\n",
       "        text-align: right;\n",
       "    }\n",
       "</style>\n",
       "<table border=\"1\" class=\"dataframe\">\n",
       "  <thead>\n",
       "    <tr style=\"text-align: right;\">\n",
       "      <th></th>\n",
       "      <th>position</th>\n",
       "      <th>channelId</th>\n",
       "      <th>channelTitle</th>\n",
       "      <th>videoId</th>\n",
       "      <th>publishedAt</th>\n",
       "      <th>publishedAtSQL</th>\n",
       "      <th>videoTitle</th>\n",
       "      <th>videoDescription</th>\n",
       "      <th>videoCategoryId</th>\n",
       "      <th>videoCategoryLabel</th>\n",
       "      <th>...</th>\n",
       "      <th>definition</th>\n",
       "      <th>caption</th>\n",
       "      <th>thumbnail_maxres</th>\n",
       "      <th>licensedContent</th>\n",
       "      <th>viewCount</th>\n",
       "      <th>likeCount</th>\n",
       "      <th>dislikeCount</th>\n",
       "      <th>favoriteCount</th>\n",
       "      <th>commentCount</th>\n",
       "      <th>dislikeCount_no_na</th>\n",
       "    </tr>\n",
       "  </thead>\n",
       "  <tbody>\n",
       "    <tr>\n",
       "      <th>0</th>\n",
       "      <td>1</td>\n",
       "      <td>UCIALMKvObZNtJ6AmdCLP7Lg</td>\n",
       "      <td>Bloomberg Markets and Finance</td>\n",
       "      <td>sGHq_EwXDn8</td>\n",
       "      <td>2020-01-24 04:15:28+00:00</td>\n",
       "      <td>2020-01-24 04:15:28</td>\n",
       "      <td>Australia’s Policies Going in Wrong Direction ...</td>\n",
       "      <td>Jan.23 -- Michael Mann, distinguished professo...</td>\n",
       "      <td>25</td>\n",
       "      <td>News &amp; Politics</td>\n",
       "      <td>...</td>\n",
       "      <td>hd</td>\n",
       "      <td>False</td>\n",
       "      <td>https://i.ytimg.com/vi/sGHq_EwXDn8/maxresdefau...</td>\n",
       "      <td>1.0</td>\n",
       "      <td>2017</td>\n",
       "      <td>31.0</td>\n",
       "      <td>24.0</td>\n",
       "      <td>0</td>\n",
       "      <td>57.0</td>\n",
       "      <td>24.0</td>\n",
       "    </tr>\n",
       "    <tr>\n",
       "      <th>1</th>\n",
       "      <td>2</td>\n",
       "      <td>UCb1Ti1WKPauPpXkYKVHNpsw</td>\n",
       "      <td>LBC</td>\n",
       "      <td>PRtn1W2RAVU</td>\n",
       "      <td>2020-01-23 10:32:38+00:00</td>\n",
       "      <td>2020-01-23 10:32:38</td>\n",
       "      <td>Nigel Farage compares President Trump and Prin...</td>\n",
       "      <td>This is Nigel Farage's reaction to President T...</td>\n",
       "      <td>25</td>\n",
       "      <td>News &amp; Politics</td>\n",
       "      <td>...</td>\n",
       "      <td>hd</td>\n",
       "      <td>False</td>\n",
       "      <td>https://i.ytimg.com/vi/PRtn1W2RAVU/maxresdefau...</td>\n",
       "      <td>1.0</td>\n",
       "      <td>65633</td>\n",
       "      <td>1637.0</td>\n",
       "      <td>100.0</td>\n",
       "      <td>0</td>\n",
       "      <td>1093.0</td>\n",
       "      <td>100.0</td>\n",
       "    </tr>\n",
       "    <tr>\n",
       "      <th>2</th>\n",
       "      <td>3</td>\n",
       "      <td>UC-SJ6nODDmufqBzPBwCvYvQ</td>\n",
       "      <td>CBS This Morning</td>\n",
       "      <td>2CQvBGSiDvw</td>\n",
       "      <td>2019-12-23 13:38:55+00:00</td>\n",
       "      <td>2019-12-23 13:38:55</td>\n",
       "      <td>Climate change in the 2020s: What impacts to e...</td>\n",
       "      <td>In our series The 2020's, we're exploring the ...</td>\n",
       "      <td>25</td>\n",
       "      <td>News &amp; Politics</td>\n",
       "      <td>...</td>\n",
       "      <td>hd</td>\n",
       "      <td>False</td>\n",
       "      <td>https://i.ytimg.com/vi/2CQvBGSiDvw/maxresdefau...</td>\n",
       "      <td>1.0</td>\n",
       "      <td>34455</td>\n",
       "      <td>646.0</td>\n",
       "      <td>97.0</td>\n",
       "      <td>0</td>\n",
       "      <td>618.0</td>\n",
       "      <td>97.0</td>\n",
       "    </tr>\n",
       "    <tr>\n",
       "      <th>3</th>\n",
       "      <td>4</td>\n",
       "      <td>UCcyq283he07B7_KUX07mmtA</td>\n",
       "      <td>Business Insider</td>\n",
       "      <td>Cbwv1jg4gZU</td>\n",
       "      <td>2020-01-22 22:28:34+00:00</td>\n",
       "      <td>2020-01-22 22:28:34</td>\n",
       "      <td>Solution To Climate Change Is To Make It Profi...</td>\n",
       "      <td>Environmental problems rose to the top of the ...</td>\n",
       "      <td>25</td>\n",
       "      <td>News &amp; Politics</td>\n",
       "      <td>...</td>\n",
       "      <td>hd</td>\n",
       "      <td>True</td>\n",
       "      <td>https://i.ytimg.com/vi/Cbwv1jg4gZU/maxresdefau...</td>\n",
       "      <td>1.0</td>\n",
       "      <td>24345</td>\n",
       "      <td>871.0</td>\n",
       "      <td>54.0</td>\n",
       "      <td>0</td>\n",
       "      <td>166.0</td>\n",
       "      <td>54.0</td>\n",
       "    </tr>\n",
       "    <tr>\n",
       "      <th>4</th>\n",
       "      <td>5</td>\n",
       "      <td>UCWafKqurzE49MzZ6eHFwXvQ</td>\n",
       "      <td>EconClips</td>\n",
       "      <td>cWsCX_yxXqw</td>\n",
       "      <td>2020-01-22 20:01:12+00:00</td>\n",
       "      <td>2020-01-22 20:01:12</td>\n",
       "      <td>🌤 Climate Change from the Economic Point of View</td>\n",
       "      <td>Climate change from the economic point of view...</td>\n",
       "      <td>27</td>\n",
       "      <td>Education</td>\n",
       "      <td>...</td>\n",
       "      <td>hd</td>\n",
       "      <td>True</td>\n",
       "      <td>https://i.ytimg.com/vi/cWsCX_yxXqw/maxresdefau...</td>\n",
       "      <td>1.0</td>\n",
       "      <td>2085</td>\n",
       "      <td>129.0</td>\n",
       "      <td>23.0</td>\n",
       "      <td>0</td>\n",
       "      <td>74.0</td>\n",
       "      <td>23.0</td>\n",
       "    </tr>\n",
       "    <tr>\n",
       "      <th>...</th>\n",
       "      <td>...</td>\n",
       "      <td>...</td>\n",
       "      <td>...</td>\n",
       "      <td>...</td>\n",
       "      <td>...</td>\n",
       "      <td>...</td>\n",
       "      <td>...</td>\n",
       "      <td>...</td>\n",
       "      <td>...</td>\n",
       "      <td>...</td>\n",
       "      <td>...</td>\n",
       "      <td>...</td>\n",
       "      <td>...</td>\n",
       "      <td>...</td>\n",
       "      <td>...</td>\n",
       "      <td>...</td>\n",
       "      <td>...</td>\n",
       "      <td>...</td>\n",
       "      <td>...</td>\n",
       "      <td>...</td>\n",
       "      <td>...</td>\n",
       "    </tr>\n",
       "    <tr>\n",
       "      <th>486</th>\n",
       "      <td>487</td>\n",
       "      <td>UCGJq0eQZoFSwgcqgxIE9MHw</td>\n",
       "      <td>Mic the Vegan</td>\n",
       "      <td>U3r-TzeSzrc</td>\n",
       "      <td>2019-07-03 22:04:27+00:00</td>\n",
       "      <td>2019-07-03 22:04:27</td>\n",
       "      <td>Top 5 Climate Change Myths Debunked</td>\n",
       "      <td>The top 5 myths and fallacies used to fuel cli...</td>\n",
       "      <td>22</td>\n",
       "      <td>People &amp; Blogs</td>\n",
       "      <td>...</td>\n",
       "      <td>hd</td>\n",
       "      <td>False</td>\n",
       "      <td>https://i.ytimg.com/vi/U3r-TzeSzrc/maxresdefau...</td>\n",
       "      <td>1.0</td>\n",
       "      <td>41065</td>\n",
       "      <td>3441.0</td>\n",
       "      <td>263.0</td>\n",
       "      <td>0</td>\n",
       "      <td>1201.0</td>\n",
       "      <td>263.0</td>\n",
       "    </tr>\n",
       "    <tr>\n",
       "      <th>487</th>\n",
       "      <td>488</td>\n",
       "      <td>UCq18eeL7D9Vd8DhjMcLh9QQ</td>\n",
       "      <td>Good Morning Britain</td>\n",
       "      <td>8ISePLL1wcw</td>\n",
       "      <td>2019-10-09 10:45:49+00:00</td>\n",
       "      <td>2019-10-09 10:45:49</td>\n",
       "      <td>Piers Clashes With Extinction Rebellion Co-Lea...</td>\n",
       "      <td>There have been over 600 arrests since Monday ...</td>\n",
       "      <td>24</td>\n",
       "      <td>Entertainment</td>\n",
       "      <td>...</td>\n",
       "      <td>hd</td>\n",
       "      <td>False</td>\n",
       "      <td>https://i.ytimg.com/vi/8ISePLL1wcw/maxresdefau...</td>\n",
       "      <td>1.0</td>\n",
       "      <td>946443</td>\n",
       "      <td>17005.0</td>\n",
       "      <td>2214.0</td>\n",
       "      <td>0</td>\n",
       "      <td>NaN</td>\n",
       "      <td>2214.0</td>\n",
       "    </tr>\n",
       "    <tr>\n",
       "      <th>490</th>\n",
       "      <td>491</td>\n",
       "      <td>UCqBJ47FjJcl61fmSbcadAVg</td>\n",
       "      <td>NTV Kenya</td>\n",
       "      <td>w38fhmZkz64</td>\n",
       "      <td>2020-01-24 19:14:24+00:00</td>\n",
       "      <td>2020-01-24 19:14:24</td>\n",
       "      <td>Eldoret City Marathon themed \"mitigating clima...</td>\n",
       "      <td>#NTVTonight #NTVKenya #NTVNews A rallying call...</td>\n",
       "      <td>25</td>\n",
       "      <td>News &amp; Politics</td>\n",
       "      <td>...</td>\n",
       "      <td>hd</td>\n",
       "      <td>False</td>\n",
       "      <td>https://i.ytimg.com/vi/w38fhmZkz64/maxresdefau...</td>\n",
       "      <td>1.0</td>\n",
       "      <td>170</td>\n",
       "      <td>1.0</td>\n",
       "      <td>0.0</td>\n",
       "      <td>0</td>\n",
       "      <td>0.0</td>\n",
       "      <td>0.0</td>\n",
       "    </tr>\n",
       "    <tr>\n",
       "      <th>493</th>\n",
       "      <td>494</td>\n",
       "      <td>UCZWlSUNDvCCS1hBiXV0zKcA</td>\n",
       "      <td>PragerU</td>\n",
       "      <td>ZgdTHVcv1o8</td>\n",
       "      <td>2019-08-14 01:07:07+00:00</td>\n",
       "      <td>2019-08-14 01:07:07</td>\n",
       "      <td>The Government Can't Solve Climate Change</td>\n",
       "      <td>Can politicians resolve major environmental is...</td>\n",
       "      <td>27</td>\n",
       "      <td>Education</td>\n",
       "      <td>...</td>\n",
       "      <td>hd</td>\n",
       "      <td>True</td>\n",
       "      <td>https://i.ytimg.com/vi/ZgdTHVcv1o8/maxresdefau...</td>\n",
       "      <td>1.0</td>\n",
       "      <td>619592</td>\n",
       "      <td>17725.0</td>\n",
       "      <td>846.0</td>\n",
       "      <td>0</td>\n",
       "      <td>3493.0</td>\n",
       "      <td>846.0</td>\n",
       "    </tr>\n",
       "    <tr>\n",
       "      <th>495</th>\n",
       "      <td>496</td>\n",
       "      <td>UC4-AGCUwX7C-D4BsBook9fQ</td>\n",
       "      <td>YAFTV</td>\n",
       "      <td>i-qBOyrD0-0</td>\n",
       "      <td>2019-10-05 23:34:52+00:00</td>\n",
       "      <td>2019-10-05 23:34:52</td>\n",
       "      <td>HOW DARE YOU: 10 reasons not to believe climat...</td>\n",
       "      <td>Famous for her hard-hitting video segments, Li...</td>\n",
       "      <td>29</td>\n",
       "      <td>Nonprofits &amp; Activism</td>\n",
       "      <td>...</td>\n",
       "      <td>hd</td>\n",
       "      <td>False</td>\n",
       "      <td>NaN</td>\n",
       "      <td>NaN</td>\n",
       "      <td>550692</td>\n",
       "      <td>20821.0</td>\n",
       "      <td>702.0</td>\n",
       "      <td>0</td>\n",
       "      <td>6500.0</td>\n",
       "      <td>702.0</td>\n",
       "    </tr>\n",
       "  </tbody>\n",
       "</table>\n",
       "<p>245 rows × 23 columns</p>\n",
       "</div>"
      ],
      "text/plain": [
       "     position                 channelId                   channelTitle  \\\n",
       "0           1  UCIALMKvObZNtJ6AmdCLP7Lg  Bloomberg Markets and Finance   \n",
       "1           2  UCb1Ti1WKPauPpXkYKVHNpsw                            LBC   \n",
       "2           3  UC-SJ6nODDmufqBzPBwCvYvQ               CBS This Morning   \n",
       "3           4  UCcyq283he07B7_KUX07mmtA               Business Insider   \n",
       "4           5  UCWafKqurzE49MzZ6eHFwXvQ                      EconClips   \n",
       "..        ...                       ...                            ...   \n",
       "486       487  UCGJq0eQZoFSwgcqgxIE9MHw                  Mic the Vegan   \n",
       "487       488  UCq18eeL7D9Vd8DhjMcLh9QQ           Good Morning Britain   \n",
       "490       491  UCqBJ47FjJcl61fmSbcadAVg                      NTV Kenya   \n",
       "493       494  UCZWlSUNDvCCS1hBiXV0zKcA                        PragerU   \n",
       "495       496  UC4-AGCUwX7C-D4BsBook9fQ                          YAFTV   \n",
       "\n",
       "         videoId               publishedAt       publishedAtSQL  \\\n",
       "0    sGHq_EwXDn8 2020-01-24 04:15:28+00:00  2020-01-24 04:15:28   \n",
       "1    PRtn1W2RAVU 2020-01-23 10:32:38+00:00  2020-01-23 10:32:38   \n",
       "2    2CQvBGSiDvw 2019-12-23 13:38:55+00:00  2019-12-23 13:38:55   \n",
       "3    Cbwv1jg4gZU 2020-01-22 22:28:34+00:00  2020-01-22 22:28:34   \n",
       "4    cWsCX_yxXqw 2020-01-22 20:01:12+00:00  2020-01-22 20:01:12   \n",
       "..           ...                       ...                  ...   \n",
       "486  U3r-TzeSzrc 2019-07-03 22:04:27+00:00  2019-07-03 22:04:27   \n",
       "487  8ISePLL1wcw 2019-10-09 10:45:49+00:00  2019-10-09 10:45:49   \n",
       "490  w38fhmZkz64 2020-01-24 19:14:24+00:00  2020-01-24 19:14:24   \n",
       "493  ZgdTHVcv1o8 2019-08-14 01:07:07+00:00  2019-08-14 01:07:07   \n",
       "495  i-qBOyrD0-0 2019-10-05 23:34:52+00:00  2019-10-05 23:34:52   \n",
       "\n",
       "                                            videoTitle  \\\n",
       "0    Australia’s Policies Going in Wrong Direction ...   \n",
       "1    Nigel Farage compares President Trump and Prin...   \n",
       "2    Climate change in the 2020s: What impacts to e...   \n",
       "3    Solution To Climate Change Is To Make It Profi...   \n",
       "4     🌤 Climate Change from the Economic Point of View   \n",
       "..                                                 ...   \n",
       "486                Top 5 Climate Change Myths Debunked   \n",
       "487  Piers Clashes With Extinction Rebellion Co-Lea...   \n",
       "490  Eldoret City Marathon themed \"mitigating clima...   \n",
       "493          The Government Can't Solve Climate Change   \n",
       "495  HOW DARE YOU: 10 reasons not to believe climat...   \n",
       "\n",
       "                                      videoDescription  videoCategoryId  \\\n",
       "0    Jan.23 -- Michael Mann, distinguished professo...               25   \n",
       "1    This is Nigel Farage's reaction to President T...               25   \n",
       "2    In our series The 2020's, we're exploring the ...               25   \n",
       "3    Environmental problems rose to the top of the ...               25   \n",
       "4    Climate change from the economic point of view...               27   \n",
       "..                                                 ...              ...   \n",
       "486  The top 5 myths and fallacies used to fuel cli...               22   \n",
       "487  There have been over 600 arrests since Monday ...               24   \n",
       "490  #NTVTonight #NTVKenya #NTVNews A rallying call...               25   \n",
       "493  Can politicians resolve major environmental is...               27   \n",
       "495  Famous for her hard-hitting video segments, Li...               29   \n",
       "\n",
       "        videoCategoryLabel  ... definition  caption  \\\n",
       "0          News & Politics  ...         hd    False   \n",
       "1          News & Politics  ...         hd    False   \n",
       "2          News & Politics  ...         hd    False   \n",
       "3          News & Politics  ...         hd     True   \n",
       "4                Education  ...         hd     True   \n",
       "..                     ...  ...        ...      ...   \n",
       "486         People & Blogs  ...         hd    False   \n",
       "487          Entertainment  ...         hd    False   \n",
       "490        News & Politics  ...         hd    False   \n",
       "493              Education  ...         hd     True   \n",
       "495  Nonprofits & Activism  ...         hd    False   \n",
       "\n",
       "                                      thumbnail_maxres licensedContent  \\\n",
       "0    https://i.ytimg.com/vi/sGHq_EwXDn8/maxresdefau...             1.0   \n",
       "1    https://i.ytimg.com/vi/PRtn1W2RAVU/maxresdefau...             1.0   \n",
       "2    https://i.ytimg.com/vi/2CQvBGSiDvw/maxresdefau...             1.0   \n",
       "3    https://i.ytimg.com/vi/Cbwv1jg4gZU/maxresdefau...             1.0   \n",
       "4    https://i.ytimg.com/vi/cWsCX_yxXqw/maxresdefau...             1.0   \n",
       "..                                                 ...             ...   \n",
       "486  https://i.ytimg.com/vi/U3r-TzeSzrc/maxresdefau...             1.0   \n",
       "487  https://i.ytimg.com/vi/8ISePLL1wcw/maxresdefau...             1.0   \n",
       "490  https://i.ytimg.com/vi/w38fhmZkz64/maxresdefau...             1.0   \n",
       "493  https://i.ytimg.com/vi/ZgdTHVcv1o8/maxresdefau...             1.0   \n",
       "495                                                NaN             NaN   \n",
       "\n",
       "     viewCount likeCount  dislikeCount  favoriteCount  commentCount  \\\n",
       "0         2017      31.0          24.0              0          57.0   \n",
       "1        65633    1637.0         100.0              0        1093.0   \n",
       "2        34455     646.0          97.0              0         618.0   \n",
       "3        24345     871.0          54.0              0         166.0   \n",
       "4         2085     129.0          23.0              0          74.0   \n",
       "..         ...       ...           ...            ...           ...   \n",
       "486      41065    3441.0         263.0              0        1201.0   \n",
       "487     946443   17005.0        2214.0              0           NaN   \n",
       "490        170       1.0           0.0              0           0.0   \n",
       "493     619592   17725.0         846.0              0        3493.0   \n",
       "495     550692   20821.0         702.0              0        6500.0   \n",
       "\n",
       "     dislikeCount_no_na  \n",
       "0                  24.0  \n",
       "1                 100.0  \n",
       "2                  97.0  \n",
       "3                  54.0  \n",
       "4                  23.0  \n",
       "..                  ...  \n",
       "486               263.0  \n",
       "487              2214.0  \n",
       "490                 0.0  \n",
       "493               846.0  \n",
       "495               702.0  \n",
       "\n",
       "[245 rows x 23 columns]"
      ]
     },
     "execution_count": 30,
     "metadata": {},
     "output_type": "execute_result"
    }
   ],
   "source": [
    "videos[videos['publishedAt'] >'2018-12-31']"
   ]
  },
  {
   "cell_type": "code",
   "execution_count": 31,
   "metadata": {},
   "outputs": [
    {
     "data": {
      "text/plain": [
       "Timestamp('2007-01-12 20:59:37+0000', tz='UTC')"
      ]
     },
     "execution_count": 31,
     "metadata": {},
     "output_type": "execute_result"
    }
   ],
   "source": [
    "videos['publishedAt'].min()"
   ]
  },
  {
   "cell_type": "code",
   "execution_count": 32,
   "metadata": {},
   "outputs": [
    {
     "data": {
      "text/plain": [
       "Timestamp('2020-01-25 07:28:30+0000', tz='UTC')"
      ]
     },
     "execution_count": 32,
     "metadata": {},
     "output_type": "execute_result"
    }
   ],
   "source": [
    "videos['publishedAt'].max()"
   ]
  },
  {
   "cell_type": "code",
   "execution_count": 33,
   "metadata": {},
   "outputs": [
    {
     "data": {
      "text/plain": [
       "487"
      ]
     },
     "execution_count": 33,
     "metadata": {},
     "output_type": "execute_result"
    }
   ],
   "source": [
    "len(videos)"
   ]
  },
  {
   "cell_type": "code",
   "execution_count": 34,
   "metadata": {},
   "outputs": [
    {
     "data": {
      "text/plain": [
       "292"
      ]
     },
     "execution_count": 34,
     "metadata": {},
     "output_type": "execute_result"
    }
   ],
   "source": [
    "len(videos[videos['publishedAt'] >'2017-12-31'])"
   ]
  },
  {
   "cell_type": "code",
   "execution_count": 35,
   "metadata": {},
   "outputs": [],
   "source": [
    "videos = videos[videos['publishedAt'] >'2017-12-31']"
   ]
  },
  {
   "cell_type": "markdown",
   "metadata": {},
   "source": [
    "## Operations on columns\n",
    "\n",
    "### Changing data type\n"
   ]
  },
  {
   "cell_type": "code",
   "execution_count": 62,
   "metadata": {},
   "outputs": [],
   "source": [
    "sentiment = pd.read_csv('Datasets/Sentiment_YouTubeClimateChange.csv')"
   ]
  },
  {
   "cell_type": "code",
   "execution_count": 67,
   "metadata": {},
   "outputs": [
    {
     "data": {
      "text/html": [
       "<div>\n",
       "<style scoped>\n",
       "    .dataframe tbody tr th:only-of-type {\n",
       "        vertical-align: middle;\n",
       "    }\n",
       "\n",
       "    .dataframe tbody tr th {\n",
       "        vertical-align: top;\n",
       "    }\n",
       "\n",
       "    .dataframe thead th {\n",
       "        text-align: right;\n",
       "    }\n",
       "</style>\n",
       "<table border=\"1\" class=\"dataframe\">\n",
       "  <thead>\n",
       "    <tr style=\"text-align: right;\">\n",
       "      <th></th>\n",
       "      <th>Unnamed: 0</th>\n",
       "      <th>videoId</th>\n",
       "      <th>negative</th>\n",
       "      <th>positive</th>\n",
       "      <th>neutral</th>\n",
       "      <th>overall</th>\n",
       "    </tr>\n",
       "  </thead>\n",
       "  <tbody>\n",
       "    <tr>\n",
       "      <th>0</th>\n",
       "      <td>0</td>\n",
       "      <td>sGHq_EwXDn8</td>\n",
       "      <td>-1</td>\n",
       "      <td>1</td>\n",
       "      <td>0</td>\n",
       "      <td>0</td>\n",
       "    </tr>\n",
       "    <tr>\n",
       "      <th>1</th>\n",
       "      <td>1</td>\n",
       "      <td>PRtn1W2RAVU</td>\n",
       "      <td>-1</td>\n",
       "      <td>1</td>\n",
       "      <td>0</td>\n",
       "      <td>0</td>\n",
       "    </tr>\n",
       "    <tr>\n",
       "      <th>2</th>\n",
       "      <td>2</td>\n",
       "      <td>2CQvBGSiDvw</td>\n",
       "      <td>-1</td>\n",
       "      <td>1</td>\n",
       "      <td>0</td>\n",
       "      <td>0</td>\n",
       "    </tr>\n",
       "    <tr>\n",
       "      <th>3</th>\n",
       "      <td>3</td>\n",
       "      <td>Cbwv1jg4gZU</td>\n",
       "      <td>-1</td>\n",
       "      <td>1</td>\n",
       "      <td>0</td>\n",
       "      <td>0</td>\n",
       "    </tr>\n",
       "    <tr>\n",
       "      <th>4</th>\n",
       "      <td>4</td>\n",
       "      <td>cWsCX_yxXqw</td>\n",
       "      <td>-1</td>\n",
       "      <td>1</td>\n",
       "      <td>0</td>\n",
       "      <td>0</td>\n",
       "    </tr>\n",
       "  </tbody>\n",
       "</table>\n",
       "</div>"
      ],
      "text/plain": [
       "   Unnamed: 0      videoId  negative  positive  neutral  overall\n",
       "0           0  sGHq_EwXDn8        -1         1        0        0\n",
       "1           1  PRtn1W2RAVU        -1         1        0        0\n",
       "2           2  2CQvBGSiDvw        -1         1        0        0\n",
       "3           3  Cbwv1jg4gZU        -1         1        0        0\n",
       "4           4  cWsCX_yxXqw        -1         1        0        0"
      ]
     },
     "execution_count": 67,
     "metadata": {},
     "output_type": "execute_result"
    }
   ],
   "source": [
    "#Disclaimer - very crude measure, more on it on Thursday!\n",
    "sentiment.head()"
   ]
  },
  {
   "cell_type": "code",
   "execution_count": 57,
   "metadata": {},
   "outputs": [
    {
     "data": {
      "text/plain": [
       "videoId     object\n",
       "text        object\n",
       "negative     int64\n",
       "positive    object\n",
       "neutral     object\n",
       "dtype: object"
      ]
     },
     "execution_count": 57,
     "metadata": {},
     "output_type": "execute_result"
    }
   ],
   "source": [
    "sentiment.dtypes"
   ]
  },
  {
   "cell_type": "code",
   "execution_count": 58,
   "metadata": {},
   "outputs": [
    {
     "data": {
      "text/html": [
       "<div>\n",
       "<style scoped>\n",
       "    .dataframe tbody tr th:only-of-type {\n",
       "        vertical-align: middle;\n",
       "    }\n",
       "\n",
       "    .dataframe tbody tr th {\n",
       "        vertical-align: top;\n",
       "    }\n",
       "\n",
       "    .dataframe thead th {\n",
       "        text-align: right;\n",
       "    }\n",
       "</style>\n",
       "<table border=\"1\" class=\"dataframe\">\n",
       "  <thead>\n",
       "    <tr style=\"text-align: right;\">\n",
       "      <th></th>\n",
       "      <th>negative</th>\n",
       "    </tr>\n",
       "  </thead>\n",
       "  <tbody>\n",
       "    <tr>\n",
       "      <th>count</th>\n",
       "      <td>244.000000</td>\n",
       "    </tr>\n",
       "    <tr>\n",
       "      <th>mean</th>\n",
       "      <td>-1.340164</td>\n",
       "    </tr>\n",
       "    <tr>\n",
       "      <th>std</th>\n",
       "      <td>0.669028</td>\n",
       "    </tr>\n",
       "    <tr>\n",
       "      <th>min</th>\n",
       "      <td>-4.000000</td>\n",
       "    </tr>\n",
       "    <tr>\n",
       "      <th>25%</th>\n",
       "      <td>-1.000000</td>\n",
       "    </tr>\n",
       "    <tr>\n",
       "      <th>50%</th>\n",
       "      <td>-1.000000</td>\n",
       "    </tr>\n",
       "    <tr>\n",
       "      <th>75%</th>\n",
       "      <td>-1.000000</td>\n",
       "    </tr>\n",
       "    <tr>\n",
       "      <th>max</th>\n",
       "      <td>-1.000000</td>\n",
       "    </tr>\n",
       "  </tbody>\n",
       "</table>\n",
       "</div>"
      ],
      "text/plain": [
       "         negative\n",
       "count  244.000000\n",
       "mean    -1.340164\n",
       "std      0.669028\n",
       "min     -4.000000\n",
       "25%     -1.000000\n",
       "50%     -1.000000\n",
       "75%     -1.000000\n",
       "max     -1.000000"
      ]
     },
     "execution_count": 58,
     "metadata": {},
     "output_type": "execute_result"
    }
   ],
   "source": [
    "sentiment.describe()"
   ]
  },
  {
   "cell_type": "markdown",
   "metadata": {},
   "source": [
    "All columns are objects. Do we need to do anything with that?"
   ]
  },
  {
   "cell_type": "code",
   "execution_count": 42,
   "metadata": {},
   "outputs": [
    {
     "data": {
      "text/plain": [
       "videoId     0\n",
       "text        0\n",
       "negative    0\n",
       "positive    0\n",
       "neutral     0\n",
       "dtype: int64"
      ]
     },
     "execution_count": 42,
     "metadata": {},
     "output_type": "execute_result"
    }
   ],
   "source": [
    "sentiment.isna().sum()"
   ]
  },
  {
   "cell_type": "code",
   "execution_count": 64,
   "metadata": {},
   "outputs": [],
   "source": [
    "sentiment[\"negative\"] = pd.to_numeric(sentiment[\"negative\"])\n",
    "sentiment[\"positive\"] = pd.to_numeric(sentiment[\"positive\"])"
   ]
  },
  {
   "cell_type": "code",
   "execution_count": 65,
   "metadata": {},
   "outputs": [],
   "source": [
    "sentiment['overall'] = sentiment['negative'] + sentiment['positive']"
   ]
  },
  {
   "cell_type": "code",
   "execution_count": 66,
   "metadata": {},
   "outputs": [
    {
     "data": {
      "text/plain": [
       "count    244.000000\n",
       "mean      -0.286885\n",
       "std        0.690673\n",
       "min       -3.000000\n",
       "25%        0.000000\n",
       "50%        0.000000\n",
       "75%        0.000000\n",
       "max        2.000000\n",
       "Name: overall, dtype: float64"
      ]
     },
     "execution_count": 66,
     "metadata": {},
     "output_type": "execute_result"
    }
   ],
   "source": [
    "sentiment['overall'].describe()"
   ]
  },
  {
   "cell_type": "markdown",
   "metadata": {},
   "source": [
    "### Applying functions and recoding categorical variables"
   ]
  },
  {
   "cell_type": "code",
   "execution_count": 69,
   "metadata": {},
   "outputs": [
    {
     "data": {
      "text/plain": [
       "News & Politics          163\n",
       "Science & Technology      31\n",
       "Education                 30\n",
       "Nonprofits & Activism     21\n",
       "Entertainment             17\n",
       "People & Blogs            16\n",
       "Comedy                    10\n",
       "Autos & Vehicles           1\n",
       "Music                      1\n",
       "Film & Animation           1\n",
       "Travel & Events            1\n",
       "Name: videoCategoryLabel, dtype: int64"
      ]
     },
     "execution_count": 69,
     "metadata": {},
     "output_type": "execute_result"
    }
   ],
   "source": [
    "videos['videoCategoryLabel'].value_counts()"
   ]
  },
  {
   "cell_type": "code",
   "execution_count": 71,
   "metadata": {},
   "outputs": [],
   "source": [
    "def recategorize(category):\n",
    "    if category == 'News & Politics':\n",
    "        return category\n",
    "    if category == 'Education':\n",
    "        return 'Education, Science and Technology'\n",
    "    if category == 'Science & Technology':\n",
    "        return 'Education, Science and Technology'\n",
    "    if category == 'Nonprofits & Activism':\n",
    "        return category\n",
    "    else:\n",
    "        return 'Other'\n",
    "    "
   ]
  },
  {
   "cell_type": "code",
   "execution_count": 72,
   "metadata": {},
   "outputs": [],
   "source": [
    "videos['category'] = videos['videoCategoryLabel'].apply(recategorize)"
   ]
  },
  {
   "cell_type": "code",
   "execution_count": 73,
   "metadata": {},
   "outputs": [
    {
     "data": {
      "text/plain": [
       "News & Politics                      163\n",
       "Education, Science and Technology     61\n",
       "Other                                 47\n",
       "Nonprofits & Activism                 21\n",
       "Name: category, dtype: int64"
      ]
     },
     "execution_count": 73,
     "metadata": {},
     "output_type": "execute_result"
    }
   ],
   "source": [
    "videos['category'].value_counts()"
   ]
  },
  {
   "cell_type": "code",
   "execution_count": 84,
   "metadata": {},
   "outputs": [
    {
     "data": {
      "text/html": [
       "<div>\n",
       "<style scoped>\n",
       "    .dataframe tbody tr th:only-of-type {\n",
       "        vertical-align: middle;\n",
       "    }\n",
       "\n",
       "    .dataframe tbody tr th {\n",
       "        vertical-align: top;\n",
       "    }\n",
       "\n",
       "    .dataframe thead th {\n",
       "        text-align: right;\n",
       "    }\n",
       "</style>\n",
       "<table border=\"1\" class=\"dataframe\">\n",
       "  <thead>\n",
       "    <tr style=\"text-align: right;\">\n",
       "      <th></th>\n",
       "      <th>favoriteCount</th>\n",
       "      <th>commentCount</th>\n",
       "      <th>dislikeCount_no_na</th>\n",
       "    </tr>\n",
       "    <tr>\n",
       "      <th>category</th>\n",
       "      <th></th>\n",
       "      <th></th>\n",
       "      <th></th>\n",
       "    </tr>\n",
       "  </thead>\n",
       "  <tbody>\n",
       "    <tr>\n",
       "      <th>Education, Science and Technology</th>\n",
       "      <td>0</td>\n",
       "      <td>1715.135593</td>\n",
       "      <td>700.229508</td>\n",
       "    </tr>\n",
       "    <tr>\n",
       "      <th>News &amp; Politics</th>\n",
       "      <td>0</td>\n",
       "      <td>2197.986577</td>\n",
       "      <td>1829.233129</td>\n",
       "    </tr>\n",
       "    <tr>\n",
       "      <th>Nonprofits &amp; Activism</th>\n",
       "      <td>0</td>\n",
       "      <td>1482.047619</td>\n",
       "      <td>772.000000</td>\n",
       "    </tr>\n",
       "    <tr>\n",
       "      <th>Other</th>\n",
       "      <td>0</td>\n",
       "      <td>2590.302326</td>\n",
       "      <td>1191.638298</td>\n",
       "    </tr>\n",
       "  </tbody>\n",
       "</table>\n",
       "</div>"
      ],
      "text/plain": [
       "                                   favoriteCount  commentCount  \\\n",
       "category                                                         \n",
       "Education, Science and Technology              0   1715.135593   \n",
       "News & Politics                                0   2197.986577   \n",
       "Nonprofits & Activism                          0   1482.047619   \n",
       "Other                                          0   2590.302326   \n",
       "\n",
       "                                   dislikeCount_no_na  \n",
       "category                                               \n",
       "Education, Science and Technology          700.229508  \n",
       "News & Politics                           1829.233129  \n",
       "Nonprofits & Activism                      772.000000  \n",
       "Other                                     1191.638298  "
      ]
     },
     "execution_count": 84,
     "metadata": {},
     "output_type": "execute_result"
    }
   ],
   "source": [
    "videos[['category', 'favoriteCount', 'commentCount', 'dislikeCount_no_na']].groupby('category').agg(np.mean)"
   ]
  },
  {
   "cell_type": "code",
   "execution_count": 88,
   "metadata": {},
   "outputs": [
    {
     "data": {
      "text/plain": [
       "<AxesSubplot:xlabel='category'>"
      ]
     },
     "execution_count": 88,
     "metadata": {},
     "output_type": "execute_result"
    },
    {
     "data": {
      "image/png": "[encoded data removed]",
      "text/plain": [
       "<Figure size 432x288 with 1 Axes>"
      ]
     },
     "metadata": {
      "needs_background": "light"
     },
     "output_type": "display_data"
    }
   ],
   "source": [
    "videos[['commentCount','category']].groupby('category').agg(np.mean).plot(kind='bar')"
   ]
  },
  {
   "cell_type": "code",
   "execution_count": 81,
   "metadata": {},
   "outputs": [
    {
     "data": {
      "text/plain": [
       "Index(['position', 'channelId', 'channelTitle', 'videoId', 'publishedAt',\n",
       "       'publishedAtSQL', 'videoTitle', 'videoDescription', 'videoCategoryId',\n",
       "       'videoCategoryLabel', 'duration', 'durationSec', 'dimension',\n",
       "       'definition', 'caption', 'thumbnail_maxres', 'licensedContent',\n",
       "       'viewCount', 'likeCount', 'dislikeCount', 'favoriteCount',\n",
       "       'commentCount', 'dislikeCount_no_na', 'category'],\n",
       "      dtype='object')"
      ]
     },
     "execution_count": 81,
     "metadata": {},
     "output_type": "execute_result"
    }
   ],
   "source": [
    "videos.columns"
   ]
  },
  {
   "cell_type": "markdown",
   "metadata": {},
   "source": [
    "# Afternoon"
   ]
  },
  {
   "cell_type": "markdown",
   "metadata": {},
   "source": [
    "## Merging the dataframes\n",
    "\n",
    "A few important tips:\n",
    "* Make sure that you have one unique identifier (column) that is available in both dataframes\n",
    "* Make sure that the unique identifier column has the same name in both dataframes\n",
    "* Make sure that the unique identifier column is of the same data type in both dataframes"
   ]
  },
  {
   "cell_type": "code",
   "execution_count": 43,
   "metadata": {},
   "outputs": [
    {
     "data": {
      "text/plain": [
       "Index(['position', 'channelId', 'channelTitle', 'videoId', 'publishedAt',\n",
       "       'publishedAtSQL', 'videoTitle', 'videoDescription', 'videoCategoryId',\n",
       "       'videoCategoryLabel', 'duration', 'durationSec', 'dimension',\n",
       "       'definition', 'caption', 'thumbnail_maxres', 'licensedContent',\n",
       "       'viewCount', 'likeCount', 'dislikeCount', 'favoriteCount',\n",
       "       'commentCount', 'dislikeCount_no_na'],\n",
       "      dtype='object')"
      ]
     },
     "execution_count": 43,
     "metadata": {},
     "output_type": "execute_result"
    }
   ],
   "source": [
    "videos.columns"
   ]
  },
  {
   "cell_type": "code",
   "execution_count": 44,
   "metadata": {},
   "outputs": [
    {
     "data": {
      "text/plain": [
       "Index(['videoId', 'text', 'negative', 'positive', 'neutral'], dtype='object')"
      ]
     },
     "execution_count": 44,
     "metadata": {},
     "output_type": "execute_result"
    }
   ],
   "source": [
    "sentiment.columns"
   ]
  },
  {
   "cell_type": "code",
   "execution_count": 45,
   "metadata": {},
   "outputs": [
    {
     "data": {
      "text/plain": [
       "position                            int64\n",
       "channelId                          object\n",
       "channelTitle                       object\n",
       "videoId                            object\n",
       "publishedAt           datetime64[ns, UTC]\n",
       "publishedAtSQL                     object\n",
       "videoTitle                         object\n",
       "videoDescription                   object\n",
       "videoCategoryId                     int64\n",
       "videoCategoryLabel                 object\n",
       "duration                           object\n",
       "durationSec                         int64\n",
       "dimension                          object\n",
       "definition                         object\n",
       "caption                              bool\n",
       "thumbnail_maxres                   object\n",
       "licensedContent                   float64\n",
       "viewCount                           int64\n",
       "likeCount                         float64\n",
       "dislikeCount                      float64\n",
       "favoriteCount                       int64\n",
       "commentCount                      float64\n",
       "dislikeCount_no_na                float64\n",
       "dtype: object"
      ]
     },
     "execution_count": 45,
     "metadata": {},
     "output_type": "execute_result"
    }
   ],
   "source": [
    "videos.dtypes"
   ]
  },
  {
   "cell_type": "code",
   "execution_count": 46,
   "metadata": {},
   "outputs": [
    {
     "data": {
      "text/plain": [
       "videoId     object\n",
       "text        object\n",
       "negative    object\n",
       "positive    object\n",
       "neutral     object\n",
       "dtype: object"
      ]
     },
     "execution_count": 46,
     "metadata": {},
     "output_type": "execute_result"
    }
   ],
   "source": [
    "sentiment.dtypes"
   ]
  },
  {
   "cell_type": "markdown",
   "metadata": {},
   "source": [
    "OK, the column is available in both, and seems to be of the same data type. So I can merge."
   ]
  },
  {
   "cell_type": "code",
   "execution_count": 47,
   "metadata": {},
   "outputs": [
    {
     "data": {
      "text/plain": [
       "292"
      ]
     },
     "execution_count": 47,
     "metadata": {},
     "output_type": "execute_result"
    }
   ],
   "source": [
    "len(videos)"
   ]
  },
  {
   "cell_type": "code",
   "execution_count": 48,
   "metadata": {},
   "outputs": [
    {
     "data": {
      "text/plain": [
       "244"
      ]
     },
     "execution_count": 48,
     "metadata": {},
     "output_type": "execute_result"
    }
   ],
   "source": [
    "len(sentiment)"
   ]
  },
  {
   "cell_type": "code",
   "execution_count": 51,
   "metadata": {},
   "outputs": [
    {
     "data": {
      "text/plain": [
       "292"
      ]
     },
     "execution_count": 51,
     "metadata": {},
     "output_type": "execute_result"
    }
   ],
   "source": [
    "len(videos.merge(sentiment, on='videoId', how='left'))"
   ]
  },
  {
   "cell_type": "code",
   "execution_count": 52,
   "metadata": {},
   "outputs": [
    {
     "data": {
      "text/plain": [
       "244"
      ]
     },
     "execution_count": 52,
     "metadata": {},
     "output_type": "execute_result"
    }
   ],
   "source": [
    "len(videos.merge(sentiment, on='videoId', how='right'))"
   ]
  },
  {
   "cell_type": "code",
   "execution_count": 53,
   "metadata": {},
   "outputs": [
    {
     "data": {
      "text/plain": [
       "244"
      ]
     },
     "execution_count": 53,
     "metadata": {},
     "output_type": "execute_result"
    }
   ],
   "source": [
    "len(videos.merge(sentiment, on='videoId', how='inner'))"
   ]
  },
  {
   "cell_type": "code",
   "execution_count": 54,
   "metadata": {},
   "outputs": [
    {
     "data": {
      "text/plain": [
       "292"
      ]
     },
     "execution_count": 54,
     "metadata": {},
     "output_type": "execute_result"
    }
   ],
   "source": [
    "len(videos.merge(sentiment, on='videoId', how='outer'))"
   ]
  },
  {
   "cell_type": "code",
   "execution_count": 56,
   "metadata": {},
   "outputs": [],
   "source": [
    "videos_sent = videos.merge(sentiment, on='videoId')"
   ]
  },
  {
   "cell_type": "markdown",
   "metadata": {},
   "source": [
    "## Writing the merged file"
   ]
  },
  {
   "cell_type": "code",
   "execution_count": 77,
   "metadata": {},
   "outputs": [],
   "source": [
    "videos_sent.to_pickle('videos_sent.pkl')"
   ]
  },
  {
   "cell_type": "markdown",
   "metadata": {},
   "source": [
    "## Aggregation"
   ]
  },
  {
   "cell_type": "code",
   "execution_count": 103,
   "metadata": {},
   "outputs": [
    {
     "data": {
      "text/html": [
       "<div>\n",
       "<style scoped>\n",
       "    .dataframe tbody tr th:only-of-type {\n",
       "        vertical-align: middle;\n",
       "    }\n",
       "\n",
       "    .dataframe tbody tr th {\n",
       "        vertical-align: top;\n",
       "    }\n",
       "\n",
       "    .dataframe thead tr th {\n",
       "        text-align: left;\n",
       "    }\n",
       "\n",
       "    .dataframe thead tr:last-of-type th {\n",
       "        text-align: right;\n",
       "    }\n",
       "</style>\n",
       "<table border=\"1\" class=\"dataframe\">\n",
       "  <thead>\n",
       "    <tr>\n",
       "      <th></th>\n",
       "      <th colspan=\"2\" halign=\"left\">commentCount</th>\n",
       "      <th colspan=\"2\" halign=\"left\">dislikeCount_no_na</th>\n",
       "    </tr>\n",
       "    <tr>\n",
       "      <th></th>\n",
       "      <th>mean</th>\n",
       "      <th>sum</th>\n",
       "      <th>mean</th>\n",
       "      <th>sum</th>\n",
       "    </tr>\n",
       "    <tr>\n",
       "      <th>videoCategoryLabel</th>\n",
       "      <th></th>\n",
       "      <th></th>\n",
       "      <th></th>\n",
       "      <th></th>\n",
       "    </tr>\n",
       "  </thead>\n",
       "  <tbody>\n",
       "    <tr>\n",
       "      <th>Autos &amp; Vehicles</th>\n",
       "      <td>469.000000</td>\n",
       "      <td>469.0</td>\n",
       "      <td>104.000000</td>\n",
       "      <td>104.0</td>\n",
       "    </tr>\n",
       "    <tr>\n",
       "      <th>Comedy</th>\n",
       "      <td>4105.300000</td>\n",
       "      <td>41053.0</td>\n",
       "      <td>2162.400000</td>\n",
       "      <td>21624.0</td>\n",
       "    </tr>\n",
       "    <tr>\n",
       "      <th>Education</th>\n",
       "      <td>1457.862069</td>\n",
       "      <td>42278.0</td>\n",
       "      <td>546.000000</td>\n",
       "      <td>16380.0</td>\n",
       "    </tr>\n",
       "    <tr>\n",
       "      <th>Entertainment</th>\n",
       "      <td>4290.230769</td>\n",
       "      <td>55773.0</td>\n",
       "      <td>1845.941176</td>\n",
       "      <td>31381.0</td>\n",
       "    </tr>\n",
       "    <tr>\n",
       "      <th>Film &amp; Animation</th>\n",
       "      <td>26.000000</td>\n",
       "      <td>26.0</td>\n",
       "      <td>20.000000</td>\n",
       "      <td>20.0</td>\n",
       "    </tr>\n",
       "    <tr>\n",
       "      <th>Music</th>\n",
       "      <td>564.000000</td>\n",
       "      <td>564.0</td>\n",
       "      <td>64.000000</td>\n",
       "      <td>64.0</td>\n",
       "    </tr>\n",
       "    <tr>\n",
       "      <th>News &amp; Politics</th>\n",
       "      <td>2197.986577</td>\n",
       "      <td>327500.0</td>\n",
       "      <td>1829.233129</td>\n",
       "      <td>298165.0</td>\n",
       "    </tr>\n",
       "    <tr>\n",
       "      <th>Nonprofits &amp; Activism</th>\n",
       "      <td>1482.047619</td>\n",
       "      <td>31123.0</td>\n",
       "      <td>772.000000</td>\n",
       "      <td>16212.0</td>\n",
       "    </tr>\n",
       "    <tr>\n",
       "      <th>People &amp; Blogs</th>\n",
       "      <td>843.625000</td>\n",
       "      <td>13498.0</td>\n",
       "      <td>175.875000</td>\n",
       "      <td>2814.0</td>\n",
       "    </tr>\n",
       "    <tr>\n",
       "      <th>Science &amp; Technology</th>\n",
       "      <td>1963.833333</td>\n",
       "      <td>58915.0</td>\n",
       "      <td>849.483871</td>\n",
       "      <td>26334.0</td>\n",
       "    </tr>\n",
       "    <tr>\n",
       "      <th>Travel &amp; Events</th>\n",
       "      <td>0.000000</td>\n",
       "      <td>0.0</td>\n",
       "      <td>0.000000</td>\n",
       "      <td>0.0</td>\n",
       "    </tr>\n",
       "  </tbody>\n",
       "</table>\n",
       "</div>"
      ],
      "text/plain": [
       "                      commentCount           dislikeCount_no_na          \n",
       "                              mean       sum               mean       sum\n",
       "videoCategoryLabel                                                       \n",
       "Autos & Vehicles        469.000000     469.0         104.000000     104.0\n",
       "Comedy                 4105.300000   41053.0        2162.400000   21624.0\n",
       "Education              1457.862069   42278.0         546.000000   16380.0\n",
       "Entertainment          4290.230769   55773.0        1845.941176   31381.0\n",
       "Film & Animation         26.000000      26.0          20.000000      20.0\n",
       "Music                   564.000000     564.0          64.000000      64.0\n",
       "News & Politics        2197.986577  327500.0        1829.233129  298165.0\n",
       "Nonprofits & Activism  1482.047619   31123.0         772.000000   16212.0\n",
       "People & Blogs          843.625000   13498.0         175.875000    2814.0\n",
       "Science & Technology   1963.833333   58915.0         849.483871   26334.0\n",
       "Travel & Events           0.000000       0.0           0.000000       0.0"
      ]
     },
     "execution_count": 103,
     "metadata": {},
     "output_type": "execute_result"
    }
   ],
   "source": [
    "videos[['videoCategoryLabel', 'commentCount', 'dislikeCount_no_na']].groupby('videoCategoryLabel').agg([np.mean, sum])"
   ]
  },
  {
   "cell_type": "code",
   "execution_count": 94,
   "metadata": {},
   "outputs": [
    {
     "data": {
      "text/plain": [
       "<AxesSubplot:xlabel='videoCategoryLabel'>"
      ]
     },
     "execution_count": 94,
     "metadata": {},
     "output_type": "execute_result"
    },
    {
     "data": {
      "image/png": "[encoded data removed]",
      "text/plain": [
       "<Figure size 432x288 with 1 Axes>"
      ]
     },
     "metadata": {
      "needs_background": "light"
     },
     "output_type": "display_data"
    }
   ],
   "source": [
    "videos[['commentCount','videoCategoryLabel']].groupby('videoCategoryLabel').agg(np.mean).plot(kind='bar')"
   ]
  },
  {
   "cell_type": "code",
   "execution_count": 91,
   "metadata": {},
   "outputs": [
    {
     "data": {
      "text/plain": [
       "Index(['position', 'channelId', 'channelTitle', 'videoId', 'publishedAt',\n",
       "       'publishedAtSQL', 'videoTitle', 'videoDescription', 'videoCategoryId',\n",
       "       'videoCategoryLabel', 'duration', 'durationSec', 'dimension',\n",
       "       'definition', 'caption', 'thumbnail_maxres', 'licensedContent',\n",
       "       'viewCount', 'likeCount', 'dislikeCount', 'favoriteCount',\n",
       "       'commentCount', 'dislikeCount_no_na', 'category'],\n",
       "      dtype='object')"
      ]
     },
     "execution_count": 91,
     "metadata": {},
     "output_type": "execute_result"
    }
   ],
   "source": [
    "videos.columns"
   ]
  },
  {
   "cell_type": "code",
   "execution_count": 96,
   "metadata": {},
   "outputs": [],
   "source": [
    "#Create a new column for month\n",
    "videos['month'] = videos['publishedAt'].dt.strftime('%Y-%m')\n"
   ]
  },
  {
   "cell_type": "code",
   "execution_count": 100,
   "metadata": {},
   "outputs": [
    {
     "data": {
      "text/plain": [
       "<AxesSubplot:xlabel='month'>"
      ]
     },
     "execution_count": 100,
     "metadata": {},
     "output_type": "execute_result"
    },
    {
     "data": {
      "image/png": "[encoded data removed]",
      "text/plain": [
       "<Figure size 432x288 with 1 Axes>"
      ]
     },
     "metadata": {
      "needs_background": "light"
     },
     "output_type": "display_data"
    }
   ],
   "source": [
    "videos[['commentCount','month']].groupby('month').agg(np.mean).plot()"
   ]
  },
  {
   "cell_type": "code",
   "execution_count": null,
   "metadata": {},
   "outputs": [],
   "source": []
  }
 ],
 "metadata": {
  "anaconda-cloud": {},
  "kernelspec": {
   "display_name": "Python 3",
   "language": "python",
   "name": "python3"
  },
  "language_info": {
   "codemirror_mode": {
    "name": "ipython",
    "version": 3
   },
   "file_extension": ".py",
   "mimetype": "text/x-python",
   "name": "python",
   "nbconvert_exporter": "python",
   "pygments_lexer": "ipython3",
   "version": "3.9.1"
  }
 },
 "nbformat": 4,
 "nbformat_minor": 4
}

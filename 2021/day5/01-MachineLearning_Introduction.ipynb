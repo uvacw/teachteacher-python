{
 "cells": [
  {
   "cell_type": "markdown",
   "metadata": {},
   "source": [
    "# Modeling & Machine Learning - an introduction\n",
    "\n",
    "\n",
    "## Where are we in the course?\n",
    "\n",
    "After making progress in data understanding and preparation we will discuss modelling and have a brief introduction to Machine Learning. \n",
    "\n",
    "\n",
    "## Where are we in the data analysis process?\n",
    "\n",
    "<img src=\"https://upload.wikimedia.org/wikipedia/commons/thumb/b/b9/CRISP-DM_Process_Diagram.png/800px-CRISP-DM_Process_Diagram.png\" alt=\"Source: Wikipedia\">*Source: Wikipedia*\n",
    "\n"
   ]
  },
  {
   "cell_type": "code",
   "execution_count": null,
   "metadata": {},
   "outputs": [],
   "source": []
  },
  {
   "cell_type": "markdown",
   "metadata": {},
   "source": [
    "# ML versus statistics\n",
    "\n",
    "<img src=\"https://miro.medium.com/max/1000/1*x7P7gqjo8k2_bj2rTQWAfg.jpeg\"> Source: [sandserif](https://www.instagram.com/sandserifcomics/)"
   ]
  },
  {
   "cell_type": "markdown",
   "metadata": {},
   "source": []
  },
  {
   "cell_type": "markdown",
   "metadata": {},
   "source": [
    "## Machine Learning in Python\n",
    "\n",
    "<img src=\"http://scikit-learn.org/stable/_images/scikit-learn-logo-notext.png\">\n",
    "\n",
    "We will use the package [scikit-learn](http://scikit-learn.org/) to do Machine Learning in Python. This is one of the most widely used packages in Python for Machine Learning, and is quite flexible and complete when it comes to the types of models it can implement, or data that it can use.\n",
    "\n",
    "\n",
    "\n",
    "Scikit-learn is usually installed together with Python in your machine by anaconda. Before continuing, however, make sure that you have the latest version installed. To do so, go to Terminal on Mac, or Command Prompt/Line in Windows (run as an administrator), and type ```conda install scikit-learn``` . Conda will check if scikit-learn needs to be updated. \n",
    "\n",
    "* **Note:** [This video](https://www.youtube.com/watch?v=_wCs2vvBCTM) contains more information on how to update or install packages with conda.\n",
    "\n",
    "\n"
   ]
  },
  {
   "cell_type": "markdown",
   "metadata": {},
   "source": [
    "# The different types of ML\n",
    "\n",
    "Let's discuss the Sklearn Machine Learning Map:\n",
    "https://scikit-learn.org/stable/tutorial/machine_learning_map/index.html"
   ]
  },
  {
   "cell_type": "code",
   "execution_count": null,
   "metadata": {},
   "outputs": [],
   "source": []
  }
 ],
 "metadata": {
  "kernelspec": {
   "display_name": "Python 3",
   "language": "python",
   "name": "python3"
  },
  "language_info": {
   "codemirror_mode": {
    "name": "ipython",
    "version": 3
   },
   "file_extension": ".py",
   "mimetype": "text/x-python",
   "name": "python",
   "nbconvert_exporter": "python",
   "pygments_lexer": "ipython3",
   "version": "3.8.5"
  },
  "latex_envs": {
   "bibliofile": "biblio.bib",
   "cite_by": "apalike",
   "current_citInitial": 1,
   "eqLabelWithNumbers": true,
   "eqNumInitial": 0
  }
 },
 "nbformat": 4,
 "nbformat_minor": 1
}

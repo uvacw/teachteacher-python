{
 "cells": [
  {
   "cell_type": "markdown",
   "id": "e9014de5",
   "metadata": {
    "slideshow": {
     "slide_type": "slide"
    }
   },
   "source": [
    "# API\n",
    "\n",
    "\n",
    "Author: Justin Chun-ting Ho\n",
    "\n",
    "Date: 27 Nov 2023\n",
    "\n",
    "Credit: Some sections are adopted from the slides prepared by Damian Trilling"
   ]
  },
  {
   "cell_type": "markdown",
   "id": "510e823a",
   "metadata": {
    "slideshow": {
     "slide_type": "slide"
    }
   },
   "source": [
    "### Beyond files\n",
    "\n",
    "- we can write anything to files\n",
    "- as long as we know the structure and encoding, we can unpack it into data\n",
    "- we don't even need files!\n",
    "- how about sending it directly through the internet?"
   ]
  },
  {
   "cell_type": "markdown",
   "id": "11b982aa",
   "metadata": {
    "slideshow": {
     "slide_type": "slide"
    }
   },
   "source": [
    "### How does API work?\n",
    "\n",
    "![API](https://voyager.postman.com/illustration/diagram-what-is-an-api-postman-illustration.svg)"
   ]
  },
  {
   "cell_type": "markdown",
   "id": "2766306b",
   "metadata": {
    "slideshow": {
     "slide_type": "slide"
    }
   },
   "source": [
    "### Example: Google Books API\n",
    "\n",
    "You could try this in any browser: [https://www.googleapis.com/books/v1/volumes?q=isbn:9780261102217](https://www.googleapis.com/books/v1/volumes?q=isbn:9780261102217)\n",
    "\n",
    "But how do we know how to use it? Read the [documentation](https://developers.google.com/books/docs/v1/using#PerformingSearch)!"
   ]
  },
  {
   "cell_type": "code",
   "execution_count": null,
   "id": "b2a5bfec",
   "metadata": {
    "slideshow": {
     "slide_type": "slide"
    }
   },
   "outputs": [],
   "source": [
    "# A better way to do this\n",
    "\n",
    "import json\n",
    "from urllib.request import urlopen\n",
    "\n",
    "api = \"https://www.googleapis.com/books/v1/volumes?q=\"\n",
    "query = \"isbn:9780261102217\"\n",
    "\n",
    "# send a request and get a JSON response\n",
    "resp = urlopen(api + query)\n",
    "# parse JSON into Python as a dictionary\n",
    "book_data = json.load(resp)"
   ]
  },
  {
   "cell_type": "code",
   "execution_count": null,
   "id": "152d9883",
   "metadata": {
    "slideshow": {
     "slide_type": "slide"
    }
   },
   "outputs": [],
   "source": [
    "volume_info = book_data[\"items\"][0][\"volumeInfo\"]\n",
    "\n",
    "print('Title: ' + volume_info['title'])\n",
    "print('Author: ' + str(volume_info['authors']))\n",
    "print('Publication Date: ' + volume_info['publishedDate'])"
   ]
  },
  {
   "cell_type": "markdown",
   "id": "f7ce48d3",
   "metadata": {
    "slideshow": {
     "slide_type": "slide"
    }
   },
   "source": [
    "### Example: Youtube API\n",
    "\n",
    "#### Getting an API key\n",
    "\n",
    "- Go to [Google Cloud Platform](https://console.cloud.google.com/)\n",
    "\n",
    "- Create a project in the Google Developers Console\n",
    "\n",
    "- Enable YouTube Data API \n",
    "\n",
    "- Obtain your API key\n",
    "\n",
    "#### Step by Step Guide\n",
    "\n",
    "![](https://miro.medium.com/v2/resize:fit:2000/format:webp/1*bCsi9C7yC8U-dVdWW4Zqhg.png)\n",
    "\n",
    "![](https://miro.medium.com/v2/resize:fit:2000/format:webp/1*k86eiqdHf9HhhxWKKnO7Sg.png)\n",
    "\n",
    "![](https://miro.medium.com/v2/resize:fit:2000/format:webp/1*DgLkgzXA9YkzMJC7Dh7JZg.png)\n",
    "\n",
    "![](https://miro.medium.com/v2/resize:fit:2000/format:webp/1*KzdLen4agoUi33_H0MutcA.png)\n",
    "\n",
    "![](https://miro.medium.com/v2/resize:fit:2000/format:webp/1*3HjyBix-P1gop_CPLYNpiQ.png)\n",
    "\n",
    "![](https://miro.medium.com/v2/resize:fit:2000/format:webp/1*rzq6FpRfV0ujb_B6nUoGEA.png)\n",
    "\n",
    "![](https://miro.medium.com/v2/resize:fit:2000/format:webp/1*FOTj3rvn0hGmHxgNz0x1Gw.png)\n",
    "\n",
    "![](https://miro.medium.com/v2/resize:fit:2000/format:webp/1*cLWdO9siuQE-3v0kPz-SAA.png)\n",
    "\n",
    "Credit: [Pedro Hernández](https://medium.com/mcd-unison/youtube-data-api-v3-in-python-tutorial-with-examples-e829a25d2ebd)\n",
    "\n",
    "#### Install google api package\n",
    "\n",
    "- install the package with `conda install -c conda-forge google-api-python-client` or \n",
    "`pip install google-api-python-client`"
   ]
  },
  {
   "cell_type": "markdown",
   "id": "f001ad51",
   "metadata": {},
   "source": [
    "### Simple video search"
   ]
  },
  {
   "cell_type": "code",
   "execution_count": null,
   "id": "763cf34e",
   "metadata": {},
   "outputs": [],
   "source": [
    "# Setting Up\n",
    "import googleapiclient.discovery\n",
    "api_service_name = \"youtube\"\n",
    "api_version = \"v3\"\n",
    "DEVELOPER_KEY = \"#################\"\n",
    "youtube = googleapiclient.discovery.build(\n",
    "        api_service_name, api_version, developerKey = DEVELOPER_KEY)"
   ]
  },
  {
   "cell_type": "markdown",
   "id": "810614af",
   "metadata": {},
   "source": [
    "### Getting a list of videos"
   ]
  },
  {
   "cell_type": "code",
   "execution_count": null,
   "id": "27c002da",
   "metadata": {},
   "outputs": [],
   "source": [
    "# The codes to send the request\n",
    "request = youtube.search().list(\n",
    "        part=\"id,snippet\",\n",
    "        type='video',\n",
    "        q=\"Lord of the rings\",\n",
    "        maxResults=1\n",
    ")\n",
    "# Request execution\n",
    "response = request.execute()\n",
    "print(response)"
   ]
  },
  {
   "cell_type": "code",
   "execution_count": null,
   "id": "c7d29894",
   "metadata": {},
   "outputs": [],
   "source": [
    "lotr_videos_ids = youtube.search().list(\n",
    "        part=\"id\",\n",
    "        type='video',\n",
    "        order=\"viewCount\", # This can also be \"date\", \"rating\", \"relevance\" etc.\n",
    "        q=\"Lord of the rings\", # The search query\n",
    "        maxResults=50,\n",
    "        fields=\"items(id(videoId))\"\n",
    ").execute()"
   ]
  },
  {
   "cell_type": "code",
   "execution_count": null,
   "id": "ca3a3c6e",
   "metadata": {},
   "outputs": [],
   "source": [
    "lotr_videos_ids"
   ]
  },
  {
   "cell_type": "code",
   "execution_count": null,
   "id": "66a1711e",
   "metadata": {},
   "outputs": [],
   "source": [
    "info = {\n",
    "    'id':[],\n",
    "    'title':[],\n",
    "    'views':[]\n",
    "}\n",
    "\n",
    "for item in lotr_videos_ids['items']:\n",
    "    vidId = item['id']['videoId']\n",
    "    r = youtube.videos().list(\n",
    "        part=\"statistics,snippet\",\n",
    "        id=vidId,\n",
    "        fields=\"items(statistics),snippet(title)\"\n",
    "    ).execute()\n",
    "\n",
    "    views = r['items'][0]['statistics']['viewCount']\n",
    "    title = r['items'][0]['snippet']['title']\n",
    "    info['id'].append(vidId)\n",
    "    info['title'].append(title)\n",
    "    info['views'].append(views)\n",
    "\n",
    "df = pd.DataFrame(data=info)"
   ]
  },
  {
   "cell_type": "markdown",
   "id": "f85288f6",
   "metadata": {},
   "source": [
    "### How to search by channel id?\n",
    "\n",
    "First, you need to find the channel id, there are many tools for that, eg [this one](https://commentpicker.com/youtube-channel-id.php). While it is possible to search by username, sometimes it work, sometimes it doesn't.\n",
    "\n",
    "Example: Last Week Tonight by John Oliva (https://www.youtube.com/@LastWeekTonight)"
   ]
  },
  {
   "cell_type": "code",
   "execution_count": null,
   "id": "8524c0f2",
   "metadata": {},
   "outputs": [],
   "source": [
    "# Some Channel Statistics\n",
    "response = youtube.channels().list( \n",
    "    part='statistics', \n",
    "    id='UC3XTzVzaHQEd30rQbuvCtTQ').execute()"
   ]
  },
  {
   "cell_type": "code",
   "execution_count": null,
   "id": "b53f73e8",
   "metadata": {},
   "outputs": [],
   "source": [
    "# You can search by channel id, but it will not return everything\n",
    "videos_ids = youtube.search().list(\n",
    "        part=\"id\",\n",
    "        type='video',\n",
    "        order=\"viewCount\", # This can also be \"date\", \"rating\", \"relevance\" etc.\n",
    "        channelId=\"UC3XTzVzaHQEd30rQbuvCtTQ\", # The search query\n",
    "        maxResults=500,\n",
    "        fields=\"items(id(videoId))\"\n",
    ").execute()"
   ]
  },
  {
   "cell_type": "code",
   "execution_count": null,
   "id": "603f6d16",
   "metadata": {},
   "outputs": [],
   "source": [
    "# A more robust way is to search by playlists. First, you need to get the playlists ids.\n",
    "response = youtube.playlists().list( \n",
    "        part='contentDetails,snippet', \n",
    "        channelId='UC3XTzVzaHQEd30rQbuvCtTQ', \n",
    "        maxResults=50\n",
    "    ).execute() \n",
    "\n",
    "playlists = []\n",
    "for i in response['items']:\n",
    "    playlists.append(i['id'])"
   ]
  },
  {
   "cell_type": "code",
   "execution_count": null,
   "id": "177c377c",
   "metadata": {},
   "outputs": [],
   "source": [
    "# Next, write a loop to search through all the pages\n",
    "\n",
    "nextPageToken = None\n",
    "\n",
    "while True: \n",
    "\n",
    "    response = youtube.playlistItems().list( \n",
    "        part='snippet', \n",
    "        playlistId=playlists[0], \n",
    "        maxResults=100, \n",
    "        pageToken=nextPageToken \n",
    "    ).execute() \n",
    "\n",
    "    # Iterate through all response and get video description \n",
    "    for item in response['items']: \n",
    "        description = item['snippet']['title']\n",
    "        print(description) \n",
    "        print(\"\\n\")\n",
    "    nextPageToken = response.get('nextPageToken') \n",
    "  \n",
    "    if not nextPageToken: \n",
    "        break"
   ]
  },
  {
   "cell_type": "markdown",
   "id": "375a3095",
   "metadata": {},
   "source": [
    "### Exercise\n",
    "\n",
    "Find the top 10 most viewed dogs and cats video on YouTube"
   ]
  }
 ],
 "metadata": {
  "celltoolbar": "Slideshow",
  "kernelspec": {
   "display_name": "Python 3 (ipykernel)",
   "language": "python",
   "name": "python3"
  },
  "language_info": {
   "codemirror_mode": {
    "name": "ipython",
    "version": 3
   },
   "file_extension": ".py",
   "mimetype": "text/x-python",
   "name": "python",
   "nbconvert_exporter": "python",
   "pygments_lexer": "ipython3",
   "version": "3.9.18"
  }
 },
 "nbformat": 4,
 "nbformat_minor": 5
}

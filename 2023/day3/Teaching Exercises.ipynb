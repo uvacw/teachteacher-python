{
 "cells": [
  {
   "cell_type": "markdown",
   "id": "868c5ff0",
   "metadata": {
    "slideshow": {
     "slide_type": "slide"
    }
   },
   "source": [
    "### Question: \n",
    "### A student comes to you a vague topic in mind, what data collection methods would you recommend?"
   ]
  },
  {
   "cell_type": "markdown",
   "id": "4d03208f",
   "metadata": {
    "slideshow": {
     "slide_type": "slide"
    }
   },
   "source": [
    "Topics:\n",
    "\n",
    "- Analyzing Social Media Discourse: A Comparative Study of Political Communication Strategies during Elections.\n",
    "- The Impact of Online Influencers on Consumer Behavior: A Analysis of Product Endorsements.\n",
    "- Exploring Online Activism: Case Studies on the Effectiveness of Digital Campaigns in Social Change Movements.\n",
    "- Fake News and Public Perception: An Examination of the Role of Online Information in Shaping Public Opinion.\n",
    "- Digital Diplomacy: A Cross-Cultural Analysis of Nation Branding in International Relations.\n",
    "- User-Generated Content and Brand Loyalty: A Study of Customer Engagement on E-commerce Platforms.\n",
    "- Crisis Communication in the Age of Social Media: A Comparative Study of Organizational Responses to Online Controversies.\n",
    "- Analyzing Media Bias and Framing in Online News Articles.\n",
    "\n",
    "\n",
    "\n",
    "\n",
    "\n",
    "\n",
    "\n"
   ]
  },
  {
   "cell_type": "markdown",
   "id": "70e0b8cc",
   "metadata": {
    "slideshow": {
     "slide_type": "slide"
    }
   },
   "source": [
    "Considerations:\n",
    "- What kind of data?\n",
    "- Where can you get the data (state the actual URLs and/or API endpoint)?\n",
    "- How can you get the data?\n",
    "- How would you store the data?\n",
    "- Any limitations?"
   ]
  },
  {
   "cell_type": "markdown",
   "id": "1dff6acf",
   "metadata": {},
   "source": [
    "#### Make a short presentation and share with the class"
   ]
  }
 ],
 "metadata": {
  "celltoolbar": "Slideshow",
  "kernelspec": {
   "display_name": "Python 3 (ipykernel)",
   "language": "python",
   "name": "python3"
  },
  "language_info": {
   "codemirror_mode": {
    "name": "ipython",
    "version": 3
   },
   "file_extension": ".py",
   "mimetype": "text/x-python",
   "name": "python",
   "nbconvert_exporter": "python",
   "pygments_lexer": "ipython3",
   "version": "3.9.18"
  }
 },
 "nbformat": 4,
 "nbformat_minor": 5
}

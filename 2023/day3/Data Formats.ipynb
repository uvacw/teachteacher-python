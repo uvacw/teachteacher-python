{
 "cells": [
  {
   "cell_type": "markdown",
   "id": "e9014de5",
   "metadata": {
    "slideshow": {
     "slide_type": "slide"
    }
   },
   "source": [
    "# Data and Data Collection\n",
    "\n",
    "\n",
    "Author: Justin Chun-ting Ho\n",
    "\n",
    "Date: 27 Nov 2023\n",
    "\n",
    "Credit: Some sections are adopted from the slides prepared by Damian Trilling"
   ]
  },
  {
   "cell_type": "markdown",
   "id": "2d662655",
   "metadata": {
    "slideshow": {
     "slide_type": "slide"
    }
   },
   "source": [
    "## Tentative Plans for today:\n",
    "\n",
    "\n",
    "\n",
    "| Time          | Topic | Location |\n",
    "|-------------------|-----------|-------------|\n",
    "| 9:30 - 11:00      | Data and File Types  | V2.09        |\n",
    "| 11:15 - 12:30 | API      | V2.09       |\n",
    "| 13:30 - 15:00 | Web Scraping | V1.13        |\n",
    "| 15:00 - 16:00 | Exercise | V1.13        |\n"
   ]
  },
  {
   "cell_type": "markdown",
   "id": "aaab940c",
   "metadata": {
    "slideshow": {
     "slide_type": "slide"
    }
   },
   "source": [
    "## Three popular ways to get data\n",
    "\n",
    "- Datasets\n",
    "- API\n",
    "- Webscraping"
   ]
  },
  {
   "cell_type": "markdown",
   "id": "70d9c87d",
   "metadata": {
    "slideshow": {
     "slide_type": "slide"
    }
   },
   "source": [
    "## Datasets\n",
    "\n",
    "- Public datasets\n",
    "- [Google Dataset Search](https://datasetsearch.research.google.com/)\n",
    "- Good people who shared with you\n",
    "- For many topics, they don't exist!"
   ]
  },
  {
   "cell_type": "markdown",
   "id": "08e2f2f2",
   "metadata": {
    "slideshow": {
     "slide_type": "slide"
    }
   },
   "source": [
    "## API\n",
    "\n",
    "- Many platforms have an API\n",
    "- But many of the APIs are not open\n",
    "- APIs are not designed for researchers (!)"
   ]
  },
  {
   "cell_type": "markdown",
   "id": "1d345051",
   "metadata": {
    "slideshow": {
     "slide_type": "slide"
    }
   },
   "source": [
    "## Webscraping\n",
    "\n",
    "- Theoretically all webpages can be scraped\n",
    "- In many cases, it is much harder than it seems\n",
    "- In other cases, web designers actively stop you from scrapping"
   ]
  },
  {
   "cell_type": "markdown",
   "id": "29be1b53",
   "metadata": {
    "slideshow": {
     "slide_type": "slide"
    }
   },
   "source": [
    "## Some Considerations\n",
    "\n",
    "- Some methods need higher maintance (you need to keep updating your teaching materials and knowledge)\n",
    "- Success rate (some methods have a higher chance to fail)\n",
    "- The \"Cost Revenue Ratio\" (does the data you get worth the effort to learn/maintain?)\n",
    "- Availablity in the future (for example, [this](https://github.com/cjbarrie/academictwitteR))"
   ]
  },
  {
   "cell_type": "markdown",
   "id": "8416021a",
   "metadata": {
    "slideshow": {
     "slide_type": "slide"
    }
   },
   "source": [
    "## Data structures and files"
   ]
  },
  {
   "cell_type": "markdown",
   "id": "ea7db59f",
   "metadata": {
    "slideshow": {
     "slide_type": "slide"
    }
   },
   "source": [
    "| Use Case          | Data Type | File Format |\n",
    "|-------------------|-----------|-------------|\n",
    "| texts             | string    | .txt        |\n",
    "| hierarchical data | dict      | .json       |\n",
    "| table             | dataframe | .csv        |"
   ]
  },
  {
   "cell_type": "markdown",
   "id": "a18945aa",
   "metadata": {
    "slideshow": {
     "slide_type": "slide"
    }
   },
   "source": [
    "## String -> .txt"
   ]
  },
  {
   "cell_type": "code",
   "execution_count": 9,
   "id": "1eff1cb0",
   "metadata": {
    "slideshow": {
     "slide_type": "-"
    }
   },
   "outputs": [],
   "source": [
    "data = \"\"\"\n",
    "In a hole in the ground there lived a hobbit. Not a nasty, dirty, wet hole, filled with the\n",
    "ends of worms and an oozy smell, nor yet a dry, bare, sandy hole with nothing in it to sit down\n",
    "on or to eat: it was a hobbit hole, and that means comfort.\n",
    "\"\"\"\n",
    "with open(\"data.txt\", mode=\"w\") as file:\n",
    "    file.write(data)"
   ]
  },
  {
   "cell_type": "markdown",
   "id": "f978b164",
   "metadata": {
    "slideshow": {
     "slide_type": "fragment"
    }
   },
   "source": [
    "Attention: It will overwrite without warning."
   ]
  },
  {
   "cell_type": "code",
   "execution_count": 12,
   "id": "b8d07f50",
   "metadata": {
    "slideshow": {
     "slide_type": "slide"
    }
   },
   "outputs": [],
   "source": [
    "data = \"\"\"\n",
    "When Mr Bilbo Baggins of Bag End announced that he would shortly be celebrating his eleventy-first birthday \n",
    "with a party of special magnificence, there was much talk and excitement in Hobbiton.\n",
    "\"\"\"\n",
    "with open(\"data.txt\", mode=\"w\") as file:\n",
    "    file.write(data)"
   ]
  },
  {
   "cell_type": "markdown",
   "id": "49f0104a",
   "metadata": {
    "slideshow": {
     "slide_type": "slide"
    }
   },
   "source": [
    "## .txt -> String"
   ]
  },
  {
   "cell_type": "code",
   "execution_count": 13,
   "id": "6154256d",
   "metadata": {
    "scrolled": true,
    "slideshow": {
     "slide_type": "-"
    }
   },
   "outputs": [
    {
     "name": "stdout",
     "output_type": "stream",
     "text": [
      "\n",
      "When Mr Bilbo Baggins of Bag End announced that he would shortly be celebrating his eleventy-first birthday \n",
      "with a party of special magnificence, there was much talk and excitement in Hobbiton.\n",
      "\n"
     ]
    }
   ],
   "source": [
    "with open(\"data.txt\", mode=\"r\") as file:\n",
    "    passage = file.read()\n",
    "    \n",
    "print(passage)"
   ]
  },
  {
   "cell_type": "markdown",
   "id": "b5200f57",
   "metadata": {
    "slideshow": {
     "slide_type": "slide"
    }
   },
   "source": [
    "## list -> file"
   ]
  },
  {
   "cell_type": "code",
   "execution_count": 14,
   "id": "0aab9edc",
   "metadata": {},
   "outputs": [],
   "source": [
    "data = [\"Gandalf\", \"Frodo\", \"Sam\", \"Aragorn\", \"Legolas\", \"Gimli\", \"Peregrin\", \"Meriadoc\", \"Boromir\"]"
   ]
  },
  {
   "cell_type": "code",
   "execution_count": 17,
   "id": "3c68a73a",
   "metadata": {},
   "outputs": [],
   "source": [
    "with open(\"fellowship.txt\", mode=\"w\") as f:\n",
    "    for datum in data:\n",
    "        f.write(datum + \"\\n\")"
   ]
  },
  {
   "cell_type": "code",
   "execution_count": 20,
   "id": "59ac4de3",
   "metadata": {
    "slideshow": {
     "slide_type": "slide"
    }
   },
   "outputs": [
    {
     "name": "stdout",
     "output_type": "stream",
     "text": [
      "['Gandalf\\n', 'Frodo\\n', 'Sam\\n', 'Aragorn\\n', 'Legolas\\n', 'Gimli\\n', 'Peregrin\\n', 'Meriadoc\\n', 'Boromir\\n']\n"
     ]
    }
   ],
   "source": [
    "with open(\"fellowship.txt\", mode=\"r\") as f:\n",
    "     fellowship = [line for line in f]\n",
    "print(fellowship)"
   ]
  },
  {
   "cell_type": "markdown",
   "id": "2db49d69",
   "metadata": {
    "slideshow": {
     "slide_type": "slide"
    }
   },
   "source": [
    "## dict -> file"
   ]
  },
  {
   "cell_type": "code",
   "execution_count": 25,
   "id": "78ffc2f6",
   "metadata": {},
   "outputs": [],
   "source": [
    "import json\n",
    "\n",
    "data = {'Gandalf': {'office': '020222', 'mobile': '0666666'},\n",
    "    'Frodo': {'office': '030111'},\n",
    "    'Sam': {'office': '040444', 'mobile': '0644444'},\n",
    "    'Aragorn': \"020222222\",\n",
    "    'Legolas': [\"010111\", \"06222\"]}\n",
    "\n",
    "with open(\"phonebook.json\", mode=\"w\") as f:\n",
    "    json.dump(data, f)"
   ]
  },
  {
   "cell_type": "code",
   "execution_count": 28,
   "id": "a24ef806",
   "metadata": {},
   "outputs": [
    {
     "name": "stdout",
     "output_type": "stream",
     "text": [
      "{'Gandalf': {'office': '020222', 'mobile': '0666666'}, 'Frodo': {'office': '030111'}, 'Sam': {'office': '040444', 'mobile': '0644444'}, 'Aragorn': '020222222', 'Legolas': ['010111', '06222']}\n"
     ]
    }
   ],
   "source": [
    "import json\n",
    "\n",
    "with open(\"phonebook.json\", mode=\"r\") as f:\n",
    "       data = json.load(f)\n",
    "        \n",
    "print(data)"
   ]
  },
  {
   "cell_type": "markdown",
   "id": "a2c5321d",
   "metadata": {},
   "source": [
    "## object -> pickle"
   ]
  },
  {
   "cell_type": "code",
   "execution_count": 30,
   "id": "947a5880",
   "metadata": {},
   "outputs": [],
   "source": [
    "import pickle\n",
    "\n",
    "with open('phonebook.pkl', 'wb') as f:\n",
    "    pickle.dump(data, f)"
   ]
  },
  {
   "cell_type": "code",
   "execution_count": 31,
   "id": "6b5add0f",
   "metadata": {},
   "outputs": [
    {
     "name": "stdout",
     "output_type": "stream",
     "text": [
      "{'Gandalf': {'office': '020222', 'mobile': '0666666'}, 'Frodo': {'office': '030111'}, 'Sam': {'office': '040444', 'mobile': '0644444'}, 'Aragorn': '020222222', 'Legolas': ['010111', '06222']}\n"
     ]
    }
   ],
   "source": [
    "with open('phonebook.pkl', 'rb') as f:\n",
    "    phonebook = pickle.load(f) # deserialize using load()\n",
    "\n",
    "print(phonebook) # print student names"
   ]
  },
  {
   "cell_type": "markdown",
   "id": "d84381a3",
   "metadata": {},
   "source": [
    "Note: Some .json files contain one JSON object per line instead one object per file. You would need a for loop to convert each line and combine them together."
   ]
  },
  {
   "cell_type": "markdown",
   "id": "0bc3ea9a",
   "metadata": {
    "slideshow": {
     "slide_type": "slide"
    }
   },
   "source": [
    "## tabular data -> .csv"
   ]
  },
  {
   "cell_type": "code",
   "execution_count": 36,
   "id": "74fbbd4f",
   "metadata": {},
   "outputs": [],
   "source": [
    "# How can we store the data?\n",
    "names = ['Gandalf', 'Frodo', 'Sam', 'Aragorn', 'Legolas']\n",
    "phonenumbers = ['020111111', '020222222', '020333333', '020444444', '020555555']"
   ]
  },
  {
   "cell_type": "markdown",
   "id": "4c9f8404",
   "metadata": {
    "slideshow": {
     "slide_type": "fragment"
    }
   },
   "source": [
    "1. We can convert to dict and store as json (it works)"
   ]
  },
  {
   "cell_type": "markdown",
   "id": "22108f7e",
   "metadata": {
    "slideshow": {
     "slide_type": "fragment"
    }
   },
   "source": [
    "2. We can also store in a table (.csv)"
   ]
  },
  {
   "cell_type": "code",
   "execution_count": 40,
   "id": "b45b5d3f",
   "metadata": {
    "slideshow": {
     "slide_type": "slide"
    }
   },
   "outputs": [],
   "source": [
    "import csv\n",
    "\n",
    "with open(\"phonebook.csv\", mode=\"w\") as f:\n",
    "    mywriter = csv.writer(f)\n",
    "    for row in zip(names,phonenumbers):\n",
    "        mywriter.writerow(row)"
   ]
  },
  {
   "cell_type": "markdown",
   "id": "0e8a4dc6",
   "metadata": {
    "slideshow": {
     "slide_type": "fragment"
    }
   },
   "source": [
    "Note: you don't have to do it like this! In most cases, pandas is a more efficient way to do it. But there is one more thing about text data..."
   ]
  },
  {
   "cell_type": "markdown",
   "id": "e9e48a62",
   "metadata": {
    "slideshow": {
     "slide_type": "slide"
    }
   },
   "source": [
    "## Encodings"
   ]
  },
  {
   "cell_type": "markdown",
   "id": "e815def9",
   "metadata": {
    "slideshow": {
     "slide_type": "slide"
    }
   },
   "source": [
    "### How to separate data?\n",
    "\n",
    "- new line = new record?\n",
    "- Unix-style (\\n), also known as LF),  or Windows-style (\\r\\n, also known as CRLF) line endings?\n",
    "- what delimiter? Most uses comma (,), but some uses tab, or even whitespace!\n",
    "- or new file = new record?"
   ]
  },
  {
   "cell_type": "markdown",
   "id": "1ed4d7d0",
   "metadata": {
    "slideshow": {
     "slide_type": "slide"
    }
   },
   "source": [
    "### How to convert characters to bytes (and back again)?\n",
    "\n",
    "- choose right encoding (it is almost always UTF-8)\n",
    "- note some applications uses other encodings by default (eg Excel)"
   ]
  },
  {
   "cell_type": "markdown",
   "id": "e75026c8",
   "metadata": {
    "slideshow": {
     "slide_type": "slide"
    }
   },
   "source": [
    "### comma-separated values (csv)\n",
    "\n",
    "- All programs can read it\n",
    "- Human-readable in a simple text editor\n",
    "- Plain text, with a comma (or a semicolon) denoting column breaks\n",
    "- No limits regarding the size (in most case)\n",
    "- Note: several dialects (eg , ; \\t), and extensions (eg .csv, .tab, .txt)"
   ]
  },
  {
   "cell_type": "code",
   "execution_count": 46,
   "id": "4a3bce5c",
   "metadata": {
    "slideshow": {
     "slide_type": "slide"
    }
   },
   "outputs": [
    {
     "data": {
      "text/plain": [
       "'Gandalf,020111111\\nFrodo,020222222\\nSam,020333333\\nAragorn,020444444\\nLegolas,020555555\\n'"
      ]
     },
     "execution_count": 46,
     "metadata": {},
     "output_type": "execute_result"
    }
   ],
   "source": [
    "# Let's go back to the csv we just created\n",
    "\n",
    "with open(\"phonebook.csv\", \"r\") as f:\n",
    "    output_text = f.read()\n",
    "\n",
    "output_text"
   ]
  },
  {
   "cell_type": "markdown",
   "id": "1e4ecd90",
   "metadata": {
    "slideshow": {
     "slide_type": "slide"
    }
   },
   "source": [
    "### Which is the worse editor and why it is Excel?\n",
    "\n",
    "- Sometimes legacy encodings (ASCII, ANSI, Windows-1252 etc) are still used\n",
    "- They don't support all Unicode symbols (eg emojis, accented characters, non-latin scripts)\n",
    "- What is an ä in the one encoding may be an ø in another\n",
    "- Some programs use legacy encodings without telling you!\n",
    "- Use UTF-8 from beginning to end, unless you like chaos"
   ]
  },
  {
   "cell_type": "markdown",
   "id": "7cff497c",
   "metadata": {
    "slideshow": {
     "slide_type": "slide"
    }
   },
   "source": [
    "## Dataframes"
   ]
  },
  {
   "cell_type": "markdown",
   "id": "c839820e",
   "metadata": {
    "slideshow": {
     "slide_type": "slide"
    }
   },
   "source": [
    "### What are dataframes?\n",
    "\n",
    "- pd.DataFrames (from the pandas package)\n",
    "- objects that store tabular data in rows and columns.\n",
    "- columns and rows can have names\n",
    "- they have methods built-in for data wrangling and analysis"
   ]
  },
  {
   "cell_type": "markdown",
   "id": "1f5b75bc",
   "metadata": {
    "slideshow": {
     "slide_type": "slide"
    }
   },
   "source": [
    "### Creating dataframes"
   ]
  },
  {
   "cell_type": "code",
   "execution_count": 53,
   "id": "057874a4",
   "metadata": {
    "slideshow": {
     "slide_type": "slide"
    }
   },
   "outputs": [
    {
     "data": {
      "text/html": [
       "<div>\n",
       "<style scoped>\n",
       "    .dataframe tbody tr th:only-of-type {\n",
       "        vertical-align: middle;\n",
       "    }\n",
       "\n",
       "    .dataframe tbody tr th {\n",
       "        vertical-align: top;\n",
       "    }\n",
       "\n",
       "    .dataframe thead th {\n",
       "        text-align: right;\n",
       "    }\n",
       "</style>\n",
       "<table border=\"1\" class=\"dataframe\">\n",
       "  <thead>\n",
       "    <tr style=\"text-align: right;\">\n",
       "      <th></th>\n",
       "      <th>0</th>\n",
       "    </tr>\n",
       "  </thead>\n",
       "  <tbody>\n",
       "    <tr>\n",
       "      <th>020111111</th>\n",
       "      <td>Gandalf</td>\n",
       "    </tr>\n",
       "    <tr>\n",
       "      <th>020222222</th>\n",
       "      <td>Frodo</td>\n",
       "    </tr>\n",
       "    <tr>\n",
       "      <th>020333333</th>\n",
       "      <td>Sam</td>\n",
       "    </tr>\n",
       "    <tr>\n",
       "      <th>020444444</th>\n",
       "      <td>Aragorn</td>\n",
       "    </tr>\n",
       "    <tr>\n",
       "      <th>020555555</th>\n",
       "      <td>Legolas</td>\n",
       "    </tr>\n",
       "  </tbody>\n",
       "</table>\n",
       "</div>"
      ],
      "text/plain": [
       "                 0\n",
       "020111111  Gandalf\n",
       "020222222    Frodo\n",
       "020333333      Sam\n",
       "020444444  Aragorn\n",
       "020555555  Legolas"
      ]
     },
     "execution_count": 53,
     "metadata": {},
     "output_type": "execute_result"
    }
   ],
   "source": [
    "# Option 1:\n",
    "# df = pd.DataFrame(list-of-lists, dict, or similar), use \"pd.DataFrame?\" for help\n",
    "\n",
    "df = pd.DataFrame(names, phonenumbers)\n",
    "df"
   ]
  },
  {
   "cell_type": "code",
   "execution_count": 60,
   "id": "5a2bee26",
   "metadata": {
    "slideshow": {
     "slide_type": "slide"
    }
   },
   "outputs": [
    {
     "data": {
      "text/html": [
       "<div>\n",
       "<style scoped>\n",
       "    .dataframe tbody tr th:only-of-type {\n",
       "        vertical-align: middle;\n",
       "    }\n",
       "\n",
       "    .dataframe tbody tr th {\n",
       "        vertical-align: top;\n",
       "    }\n",
       "\n",
       "    .dataframe thead th {\n",
       "        text-align: right;\n",
       "    }\n",
       "</style>\n",
       "<table border=\"1\" class=\"dataframe\">\n",
       "  <thead>\n",
       "    <tr style=\"text-align: right;\">\n",
       "      <th></th>\n",
       "      <th>0</th>\n",
       "      <th>1</th>\n",
       "    </tr>\n",
       "  </thead>\n",
       "  <tbody>\n",
       "    <tr>\n",
       "      <th>0</th>\n",
       "      <td>Gandalf</td>\n",
       "      <td>20111111</td>\n",
       "    </tr>\n",
       "    <tr>\n",
       "      <th>1</th>\n",
       "      <td>Frodo</td>\n",
       "      <td>20222222</td>\n",
       "    </tr>\n",
       "    <tr>\n",
       "      <th>2</th>\n",
       "      <td>Sam</td>\n",
       "      <td>20333333</td>\n",
       "    </tr>\n",
       "    <tr>\n",
       "      <th>3</th>\n",
       "      <td>Aragorn</td>\n",
       "      <td>20444444</td>\n",
       "    </tr>\n",
       "    <tr>\n",
       "      <th>4</th>\n",
       "      <td>Legolas</td>\n",
       "      <td>20555555</td>\n",
       "    </tr>\n",
       "  </tbody>\n",
       "</table>\n",
       "</div>"
      ],
      "text/plain": [
       "         0         1\n",
       "0  Gandalf  20111111\n",
       "1    Frodo  20222222\n",
       "2      Sam  20333333\n",
       "3  Aragorn  20444444\n",
       "4  Legolas  20555555"
      ]
     },
     "execution_count": 60,
     "metadata": {},
     "output_type": "execute_result"
    }
   ],
   "source": [
    "# Option 2:\n",
    "# read from file\n",
    "\n",
    "df = pd.read_csv(\"phonebook.csv\", header=None)\n",
    "df"
   ]
  },
  {
   "cell_type": "markdown",
   "id": "f85374fb",
   "metadata": {
    "slideshow": {
     "slide_type": "slide"
    }
   },
   "source": [
    "### When to use dataframes?\n",
    "\n",
    "- tabular data\n",
    "- visual inspection\n",
    "- data wrangling or statistical analysis"
   ]
  },
  {
   "cell_type": "markdown",
   "id": "9e60f5a9",
   "metadata": {
    "slideshow": {
     "slide_type": "slide"
    }
   },
   "source": [
    "### When not to use dataframes?\n",
    "\n",
    "- non-tabular data\n",
    "- when it does not make sense to consider rows as cases and columns as variables\n",
    "- if you only care about one (or maybe two) column anyway\n",
    "- size of dataset > available RAM\n",
    "- long or expensive operations, play safe and write to / read from file line by line"
   ]
  },
  {
   "cell_type": "markdown",
   "id": "7c5edde2",
   "metadata": {
    "slideshow": {
     "slide_type": "slide"
    }
   },
   "source": [
    "## Discussion\n",
    "\n",
    "### What is your preferred way to store the following data?\n",
    "\n",
    "- Data about YouTube videos\n",
    "- News article scrapped from an online outlet\n",
    "- Comments in a online forum\n",
    "- Results from an online survey\n",
    "- Any other data from your work?"
   ]
  }
 ],
 "metadata": {
  "celltoolbar": "Slideshow",
  "kernelspec": {
   "display_name": "Python 3 (ipykernel)",
   "language": "python",
   "name": "python3"
  },
  "language_info": {
   "codemirror_mode": {
    "name": "ipython",
    "version": 3
   },
   "file_extension": ".py",
   "mimetype": "text/x-python",
   "name": "python",
   "nbconvert_exporter": "python",
   "pygments_lexer": "ipython3",
   "version": "3.9.18"
  }
 },
 "nbformat": 4,
 "nbformat_minor": 5
}

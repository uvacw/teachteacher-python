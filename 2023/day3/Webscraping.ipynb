{
 "cells": [
  {
   "cell_type": "markdown",
   "id": "e9014de5",
   "metadata": {
    "slideshow": {
     "slide_type": "slide"
    }
   },
   "source": [
    "# Webscraping\n",
    "\n",
    "Author: Justin Chun-ting Ho\n",
    "\n",
    "Date: 27 Nov 2023\n",
    "\n",
    "Credit: Some sections are adopted from the slides prepared by Damian Trilling"
   ]
  },
  {
   "cell_type": "markdown",
   "id": "cb8d7db1",
   "metadata": {},
   "source": [
    "### What is an website?\n",
    "\n",
    "Let's take a look at [this](https://ascor.uva.nl/staff/ascor-faculty/ascor-staff---faculty.html)"
   ]
  },
  {
   "cell_type": "markdown",
   "id": "7c0d5028",
   "metadata": {},
   "source": [
    "### Typical Workflow\n",
    "\n",
    "- Download the source code (HTML)\n",
    "- Identify the pattern to isolate what we want\n",
    "- Write a script to extract"
   ]
  },
  {
   "cell_type": "markdown",
   "id": "76d0ecb3",
   "metadata": {},
   "source": [
    "## Approach 1: Regular Expression"
   ]
  },
  {
   "cell_type": "markdown",
   "id": "e34b3916",
   "metadata": {},
   "source": [
    "You probably need [this](https://images.datacamp.com/image/upload/v1665049611/Marketing/Blog/Regular_Expressions_Cheat_Sheet.pdf)."
   ]
  },
  {
   "cell_type": "code",
   "execution_count": null,
   "id": "50a3825b",
   "metadata": {},
   "outputs": [],
   "source": [
    "import requests\n",
    "import re"
   ]
  },
  {
   "cell_type": "code",
   "execution_count": null,
   "id": "67affb3c",
   "metadata": {},
   "outputs": [],
   "source": [
    "response = requests.get('https://ascor.uva.nl/staff/ascor-faculty/ascor-staff---faculty.html')"
   ]
  },
  {
   "cell_type": "code",
   "execution_count": null,
   "id": "58a38586",
   "metadata": {},
   "outputs": [],
   "source": [
    "text = response.text"
   ]
  },
  {
   "cell_type": "code",
   "execution_count": null,
   "id": "4d4d6d58",
   "metadata": {},
   "outputs": [],
   "source": [
    "emails = re.findall(r'mailto:(.*?)\\\"',text)"
   ]
  },
  {
   "cell_type": "markdown",
   "id": "36b6b243",
   "metadata": {},
   "source": [
    "## Approach 2: Modern Packages"
   ]
  },
  {
   "cell_type": "markdown",
   "id": "4d588c46",
   "metadata": {},
   "source": [
    "### Tools\n",
    "- Beautiful Soup: `pip install beautifulsoup4` or `conda install -c anaconda beautifulsoup4`\n",
    "- SelectorGadget: https://selectorgadget.com/"
   ]
  },
  {
   "cell_type": "code",
   "execution_count": null,
   "id": "ec502b65",
   "metadata": {},
   "outputs": [],
   "source": [
    "from bs4 import BeautifulSoup \n",
    "import csv\n",
    "import pandas as pd\n",
    "import numpy as np"
   ]
  },
  {
   "cell_type": "code",
   "execution_count": null,
   "id": "c91536be",
   "metadata": {},
   "outputs": [],
   "source": [
    "URL = 'https://ascor.uva.nl/staff/faculty.html'\n",
    "r = requests.get(URL) \n",
    "soup = BeautifulSoup(r.content) "
   ]
  },
  {
   "cell_type": "code",
   "execution_count": null,
   "id": "6750db9b",
   "metadata": {},
   "outputs": [],
   "source": [
    "r.content"
   ]
  },
  {
   "cell_type": "code",
   "execution_count": null,
   "id": "541ee3fb",
   "metadata": {},
   "outputs": [],
   "source": [
    "emails = soup.find_all(class_=\"mail\")"
   ]
  },
  {
   "cell_type": "code",
   "execution_count": null,
   "id": "cfb229ac",
   "metadata": {},
   "outputs": [],
   "source": [
    "emails[0:6]"
   ]
  },
  {
   "cell_type": "code",
   "execution_count": null,
   "id": "ecbb15ca",
   "metadata": {},
   "outputs": [],
   "source": [
    "for email in emails[0:6]:\n",
    "    print(email['href'])"
   ]
  },
  {
   "cell_type": "markdown",
   "id": "75db440f",
   "metadata": {},
   "source": [
    "### Another Way"
   ]
  },
  {
   "cell_type": "code",
   "execution_count": null,
   "id": "5021bfe5",
   "metadata": {},
   "outputs": [],
   "source": [
    "soup = BeautifulSoup(r.content) \n",
    "items = soup.find_all(class_=\"c-item__link\")"
   ]
  },
  {
   "cell_type": "code",
   "execution_count": null,
   "id": "ab8091b9",
   "metadata": {},
   "outputs": [],
   "source": [
    "items[0]"
   ]
  },
  {
   "cell_type": "code",
   "execution_count": null,
   "id": "01795f75",
   "metadata": {},
   "outputs": [],
   "source": [
    "links = []\n",
    "for i in items:\n",
    "    link = i['href']\n",
    "    links.append(link) "
   ]
  },
  {
   "cell_type": "code",
   "execution_count": null,
   "id": "ddad105f",
   "metadata": {},
   "outputs": [],
   "source": [
    "links[0:10]"
   ]
  },
  {
   "cell_type": "code",
   "execution_count": null,
   "id": "244dca96",
   "metadata": {},
   "outputs": [],
   "source": [
    "link = '/profile/h/o/j.c.ho/j.c.ho.html?origin=%2BkELbJiCRnm%2F56cOYZSXzA'\n",
    "url = 'https://ascor.uva.nl/' + link\n",
    "r = requests.get(url)\n",
    "soup = BeautifulSoup(r.content)"
   ]
  },
  {
   "cell_type": "code",
   "execution_count": null,
   "id": "627daaa9",
   "metadata": {},
   "outputs": [],
   "source": [
    "name = soup.find(class_=\"c-profile__name\").get_text()\n",
    "name"
   ]
  },
  {
   "cell_type": "code",
   "execution_count": null,
   "id": "13319474",
   "metadata": {},
   "outputs": [],
   "source": [
    "summary = soup.find(class_=\"c-profile__summary\").get_text()\n",
    "summary"
   ]
  },
  {
   "cell_type": "code",
   "execution_count": null,
   "id": "1be51446",
   "metadata": {},
   "outputs": [],
   "source": [
    "profile = soup.find(id=\"Profile\").get_text()\n",
    "profile"
   ]
  },
  {
   "cell_type": "code",
   "execution_count": null,
   "id": "ceabdc89",
   "metadata": {},
   "outputs": [],
   "source": [
    "divs = soup.find_all('div', class_=\"c-profile__list\")\n",
    "divs"
   ]
  },
  {
   "cell_type": "code",
   "execution_count": null,
   "id": "059433f8",
   "metadata": {},
   "outputs": [],
   "source": [
    "divs[1].find_all('li')"
   ]
  },
  {
   "cell_type": "code",
   "execution_count": null,
   "id": "e1dea200",
   "metadata": {},
   "outputs": [],
   "source": [
    "divs[1].find_all('li')[0].get_text()"
   ]
  },
  {
   "cell_type": "code",
   "execution_count": null,
   "id": "15e9caf6",
   "metadata": {},
   "outputs": [],
   "source": [
    "profiles = []\n",
    "\n",
    "for link in links:\n",
    "    print(link)\n",
    "    url = 'https://ascor.uva.nl' + link\n",
    "    r = requests.get(url)\n",
    "    soup = BeautifulSoup(r.content) \n",
    "    name = soup.find(class_=\"c-profile__name\").get_text()\n",
    "    summary = soup.find(class_=\"c-profile__summary\").get_text()\n",
    "#    profile = soup.find(id=\"Profile\").get_text()\n",
    "    divs = soup.find_all('div', class_=\"c-profile__list\")\n",
    "    email = divs[1].find_all('li')[0].get_text()\n",
    "    \n",
    "    profile = {} \n",
    "    profile['name'] = name\n",
    "    profile['summary'] = summary\n",
    "#     profile['profile'] = profile\n",
    "    profile['email'] = email\n",
    "    profiles.append(profile) "
   ]
  },
  {
   "cell_type": "code",
   "execution_count": null,
   "id": "122eae1c",
   "metadata": {},
   "outputs": [],
   "source": [
    "profiles = []\n",
    "\n",
    "for link in links:\n",
    "    print(link)\n",
    "    url = 'https://ascor.uva.nl' + link\n",
    "    r = requests.get(url)\n",
    "    soup = BeautifulSoup(r.content) \n",
    "    name = soup.find(class_=\"c-profile__name\").get_text()\n",
    "    summary = soup.find(class_=\"c-profile__summary\").get_text()\n",
    "    try:\n",
    "        profile_text = soup.find(id=\"Profile\").get_text()\n",
    "    except:\n",
    "        profile_text = np.nan\n",
    "    divs = soup.find_all('div', class_=\"c-profile__list\")\n",
    "    try:\n",
    "        email = divs[1].find_all('li')[0].get_text()\n",
    "    except:\n",
    "        email = np.nan\n",
    "    \n",
    "    profile = {} \n",
    "    profile['name'] = name\n",
    "    profile['summary'] = summary\n",
    "    profile['profile_text'] = profile_text\n",
    "    profile['email'] = email\n",
    "    profiles.append(profile) "
   ]
  },
  {
   "cell_type": "code",
   "execution_count": null,
   "id": "db0e8c1d",
   "metadata": {},
   "outputs": [],
   "source": [
    "df = pd.DataFrame(profiles)"
   ]
  },
  {
   "cell_type": "code",
   "execution_count": null,
   "id": "4febe195",
   "metadata": {},
   "outputs": [],
   "source": [
    "df"
   ]
  },
  {
   "cell_type": "code",
   "execution_count": null,
   "id": "a7ff0b4c",
   "metadata": {},
   "outputs": [],
   "source": [
    "df.to_csv('profiles.csv')"
   ]
  },
  {
   "cell_type": "code",
   "execution_count": null,
   "id": "328cb381",
   "metadata": {},
   "outputs": [],
   "source": [
    "df.to_json('profiles.json', orient='records', lines=True)"
   ]
  },
  {
   "cell_type": "markdown",
   "id": "431264f5",
   "metadata": {},
   "source": [
    "### Exercise\n",
    "\n",
    "Get the full text of all the news item here: https://ascor.uva.nl/news/newslist.html"
   ]
  },
  {
   "cell_type": "code",
   "execution_count": null,
   "id": "4f11a935",
   "metadata": {},
   "outputs": [],
   "source": []
  }
 ],
 "metadata": {
  "kernelspec": {
   "display_name": "Python 3 (ipykernel)",
   "language": "python",
   "name": "python3"
  },
  "language_info": {
   "codemirror_mode": {
    "name": "ipython",
    "version": 3
   },
   "file_extension": ".py",
   "mimetype": "text/x-python",
   "name": "python",
   "nbconvert_exporter": "python",
   "pygments_lexer": "ipython3",
   "version": "3.9.18"
  }
 },
 "nbformat": 4,
 "nbformat_minor": 5
}

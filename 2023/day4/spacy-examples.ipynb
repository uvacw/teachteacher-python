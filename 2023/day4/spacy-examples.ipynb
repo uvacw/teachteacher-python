{
 "cells": [
  {
   "cell_type": "markdown",
   "id": "e640e703",
   "metadata": {},
   "source": [
    "# Short Spacy demo\n",
    "\n",
    "\n",
    "import `spacy` and load the language model that fits your needs.\n",
    "[here](https://spacy.io/usage) you can find recommendations that fit your operating system/ type of tasks.\n"
   ]
  },
  {
   "cell_type": "code",
   "execution_count": null,
   "id": "f3dc7968",
   "metadata": {},
   "outputs": [],
   "source": [
    "!pip install -U pip setuptools wheel\n",
    "!pip install -U spacy\n",
    "!python -m spacy download en_core_web_sm"
   ]
  },
  {
   "cell_type": "code",
   "execution_count": 119,
   "id": "8be88c09",
   "metadata": {},
   "outputs": [],
   "source": [
    "import spacy \n",
    "from spacy import displacy\n",
    "nlp = spacy.load(\"en_core_web_sm\")"
   ]
  },
  {
   "cell_type": "markdown",
   "id": "3a3482e1",
   "metadata": {},
   "source": [
    "## Exploring Spacy"
   ]
  },
  {
   "cell_type": "code",
   "execution_count": 85,
   "id": "cd64511e",
   "metadata": {},
   "outputs": [],
   "source": [
    "text ='''Mannheim, officially the University City of Mannheim (German: Universitätsstadt Mannheim), is the second-largest city in the German state of Baden-Württemberg after the state capital of Stuttgart, and Germany's 21st-largest city, with a 2020 population of 309,119 inhabitants.[5] The city is the cultural and economic centre of the Rhine-Neckar Metropolitan Region, Germany's seventh-largest metropolitan region with nearly 2.4 million inhabitants and over 900,000 employees.[6]\n",
    "Mannheim is located at the confluence of the Rhine and the Neckar in the Kurpfalz (Electoral Palatinate) region of northwestern Baden-Württemberg. The city lies in the Upper Rhine Plain, Germany's warmest region. Together with Hamburg, Mannheim is the only city bordering two other federal states. It forms a continuous conurbation of around 480,000 inhabitants with Ludwigshafen am Rhein in the neighbouring state of Rhineland-Palatinate, on the other side of the Rhine. Some northern suburbs of Mannheim belong to Hesse. Upstream along the Neckar lies Heidelberg, the fifth-largest city of Baden-Württemberg and the third-largest of the Rhine-Neckar Region.\n",
    "Mannheim is unusual among German cities in that the city center's streets and avenues are laid out in a grid pattern, leading to its nickname Quadratestadt (Square City). Within a ring of avenues surrounding the city centre, there are squares numbered from A1 to U6 instead of street names. At the southern base of that system sits Mannheim Palace, one of the largest palace complexes in the world, and the second-largest in Baroque style after Versailles. It was the former home of the Prince-elector of the Electoral Palatinate, and now houses the University of Mannheim, which repeatedly receives top marks in business administration and is sometimes known as the \"Harvard of Germany\".[7][8][9] \n",
    "The Mannheim May Market is the largest regional consumer exhibition of Germany.[10] \n",
    "The civic symbol of Mannheim is the Romanesque Mannheim Water Tower, completed in 1886 and rising to 60 metres (200 feet) above the highest point of the art nouveau area Friedrichsplatz. Mannheim is well-known for its inventions, including the automobile,[11][12] the bicycle,[13][12] and the tractor,[12] which is why the city is often called the \"city of inventions\".[14][15][16] The city is the starting and finishing point of the Bertha Benz Memorial Route that follows the tracks of the first long-distance automobile trip in history.'''\n"
   ]
  },
  {
   "cell_type": "markdown",
   "id": "398e7a98",
   "metadata": {},
   "source": [
    "Create a an `nlp` object: this is often referred to as the `doc container`. This containers has a lot of information stored inside..."
   ]
  },
  {
   "cell_type": "code",
   "execution_count": 86,
   "id": "5cf0b36d",
   "metadata": {},
   "outputs": [],
   "source": [
    "doc = nlp(text)"
   ]
  },
  {
   "cell_type": "markdown",
   "id": "baa3fe68",
   "metadata": {},
   "source": [
    "let's inspect what is inside..."
   ]
  },
  {
   "cell_type": "code",
   "execution_count": 42,
   "id": "f219be5b",
   "metadata": {},
   "outputs": [
    {
     "name": "stdout",
     "output_type": "stream",
     "text": [
      "Mannheim, officially the University City of Mannheim (German: Universitätsstadt Mannheim), is the second-largest city in the German state of Baden-Württemberg after the state capital of Stuttgart, and Germany's 21st-largest city, with a 2020 population of 309,119 inhabitants.[5] The city is the cultural and economic centre of the Rhine-Neckar Metropolitan Region, Germany's seventh-largest metropolitan region with nearly 2.4 million inhabitants and over 900,000 employees.[6]\n",
      "Mannheim is located at the confluence of the Rhine and the Neckar in the Kurpfalz (Electoral Palatinate) region of northwestern Baden-Württemberg. The city lies in the Upper Rhine Plain, Germany's warmest region. Together with Hamburg, Mannheim is the only city bordering two other federal states. It forms a continuous conurbation of around 480,000 inhabitants with Ludwigshafen am Rhein in the neighbouring state of Rhineland-Palatinate, on the other side of the Rhine. Some northern suburbs of Mannheim belong to Hesse. Upstream along the Neckar lies Heidelberg, the fifth-largest city of Baden-Württemberg and the third-largest of the Rhine-Neckar Region.\n",
      "Mannheim is unusual among German cities in that the city center's streets and avenues are laid out in a grid pattern, leading to its nickname Quadratestadt (Square City). Within a ring of avenues surrounding the city centre, there are squares numbered from A1 to U6 instead of street names. At the southern base of that system sits Mannheim Palace, one of the largest palace complexes in the world, and the second-largest in Baroque style after Versailles. It was the former home of the Prince-elector of the Electoral Palatinate, and now houses the University of Mannheim, which repeatedly receives top marks in business administration and is sometimes known as the \"Harvard of Germany\".[7][8][9] \n",
      "The Mannheim May Market is the largest regional consumer exhibition of Germany.[10] \n",
      "The civic symbol of Mannheim is the Romanesque Mannheim Water Tower, completed in 1886 and rising to 60 metres (200 feet) above the highest point of the art nouveau area Friedrichsplatz. Mannheim is well-known for its inventions, including the automobile,[11][12] the bicycle,[13][12] and the tractor,[12] which is why the city is often called the \"city of inventions\".[14][15][16] The city is the starting and finishing point of the Bertha Benz Memorial Route that follows the tracks of the first long-distance automobile trip in history.\n"
     ]
    }
   ],
   "source": [
    "print(doc)"
   ]
  },
  {
   "cell_type": "code",
   "execution_count": 93,
   "id": "a8d309b2",
   "metadata": {},
   "outputs": [
    {
     "name": "stdout",
     "output_type": "stream",
     "text": [
      "The length of the original str is: 2462\n",
      "The length of the doc container object is: 452\n"
     ]
    }
   ],
   "source": [
    "print(f\"The length of the original str is: {len(text)}\")\n",
    "print(f\"The length of the doc container object is: {len(doc)}\")"
   ]
  },
  {
   "cell_type": "markdown",
   "id": "e6a1adb7",
   "metadata": {},
   "source": [
    "Inspect what is in the `doc` container"
   ]
  },
  {
   "cell_type": "code",
   "execution_count": 98,
   "id": "c1101fe2",
   "metadata": {},
   "outputs": [
    {
     "data": {
      "text/plain": [
       "[Mannheim, ,, officially, the, University, City, of, Mannheim, (, German]"
      ]
     },
     "execution_count": 98,
     "metadata": {},
     "output_type": "execute_result"
    }
   ],
   "source": [
    "[e for e in doc][:10] #prints all first 10 elements in the doc container"
   ]
  },
  {
   "cell_type": "code",
   "execution_count": 101,
   "id": "33404dff",
   "metadata": {},
   "outputs": [],
   "source": [
    "f = doc[0]"
   ]
  },
  {
   "cell_type": "code",
   "execution_count": 103,
   "id": "ce082db2",
   "metadata": {},
   "outputs": [
    {
     "data": {
      "text/plain": [
       "'GPE'"
      ]
     },
     "execution_count": 103,
     "metadata": {},
     "output_type": "execute_result"
    }
   ],
   "source": [
    "f.ent_type_ # use tab completion to get an overview of the associated methods"
   ]
  },
  {
   "cell_type": "code",
   "execution_count": 105,
   "id": "fc923489",
   "metadata": {},
   "outputs": [
    {
     "data": {
      "text/plain": [
       "'Countries, cities, states'"
      ]
     },
     "execution_count": 105,
     "metadata": {},
     "output_type": "execute_result"
    }
   ],
   "source": [
    "spacy.explain('GPE') #ask spacy what this GPE means"
   ]
  },
  {
   "cell_type": "code",
   "execution_count": 117,
   "id": "efe49dc8",
   "metadata": {},
   "outputs": [
    {
     "name": "stdout",
     "output_type": "stream",
     "text": [
      "Lets inspect the results!!\n",
      "\n",
      "\n",
      "tokenized:\n",
      "\n",
      "['Mannheim', ',', 'officially', 'the', 'University', 'City', 'of', 'Mannheim', '(', 'german', ':', 'Universitätsstadt', 'Mannheim', ')', ',', 'be', 'the', 'second', '-', 'large', 'city', 'in', 'the', 'german', 'state']\n",
      "\n",
      "\n",
      "original: \n",
      "\n",
      "['Mannheim,', 'officially', 'the', 'University', 'City', 'of', 'Mannheim', '(German:', 'Universitätsstadt', 'Mannheim),', 'is', 'the', 'second-largest', 'city', 'in', 'the', 'German', 'state', 'of', 'Baden-Württemberg', 'after', 'the', 'state', 'capital', 'of']\n"
     ]
    }
   ],
   "source": [
    "lemmatized_docs = [token.lemma_ for token in doc]\n",
    "print(\"Lets inspect the results!!\\n\\n\")\n",
    "print(f\"tokenized:\\n\\n{lemmatized_docs[:25]}\\n\\n\") \n",
    "print(f\"original: \\n\\n{text.split()[:25]}\")"
   ]
  },
  {
   "cell_type": "markdown",
   "id": "24df1a9a",
   "metadata": {},
   "source": [
    "## Entities"
   ]
  },
  {
   "cell_type": "code",
   "execution_count": 118,
   "id": "7fb265c9",
   "metadata": {},
   "outputs": [
    {
     "data": {
      "text/plain": [
       "[(Mannheim, spacy.tokens.span.Span),\n",
       " (University City, spacy.tokens.span.Span),\n",
       " (Mannheim, spacy.tokens.span.Span),\n",
       " (German, spacy.tokens.span.Span),\n",
       " (Universitätsstadt Mannheim, spacy.tokens.span.Span),\n",
       " (second, spacy.tokens.span.Span),\n",
       " (German, spacy.tokens.span.Span),\n",
       " (Baden-Württemberg, spacy.tokens.span.Span),\n",
       " (Stuttgart, spacy.tokens.span.Span),\n",
       " (Germany, spacy.tokens.span.Span),\n",
       " (21st, spacy.tokens.span.Span),\n",
       " (2020, spacy.tokens.span.Span),\n",
       " (309,119, spacy.tokens.span.Span),\n",
       " (Germany, spacy.tokens.span.Span),\n",
       " (seventh, spacy.tokens.span.Span),\n",
       " (nearly 2.4 million, spacy.tokens.span.Span),\n",
       " (over 900,000, spacy.tokens.span.Span),\n",
       " (Mannheim, spacy.tokens.span.Span),\n",
       " (Rhine, spacy.tokens.span.Span),\n",
       " (Neckar, spacy.tokens.span.Span),\n",
       " (Kurpfalz, spacy.tokens.span.Span),\n",
       " (Baden-Württemberg, spacy.tokens.span.Span),\n",
       " (the Upper Rhine Plain, spacy.tokens.span.Span),\n",
       " (Germany, spacy.tokens.span.Span),\n",
       " (Hamburg, spacy.tokens.span.Span),\n",
       " (Mannheim, spacy.tokens.span.Span),\n",
       " (two, spacy.tokens.span.Span),\n",
       " (around 480,000, spacy.tokens.span.Span),\n",
       " (Ludwigshafen am Rhein, spacy.tokens.span.Span),\n",
       " (Rhineland-Palatinate, spacy.tokens.span.Span),\n",
       " (Rhine, spacy.tokens.span.Span),\n",
       " (Mannheim, spacy.tokens.span.Span),\n",
       " (Hesse, spacy.tokens.span.Span),\n",
       " (Neckar, spacy.tokens.span.Span),\n",
       " (Heidelberg, spacy.tokens.span.Span),\n",
       " (fifth, spacy.tokens.span.Span),\n",
       " (Baden-Württemberg, spacy.tokens.span.Span),\n",
       " (third, spacy.tokens.span.Span),\n",
       " (Mannheim, spacy.tokens.span.Span),\n",
       " (German, spacy.tokens.span.Span),\n",
       " (Quadratestadt, spacy.tokens.span.Span),\n",
       " (A1, spacy.tokens.span.Span),\n",
       " (Mannheim Palace, spacy.tokens.span.Span),\n",
       " (one, spacy.tokens.span.Span),\n",
       " (second, spacy.tokens.span.Span),\n",
       " (Baroque, spacy.tokens.span.Span),\n",
       " (Versailles, spacy.tokens.span.Span),\n",
       " (the Electoral Palatinate, spacy.tokens.span.Span),\n",
       " (the University of Mannheim, spacy.tokens.span.Span),\n",
       " (Harvard of Germany\".[7][8][9] , spacy.tokens.span.Span),\n",
       " (Mannheim, spacy.tokens.span.Span),\n",
       " (the Romanesque Mannheim Water Tower, spacy.tokens.span.Span),\n",
       " (1886, spacy.tokens.span.Span),\n",
       " (60 metres, spacy.tokens.span.Span),\n",
       " (200 feet, spacy.tokens.span.Span),\n",
       " (Friedrichsplatz, spacy.tokens.span.Span),\n",
       " (Mannheim, spacy.tokens.span.Span),\n",
       " (the Bertha Benz Memorial Route, spacy.tokens.span.Span),\n",
       " (first, spacy.tokens.span.Span)]"
      ]
     },
     "execution_count": 118,
     "metadata": {},
     "output_type": "execute_result"
    }
   ],
   "source": [
    "[(e, type(e)) for e in doc.ents] #this gives you all the entities inside the doc container"
   ]
  },
  {
   "cell_type": "code",
   "execution_count": 120,
   "id": "8b5822ca",
   "metadata": {},
   "outputs": [
    {
     "data": {
      "text/html": [
       "<span class=\"tex2jax_ignore\"><div class=\"entities\" style=\"line-height: 2.5; direction: ltr\">\n",
       "<mark class=\"entity\" style=\"background: #feca74; padding: 0.45em 0.6em; margin: 0 0.25em; line-height: 1; border-radius: 0.35em;\">\n",
       "    Mannheim\n",
       "    <span style=\"font-size: 0.8em; font-weight: bold; line-height: 1; border-radius: 0.35em; vertical-align: middle; margin-left: 0.5rem\">GPE</span>\n",
       "</mark>\n",
       ", officially the \n",
       "<mark class=\"entity\" style=\"background: #feca74; padding: 0.45em 0.6em; margin: 0 0.25em; line-height: 1; border-radius: 0.35em;\">\n",
       "    University City\n",
       "    <span style=\"font-size: 0.8em; font-weight: bold; line-height: 1; border-radius: 0.35em; vertical-align: middle; margin-left: 0.5rem\">GPE</span>\n",
       "</mark>\n",
       " of \n",
       "<mark class=\"entity\" style=\"background: #feca74; padding: 0.45em 0.6em; margin: 0 0.25em; line-height: 1; border-radius: 0.35em;\">\n",
       "    Mannheim\n",
       "    <span style=\"font-size: 0.8em; font-weight: bold; line-height: 1; border-radius: 0.35em; vertical-align: middle; margin-left: 0.5rem\">GPE</span>\n",
       "</mark>\n",
       " (\n",
       "<mark class=\"entity\" style=\"background: #c887fb; padding: 0.45em 0.6em; margin: 0 0.25em; line-height: 1; border-radius: 0.35em;\">\n",
       "    German\n",
       "    <span style=\"font-size: 0.8em; font-weight: bold; line-height: 1; border-radius: 0.35em; vertical-align: middle; margin-left: 0.5rem\">NORP</span>\n",
       "</mark>\n",
       ": \n",
       "<mark class=\"entity\" style=\"background: #7aecec; padding: 0.45em 0.6em; margin: 0 0.25em; line-height: 1; border-radius: 0.35em;\">\n",
       "    Universitätsstadt Mannheim\n",
       "    <span style=\"font-size: 0.8em; font-weight: bold; line-height: 1; border-radius: 0.35em; vertical-align: middle; margin-left: 0.5rem\">ORG</span>\n",
       "</mark>\n",
       "), is the \n",
       "<mark class=\"entity\" style=\"background: #e4e7d2; padding: 0.45em 0.6em; margin: 0 0.25em; line-height: 1; border-radius: 0.35em;\">\n",
       "    second\n",
       "    <span style=\"font-size: 0.8em; font-weight: bold; line-height: 1; border-radius: 0.35em; vertical-align: middle; margin-left: 0.5rem\">ORDINAL</span>\n",
       "</mark>\n",
       "-largest city in the \n",
       "<mark class=\"entity\" style=\"background: #c887fb; padding: 0.45em 0.6em; margin: 0 0.25em; line-height: 1; border-radius: 0.35em;\">\n",
       "    German\n",
       "    <span style=\"font-size: 0.8em; font-weight: bold; line-height: 1; border-radius: 0.35em; vertical-align: middle; margin-left: 0.5rem\">NORP</span>\n",
       "</mark>\n",
       " state of \n",
       "<mark class=\"entity\" style=\"background: #feca74; padding: 0.45em 0.6em; margin: 0 0.25em; line-height: 1; border-radius: 0.35em;\">\n",
       "    Baden-Württemberg\n",
       "    <span style=\"font-size: 0.8em; font-weight: bold; line-height: 1; border-radius: 0.35em; vertical-align: middle; margin-left: 0.5rem\">GPE</span>\n",
       "</mark>\n",
       " after the state capital of \n",
       "<mark class=\"entity\" style=\"background: #feca74; padding: 0.45em 0.6em; margin: 0 0.25em; line-height: 1; border-radius: 0.35em;\">\n",
       "    Stuttgart\n",
       "    <span style=\"font-size: 0.8em; font-weight: bold; line-height: 1; border-radius: 0.35em; vertical-align: middle; margin-left: 0.5rem\">GPE</span>\n",
       "</mark>\n",
       ", and \n",
       "<mark class=\"entity\" style=\"background: #feca74; padding: 0.45em 0.6em; margin: 0 0.25em; line-height: 1; border-radius: 0.35em;\">\n",
       "    Germany\n",
       "    <span style=\"font-size: 0.8em; font-weight: bold; line-height: 1; border-radius: 0.35em; vertical-align: middle; margin-left: 0.5rem\">GPE</span>\n",
       "</mark>\n",
       "'s \n",
       "<mark class=\"entity\" style=\"background: #e4e7d2; padding: 0.45em 0.6em; margin: 0 0.25em; line-height: 1; border-radius: 0.35em;\">\n",
       "    21st\n",
       "    <span style=\"font-size: 0.8em; font-weight: bold; line-height: 1; border-radius: 0.35em; vertical-align: middle; margin-left: 0.5rem\">ORDINAL</span>\n",
       "</mark>\n",
       "-largest city, with a \n",
       "<mark class=\"entity\" style=\"background: #bfe1d9; padding: 0.45em 0.6em; margin: 0 0.25em; line-height: 1; border-radius: 0.35em;\">\n",
       "    2020\n",
       "    <span style=\"font-size: 0.8em; font-weight: bold; line-height: 1; border-radius: 0.35em; vertical-align: middle; margin-left: 0.5rem\">DATE</span>\n",
       "</mark>\n",
       " population of \n",
       "<mark class=\"entity\" style=\"background: #e4e7d2; padding: 0.45em 0.6em; margin: 0 0.25em; line-height: 1; border-radius: 0.35em;\">\n",
       "    309,119\n",
       "    <span style=\"font-size: 0.8em; font-weight: bold; line-height: 1; border-radius: 0.35em; vertical-align: middle; margin-left: 0.5rem\">CARDINAL</span>\n",
       "</mark>\n",
       " inhabitants.[5] The city is the cultural and economic centre of the Rhine-Neckar Metropolitan Region, \n",
       "<mark class=\"entity\" style=\"background: #feca74; padding: 0.45em 0.6em; margin: 0 0.25em; line-height: 1; border-radius: 0.35em;\">\n",
       "    Germany\n",
       "    <span style=\"font-size: 0.8em; font-weight: bold; line-height: 1; border-radius: 0.35em; vertical-align: middle; margin-left: 0.5rem\">GPE</span>\n",
       "</mark>\n",
       "'s \n",
       "<mark class=\"entity\" style=\"background: #e4e7d2; padding: 0.45em 0.6em; margin: 0 0.25em; line-height: 1; border-radius: 0.35em;\">\n",
       "    seventh\n",
       "    <span style=\"font-size: 0.8em; font-weight: bold; line-height: 1; border-radius: 0.35em; vertical-align: middle; margin-left: 0.5rem\">ORDINAL</span>\n",
       "</mark>\n",
       "-largest metropolitan region with \n",
       "<mark class=\"entity\" style=\"background: #e4e7d2; padding: 0.45em 0.6em; margin: 0 0.25em; line-height: 1; border-radius: 0.35em;\">\n",
       "    nearly 2.4 million\n",
       "    <span style=\"font-size: 0.8em; font-weight: bold; line-height: 1; border-radius: 0.35em; vertical-align: middle; margin-left: 0.5rem\">CARDINAL</span>\n",
       "</mark>\n",
       " inhabitants and \n",
       "<mark class=\"entity\" style=\"background: #e4e7d2; padding: 0.45em 0.6em; margin: 0 0.25em; line-height: 1; border-radius: 0.35em;\">\n",
       "    over 900,000\n",
       "    <span style=\"font-size: 0.8em; font-weight: bold; line-height: 1; border-radius: 0.35em; vertical-align: middle; margin-left: 0.5rem\">CARDINAL</span>\n",
       "</mark>\n",
       " employees.[6]</br>\n",
       "<mark class=\"entity\" style=\"background: #feca74; padding: 0.45em 0.6em; margin: 0 0.25em; line-height: 1; border-radius: 0.35em;\">\n",
       "    Mannheim\n",
       "    <span style=\"font-size: 0.8em; font-weight: bold; line-height: 1; border-radius: 0.35em; vertical-align: middle; margin-left: 0.5rem\">GPE</span>\n",
       "</mark>\n",
       " is located at the confluence of the \n",
       "<mark class=\"entity\" style=\"background: #aa9cfc; padding: 0.45em 0.6em; margin: 0 0.25em; line-height: 1; border-radius: 0.35em;\">\n",
       "    Rhine\n",
       "    <span style=\"font-size: 0.8em; font-weight: bold; line-height: 1; border-radius: 0.35em; vertical-align: middle; margin-left: 0.5rem\">PERSON</span>\n",
       "</mark>\n",
       " and the \n",
       "<mark class=\"entity\" style=\"background: #aa9cfc; padding: 0.45em 0.6em; margin: 0 0.25em; line-height: 1; border-radius: 0.35em;\">\n",
       "    Neckar\n",
       "    <span style=\"font-size: 0.8em; font-weight: bold; line-height: 1; border-radius: 0.35em; vertical-align: middle; margin-left: 0.5rem\">PERSON</span>\n",
       "</mark>\n",
       " in the \n",
       "<mark class=\"entity\" style=\"background: #7aecec; padding: 0.45em 0.6em; margin: 0 0.25em; line-height: 1; border-radius: 0.35em;\">\n",
       "    Kurpfalz\n",
       "    <span style=\"font-size: 0.8em; font-weight: bold; line-height: 1; border-radius: 0.35em; vertical-align: middle; margin-left: 0.5rem\">ORG</span>\n",
       "</mark>\n",
       " (Electoral Palatinate) region of northwestern \n",
       "<mark class=\"entity\" style=\"background: #feca74; padding: 0.45em 0.6em; margin: 0 0.25em; line-height: 1; border-radius: 0.35em;\">\n",
       "    Baden-Württemberg\n",
       "    <span style=\"font-size: 0.8em; font-weight: bold; line-height: 1; border-radius: 0.35em; vertical-align: middle; margin-left: 0.5rem\">GPE</span>\n",
       "</mark>\n",
       ". The city lies in \n",
       "<mark class=\"entity\" style=\"background: #ff9561; padding: 0.45em 0.6em; margin: 0 0.25em; line-height: 1; border-radius: 0.35em;\">\n",
       "    the Upper Rhine Plain\n",
       "    <span style=\"font-size: 0.8em; font-weight: bold; line-height: 1; border-radius: 0.35em; vertical-align: middle; margin-left: 0.5rem\">LOC</span>\n",
       "</mark>\n",
       ", \n",
       "<mark class=\"entity\" style=\"background: #feca74; padding: 0.45em 0.6em; margin: 0 0.25em; line-height: 1; border-radius: 0.35em;\">\n",
       "    Germany\n",
       "    <span style=\"font-size: 0.8em; font-weight: bold; line-height: 1; border-radius: 0.35em; vertical-align: middle; margin-left: 0.5rem\">GPE</span>\n",
       "</mark>\n",
       "'s warmest region. Together with \n",
       "<mark class=\"entity\" style=\"background: #feca74; padding: 0.45em 0.6em; margin: 0 0.25em; line-height: 1; border-radius: 0.35em;\">\n",
       "    Hamburg\n",
       "    <span style=\"font-size: 0.8em; font-weight: bold; line-height: 1; border-radius: 0.35em; vertical-align: middle; margin-left: 0.5rem\">GPE</span>\n",
       "</mark>\n",
       ", \n",
       "<mark class=\"entity\" style=\"background: #feca74; padding: 0.45em 0.6em; margin: 0 0.25em; line-height: 1; border-radius: 0.35em;\">\n",
       "    Mannheim\n",
       "    <span style=\"font-size: 0.8em; font-weight: bold; line-height: 1; border-radius: 0.35em; vertical-align: middle; margin-left: 0.5rem\">GPE</span>\n",
       "</mark>\n",
       " is the only city bordering \n",
       "<mark class=\"entity\" style=\"background: #e4e7d2; padding: 0.45em 0.6em; margin: 0 0.25em; line-height: 1; border-radius: 0.35em;\">\n",
       "    two\n",
       "    <span style=\"font-size: 0.8em; font-weight: bold; line-height: 1; border-radius: 0.35em; vertical-align: middle; margin-left: 0.5rem\">CARDINAL</span>\n",
       "</mark>\n",
       " other federal states. It forms a continuous conurbation of \n",
       "<mark class=\"entity\" style=\"background: #e4e7d2; padding: 0.45em 0.6em; margin: 0 0.25em; line-height: 1; border-radius: 0.35em;\">\n",
       "    around 480,000\n",
       "    <span style=\"font-size: 0.8em; font-weight: bold; line-height: 1; border-radius: 0.35em; vertical-align: middle; margin-left: 0.5rem\">CARDINAL</span>\n",
       "</mark>\n",
       " inhabitants with \n",
       "<mark class=\"entity\" style=\"background: #aa9cfc; padding: 0.45em 0.6em; margin: 0 0.25em; line-height: 1; border-radius: 0.35em;\">\n",
       "    Ludwigshafen am Rhein\n",
       "    <span style=\"font-size: 0.8em; font-weight: bold; line-height: 1; border-radius: 0.35em; vertical-align: middle; margin-left: 0.5rem\">PERSON</span>\n",
       "</mark>\n",
       " in the neighbouring state of \n",
       "<mark class=\"entity\" style=\"background: #7aecec; padding: 0.45em 0.6em; margin: 0 0.25em; line-height: 1; border-radius: 0.35em;\">\n",
       "    Rhineland-Palatinate\n",
       "    <span style=\"font-size: 0.8em; font-weight: bold; line-height: 1; border-radius: 0.35em; vertical-align: middle; margin-left: 0.5rem\">ORG</span>\n",
       "</mark>\n",
       ", on the other side of the \n",
       "<mark class=\"entity\" style=\"background: #feca74; padding: 0.45em 0.6em; margin: 0 0.25em; line-height: 1; border-radius: 0.35em;\">\n",
       "    Rhine\n",
       "    <span style=\"font-size: 0.8em; font-weight: bold; line-height: 1; border-radius: 0.35em; vertical-align: middle; margin-left: 0.5rem\">GPE</span>\n",
       "</mark>\n",
       ". Some northern suburbs of \n",
       "<mark class=\"entity\" style=\"background: #feca74; padding: 0.45em 0.6em; margin: 0 0.25em; line-height: 1; border-radius: 0.35em;\">\n",
       "    Mannheim\n",
       "    <span style=\"font-size: 0.8em; font-weight: bold; line-height: 1; border-radius: 0.35em; vertical-align: middle; margin-left: 0.5rem\">GPE</span>\n",
       "</mark>\n",
       " belong to \n",
       "<mark class=\"entity\" style=\"background: #feca74; padding: 0.45em 0.6em; margin: 0 0.25em; line-height: 1; border-radius: 0.35em;\">\n",
       "    Hesse\n",
       "    <span style=\"font-size: 0.8em; font-weight: bold; line-height: 1; border-radius: 0.35em; vertical-align: middle; margin-left: 0.5rem\">GPE</span>\n",
       "</mark>\n",
       ". Upstream along the \n",
       "<mark class=\"entity\" style=\"background: #aa9cfc; padding: 0.45em 0.6em; margin: 0 0.25em; line-height: 1; border-radius: 0.35em;\">\n",
       "    Neckar\n",
       "    <span style=\"font-size: 0.8em; font-weight: bold; line-height: 1; border-radius: 0.35em; vertical-align: middle; margin-left: 0.5rem\">PERSON</span>\n",
       "</mark>\n",
       " lies \n",
       "<mark class=\"entity\" style=\"background: #feca74; padding: 0.45em 0.6em; margin: 0 0.25em; line-height: 1; border-radius: 0.35em;\">\n",
       "    Heidelberg\n",
       "    <span style=\"font-size: 0.8em; font-weight: bold; line-height: 1; border-radius: 0.35em; vertical-align: middle; margin-left: 0.5rem\">GPE</span>\n",
       "</mark>\n",
       ", the \n",
       "<mark class=\"entity\" style=\"background: #e4e7d2; padding: 0.45em 0.6em; margin: 0 0.25em; line-height: 1; border-radius: 0.35em;\">\n",
       "    fifth\n",
       "    <span style=\"font-size: 0.8em; font-weight: bold; line-height: 1; border-radius: 0.35em; vertical-align: middle; margin-left: 0.5rem\">ORDINAL</span>\n",
       "</mark>\n",
       "-largest city of \n",
       "<mark class=\"entity\" style=\"background: #feca74; padding: 0.45em 0.6em; margin: 0 0.25em; line-height: 1; border-radius: 0.35em;\">\n",
       "    Baden-Württemberg\n",
       "    <span style=\"font-size: 0.8em; font-weight: bold; line-height: 1; border-radius: 0.35em; vertical-align: middle; margin-left: 0.5rem\">GPE</span>\n",
       "</mark>\n",
       " and the \n",
       "<mark class=\"entity\" style=\"background: #e4e7d2; padding: 0.45em 0.6em; margin: 0 0.25em; line-height: 1; border-radius: 0.35em;\">\n",
       "    third\n",
       "    <span style=\"font-size: 0.8em; font-weight: bold; line-height: 1; border-radius: 0.35em; vertical-align: middle; margin-left: 0.5rem\">ORDINAL</span>\n",
       "</mark>\n",
       "-largest of the Rhine-Neckar Region.</br>\n",
       "<mark class=\"entity\" style=\"background: #aa9cfc; padding: 0.45em 0.6em; margin: 0 0.25em; line-height: 1; border-radius: 0.35em;\">\n",
       "    Mannheim\n",
       "    <span style=\"font-size: 0.8em; font-weight: bold; line-height: 1; border-radius: 0.35em; vertical-align: middle; margin-left: 0.5rem\">PERSON</span>\n",
       "</mark>\n",
       " is unusual among \n",
       "<mark class=\"entity\" style=\"background: #c887fb; padding: 0.45em 0.6em; margin: 0 0.25em; line-height: 1; border-radius: 0.35em;\">\n",
       "    German\n",
       "    <span style=\"font-size: 0.8em; font-weight: bold; line-height: 1; border-radius: 0.35em; vertical-align: middle; margin-left: 0.5rem\">NORP</span>\n",
       "</mark>\n",
       " cities in that the city center's streets and avenues are laid out in a grid pattern, leading to its nickname \n",
       "<mark class=\"entity\" style=\"background: #feca74; padding: 0.45em 0.6em; margin: 0 0.25em; line-height: 1; border-radius: 0.35em;\">\n",
       "    Quadratestadt\n",
       "    <span style=\"font-size: 0.8em; font-weight: bold; line-height: 1; border-radius: 0.35em; vertical-align: middle; margin-left: 0.5rem\">GPE</span>\n",
       "</mark>\n",
       " (Square City). Within a ring of avenues surrounding the city centre, there are squares numbered from \n",
       "<mark class=\"entity\" style=\"background: #e4e7d2; padding: 0.45em 0.6em; margin: 0 0.25em; line-height: 1; border-radius: 0.35em;\">\n",
       "    A1\n",
       "    <span style=\"font-size: 0.8em; font-weight: bold; line-height: 1; border-radius: 0.35em; vertical-align: middle; margin-left: 0.5rem\">CARDINAL</span>\n",
       "</mark>\n",
       " to U6 instead of street names. At the southern base of that system sits \n",
       "<mark class=\"entity\" style=\"background: #ddd; padding: 0.45em 0.6em; margin: 0 0.25em; line-height: 1; border-radius: 0.35em;\">\n",
       "    Mannheim Palace\n",
       "    <span style=\"font-size: 0.8em; font-weight: bold; line-height: 1; border-radius: 0.35em; vertical-align: middle; margin-left: 0.5rem\">FAC</span>\n",
       "</mark>\n",
       ", \n",
       "<mark class=\"entity\" style=\"background: #e4e7d2; padding: 0.45em 0.6em; margin: 0 0.25em; line-height: 1; border-radius: 0.35em;\">\n",
       "    one\n",
       "    <span style=\"font-size: 0.8em; font-weight: bold; line-height: 1; border-radius: 0.35em; vertical-align: middle; margin-left: 0.5rem\">CARDINAL</span>\n",
       "</mark>\n",
       " of the largest palace complexes in the world, and the \n",
       "<mark class=\"entity\" style=\"background: #e4e7d2; padding: 0.45em 0.6em; margin: 0 0.25em; line-height: 1; border-radius: 0.35em;\">\n",
       "    second\n",
       "    <span style=\"font-size: 0.8em; font-weight: bold; line-height: 1; border-radius: 0.35em; vertical-align: middle; margin-left: 0.5rem\">ORDINAL</span>\n",
       "</mark>\n",
       "-largest in \n",
       "<mark class=\"entity\" style=\"background: #7aecec; padding: 0.45em 0.6em; margin: 0 0.25em; line-height: 1; border-radius: 0.35em;\">\n",
       "    Baroque\n",
       "    <span style=\"font-size: 0.8em; font-weight: bold; line-height: 1; border-radius: 0.35em; vertical-align: middle; margin-left: 0.5rem\">ORG</span>\n",
       "</mark>\n",
       " style after \n",
       "<mark class=\"entity\" style=\"background: #aa9cfc; padding: 0.45em 0.6em; margin: 0 0.25em; line-height: 1; border-radius: 0.35em;\">\n",
       "    Versailles\n",
       "    <span style=\"font-size: 0.8em; font-weight: bold; line-height: 1; border-radius: 0.35em; vertical-align: middle; margin-left: 0.5rem\">PERSON</span>\n",
       "</mark>\n",
       ". It was the former home of the Prince-elector of \n",
       "<mark class=\"entity\" style=\"background: #7aecec; padding: 0.45em 0.6em; margin: 0 0.25em; line-height: 1; border-radius: 0.35em;\">\n",
       "    the Electoral Palatinate\n",
       "    <span style=\"font-size: 0.8em; font-weight: bold; line-height: 1; border-radius: 0.35em; vertical-align: middle; margin-left: 0.5rem\">ORG</span>\n",
       "</mark>\n",
       ", and now houses \n",
       "<mark class=\"entity\" style=\"background: #7aecec; padding: 0.45em 0.6em; margin: 0 0.25em; line-height: 1; border-radius: 0.35em;\">\n",
       "    the University of Mannheim\n",
       "    <span style=\"font-size: 0.8em; font-weight: bold; line-height: 1; border-radius: 0.35em; vertical-align: middle; margin-left: 0.5rem\">ORG</span>\n",
       "</mark>\n",
       ", which repeatedly receives top marks in business administration and is sometimes known as the &quot;\n",
       "<mark class=\"entity\" style=\"background: #f0d0ff; padding: 0.45em 0.6em; margin: 0 0.25em; line-height: 1; border-radius: 0.35em;\">\n",
       "    Harvard of Germany&quot;.[7][8][9] \n",
       "\n",
       "    <span style=\"font-size: 0.8em; font-weight: bold; line-height: 1; border-radius: 0.35em; vertical-align: middle; margin-left: 0.5rem\">WORK_OF_ART</span>\n",
       "</mark>\n",
       "The Mannheim May Market is the largest regional consumer exhibition of Germany.[10] </br>The civic symbol of \n",
       "<mark class=\"entity\" style=\"background: #feca74; padding: 0.45em 0.6em; margin: 0 0.25em; line-height: 1; border-radius: 0.35em;\">\n",
       "    Mannheim\n",
       "    <span style=\"font-size: 0.8em; font-weight: bold; line-height: 1; border-radius: 0.35em; vertical-align: middle; margin-left: 0.5rem\">GPE</span>\n",
       "</mark>\n",
       " is \n",
       "<mark class=\"entity\" style=\"background: #7aecec; padding: 0.45em 0.6em; margin: 0 0.25em; line-height: 1; border-radius: 0.35em;\">\n",
       "    the Romanesque Mannheim Water Tower\n",
       "    <span style=\"font-size: 0.8em; font-weight: bold; line-height: 1; border-radius: 0.35em; vertical-align: middle; margin-left: 0.5rem\">ORG</span>\n",
       "</mark>\n",
       ", completed in \n",
       "<mark class=\"entity\" style=\"background: #bfe1d9; padding: 0.45em 0.6em; margin: 0 0.25em; line-height: 1; border-radius: 0.35em;\">\n",
       "    1886\n",
       "    <span style=\"font-size: 0.8em; font-weight: bold; line-height: 1; border-radius: 0.35em; vertical-align: middle; margin-left: 0.5rem\">DATE</span>\n",
       "</mark>\n",
       " and rising to \n",
       "<mark class=\"entity\" style=\"background: #e4e7d2; padding: 0.45em 0.6em; margin: 0 0.25em; line-height: 1; border-radius: 0.35em;\">\n",
       "    60 metres\n",
       "    <span style=\"font-size: 0.8em; font-weight: bold; line-height: 1; border-radius: 0.35em; vertical-align: middle; margin-left: 0.5rem\">QUANTITY</span>\n",
       "</mark>\n",
       " (\n",
       "<mark class=\"entity\" style=\"background: #e4e7d2; padding: 0.45em 0.6em; margin: 0 0.25em; line-height: 1; border-radius: 0.35em;\">\n",
       "    200 feet\n",
       "    <span style=\"font-size: 0.8em; font-weight: bold; line-height: 1; border-radius: 0.35em; vertical-align: middle; margin-left: 0.5rem\">QUANTITY</span>\n",
       "</mark>\n",
       ") above the highest point of the art nouveau area \n",
       "<mark class=\"entity\" style=\"background: #feca74; padding: 0.45em 0.6em; margin: 0 0.25em; line-height: 1; border-radius: 0.35em;\">\n",
       "    Friedrichsplatz\n",
       "    <span style=\"font-size: 0.8em; font-weight: bold; line-height: 1; border-radius: 0.35em; vertical-align: middle; margin-left: 0.5rem\">GPE</span>\n",
       "</mark>\n",
       ". \n",
       "<mark class=\"entity\" style=\"background: #feca74; padding: 0.45em 0.6em; margin: 0 0.25em; line-height: 1; border-radius: 0.35em;\">\n",
       "    Mannheim\n",
       "    <span style=\"font-size: 0.8em; font-weight: bold; line-height: 1; border-radius: 0.35em; vertical-align: middle; margin-left: 0.5rem\">GPE</span>\n",
       "</mark>\n",
       " is well-known for its inventions, including the automobile,[11][12] the bicycle,[13][12] and the tractor,[12] which is why the city is often called the &quot;city of inventions&quot;.[14][15][16] The city is the starting and finishing point of \n",
       "<mark class=\"entity\" style=\"background: #7aecec; padding: 0.45em 0.6em; margin: 0 0.25em; line-height: 1; border-radius: 0.35em;\">\n",
       "    the Bertha Benz Memorial Route\n",
       "    <span style=\"font-size: 0.8em; font-weight: bold; line-height: 1; border-radius: 0.35em; vertical-align: middle; margin-left: 0.5rem\">ORG</span>\n",
       "</mark>\n",
       " that follows the tracks of the \n",
       "<mark class=\"entity\" style=\"background: #e4e7d2; padding: 0.45em 0.6em; margin: 0 0.25em; line-height: 1; border-radius: 0.35em;\">\n",
       "    first\n",
       "    <span style=\"font-size: 0.8em; font-weight: bold; line-height: 1; border-radius: 0.35em; vertical-align: middle; margin-left: 0.5rem\">ORDINAL</span>\n",
       "</mark>\n",
       " long-distance automobile trip in history.</div></span>"
      ],
      "text/plain": [
       "<IPython.core.display.HTML object>"
      ]
     },
     "metadata": {},
     "output_type": "display_data"
    }
   ],
   "source": [
    "displacy.render(doc, style=\"ent\")"
   ]
  },
  {
   "cell_type": "markdown",
   "id": "3750bd86",
   "metadata": {},
   "source": [
    "\n",
    "\n",
    "\n",
    "## Part of Speech"
   ]
  },
  {
   "cell_type": "code",
   "execution_count": 125,
   "id": "f1788d13",
   "metadata": {},
   "outputs": [],
   "source": [
    "doc = nlp(\"hello my name is Anne\")"
   ]
  },
  {
   "cell_type": "code",
   "execution_count": 126,
   "id": "a0476fe5",
   "metadata": {},
   "outputs": [
    {
     "data": {
      "text/html": [
       "<span class=\"tex2jax_ignore\"><svg xmlns=\"http://www.w3.org/2000/svg\" xmlns:xlink=\"http://www.w3.org/1999/xlink\" xml:lang=\"en\" id=\"f7cb482a43e74ccabb92e47716c13263-0\" class=\"displacy\" width=\"925\" height=\"312.0\" direction=\"ltr\" style=\"max-width: none; height: 312.0px; color: #000000; background: #ffffff; font-family: Arial; direction: ltr\">\n",
       "<text class=\"displacy-token\" fill=\"currentColor\" text-anchor=\"middle\" y=\"222.0\">\n",
       "    <tspan class=\"displacy-word\" fill=\"currentColor\" x=\"50\">hello</tspan>\n",
       "    <tspan class=\"displacy-tag\" dy=\"2em\" fill=\"currentColor\" x=\"50\">INTJ</tspan>\n",
       "</text>\n",
       "\n",
       "<text class=\"displacy-token\" fill=\"currentColor\" text-anchor=\"middle\" y=\"222.0\">\n",
       "    <tspan class=\"displacy-word\" fill=\"currentColor\" x=\"225\">my</tspan>\n",
       "    <tspan class=\"displacy-tag\" dy=\"2em\" fill=\"currentColor\" x=\"225\">PRON</tspan>\n",
       "</text>\n",
       "\n",
       "<text class=\"displacy-token\" fill=\"currentColor\" text-anchor=\"middle\" y=\"222.0\">\n",
       "    <tspan class=\"displacy-word\" fill=\"currentColor\" x=\"400\">name</tspan>\n",
       "    <tspan class=\"displacy-tag\" dy=\"2em\" fill=\"currentColor\" x=\"400\">NOUN</tspan>\n",
       "</text>\n",
       "\n",
       "<text class=\"displacy-token\" fill=\"currentColor\" text-anchor=\"middle\" y=\"222.0\">\n",
       "    <tspan class=\"displacy-word\" fill=\"currentColor\" x=\"575\">is</tspan>\n",
       "    <tspan class=\"displacy-tag\" dy=\"2em\" fill=\"currentColor\" x=\"575\">AUX</tspan>\n",
       "</text>\n",
       "\n",
       "<text class=\"displacy-token\" fill=\"currentColor\" text-anchor=\"middle\" y=\"222.0\">\n",
       "    <tspan class=\"displacy-word\" fill=\"currentColor\" x=\"750\">Anne</tspan>\n",
       "    <tspan class=\"displacy-tag\" dy=\"2em\" fill=\"currentColor\" x=\"750\">PROPN</tspan>\n",
       "</text>\n",
       "\n",
       "<g class=\"displacy-arrow\">\n",
       "    <path class=\"displacy-arc\" id=\"arrow-f7cb482a43e74ccabb92e47716c13263-0-0\" stroke-width=\"2px\" d=\"M70,177.0 C70,2.0 575.0,2.0 575.0,177.0\" fill=\"none\" stroke=\"currentColor\"/>\n",
       "    <text dy=\"1.25em\" style=\"font-size: 0.8em; letter-spacing: 1px\">\n",
       "        <textPath xlink:href=\"#arrow-f7cb482a43e74ccabb92e47716c13263-0-0\" class=\"displacy-label\" startOffset=\"50%\" side=\"left\" fill=\"currentColor\" text-anchor=\"middle\">intj</textPath>\n",
       "    </text>\n",
       "    <path class=\"displacy-arrowhead\" d=\"M70,179.0 L62,167.0 78,167.0\" fill=\"currentColor\"/>\n",
       "</g>\n",
       "\n",
       "<g class=\"displacy-arrow\">\n",
       "    <path class=\"displacy-arc\" id=\"arrow-f7cb482a43e74ccabb92e47716c13263-0-1\" stroke-width=\"2px\" d=\"M245,177.0 C245,89.5 395.0,89.5 395.0,177.0\" fill=\"none\" stroke=\"currentColor\"/>\n",
       "    <text dy=\"1.25em\" style=\"font-size: 0.8em; letter-spacing: 1px\">\n",
       "        <textPath xlink:href=\"#arrow-f7cb482a43e74ccabb92e47716c13263-0-1\" class=\"displacy-label\" startOffset=\"50%\" side=\"left\" fill=\"currentColor\" text-anchor=\"middle\">poss</textPath>\n",
       "    </text>\n",
       "    <path class=\"displacy-arrowhead\" d=\"M245,179.0 L237,167.0 253,167.0\" fill=\"currentColor\"/>\n",
       "</g>\n",
       "\n",
       "<g class=\"displacy-arrow\">\n",
       "    <path class=\"displacy-arc\" id=\"arrow-f7cb482a43e74ccabb92e47716c13263-0-2\" stroke-width=\"2px\" d=\"M420,177.0 C420,89.5 570.0,89.5 570.0,177.0\" fill=\"none\" stroke=\"currentColor\"/>\n",
       "    <text dy=\"1.25em\" style=\"font-size: 0.8em; letter-spacing: 1px\">\n",
       "        <textPath xlink:href=\"#arrow-f7cb482a43e74ccabb92e47716c13263-0-2\" class=\"displacy-label\" startOffset=\"50%\" side=\"left\" fill=\"currentColor\" text-anchor=\"middle\">nsubj</textPath>\n",
       "    </text>\n",
       "    <path class=\"displacy-arrowhead\" d=\"M420,179.0 L412,167.0 428,167.0\" fill=\"currentColor\"/>\n",
       "</g>\n",
       "\n",
       "<g class=\"displacy-arrow\">\n",
       "    <path class=\"displacy-arc\" id=\"arrow-f7cb482a43e74ccabb92e47716c13263-0-3\" stroke-width=\"2px\" d=\"M595,177.0 C595,89.5 745.0,89.5 745.0,177.0\" fill=\"none\" stroke=\"currentColor\"/>\n",
       "    <text dy=\"1.25em\" style=\"font-size: 0.8em; letter-spacing: 1px\">\n",
       "        <textPath xlink:href=\"#arrow-f7cb482a43e74ccabb92e47716c13263-0-3\" class=\"displacy-label\" startOffset=\"50%\" side=\"left\" fill=\"currentColor\" text-anchor=\"middle\">attr</textPath>\n",
       "    </text>\n",
       "    <path class=\"displacy-arrowhead\" d=\"M745.0,179.0 L753.0,167.0 737.0,167.0\" fill=\"currentColor\"/>\n",
       "</g>\n",
       "</svg></span>"
      ],
      "text/plain": [
       "<IPython.core.display.HTML object>"
      ]
     },
     "metadata": {},
     "output_type": "display_data"
    }
   ],
   "source": [
    "displacy.render(doc)"
   ]
  },
  {
   "cell_type": "code",
   "execution_count": 121,
   "id": "c4a6b94b",
   "metadata": {},
   "outputs": [
    {
     "data": {
      "text/plain": [
       "'interjection'"
      ]
     },
     "execution_count": 121,
     "metadata": {},
     "output_type": "execute_result"
    }
   ],
   "source": [
    "spacy.explain('INTJ')"
   ]
  },
  {
   "cell_type": "code",
   "execution_count": 122,
   "id": "b299ffea",
   "metadata": {},
   "outputs": [
    {
     "data": {
      "text/plain": [
       "'possession modifier'"
      ]
     },
     "execution_count": 122,
     "metadata": {},
     "output_type": "execute_result"
    }
   ],
   "source": [
    "spacy.explain('poss')"
   ]
  },
  {
   "cell_type": "markdown",
   "id": "6325edbf",
   "metadata": {},
   "source": [
    "Wether something is a noun or a verb is called **part of speech**. The method `.pos_` associated with elements in the doc container will give you information on the part of speech. \n",
    "\n",
    "The relationships between the words are referenced to as **dependencies**. You can access this using the method `.dep_`."
   ]
  },
  {
   "cell_type": "code",
   "execution_count": 127,
   "id": "2b3668e7",
   "metadata": {},
   "outputs": [
    {
     "name": "stdout",
     "output_type": "stream",
     "text": [
      "hello INTJ intj\n",
      "my PRON poss\n",
      "name NOUN nsubj\n",
      "is AUX ROOT\n",
      "Anne PROPN attr\n"
     ]
    }
   ],
   "source": [
    "for x in doc:\n",
    "    print(x, x.pos_, x.dep_)"
   ]
  },
  {
   "cell_type": "markdown",
   "id": "1492e9b2",
   "metadata": {},
   "source": [
    "https://spacy.io/usage/linguistic-features"
   ]
  }
 ],
 "metadata": {
  "kernelspec": {
   "display_name": "Python 3 (ipykernel)",
   "language": "python",
   "name": "python3"
  },
  "language_info": {
   "codemirror_mode": {
    "name": "ipython",
    "version": 3
   },
   "file_extension": ".py",
   "mimetype": "text/x-python",
   "name": "python",
   "nbconvert_exporter": "python",
   "pygments_lexer": "ipython3",
   "version": "3.8.2"
  }
 },
 "nbformat": 4,
 "nbformat_minor": 5
}

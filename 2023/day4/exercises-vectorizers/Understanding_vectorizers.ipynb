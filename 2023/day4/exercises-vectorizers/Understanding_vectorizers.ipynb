{
 "cells": [
  {
   "cell_type": "markdown",
   "id": "3903bc69",
   "metadata": {},
   "source": [
    "# Understanding vectorizers\n",
    "\n",
    "In the following code examples, we will experiment with vectorizers to understand a bit better how they work. Feel free to adjust the code, and try things out yourself.\n",
    "\n",
    "For now, we will practice with `sklearn`'s vectorizers. however, packages such as `gensim` offer their own build in functionality to vectorize the data. "
   ]
  },
  {
   "cell_type": "markdown",
   "metadata": {},
   "source": [
    "Please keep in mind that we differentiate between `sparse` and `dense` matrixes. The following visualization may help you understand the difference. "
   ]
  },
  {
   "cell_type": "code",
   "execution_count": 2,
   "metadata": {},
   "outputs": [
    {
     "data": {
      "text/html": [
       "<img src=\"https://miro.medium.com/v2/resize:fit:4800/format:webp/1*1LLMA9VGH6x8mRKqT-Mhtw.gif\"/>"
      ],
      "text/plain": [
       "<IPython.core.display.Image object>"
      ]
     },
     "metadata": {},
     "output_type": "display_data"
    }
   ],
   "source": [
    "from IPython.display import display, Image\n",
    "url = \"https://miro.medium.com/v2/resize:fit:4800/format:webp/1*1LLMA9VGH6x8mRKqT-Mhtw.gif\"\n",
    "# Display the GIF\n",
    "display(Image(url=url))"
   ]
  },
  {
   "cell_type": "code",
   "execution_count": 1,
   "id": "d6288fa8",
   "metadata": {},
   "outputs": [],
   "source": [
    "import pandas as pd\n",
    "from sklearn.feature_extraction.text import CountVectorizer, TfidfVectorizer"
   ]
  },
  {
   "cell_type": "markdown",
   "id": "9efbfbd6",
   "metadata": {},
   "source": [
    "## Example 1: Inspect the output of a vectorizer in a dense format\n",
    "\n",
    "The following code cell will fit and transform three documents using a `Count`-based vectorizer. Next, the output is transformed to a *dense* matrix, and printed. \n",
    "\n",
    "1. Do you understand the output?\n",
    "2. Is it smart to transform output to a dense format? What will happen if you work with millions of documents, rather than 3 short sentences?\n",
    "3. what happens if you replace `CountVectorizer()` for `TfidfVectorizer()`?"
   ]
  },
  {
   "cell_type": "code",
   "execution_count": 2,
   "id": "49495cfd",
   "metadata": {},
   "outputs": [
    {
     "name": "stdout",
     "output_type": "stream",
     "text": [
      "   are  everybody  hello  how  students  today  what  you\n",
      "0    0          0      1    0         1      0     0    0\n",
      "1    1          0      0    1         0      1     0    1\n",
      "2    0          0      0    0         0      0     1    0\n",
      "3    0          1      2    0         0      0     0    0\n"
     ]
    }
   ],
   "source": [
    "texts = [\"hello students!\", \"how are you today?\", \"what?\", \"hello hello everybody\"]\n",
    "vect = CountVectorizer()# initialize the vectorizer\n",
    "\n",
    "X = vect.fit_transform(texts) #fit the vectorizer and transform the documents in one go\n",
    "print(pd.DataFrame(X.A, columns=vect.get_feature_names_out()).to_string())\n",
    "df = pd.DataFrame(X.toarray().transpose(), index = vect.get_feature_names_out())"
   ]
  },
  {
   "cell_type": "markdown",
   "id": "72b8d55e",
   "metadata": {},
   "source": [
    "## Example 2: Inspect the output of a vectorizer in a sparse format\n",
    "\n",
    "Internally, `sklearn` represents the data in a *sparse* format, as this is computationally more efficient, and less memory is required.\n"
   ]
  },
  {
   "cell_type": "code",
   "execution_count": 3,
   "id": "88bfaeba",
   "metadata": {},
   "outputs": [],
   "source": [
    "texts = [\"hello students!\", \"how are you today?\", \"what?\", \"hello hello everybody\"]\n",
    "count_vec = CountVectorizer() #initilize the vectorizer\n",
    "count_vec_fit = count_vec.fit_transform(texts) #fit the vectorizer and transform the documents in one go"
   ]
  },
  {
   "cell_type": "markdown",
   "id": "e95a380b",
   "metadata": {},
   "source": [
    "    1.Inspect the shape of transformed texts. We can see that we have a 4x8 sparse matrix, meaning that we have 4 \n",
    "    rows (=documents) and 8 unique tokens (=words, numbers)\n"
   ]
  },
  {
   "cell_type": "code",
   "execution_count": 4,
   "id": "d9363fb0",
   "metadata": {},
   "outputs": [
    {
     "data": {
      "text/plain": [
       "<4x8 sparse matrix of type '<class 'numpy.int64'>'\n",
       "\twith 9 stored elements in Compressed Sparse Row format>"
      ]
     },
     "execution_count": 4,
     "metadata": {},
     "output_type": "execute_result"
    }
   ],
   "source": [
    "count_vec_fit"
   ]
  },
  {
   "cell_type": "markdown",
   "id": "64e134c2",
   "metadata": {},
   "source": [
    "    2.Get the feature names. This will return the tokens that are in the vocabulary of the vectorizer"
   ]
  },
  {
   "cell_type": "code",
   "execution_count": 5,
   "id": "b9c92ac2",
   "metadata": {},
   "outputs": [
    {
     "data": {
      "text/plain": [
       "array(['are', 'everybody', 'hello', 'how', 'students', 'today', 'what',\n",
       "       'you'], dtype=object)"
      ]
     },
     "execution_count": 5,
     "metadata": {},
     "output_type": "execute_result"
    }
   ],
   "source": [
    "count_vec.get_feature_names_out()"
   ]
  },
  {
   "cell_type": "markdown",
   "id": "14c6b9a0",
   "metadata": {},
   "source": [
    "    3. Represent the token's mapping to it's id values. The numbers do *not* represent the count of the words but the position of the words in the matrix"
   ]
  },
  {
   "cell_type": "code",
   "execution_count": 6,
   "id": "0cf16fdc",
   "metadata": {},
   "outputs": [
    {
     "data": {
      "text/plain": [
       "{'hello': 2,\n",
       " 'students': 4,\n",
       " 'how': 3,\n",
       " 'are': 0,\n",
       " 'you': 7,\n",
       " 'today': 5,\n",
       " 'what': 6,\n",
       " 'everybody': 1}"
      ]
     },
     "execution_count": 6,
     "metadata": {},
     "output_type": "execute_result"
    }
   ],
   "source": [
    "count_vec.vocabulary_ "
   ]
  },
  {
   "cell_type": "markdown",
   "id": "d4f3fb63",
   "metadata": {},
   "source": [
    "    4. Get sparse representation on document level"
   ]
  },
  {
   "cell_type": "code",
   "execution_count": 7,
   "id": "1a70295b",
   "metadata": {},
   "outputs": [
    {
     "name": "stdout",
     "output_type": "stream",
     "text": [
      "hello students!\n",
      "  (0, 2)\t1\n",
      "  (0, 4)\t1\n",
      "\n",
      "how are you today?\n",
      "  (0, 3)\t1\n",
      "  (0, 0)\t1\n",
      "  (0, 7)\t1\n",
      "  (0, 5)\t1\n",
      "\n",
      "what?\n",
      "  (0, 6)\t1\n",
      "\n",
      "hello hello everybody\n",
      "  (0, 2)\t2\n",
      "  (0, 1)\t1\n",
      "\n"
     ]
    }
   ],
   "source": [
    "for i, document in zip(count_vec_fit, texts):\n",
    "    print(document)\n",
    "    print(i)\n",
    "    print()"
   ]
  },
  {
   "cell_type": "markdown",
   "id": "52645b99",
   "metadata": {},
   "source": [
    "a. Do you understand the output printed above?  \n",
    "b. What happens if you change the `count` to a `tfidf` vectorizer?  "
   ]
  }
 ],
 "metadata": {
  "kernelspec": {
   "display_name": "Python 3 (ipykernel)",
   "language": "python",
   "name": "python3"
  },
  "language_info": {
   "codemirror_mode": {
    "name": "ipython",
    "version": 3
   },
   "file_extension": ".py",
   "mimetype": "text/x-python",
   "name": "python",
   "nbconvert_exporter": "python",
   "pygments_lexer": "ipython3",
   "version": "3.9.6"
  }
 },
 "nbformat": 4,
 "nbformat_minor": 5
}

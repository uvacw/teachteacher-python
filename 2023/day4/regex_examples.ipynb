{
 "cells": [
  {
   "cell_type": "markdown",
   "id": "a4bf8020",
   "metadata": {},
   "source": [
    "`.` matches any character\n",
    "\n",
    "`*` the expression before occurs 0 or more times\n",
    "\n",
    "`+` the expression before occurs 1 or more times\n",
    " "
   ]
  },
  {
   "cell_type": "code",
   "execution_count": 4,
   "id": "5830422c",
   "metadata": {},
   "outputs": [],
   "source": [
    "import re"
   ]
  },
  {
   "cell_type": "code",
   "execution_count": 63,
   "id": "ac3fad21",
   "metadata": {},
   "outputs": [
    {
     "data": {
      "text/plain": [
       "'** ** you hello'"
      ]
     },
     "execution_count": 63,
     "metadata": {},
     "output_type": "execute_result"
    }
   ],
   "source": [
    "pattern = r\"[A-Z]+\"\n",
    "example_string = \"HOW ARE you hello\"\n",
    "subs = \"**\"\n",
    "\n",
    "re.sub(pattern, subs, example_string)"
   ]
  },
  {
   "cell_type": "code",
   "execution_count": 72,
   "id": "444084cc",
   "metadata": {},
   "outputs": [
    {
     "data": {
      "text/plain": [
       "[' ', ' ', ' ', ' ', ' ', ' ', ' ', ' ', '!!']"
      ]
     },
     "execution_count": 72,
     "metadata": {},
     "output_type": "execute_result"
    }
   ],
   "source": [
    "#pattern= r\"[^a-zA-Z]+\" #other empty strings represent the sequences of characters that are not alphabetic characters but are separated by spaces\n",
    "#pattern = r\"\\d+\"\n",
    "pattern = r\"\\W+\"\n",
    "example_string = \"a sentence with stuff in 052953 and so forth!!\"\n",
    "\n",
    "re.findall(pattern, example_string)"
   ]
  },
  {
   "cell_type": "code",
   "execution_count": 13,
   "id": "b59362d5",
   "metadata": {},
   "outputs": [],
   "source": [
    "## r indicates that this is a raw string: backslashes are treated as literal characters and not escape characters"
   ]
  },
  {
   "cell_type": "code",
   "execution_count": 78,
   "id": "dd55b547",
   "metadata": {},
   "outputs": [
    {
     "data": {
      "text/plain": [
       "['RT @TimSenders']"
      ]
     },
     "execution_count": 78,
     "metadata": {},
     "output_type": "execute_result"
    }
   ],
   "source": [
    "pattern = 'RT ?:? @[a-zA-Z]*'\n",
    "example_string = 'iewjogejiwojg RT @TimSenders395 iegwjo'\n",
    "\n",
    "re.findall(pattern, example_string)"
   ]
  },
  {
   "cell_type": "code",
   "execution_count": 88,
   "id": "0ad26e5f",
   "metadata": {},
   "outputs": [
    {
     "data": {
      "text/plain": [
       "['ABN', 'amro', 'ABNAMRO', 'abn amro']"
      ]
     },
     "execution_count": 88,
     "metadata": {},
     "output_type": "execute_result"
    }
   ],
   "source": [
    "test_string = 'ABN and also amro. ABNAMRO and abn amro'\n",
    "pattern = r'\\b(ABN\\s+AMRO|ABNAMRO|ABN|AMRO)\\b'\n",
    "\n",
    "re.findall(pattern, test_string, re.IGNORECASE)"
   ]
  },
  {
   "cell_type": "code",
   "execution_count": 80,
   "id": "d22dcd64",
   "metadata": {},
   "outputs": [
    {
     "data": {
      "text/plain": [
       "'A DUTCH BANK and also A DUTCH BANK. A DUTCH BANK and A DUTCH BANK'"
      ]
     },
     "execution_count": 80,
     "metadata": {},
     "output_type": "execute_result"
    }
   ],
   "source": [
    "replacement_string = 'A DUTCH BANK'\n",
    "re.sub(pattern, replacement_string, test_string, flags=re.IGNORECASE)"
   ]
  },
  {
   "cell_type": "markdown",
   "id": "dde41d36",
   "metadata": {},
   "source": [
    "`\\b:` Word boundary anchor.\n",
    "\n",
    "ABN`\\s+`AMRO: Matches \"ABN AMRO\" with one or more spaces in between."
   ]
  },
  {
   "cell_type": "code",
   "execution_count": null,
   "id": "15dd18de",
   "metadata": {},
   "outputs": [],
   "source": []
  },
  {
   "cell_type": "markdown",
   "id": "efbd0a77",
   "metadata": {},
   "source": [
    "## Making a custom regex application: printing matches in context"
   ]
  },
  {
   "cell_type": "code",
   "execution_count": 17,
   "id": "5e04500f",
   "metadata": {},
   "outputs": [],
   "source": [
    "# make some example data\n",
    "texts = ['The top Republican on the House Intelligence Committee says he is prepared to impeach the head of the FBI and Deputy Attorney General if he doesnt get a two-page document he says prompted the Russia investigation.\\n\\nJust the fact that theyre not giving this to us tells me theres something wrong here, California Republican Rep. Devin Nunes told Fox News host Laura Ingraham on the The Ingraham Angle Tuesday night.\\n\\nI can tell you that were not just going to hold in contempt, we will have a plan to ',\n",
    " 'The Gulf Coast is preparing as Tropical Storm Michael developed in the Caribbean Sea and is expected to strengthen into a hurricane before making landfall around the middle of this week.\\n\\nFlorida Gov. Rick Scott ordered activation of the State Emergency Operations Center in Tallahassee to enhance coordination between federal, state and local agencies.\\n\\nOur state understands how serious tropical weather is and how devastating any hurricane or tropical storm can be, Scott said. As we continue to m',\n",
    " 'YouTube star Candace Owens says there is a card more valuable than VISA or AMERICAN EXPRESS called the black card.',\n",
    " 'Donald Trump can claim another victory after Mexican authorities agreed to disband the illegal alien caravans working their way through Mexico towards America.\\n\\nMexican immigration authorities said they plan on disbanding the Central American caravan by Wednesday in Oaxaca. The most vulnerable will get humanitarian visas, tweeted BuzzFeed reporter Adolfo Flores.\\n\\nEveryone else in the caravan, which has traveled through Mexico for days from Chiapas, will have to petition the Mexican government fo']"
   ]
  },
  {
   "cell_type": "code",
   "execution_count": 19,
   "id": "d40df1dd",
   "metadata": {},
   "outputs": [
    {
     "name": "stdout",
     "output_type": "stream",
     "text": [
      "<re.Match object; span=(102, 105), match='FBI'>\n"
     ]
    }
   ],
   "source": [
    "# first show the principle:\n",
    "for r in re.finditer(r\"[A-Z][A-Z]+\", texts[0]):   # words with two or more capital letters\n",
    "    print(r)"
   ]
  },
  {
   "cell_type": "code",
   "execution_count": 21,
   "id": "f6b58a3e",
   "metadata": {},
   "outputs": [
    {
     "name": "stdout",
     "output_type": "stream",
     "text": [
      "Now processing text number 0...\n",
      "ach the head of the FBI and Deputy Attorney\n",
      "\n",
      "**********************************\n",
      "\n",
      "Now processing text number 1...\n",
      "\n",
      "**********************************\n",
      "\n",
      "Now processing text number 2...\n",
      " more valuable than VISA or AMERICAN EXPRESS\n",
      "luable than VISA or AMERICAN EXPRESS called the \n",
      "an VISA or AMERICAN EXPRESS called the black ca\n",
      "\n",
      "**********************************\n",
      "\n",
      "Now processing text number 3...\n",
      "\n",
      "**********************************\n",
      "\n"
     ]
    }
   ],
   "source": [
    "# let's exploit the fact that span() gives us first and last index (=position) within\n",
    "# the string\n",
    "# so we print the matched string +/- 20 characters\n",
    "for number, text in enumerate(texts):\n",
    "    print(f\"Now processing text number {number}...\")\n",
    "    for r in re.finditer(r\"[A-Z][A-Z]+\", text):\n",
    "        print(text[r.span()[0]-20:r.span()[1]+20])\n",
    "    print('\\n**********************************\\n')"
   ]
  }
 ],
 "metadata": {
  "kernelspec": {
   "display_name": "Python 3 (ipykernel)",
   "language": "python",
   "name": "python3"
  },
  "language_info": {
   "codemirror_mode": {
    "name": "ipython",
    "version": 3
   },
   "file_extension": ".py",
   "mimetype": "text/x-python",
   "name": "python",
   "nbconvert_exporter": "python",
   "pygments_lexer": "ipython3",
   "version": "3.8.10"
  }
 },
 "nbformat": 4,
 "nbformat_minor": 5
}

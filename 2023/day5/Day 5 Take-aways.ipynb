{
 "cells": [
  {
   "cell_type": "code",
   "execution_count": null,
   "id": "f52bab33-59d9-4445-bf5e-564bcd3b5448",
   "metadata": {},
   "outputs": [],
   "source": [
    "# Supervised Machine Learning \n",
    "\n",
    "## Main take aways:\n",
    "* Congrats on obtaining your driver's license! Now, please get out on the road and learn how to drive :) \n",
    "* Don't be impressed - you can certainly do it.\n",
    "* Just because you can do it does not mean you should do it.\n",
    "* All decisions regarding the SML process are arbritrary. The right choice is the one you can argue for best.\n",
    "* Don't reinvent the wheel\n",
    "* Google the error messages\n",
    "                                                                                                   \n",
    "\n",
    "## More resources\n",
    "\n",
    "#### Overfitting\n",
    "https://machinelearningmastery.com/overfitting-and-underfitting-with-machine-learning-algorithms/\n",
    "\n",
    "#### Hyperparameter tuning \n",
    "https://machinelearningmastery.com/hyperparameter-optimization-with-random-search-and-grid-search/\n",
    "\n",
    "#### Datasets and challenges\n",
    "https://www.kaggle.com/\n",
    "\n",
    "\n",
    "## Recommended readings\n",
    "\n",
    "#### Van Atteveldt et al. (book for Python learners)\n",
    "Van Atteveldt, W., Trilling, D., & Calderón, C. A. (2022). Computational Analysis of Communication. Wiley Blackwell.\n",
    "https://cssbook.net/\n",
    "\n",
    "#### Zhang et al. (Paper about shooting victims and thoughts and prayers in Tweets)\n",
    "Zhang, Y., Shah, D., Foley, J., Abhishek, A., Lukito, J., Suk, J., ... & Garlough, C. (2019). Whose lives matter? Mass shootings and social media discourses of sympathy and policy, 2012–2014. Journal of Computer-Mediated Communication, 24(4), 182-202.\n",
    "https://doi.org/10.1093/jcmc/zmz009\n",
    "\n",
    "#### Meppelink et al. (Paper about online health info and reliability)\n",
    "Meppelink, C. S., Hendriks, H., Trilling, D., van Weert, J. C., Shao, A., & Smit, E. S. (2021). Reliable or not? An automated classification of webpages about early childhood vaccination using supervised machine learning. Patient Education and Counseling, 104(6), 1460-1466.\n",
    "https://doi.org/10.1016/j.pec.2020.11.013\n",
    "\n"
   ]
  }
 ],
 "metadata": {
  "kernelspec": {
   "display_name": "Python 3 (ipykernel)",
   "language": "python",
   "name": "python3"
  },
  "language_info": {
   "codemirror_mode": {
    "name": "ipython",
    "version": 3
   },
   "file_extension": ".py",
   "mimetype": "text/x-python",
   "name": "python",
   "nbconvert_exporter": "python",
   "pygments_lexer": "ipython3",
   "version": "3.9.6"
  }
 },
 "nbformat": 4,
 "nbformat_minor": 5
}

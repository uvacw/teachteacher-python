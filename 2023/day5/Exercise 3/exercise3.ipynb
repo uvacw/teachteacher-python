{
 "cells": [
  {
   "cell_type": "markdown",
   "id": "54c12790-b072-4582-9d1f-f10af87a2fcb",
   "metadata": {},
   "source": [
    "### Exercise 3\n",
    "\n",
    "In this exercise, you will practice with both applying SML and also evaluating it. When doing the latter, use the materials and slides discussed in today's workshop. Work together with your neighbour on this exercise!"
   ]
  },
  {
   "cell_type": "markdown",
   "id": "d03327ea-5806-4011-9523-31bebfd30227",
   "metadata": {},
   "source": [
    "### Q1: Describing Supervised Machine Learning (SML)\n",
    "\n",
    "a. SeeFlex is a video streaming platform that initially focused solely on television shows aimed at children. However, the CEO recently decided to expand the content available on SeeFlex to content aimed at adults as well. New availble genres on SeeFlex are, for example, horror shows or dating shows. To help customers select content and mostly, to help parents to keep selecting only content that is suitable for their children, the CEO wants to employ Supervised Machine Learning (SML) to automatically indicate the genre that a specific piece of content belongs to based on its description. She can do this because she got her hands on a large dataset with pre-labeled content descriptions which she can use to train and validate machines. \n",
    "\n",
    "With your neighbour, discuss the suitability of SML. Provide one argument in favor of and one argument against using SML in this case.\n"
   ]
  },
  {
   "cell_type": "markdown",
   "id": "be973d47-0572-40e3-a1fc-990c49a7befd",
   "metadata": {},
   "source": [
    "### Q2: Executing Supervised Machine Learning (SML)\n",
    "  \n",
    "a. Read in the dataset you need for this assignment ('SeeFlex_data.csv') and conduct some explorative analyses on it. Your analysis needs to result in an overview of how many pieces of content there are per genre. \n",
    "\n",
    "Hint: Are you getting a 'list index out of range' error when reading in the data? Check what delimiter you are using for this *comma*-seperated values file!\n"
   ]
  },
  {
   "cell_type": "markdown",
   "id": "9c374389-382a-40bf-abf1-5c4545ed94e5",
   "metadata": {},
   "source": [
    "b. Write a script for the CEO of SeeFlex using SML to categorize the content descriptions into genres. While doing so, keep in mind the following:\n",
    "* The CEO's goal is to automatically label content for all viewers. But because SeeFlex is mainly used by parents and their children, correctly identifying kids' content takes priority over correctly detecting other genres. \n",
    "* In your code, compare at least two different models (e.g., Logistic Regression, Decision Tree).\n",
    "* Your code needs to produce at least one metric that evaluates the classifiers - think about what metric is most important in the current situation.\n"
   ]
  },
  {
   "cell_type": "markdown",
   "id": "42ba478c-9301-4800-a502-9140797740bf",
   "metadata": {},
   "source": [
    "### Q3: Reflecting on your script and findings\n",
    "\n",
    "a. Discuss the results of Q2a. Your answer needs to:\n",
    "* Discuss how the content descriptions are distributed across genres\n",
    "* Discuss about why it is (not) relevant to inspect the distribution of content descriptions across genres\n",
    "* Discuss what the above means for the classifier you developed for the CEO of SeeFlex\n"
   ]
  },
  {
   "cell_type": "markdown",
   "id": "7e4f448a-188b-4a38-9c48-7c5e086ee843",
   "metadata": {},
   "source": [
    "b. How do your classifiers work: do they distinguish between the four different genres that content belongs to, or did you decide to merge some genres into one or more categories? Why did you decide to do it in this way? In your answer, reflect on the advantages and on the disadvantages of your approach for the CEO of SeeFlex.\n"
   ]
  },
  {
   "cell_type": "markdown",
   "id": "2b97e603-ae45-424c-96ac-1f535a6007f4",
   "metadata": {},
   "source": [
    "c. Based on the results of your validation metrics, what classifier would you recommend to the CEO of SeeFlex? Why? \n"
   ]
  }
 ],
 "metadata": {
  "kernelspec": {
   "display_name": "Python 3 (ipykernel)",
   "language": "python",
   "name": "python3"
  },
  "language_info": {
   "codemirror_mode": {
    "name": "ipython",
    "version": 3
   },
   "file_extension": ".py",
   "mimetype": "text/x-python",
   "name": "python",
   "nbconvert_exporter": "python",
   "pygments_lexer": "ipython3",
   "version": "3.9.6"
  }
 },
 "nbformat": 4,
 "nbformat_minor": 5
}

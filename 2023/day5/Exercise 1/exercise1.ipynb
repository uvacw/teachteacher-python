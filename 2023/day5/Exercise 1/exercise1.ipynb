{
 "cells": [
  {
   "cell_type": "markdown",
   "id": "07ae30de-af52-4554-9fda-245c1917ebaa",
   "metadata": {},
   "source": [
    "### Exercise 1\n",
    "# Getting some hands-on experience with supervised machine learning\n",
    "\n",
    "## Question 1. \n",
    "In this exercise you will work with supervised machine learning. We will classify tweets into four categories namely: normal, abusive, hateful, and spam.\n",
    "\n",
    "There are a few steps that we need to take before we can use supervised machine learning. Namely:\n",
    "* Collect data (in CS often texts, e.g., tweets)\n",
    "* Develop a codebook and hand-code the data\n",
    "\n",
    "\n",
    "In this tutorial, we focus on the actual machine learning part of the process. Hence, we will use a database that already has been coded humans. It contains tweets and each tweet has a label indicating to which of four categories it belongs, namely normal, abusive, hateful, or spam. Hence, we skip the first two steps of the process described above.\n",
    "\n",
    "Download the data for this exercise named \"hatespeech_text_label_vote_RESTRICTED_100K.csv\". \n",
    "These datafiles were retrieved from: https://www.dropbox.com/sh/4mapojr85a6sc76/AABYMkjLVG-HhueAgd0qM9kwa?dl=0![image-2.png](attachment:image-2.png)\n",
    "\n",
    "Using the examples from the lecture, can you write a script that opens each file and:\n",
    "* Creates one list with the tweets\n",
    "* Creates one list with the labels of the tweets\n",
    "\n",
    "\n",
    "What could you do to check that this process went well? Can you explore the data a bit (i.e., by checking how often each label is present in the different datasets)?"
   ]
  },
  {
   "cell_type": "markdown",
   "id": "c2112676",
   "metadata": {},
   "source": [
    "## Question 2.\n",
    "Now that we read in the data, we will proceed to the next step: Splitting our data into a training set and a test set. Luckily, scikit learn has a function that can do so for us! Run the code presented in the next blok to split up the dataset.\n",
    "        \n",
    "* What do these lines of code do?\n",
    "* Do you know what the random_state part refers to? Why is this useful?\n"
   ]
  },
  {
   "cell_type": "code",
   "execution_count": 2,
   "id": "47b45e1d",
   "metadata": {},
   "outputs": [],
   "source": [
    "from sklearn.model_selection import train_test_split\n",
    "\n",
    "tweets_train, tweets_test, y_train, y_test = train_test_split(tweets, labels, test_size=0.2, random_state=42)"
   ]
  },
  {
   "cell_type": "markdown",
   "id": "1606375a-a9e7-47c6-b16c-0d25251a4577",
   "metadata": {},
   "source": [
    "## Question 3.\n",
    "On to the next step: Transforming the text into numbers, or setting up a vectorizer. Can you create some code that uses a count vectorizer on the texts that you read in? Hint: check out the example provided in the slides! Doing so, you will see that the stopwords are defined (as a built-in stop word list). Why is that done? "
   ]
  },
  {
   "cell_type": "markdown",
   "id": "af7c7767-5927-4ed2-a019-7de2c81808c0",
   "metadata": {},
   "source": [
    "## Question 4.\n",
    "Now, let’s train a classifier and run it on the test data! Can you use the examples from the slides to train a Naïve Bayes classifer with our count vectorizer?"
   ]
  },
  {
   "cell_type": "markdown",
   "id": "de0c159d-15e9-4151-b5d6-d5ddba01d8c8",
   "metadata": {},
   "source": [
    "## Question 5.\n",
    "When you run the code you created for the previous question, you will see that it prints no output. How do you know if your code worked? Run the code presented in the next block (depending on how you named your labels, you may need to adjust the arguments).\n",
    "\n",
    "\n",
    "Check out the documentation of the scikit learn package: https://scikit-learn.org/stable/modules/generated/sklearn.metrics.classification_report.html\n",
    "\n",
    "What is do the numbers in the output mean? What can you do with it?\n",
    "We will discuss this (and more) in the second part of the day! "
   ]
  },
  {
   "cell_type": "markdown",
   "id": "18b28137-66da-4671-8733-f0a54aa64af9",
   "metadata": {},
   "source": [
    "from sklearn.metrics import classification_report\n",
    "\n",
    "print(y_pred[:10])\n",
    "print(classification_report(y_test, y_pred))"
   ]
  },
  {
   "cell_type": "markdown",
   "id": "daf587f3",
   "metadata": {},
   "source": [
    "### About this exercise:\n",
    "This exercise is based on the materials developed and the texts written by Wouter van Atteveldt, Damian Trilling and Carlos Arcila Calderon as reported in their book 'Computational Analysis of Communication' (2022, Wiley-Blackwell)."
   ]
  }
 ],
 "metadata": {
  "kernelspec": {
   "display_name": "Python 3 (ipykernel)",
   "language": "python",
   "name": "python3"
  },
  "language_info": {
   "codemirror_mode": {
    "name": "ipython",
    "version": 3
   },
   "file_extension": ".py",
   "mimetype": "text/x-python",
   "name": "python",
   "nbconvert_exporter": "python",
   "pygments_lexer": "ipython3",
   "version": "3.9.6"
  }
 },
 "nbformat": 4,
 "nbformat_minor": 5
}

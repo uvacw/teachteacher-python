{
 "cells": [
  {
   "cell_type": "markdown",
   "id": "c67b6148-e2f5-4ad9-a99e-2f5743c8dbcc",
   "metadata": {
    "editable": true,
    "slideshow": {
     "slide_type": "slide"
    },
    "tags": []
   },
   "source": [
    "# Teaching Python <img style=\"text-align:center\" src=\"python.png\" alt=\"Alt text\" width=\"50\" height=\"30\" /> \n",
    "\n",
    "## Day 1: _The Basics_\n",
    "\n",
    "**Frederic R. Hopp**  \n",
    "**@freddy_hopp | @fhopp.bsky.social**  \n",
    "**https://fhopp.github.io/**\n",
    "\n",
    "**13.11.2023**\n",
    "\n",
    "Amsterdam School of Communication Research"
   ]
  },
  {
   "cell_type": "markdown",
   "id": "8c78dd31-2a19-4c27-b3bb-591d1101c959",
   "metadata": {
    "editable": true,
    "slideshow": {
     "slide_type": "skip"
    },
    "tags": []
   },
   "source": [
    "***"
   ]
  },
  {
   "cell_type": "markdown",
   "id": "bd712f0b-c79e-42b3-879e-4a45cc2f2f15",
   "metadata": {
    "editable": true,
    "slideshow": {
     "slide_type": "slide"
    },
    "tags": []
   },
   "source": [
    "# Agenda \n",
    "\n",
    "## 1. Introductions\n",
    "\n",
    "## 2. Why Python? \n",
    "\n",
    "## 3. Python Basics\n",
    "\n",
    "## 4. Exercises\n",
    "\n",
    "## ~ BREAK ~\n",
    "\n",
    "## 5. Teaching Python\n",
    "\n",
    "## 6. More Exercises"
   ]
  },
  {
   "cell_type": "markdown",
   "id": "71832bee-f4eb-4c3c-8aa4-9def58787555",
   "metadata": {
    "editable": true,
    "slideshow": {
     "slide_type": "skip"
    },
    "tags": []
   },
   "source": [
    "***"
   ]
  },
  {
   "cell_type": "markdown",
   "id": "cbdff62c-9665-4498-987b-619b09bf9a7c",
   "metadata": {
    "editable": true,
    "slideshow": {
     "slide_type": "slide"
    },
    "tags": []
   },
   "source": [
    "# Introductions \n",
    "\n",
    "## Who are you?\n",
    "## Why are you here?\n",
    "## What is your Python/R/SPPS/Excel background?"
   ]
  },
  {
   "cell_type": "markdown",
   "id": "b87c70f6-79a1-45e5-8457-7fc7fa65be3b",
   "metadata": {
    "editable": true,
    "slideshow": {
     "slide_type": "slide"
    },
    "tags": []
   },
   "source": [
    "# Why Python? \n",
    "\n",
    "Science should be _transparent_ and _reproducible_ by **anyone**...\n",
    "\n",
    "We need tools that are\n",
    "- platform-independent\n",
    "- free (as in beer and as in speech, gratis and libre)\n",
    "- which implies: open source\n",
    " \n",
    "This ensures our research \n",
    "- (a) can be reproduced by anyone\n",
    "- (b) no black box that no one can look inside.\n",
    "    - ongoing open-science debate! ([van Atteveldt et al., 2019](https://ijoc.org/index.php/ijoc/article/view/10631))\n",
    "\n",
    "![CCR](ccr_logo.png)"
   ]
  },
  {
   "cell_type": "markdown",
   "id": "546fd971-7643-4c16-b320-f5ea2bb47496",
   "metadata": {
    "editable": true,
    "slideshow": {
     "slide_type": "subslide"
    },
    "tags": []
   },
   "source": [
    "**[Vis (2013)](https://firstmonday.org/ojs/index.php/fm/article/view/4878)**\n",
    "\n",
    "\"[...] these [commercial] tools are often unsuitable for academic purposes because of their cost, along with the problematic `black box' nature of many of these tools.\u0011\"\n",
    "\n",
    "**[Mahrt and Scharkow (2013)](https://www.tandfonline.com/doi/abs/10.1080/08838151.2012.761700)**\n",
    "\n",
    "\" [...] we should resist the temptation to let the opportunities and constraints of an application or platform determine the research question[...]\"\u0011"
   ]
  },
  {
   "cell_type": "markdown",
   "id": "f0e3cea7-b6b9-47be-9b9b-af1be99cb5b5",
   "metadata": {
    "editable": true,
    "slideshow": {
     "slide_type": "skip"
    },
    "tags": []
   },
   "source": [
    "***"
   ]
  },
  {
   "cell_type": "markdown",
   "id": "b630e737-7fdd-44f4-b991-bb115014286c",
   "metadata": {
    "editable": true,
    "slideshow": {
     "slide_type": "slide"
    },
    "tags": []
   },
   "source": [
    "# Python \n",
    "\n",
    "## A language, not a program"
   ]
  },
  {
   "cell_type": "markdown",
   "id": "e9313445-93a6-4d65-9238-bf05a46bf14f",
   "metadata": {
    "editable": true,
    "slideshow": {
     "slide_type": "subslide"
    },
    "tags": []
   },
   "source": [
    "# What? \n",
    "\n",
    "A language, not a program  \n",
    "\n",
    "Huge advantage: flexibility, portability, (backward)compatability\n",
    "\n",
    "One of _the_ languages for data science. (The other being R)\n",
    "\n",
    "- But: Python is (a lot!) more versatile. R for stats, Python for everything else. \n",
    "\n",
    "# Which version? \n",
    "\n",
    "We use Python 3. \n",
    "\n",
    "Ask me about virtual environments..."
   ]
  },
  {
   "cell_type": "markdown",
   "id": "c8eaec48-a2c5-4dbb-a90c-912b23b26a21",
   "metadata": {
    "editable": true,
    "slideshow": {
     "slide_type": "skip"
    },
    "tags": []
   },
   "source": [
    "***"
   ]
  },
  {
   "cell_type": "markdown",
   "id": "e2916235-7ab1-4935-ac87-2b42a61f571f",
   "metadata": {
    "editable": true,
    "slideshow": {
     "slide_type": "slide"
    },
    "tags": []
   },
   "source": [
    "# Jupyter Lab\n",
    "\n",
    "- A program to run Julia, Python, and Ruby (JuPytR)\n",
    "- Compare with RStudio (but more lightweigth)\n",
    "- At the heart: Notebooks (cf. R)\n",
    "    - Run and document code\n",
    "    - Create Slides\n",
    "    - ...\n",
    "- File browser, text editor, data viewer, ...\n",
    "\n",
    "**Let's start JupyterLab!**"
   ]
  },
  {
   "cell_type": "markdown",
   "id": "ab6a3670-1806-4fe7-a3ba-193ba37b4ca5",
   "metadata": {
    "editable": true,
    "slideshow": {
     "slide_type": "subslide"
    },
    "tags": []
   },
   "source": [
    "# Navigating Notebooks\n",
    "\n",
    "The keyboard is your friend. The trackpad/mouse not. \n",
    "\n",
    "_Hands on:_\n",
    "\n",
    "Create a new notebook in jlab and open it..\n",
    "1. Hit `ESC` to enter \"cell selection\" mode\n",
    "2. Hit `A` to create new cell ABOVE current one\n",
    "3. Hit `B` to create new cell BELOW current one\n",
    "4. Hit `DD` to delete current cell\n",
    "5. Use `UP` and `DOWN` arrow keys to navigate between cells\n",
    "6. Hit `ENTER` to enter \"cell editing\" mode\n",
    "7. When in \"cell selection\" mode (see #1) hit `M` to create a `Markdown` cell (for text, headings, etc. more later)\n",
    "8. `SHIFT`+`ENTER` **executes** a cell. Windows: `Strg`+`ENTER` should do it. "
   ]
  },
  {
   "cell_type": "markdown",
   "id": "16d1ca2d-c58c-4062-8c34-46c5968494f5",
   "metadata": {
    "editable": true,
    "slideshow": {
     "slide_type": "slide"
    },
    "tags": []
   },
   "source": [
    "# Python Lingo"
   ]
  },
  {
   "cell_type": "code",
   "execution_count": 3,
   "id": "c70790c5-deec-4e36-8c3f-d06013e3f6ae",
   "metadata": {
    "editable": true,
    "slideshow": {
     "slide_type": "fragment"
    },
    "tags": []
   },
   "outputs": [
    {
     "name": "stdout",
     "output_type": "stream",
     "text": [
      "<class 'int'>\n",
      "<class 'float'>\n",
      "<class 'bool'>\n",
      "<class 'str'>\n"
     ]
    }
   ],
   "source": [
    "# Basic datatypes (variables)\n",
    "a_int = 37\n",
    "a_float = 1.5\n",
    "a_bool = True\n",
    "a_string = \"Python\"\n",
    "a_variable = \"a_variable\" # a_variable and \"a_variable\" is not the same!\n",
    "\n",
    "print(type(a_int))\n",
    "print(type(a_float))\n",
    "print(type(a_bool))\n",
    "print(type(a_string))"
   ]
  },
  {
   "cell_type": "code",
   "execution_count": null,
   "id": "19ebd73e-f84f-4d7d-a111-abe558ebf128",
   "metadata": {},
   "outputs": [],
   "source": []
  },
  {
   "cell_type": "markdown",
   "id": "e4ac41cd-53bf-4b77-a54b-12a9abb95262",
   "metadata": {
    "editable": true,
    "slideshow": {
     "slide_type": "subslide"
    },
    "tags": []
   },
   "source": [
    "a_variable and \"a_variable\" is not the same! \n",
    "\n",
    "\"5\" and 5 is not the same.\n",
    "\n",
    "- But you can transform it: int(\"5\") will return 5.\n",
    "\n",
    "You cannot calculate 3 * \"5\"\n",
    "\n",
    "- (In fact, you can. It's \"555\").\n",
    "\n",
    "But you can calculate 3 * int(\"5\")"
   ]
  },
  {
   "cell_type": "code",
   "execution_count": 2,
   "id": "11d84004-455b-4b6d-a8a9-df9c6e3f2c54",
   "metadata": {
    "editable": true,
    "slideshow": {
     "slide_type": "subslide"
    },
    "tags": []
   },
   "outputs": [],
   "source": [
    "# More advanced datatypes\n",
    "## lists []\n",
    "firstnames = ['Alice','Bob','Cecile'] \n",
    "lastnames = ['Garcia','Lee','Miller']\n",
    "ages = [18,22,45]\n",
    "\n",
    "# dictionary {x:y}\n",
    "agedict = {'Alice': 18, 'Cecile': 45} "
   ]
  },
  {
   "cell_type": "code",
   "execution_count": 3,
   "id": "f4a027bf-590f-423a-a3f9-ffd90a8326f0",
   "metadata": {
    "editable": true,
    "slideshow": {
     "slide_type": "subslide"
    },
    "tags": []
   },
   "outputs": [
    {
     "name": "stdout",
     "output_type": "stream",
     "text": [
      "Alice\n",
      "Bob\n",
      "['Alice', 'Bob']\n",
      "['Bob', 'Cecile']\n",
      "['Bob', 'Cecile']\n",
      "18\n"
     ]
    }
   ],
   "source": [
    "# Retrieving items\n",
    "print(firstnames[0]) # gives you the first entry\n",
    "print(firstnames[-2]) # gives you the one-but-last entry \n",
    "print(firstnames[:2]) # gives you entries 0 and 1\n",
    "print(firstnames[1:3]) # gives you entries 1 and 2 \n",
    "print(firstnames[1:]) # gives you entries 1 until the end\n",
    "print(agedict[\"Alice\"]) # gives you 18"
   ]
  },
  {
   "cell_type": "code",
   "execution_count": 4,
   "id": "5cc85e4f-1767-443c-ae35-50fd2f7ec7ac",
   "metadata": {
    "editable": true,
    "slideshow": {
     "slide_type": "subslide"
    },
    "tags": []
   },
   "outputs": [
    {
     "name": "stdout",
     "output_type": "stream",
     "text": [
      "{1, 2, 3, 4}\n"
     ]
    }
   ],
   "source": [
    "# Less frequent, more useful datatypes\n",
    "## Sets \n",
    "a_set = {1,2,3} # collection of unique items\n",
    "duplicates = [1,2,2,3,3,4]\n",
    "no_duplicates = set(duplicates)\n",
    "print(no_duplicates)\n",
    "## tuple ()\n",
    "a_tuple = (1,2,2,3) # like list, but immutable (cannot be changed) \n",
    "\n",
    "# ... many more later! "
   ]
  },
  {
   "cell_type": "markdown",
   "id": "4e020171-c062-4bc6-8e14-ab0306f7ccc5",
   "metadata": {
    "editable": true,
    "slideshow": {
     "slide_type": "subslide"
    },
    "tags": []
   },
   "source": [
    "# Functions\n",
    "Remember $f(x) = y$? \n",
    "\n",
    "Take an input (x) \"do sth to x\" and return result (y)\n",
    "\n",
    "Functions need to be \"called\" -> ()\n",
    "\n",
    "E.g. len([1,2,3]) returns 3. "
   ]
  },
  {
   "cell_type": "markdown",
   "id": "bbd36c41-c091-4c02-8914-56d83ac879eb",
   "metadata": {
    "editable": true,
    "slideshow": {
     "slide_type": "subslide"
    },
    "tags": []
   },
   "source": [
    "# Some functions \n",
    "- len(x) # returns the length of x\n",
    "- y = len(x) # assign the value returned by len(x) to y\n",
    "- print(len(x)) # print the value returned by len(x)\n",
    "- print(y) # print y\n",
    "- int(x) # convert x to an integer\n",
    "- str(x) # convert x to a string\n",
    "- sum(x) # get the sum of x"
   ]
  },
  {
   "cell_type": "code",
   "execution_count": 5,
   "id": "472de93b-50c5-47f4-8a4d-971b70a57fd1",
   "metadata": {
    "editable": true,
    "slideshow": {
     "slide_type": "fragment"
    },
    "tags": []
   },
   "outputs": [],
   "source": [
    "# How could you print the mean of a list with those functions? \n",
    "# your_code_here"
   ]
  },
  {
   "cell_type": "code",
   "execution_count": 6,
   "id": "a8a8a1fa-6485-400d-900d-f913d54d63e0",
   "metadata": {
    "editable": true,
    "slideshow": {
     "slide_type": "fragment"
    },
    "tags": []
   },
   "outputs": [],
   "source": [
    "# sum(x) / len(x)"
   ]
  },
  {
   "cell_type": "code",
   "execution_count": 10,
   "id": "b7c1b5cf-afa5-430f-b48b-3494000a37da",
   "metadata": {
    "editable": true,
    "slideshow": {
     "slide_type": "subslide"
    },
    "tags": []
   },
   "outputs": [],
   "source": [
    "# Write your own function \n",
    "def addone(x):\n",
    "    y = x + 1\n",
    "    return y "
   ]
  },
  {
   "cell_type": "markdown",
   "id": "8eee6f5d-50f1-48f5-87a0-a237bf9f57eb",
   "metadata": {
    "editable": true,
    "slideshow": {
     "slide_type": "fragment"
    },
    "tags": []
   },
   "source": [
    "Reminder: Functions take some input (\u0010argument\u0011)  \n",
    "(in this example, we called it x) and return some result."
   ]
  },
  {
   "cell_type": "code",
   "execution_count": 12,
   "id": "1827a07b-31f3-4d84-9bc2-39cade613a0a",
   "metadata": {
    "editable": true,
    "slideshow": {
     "slide_type": "fragment"
    },
    "tags": []
   },
   "outputs": [
    {
     "data": {
      "text/plain": [
       "11"
      ]
     },
     "execution_count": 12,
     "metadata": {},
     "output_type": "execute_result"
    }
   ],
   "source": [
    "# Thus, running:\n",
    "addone(10)\n",
    "# returns: "
   ]
  },
  {
   "cell_type": "code",
   "execution_count": 16,
   "id": "7e65534f-c60d-4771-a8af-0fbe6b0e0046",
   "metadata": {},
   "outputs": [],
   "source": [
    "my_string = \"SCREAM\""
   ]
  },
  {
   "cell_type": "code",
   "execution_count": 23,
   "id": "081b0c4e-2a62-42af-844b-ef552e774842",
   "metadata": {},
   "outputs": [],
   "source": [
    "my_string = my_string.lower()"
   ]
  },
  {
   "cell_type": "code",
   "execution_count": 24,
   "id": "8f390c2e-5de7-4269-af44-91a25e39d5d0",
   "metadata": {},
   "outputs": [
    {
     "data": {
      "text/plain": [
       "'scream'"
      ]
     },
     "execution_count": 24,
     "metadata": {},
     "output_type": "execute_result"
    }
   ],
   "source": [
    "my_string"
   ]
  },
  {
   "cell_type": "markdown",
   "id": "76d824b1-0456-41e3-bf51-62c56396ddfd",
   "metadata": {
    "editable": true,
    "slideshow": {
     "slide_type": "subslide"
    },
    "tags": []
   },
   "source": [
    "# Methods\n",
    "\n",
    "Similar to functions, but directly associated with an **object**. \n",
    "\n",
    "Everything in python is an **[object](https://linux.die.net/diveintopython/html/getting_to_know_python/everything_is_an_object.html#d0e4665)**. \n",
    "\n",
    "Methods are typically accessed with the \".\" operator:\n",
    "- \"SCREAM\".lower() returns the string \"scream\"\n",
    "- a_list.append(\"hi\") adds \"hi\" to a list\n",
    "- ...\n",
    "\n",
    "Both functions and methods end with ().  \n",
    "Between the (), `arguments` can (sometimes have to) be supplied."
   ]
  },
  {
   "cell_type": "markdown",
   "id": "de600d85-5981-4e21-9828-1baa5ccd0b7b",
   "metadata": {
    "editable": true,
    "slideshow": {
     "slide_type": "subslide"
    },
    "tags": []
   },
   "source": [
    "## Some String Methods\n",
    "mystring = \"Hi! How are you?\"  \n",
    "mystring.lower() # return lowercased string (**doesn't change original!**)  \n",
    "mylowercasedstring = mystring.lower() # save to a new variable  \n",
    "mystring = mystring.lower() # or override the old one  \n",
    "mystring.upper() # uppercase  \n",
    "mystring.split() # Splits on spaces and returns a list  \n",
    "['Hi!', 'How', ' are', 'you?']\n",
    "\n",
    "=> **You can use TAB-completion in Jupyter to see all\n",
    "methods (and properties) of an object!**"
   ]
  },
  {
   "cell_type": "markdown",
   "id": "a2dd3f62-d079-4019-89e1-8c1e60420b13",
   "metadata": {
    "editable": true,
    "slideshow": {
     "slide_type": "subslide"
    },
    "tags": []
   },
   "source": [
    "# Modifying lists\n",
    "\n",
    "Let's use one of our first methods! Each list has a method .append():"
   ]
  },
  {
   "cell_type": "code",
   "execution_count": 9,
   "id": "dca61237-94b4-4871-a33e-4dc1527c0623",
   "metadata": {
    "editable": true,
    "slideshow": {
     "slide_type": "fragment"
    },
    "tags": []
   },
   "outputs": [
    {
     "name": "stdout",
     "output_type": "stream",
     "text": [
      "['element 1', 'element 2', 'element 3']\n"
     ]
    }
   ],
   "source": [
    "mijnlijst = [\"element 1\", \"element 2\"]\n",
    "anotherone = \"element 3\" # note that this is a string, not a list!\n",
    "mijnlijst.append(anotherone)\n",
    "print(mijnlijst)"
   ]
  },
  {
   "cell_type": "markdown",
   "id": "4593b5b0-7527-49ec-8f07-065ab51abac1",
   "metadata": {
    "editable": true,
    "slideshow": {
     "slide_type": "subslide"
    },
    "tags": []
   },
   "source": [
    "# Merging two lists (=extending)"
   ]
  },
  {
   "cell_type": "code",
   "execution_count": 10,
   "id": "6a6f2c9d-7c66-451d-819d-657aad089ee5",
   "metadata": {
    "editable": true,
    "slideshow": {
     "slide_type": "fragment"
    },
    "tags": []
   },
   "outputs": [
    {
     "name": "stdout",
     "output_type": "stream",
     "text": [
      "['element 1', 'element 2', 'element 3', 'element 4']\n"
     ]
    }
   ],
   "source": [
    "mijnlijst = [\"element 1\", \"element 2\"]\n",
    "anotherone = [\"element 3\", \"element 4\"]\n",
    "mijnlijst.extend(anotherone)\n",
    "print(mijnlijst)"
   ]
  },
  {
   "cell_type": "markdown",
   "id": "8be0a2d0-8b5e-44cb-a010-64758384403b",
   "metadata": {
    "editable": true,
    "slideshow": {
     "slide_type": "subslide"
    },
    "tags": []
   },
   "source": [
    "# Modifying Dicts\n",
    "\n",
    "Adding a key to a dict (or changing the value of an existing key)"
   ]
  },
  {
   "cell_type": "code",
   "execution_count": 11,
   "id": "7115cdc1-58f4-4138-b69e-b3664157f62a",
   "metadata": {
    "editable": true,
    "slideshow": {
     "slide_type": "fragment"
    },
    "tags": []
   },
   "outputs": [
    {
     "name": "stdout",
     "output_type": "stream",
     "text": [
      "{'whatever': 42, 'something': 11, 'somethingelse': 76}\n"
     ]
    }
   ],
   "source": [
    "mydict = {\"whatever\": 42, \"something\": 11}\n",
    "mydict[\"somethingelse\"] = 76\n",
    "print(mydict)"
   ]
  },
  {
   "cell_type": "markdown",
   "id": "94ef7bf7-6c03-4702-8af6-9c6cd3ae812b",
   "metadata": {
    "editable": true,
    "slideshow": {
     "slide_type": "fragment"
    },
    "tags": []
   },
   "source": [
    "**If a key already exists, its value is simply replaced.**"
   ]
  },
  {
   "cell_type": "markdown",
   "id": "b95d5c3e-e764-4080-b863-2e82191e570a",
   "metadata": {
    "editable": true,
    "slideshow": {
     "slide_type": "skip"
    },
    "tags": []
   },
   "source": [
    "***"
   ]
  },
  {
   "cell_type": "markdown",
   "id": "2ac98874-1ebe-4f7e-ad34-4e5da9810114",
   "metadata": {
    "editable": true,
    "slideshow": {
     "slide_type": "slide"
    },
    "tags": []
   },
   "source": [
    "# Structuring our Program\n",
    "\n",
    "If we want to repeat a block of code, exectute a block of code only under specific conditions, or more generally want to structure our code, we use **indention**.\n",
    "\n",
    "Indention: The Python way of structuring your program:\n",
    "- Your program is structured by TABs or SPACEs.\n",
    "- Jupyter (or your IDE) handles (guesses) this for you, but make sure to not interfere and not to mix TABs or SPACEs!\n",
    "- Default: four spaces per level of indention"
   ]
  },
  {
   "cell_type": "markdown",
   "id": "d9aff550-bdee-48cf-a32f-007797f6c9db",
   "metadata": {
    "editable": true,
    "slideshow": {
     "slide_type": "subslide"
    },
    "tags": []
   },
   "source": [
    "## Structure\n",
    "A first example of an indented block \u0015in this case, we want to _repeat_ this block:"
   ]
  },
  {
   "cell_type": "code",
   "execution_count": 28,
   "id": "b034bcd1-2e44-4de9-8c48-ec7f0305fcbb",
   "metadata": {
    "editable": true,
    "slideshow": {
     "slide_type": "fragment"
    },
    "tags": []
   },
   "outputs": [
    {
     "name": "stdout",
     "output_type": "stream",
     "text": [
      "The names and ages of my friends:\n",
      "I am in the loop: 0\n",
      "Alice\n",
      "I am in the loop: 1\n",
      "Bob\n",
      "I am in the loop: 2\n",
      "Cecile\n"
     ]
    }
   ],
   "source": [
    "agedict = {'Zeus': None, 'Denis': 96, 'Alice': 18, \n",
    "           'Rebecca': 20 , 'Bob': 22, 'Cecile': 45}\n",
    "myfriends = ['Alice','Bob','Cecile']\n",
    "\n",
    "print (\"The names and ages of my friends:\")\n",
    "\n",
    "counter = 0\n",
    "for buddy in myfriends:\n",
    "    print(\"I am in the loop:\", counter)\n",
    "    print(buddy)\n",
    "    counter += 1\n",
    "    # print(f\"My friend {buddy} is {agedict[buddy]} years old\")"
   ]
  },
  {
   "cell_type": "markdown",
   "id": "d4bc6fc2-9b1b-4473-bc9a-a239c44eb4d8",
   "metadata": {
    "editable": true,
    "slideshow": {
     "slide_type": "subslide"
    },
    "tags": []
   },
   "source": [
    "## What happened here?"
   ]
  },
  {
   "cell_type": "code",
   "execution_count": 13,
   "id": "a77cbbe9-f245-484f-970b-b27197be3698",
   "metadata": {
    "editable": true,
    "slideshow": {
     "slide_type": "fragment"
    },
    "tags": []
   },
   "outputs": [
    {
     "name": "stdout",
     "output_type": "stream",
     "text": [
      "My friend Alice is 18 years old\n",
      "My friend Bob is 22 years old\n",
      "My friend Cecile is 45 years old\n"
     ]
    }
   ],
   "source": [
    "for buddy in myfriends:\n",
    "    print (f\"My friend {buddy} is {agedict[buddy]} years old\")"
   ]
  },
  {
   "cell_type": "markdown",
   "id": "551d8d3c-8e8c-404c-ac48-9eefeb2fe024",
   "metadata": {
    "editable": true,
    "slideshow": {
     "slide_type": "fragment"
    },
    "tags": []
   },
   "source": [
    "### The for loop: \n",
    "1. Take the first element from myfriends and call it buddy (like\n",
    "buddy = myfriends[0]) (line 1)\n",
    "2. Execute the indented block (line 2, but could be more lines)\n",
    "3. Go back to line 1, take next element (like buddy = myfriends[1])\n",
    "4. Execture the indented block . . .\n",
    "5. . . . repeat until no elements are left . . ."
   ]
  },
  {
   "cell_type": "markdown",
   "id": "050535c7-1a16-4c9d-8925-7f3fd6969f6d",
   "metadata": {
    "editable": true,
    "slideshow": {
     "slide_type": "fragment"
    },
    "tags": []
   },
   "source": [
    "### The f-string\n",
    "\n",
    "If you prepend a string with an f, you can use curly brackets {} to insert the value of a variable. "
   ]
  },
  {
   "cell_type": "markdown",
   "id": "2e60e330-7677-4972-92d9-b030d85e37f5",
   "metadata": {
    "editable": true,
    "slideshow": {
     "slide_type": "skip"
    },
    "tags": []
   },
   "source": [
    "***"
   ]
  },
  {
   "cell_type": "markdown",
   "id": "fd2d7db2-83b8-4603-9357-1419a799e348",
   "metadata": {
    "editable": true,
    "slideshow": {
     "slide_type": "subslide"
    },
    "tags": []
   },
   "source": [
    "The line _before_ an indented block starts with a `statement` indicating what\n",
    "should be done with the block and ends with a `:` \n",
    "\n",
    "#### More in general, the : + indention indicates that\n",
    "\n",
    "- the block is to be executed repeatedly (`for` statement) \u0015e.g., for each element from a list, or until a condition is reached (`while` statement)\n",
    "- the block is only to be executed under specific conditions (`if`, `elif`, and `else` statements)\n",
    "- an alternative block should be executed if an error occurs in the block (`try` and `except` statements)\n",
    "- a file is opened, but should be closed again after the block has been executed (`with` statement)"
   ]
  },
  {
   "cell_type": "markdown",
   "id": "289c5a57-25fd-474e-9421-c9f7932a9800",
   "metadata": {
    "editable": true,
    "slideshow": {
     "slide_type": "subslide"
    },
    "tags": []
   },
   "source": [
    "### Can we also loop over dicts?\n",
    "\n",
    "Sure! But we need to indicate how exactly: "
   ]
  },
  {
   "cell_type": "code",
   "execution_count": 14,
   "id": "f5897b30-0f63-491d-a5df-5ce396d74800",
   "metadata": {
    "editable": true,
    "slideshow": {
     "slide_type": "fragment"
    },
    "tags": []
   },
   "outputs": [
    {
     "name": "stdout",
     "output_type": "stream",
     "text": [
      "A\n",
      "B\n",
      "C\n",
      "---\n",
      "100\n",
      "60\n",
      "30\n",
      "---\n",
      "A has the value 100\n",
      "B has the value 60\n",
      "C has the value 30\n"
     ]
    }
   ],
   "source": [
    "mydict = {\"A\":100, \"B\": 60, \"C\": 30}\n",
    "\n",
    "for k in mydict: # or mydict.keys()\n",
    "    print(k)\n",
    "\n",
    "print('---')\n",
    "for v in mydict.values():\n",
    "    print(v)\n",
    "\n",
    "print('---')\n",
    "for k,v in mydict.items():\n",
    "    print(f\"{k} has the value {v}\")"
   ]
  },
  {
   "cell_type": "markdown",
   "id": "47b04d55-e3b0-4a95-b2ed-210d581e5479",
   "metadata": {
    "editable": true,
    "slideshow": {
     "slide_type": "subslide"
    },
    "tags": []
   },
   "source": [
    "### if statements\n",
    "\n",
    "#### Structure\n",
    "Only execute block if condition is met"
   ]
  },
  {
   "cell_type": "code",
   "execution_count": 15,
   "id": "ae2314dc-60c6-4bd4-bbc6-7f2e6b47fd01",
   "metadata": {
    "editable": true,
    "slideshow": {
     "slide_type": "fragment"
    },
    "tags": []
   },
   "outputs": [
    {
     "name": "stdout",
     "output_type": "stream",
     "text": [
      "5 is smaller than 10\n"
     ]
    }
   ],
   "source": [
    "x = 5\n",
    "if x <10:\n",
    "    print(f\"{x} is smaller than 10\")\n",
    "elif x > 20:\n",
    "    print(f\"{x} is greater than 20\")\n",
    "else:\n",
    "    print(\"No previous condition is met, therefore 10<={x}<=20\")"
   ]
  },
  {
   "cell_type": "markdown",
   "id": "05608512-1ce4-4001-bc49-6788a3ee1537",
   "metadata": {
    "editable": true,
    "slideshow": {
     "slide_type": "subslide"
    },
    "tags": []
   },
   "source": [
    "#### Can you see how such an if statement could be particularly useful when nested in a for loop?"
   ]
  },
  {
   "cell_type": "markdown",
   "id": "18af62ac-ec4b-48ce-b29c-35f51a3d6818",
   "metadata": {
    "editable": true,
    "slideshow": {
     "slide_type": "subslide"
    },
    "tags": []
   },
   "source": [
    "### try/except\n",
    "\n",
    "**Structure**  \n",
    "If executed block fails, run another block instead"
   ]
  },
  {
   "cell_type": "code",
   "execution_count": 16,
   "id": "515f894b-95e7-479c-a997-f82986a4ec66",
   "metadata": {
    "editable": true,
    "slideshow": {
     "slide_type": "fragment"
    },
    "tags": []
   },
   "outputs": [],
   "source": [
    "x = \"5\"\n",
    "try:\n",
    "    myint = int(x)\n",
    "except:\n",
    "    myint = 0"
   ]
  },
  {
   "cell_type": "markdown",
   "id": "d272a64c-faa7-4fe9-9ed3-c9059ae441e7",
   "metadata": {
    "editable": true,
    "slideshow": {
     "slide_type": "fragment"
    },
    "tags": []
   },
   "source": [
    "Again, more useful when executed repeatedly (in a loop or function):"
   ]
  },
  {
   "cell_type": "code",
   "execution_count": 17,
   "id": "8da35ea6-bf33-453c-918a-466600f10372",
   "metadata": {
    "editable": true,
    "slideshow": {
     "slide_type": "fragment"
    },
    "tags": []
   },
   "outputs": [
    {
     "name": "stdout",
     "output_type": "stream",
     "text": [
      "[5, 3, None, 2]\n"
     ]
    }
   ],
   "source": [
    "mylist = [\"5\", 3, \"whatever\", 2.2]\n",
    "myresults = []\n",
    "for x in mylist:\n",
    "    try:\n",
    "        myresults.append(int(x))\n",
    "    except:\n",
    "        myresults.append(None)\n",
    "print(myresults)"
   ]
  },
  {
   "cell_type": "markdown",
   "id": "6d9a4621-6488-4310-b0bd-26e790246900",
   "metadata": {
    "editable": true,
    "slideshow": {
     "slide_type": "subslide"
    },
    "tags": []
   },
   "source": [
    "### List comprehensions\n",
    "\n",
    "**Structure**  \n",
    "A for loop that .append()s to an empty list can be replaced by a _one-liner_: "
   ]
  },
  {
   "cell_type": "code",
   "execution_count": 18,
   "id": "befcae00-68b4-4271-8668-ae1f1d12391e",
   "metadata": {
    "editable": true,
    "slideshow": {
     "slide_type": "fragment"
    },
    "tags": []
   },
   "outputs": [],
   "source": [
    "mynumbers = [2,1,6,5]\n",
    "mysquarednumbers = []\n",
    "for x in mynumbers:\n",
    "    mysquarednumbers.append(x**2)"
   ]
  },
  {
   "cell_type": "markdown",
   "id": "7569b147-950c-4775-b17f-ce74d7f5ef80",
   "metadata": {
    "editable": true,
    "slideshow": {
     "slide_type": "fragment"
    },
    "tags": []
   },
   "source": [
    "is equivalent to:"
   ]
  },
  {
   "cell_type": "code",
   "execution_count": 19,
   "id": "cf683264-92b1-405f-9120-0271c78eb9bd",
   "metadata": {
    "editable": true,
    "slideshow": {
     "slide_type": "fragment"
    },
    "tags": []
   },
   "outputs": [],
   "source": [
    "mynumbers = [2,1,6,5]\n",
    "mysquarednumbers = [x**2 for x in mynumbers]"
   ]
  },
  {
   "cell_type": "markdown",
   "id": "02b24643-a2a0-46ec-b9fd-ad1b8232c1ad",
   "metadata": {
    "editable": true,
    "slideshow": {
     "slide_type": "fragment"
    },
    "tags": []
   },
   "source": [
    "Optinally, we can have a condition:"
   ]
  },
  {
   "cell_type": "code",
   "execution_count": 20,
   "id": "1dd589a4-fa9f-4655-beca-78cd00e64e4f",
   "metadata": {
    "editable": true,
    "slideshow": {
     "slide_type": "fragment"
    },
    "tags": []
   },
   "outputs": [],
   "source": [
    "mynumbers = [2,1,6,5]\n",
    "mysquarednumbers = [x**2 for x in mynumbers if x>3]"
   ]
  },
  {
   "cell_type": "markdown",
   "id": "31eb7a97-c671-4baf-b856-a31458303cc9",
   "metadata": {
    "editable": true,
    "slideshow": {
     "slide_type": "subslide"
    },
    "tags": []
   },
   "source": [
    "### List comprehensions\n",
    "\n",
    "**A very pythonic construct**\n",
    "- Every for loop can also be written as a for loop that appends to a new list to collect the results.\n",
    "- For very complex operations (e.g., nested for loops), it can be easier to write out the full loops.\n",
    "- But mostly, list comprehensions are really great! (and much more concise!)\n",
    "\n",
    "**⇒ You really should learn this!**"
   ]
  },
  {
   "cell_type": "markdown",
   "id": "468aea70-d985-42b4-ba43-d40f5dfe0564",
   "metadata": {
    "editable": true,
    "slideshow": {
     "slide_type": "skip"
    },
    "tags": []
   },
   "source": [
    "***"
   ]
  },
  {
   "cell_type": "markdown",
   "id": "bfd9dfed-7b2b-478f-8d6a-2bb4d647ab76",
   "metadata": {
    "editable": true,
    "slideshow": {
     "slide_type": "slide"
    },
    "tags": []
   },
   "source": [
    "# ☕ 15 Minute Break ☕"
   ]
  },
  {
   "cell_type": "markdown",
   "id": "5bd95c97-1d22-46be-a067-f78acdb5153c",
   "metadata": {
    "editable": true,
    "slideshow": {
     "slide_type": "skip"
    },
    "tags": []
   },
   "source": [
    "***"
   ]
  },
  {
   "cell_type": "markdown",
   "id": "cbb8d8fc-f832-4ac8-bf44-474ece37a21c",
   "metadata": {
    "editable": true,
    "slideshow": {
     "slide_type": "slide"
    },
    "tags": []
   },
   "source": [
    "# Exercises \n",
    "\n",
    "## Exercise 1: Working with lists\n",
    "\n",
    "### 1. Warming up\n",
    "\n",
    "- Create a list, loop over the list, and do something with each value (you're free to choose). \n",
    "\n",
    "### 2. Did you pass?\n",
    "\n",
    "- Think of a way to determine for a list of  grades whether they are a pass (>5.5) or fail.\n",
    "- Can you make that program robust enough to handle invalid input (e.g., a grade as 'ewghjieh')?\n",
    "- How does your program deal with impossible grades (e.g., 12 or -3)?\n",
    "- Any other improvements?"
   ]
  },
  {
   "cell_type": "code",
   "execution_count": 21,
   "id": "d674bc59-687a-4079-873e-b272c2c09f6f",
   "metadata": {
    "editable": true,
    "slideshow": {
     "slide_type": "subslide"
    },
    "tags": []
   },
   "outputs": [
    {
     "name": "stdout",
     "output_type": "stream",
     "text": [
      "4 is a FAIL\n",
      "7.8 is a PASS\n",
      "-3.0 is an invalid grade\n",
      "3.6 is a FAIL\n",
      "12.0 is an invalid grade\n",
      "9.1 is a PASS\n",
      "4.4 is a FAIL\n",
      "I do not understand what KEGJKEG means\n",
      "4.2 is a FAIL\n",
      "7 is a PASS\n",
      "5.5 is a PASS\n"
     ]
    }
   ],
   "source": [
    "grades = [4, 7.8, -3, 3.6, 12, 9.1, \"4.4\", \"KEGJKEG\", 4.2, 7, 5.5]\n",
    "\n",
    "for grade in grades:\n",
    "    try:\n",
    "        grade_float = float(grade)\n",
    "        if grade_float >10:\n",
    "            print(grade_float,'is an invalid grade')\n",
    "        elif grade_float <1:\n",
    "            print(grade_float,'is an invalid grade')\n",
    "        elif grade_float >= 5.5:\n",
    "            print(grade,'is a PASS')\n",
    "        else:\n",
    "            print(grade,'is a FAIL')\n",
    "\n",
    "    except:\n",
    "        print('I do not understand what',grade,'means')"
   ]
  },
  {
   "cell_type": "markdown",
   "id": "3818a853-fe01-4ee2-9150-a0bedbf0cc06",
   "metadata": {
    "editable": true,
    "slideshow": {
     "slide_type": "slide"
    },
    "tags": []
   },
   "source": [
    "## 3. Working with dictionaries \n",
    "\n",
    "**Instructions**:\n",
    "You are creating a program to conduct a media preferences survey among a group of friends. The survey will gather information about the monthly movie-watching habits, daily music-listening hours, and monthly book-reading habits of each friend.\n",
    "\n",
    "**Steps**:\n",
    "1. Enter the number of friends participating in the survey.\n",
    "2. For each friend, enter their name and answer the questions about their media preferences.\n",
    "3. The program will store the information in a dictionary.\n",
    "4. After collecting the data, the program will analyze and present a summary of each friend's preferences.\n",
    "5. Finally, the program will calculate and display the average media preferences of the group."
   ]
  },
  {
   "cell_type": "markdown",
   "id": "d6eeecc8-9ddb-4897-807e-268ade9b49cd",
   "metadata": {
    "editable": true,
    "slideshow": {
     "slide_type": "subslide"
    },
    "tags": []
   },
   "source": [
    "### Tips: \n",
    "\n",
    "#### Initialize an empty dictionary to store friends' media preferences  \n",
    "media_preferences = {}\n",
    "\n",
    "#### The input function:  \n",
    "num_friends = input(\"Enter the number of friends participating in the survey: \")\n",
    "\n",
    "#### Looping over a range of values\n",
    "```\n",
    "for i in range(1, num_friends + 1):  \n",
    "    friend_name = input ...  \n",
    "    ...\n",
    "    media_preferences ...\n",
    "```"
   ]
  },
  {
   "cell_type": "code",
   "execution_count": 22,
   "id": "2dd156f3-c991-46a5-b93a-54c621d2ae77",
   "metadata": {
    "editable": true,
    "slideshow": {
     "slide_type": "skip"
    },
    "tags": []
   },
   "outputs": [
    {
     "data": {
      "text/plain": [
       "'\\n# Initialize an empty dictionary to store friends\\' media preferences\\nmedia_preferences = {}\\n\\n# Gather information about friends\\' media preferences\\nnum_friends = int(input(\"Enter the number of friends participating in the survey: \"))\\nfor i in range(1, num_friends + 1):\\n    friend_name = input(f\"Enter the name of friend #{i}: \")\\n    movies = int(input(f\"How many movies does {friend_name} watch in a month? \"))\\n    music = int(input(f\"How many hours of music does {friend_name} listen to in a day? \"))\\n    books = int(input(f\"How many books does {friend_name} read in a month? \"))\\n\\n    # Store the information in the dictionary\\n    media_preferences[friend_name] = {\\'Movies\\': movies, \\'Music\\': music, \\'Books\\': books}\\n\\n# Analyze and present the data\\nprint(\"\\nMedia Preferences Summary:\")\\nfor friend, preferences in media_preferences.items():\\n    print(f\"\\n{friend}\\'s Preferences:\")\\n    print(f\"Movies: {preferences[\\'Movies\\']} per month\")\\n    print(f\"Music: {preferences[\\'Music\\']} hours per day\")\\n    print(f\"Books: {preferences[\\'Books\\']} per month\")\\n\\n# Calculate and display average preferences\\ntotal_movies = sum(preferences[\\'Movies\\'] for preferences in media_preferences.values())\\ntotal_music = sum(preferences[\\'Music\\'] for preferences in media_preferences.values())\\ntotal_books = sum(preferences[\\'Books\\'] for preferences in media_preferences.values())\\n\\naverage_movies = total_movies / num_friends\\naverage_music = total_music / num_friends\\naverage_books = total_books / num_friends\\n\\nprint(\"\\nAverage Preferences:\")\\nprint(f\"Movies: {average_movies} per month\")\\nprint(f\"Music: {average_music} hours per day\")\\nprint(f\"Books: {average_books} per month\")\\n'"
      ]
     },
     "execution_count": 22,
     "metadata": {},
     "output_type": "execute_result"
    }
   ],
   "source": [
    "\"\"\"\n",
    "# Initialize an empty dictionary to store friends' media preferences\n",
    "media_preferences = {}\n",
    "\n",
    "# Gather information about friends' media preferences\n",
    "num_friends = int(input(\"Enter the number of friends participating in the survey: \"))\n",
    "for i in range(1, num_friends + 1):\n",
    "    friend_name = input(f\"Enter the name of friend #{i}: \")\n",
    "    movies = int(input(f\"How many movies does {friend_name} watch in a month? \"))\n",
    "    music = int(input(f\"How many hours of music does {friend_name} listen to in a day? \"))\n",
    "    books = int(input(f\"How many books does {friend_name} read in a month? \"))\n",
    "\n",
    "    # Store the information in the dictionary\n",
    "    media_preferences[friend_name] = {'Movies': movies, 'Music': music, 'Books': books}\n",
    "\n",
    "# Analyze and present the data\n",
    "print(\"\\nMedia Preferences Summary:\")\n",
    "for friend, preferences in media_preferences.items():\n",
    "    print(f\"\\n{friend}'s Preferences:\")\n",
    "    print(f\"Movies: {preferences['Movies']} per month\")\n",
    "    print(f\"Music: {preferences['Music']} hours per day\")\n",
    "    print(f\"Books: {preferences['Books']} per month\")\n",
    "\n",
    "# Calculate and display average preferences\n",
    "total_movies = sum(preferences['Movies'] for preferences in media_preferences.values())\n",
    "total_music = sum(preferences['Music'] for preferences in media_preferences.values())\n",
    "total_books = sum(preferences['Books'] for preferences in media_preferences.values())\n",
    "\n",
    "average_movies = total_movies / num_friends\n",
    "average_music = total_music / num_friends\n",
    "average_books = total_books / num_friends\n",
    "\n",
    "print(\"\\nAverage Preferences:\")\n",
    "print(f\"Movies: {average_movies} per month\")\n",
    "print(f\"Music: {average_music} hours per day\")\n",
    "print(f\"Books: {average_books} per month\")\n",
    "\"\"\""
   ]
  },
  {
   "cell_type": "markdown",
   "id": "c958cff4-b64f-49ea-b1f4-6e01843d51cf",
   "metadata": {
    "editable": true,
    "slideshow": {
     "slide_type": "skip"
    },
    "tags": []
   },
   "source": [
    "***"
   ]
  },
  {
   "cell_type": "markdown",
   "id": "98f32385-6998-4bea-a976-e0bff826c955",
   "metadata": {
    "editable": true,
    "slideshow": {
     "slide_type": "slide"
    },
    "tags": []
   },
   "source": [
    "# 🍲 Lunch Break until 13:15 🍲"
   ]
  },
  {
   "cell_type": "markdown",
   "id": "046a3554-5a9f-4fbe-9a08-2d197cd33101",
   "metadata": {
    "editable": true,
    "slideshow": {
     "slide_type": "skip"
    },
    "tags": []
   },
   "source": [
    "***"
   ]
  },
  {
   "cell_type": "markdown",
   "id": "fe729c8a-9480-4ea7-9795-547fcf4a3db5",
   "metadata": {
    "editable": true,
    "slideshow": {
     "slide_type": "slide"
    },
    "tags": []
   },
   "source": [
    "# Teaching Python 🐍\n",
    "\n",
    "## Installation \n",
    "- JupyterLab Desktop (what we use)\n",
    "- Anaconda (A suite of programs, including jlab, R, ...)\n",
    "    - Pro: Virtual environments, more flexibility\n",
    "    - Con: Large installation, slow on older machines\n",
    "- [Google Collab](https://colab.research.google.com/)\n",
    "    - Pro: No install; run code in \"cloud\"; can be run on all machines\n",
    "    - Con: Gdrive account needed; mounting data not trivial, ...\n",
    "\n",
    "- JupyterHub (not currently implemented at ASCoR, but my ideal solution...)\n",
    "    - Server for multiple users, each with own environment\n",
    "    - Try it [here](https://jupyter.org/try-jupyter/)\n",
    "\n"
   ]
  },
  {
   "cell_type": "markdown",
   "id": "4ad3d9e0-700b-46e9-96ca-4736c1b6b343",
   "metadata": {
    "editable": true,
    "slideshow": {
     "slide_type": "slide"
    },
    "tags": []
   },
   "source": [
    "# General Tips\n",
    "\n",
    "1. Make it project/goal-oriented and personally meaningful (=fun).\n",
    "    - Basics are required, but get hands-on quickly!\n",
    "    - Let students choose their own project within limited scope\n",
    "    - Create milestones that lead towards goal\n",
    "\n",
    "2. Patience is a virtue\n",
    "    - Stress steep learning curve\n",
    "    - ... but also fast results!\n",
    "  \n",
    "3. Create an integrative learning environment\n",
    "    - Limit extra software, but keep it centralized (more soon!)\n",
    "    - If you have TAs: Offer code reviews\n",
    "  \n",
    "4. Programming as a way of thinking\n",
    "    - Structured problem solving\n",
    "    - Recognize complex problem, try to break it into individual steps\n",
    "    - OR: think of simplest case/version of that problem and work upwards "
   ]
  },
  {
   "cell_type": "markdown",
   "id": "fc75073d-6e17-4098-8f91-be529452bcf5",
   "metadata": {
    "editable": true,
    "slideshow": {
     "slide_type": ""
    },
    "tags": []
   },
   "source": [
    "***"
   ]
  },
  {
   "cell_type": "markdown",
   "id": "80d9b6c9-9989-4c04-ab41-433abc96b20d",
   "metadata": {
    "editable": true,
    "slideshow": {
     "slide_type": "slide"
    },
    "tags": []
   },
   "source": [
    "# Jupyter Presentations \n",
    "\n",
    "Using Jupyter, you can turn any notebook into an (interactive) presentation. \n",
    "\n",
    "This can be helpful to keep everything centralized (text + code), and you can even execute code while in presentation mode. \n",
    "\n",
    "### Exercise: Create a new notebook and turn it into a presentation. \n",
    "\n",
    "**Note.** Click on the top-right \"Settings icon\", then `common tools` and then modify the `Slide Type` of a cell. \n",
    "\n",
    "- Slide: A new slide\n",
    "- Sub-slide: New slide \"below\" the current one\n",
    "- Fragment: Appears as a new \"cell\" on your current slide "
   ]
  },
  {
   "cell_type": "markdown",
   "id": "d20d59f2-d66d-4505-8a9d-fd089712b05b",
   "metadata": {
    "editable": true,
    "slideshow": {
     "slide_type": "subslide"
    },
    "tags": []
   },
   "source": [
    "To turn the notebook into a presentation, we need a particular javascript package, called reveal.js\n",
    "\n",
    "Run the following commands in your notebook to download it into the same folder as your .ipynb  \n",
    "Windows users have to start these commands with a `/`. \n",
    "\n",
    "`git clone https://github.com/hakimel/reveal.js/`\n",
    "\n",
    "Next, run the following to convert your your_notebook.ipynb into a presentation:\n",
    "\n",
    "`!jupyter-nbconvert --to slides your_notebook.ipynb --reveal-prefix=reveal.js` \n",
    "\n",
    "And finally, launch your presentation:\n",
    "\n",
    "`!jupyter-nbconvert --to slides your_notebook.ipynb --post serve` \n"
   ]
  },
  {
   "cell_type": "markdown",
   "id": "eb90b94e-715e-44fc-91e7-fc812922bf2c",
   "metadata": {
    "editable": true,
    "slideshow": {
     "slide_type": ""
    },
    "tags": []
   },
   "source": [
    "# Running code live with RISE \n",
    "\n",
    "To get even more out of this, install RISE: \n",
    "\n",
    "`pip install jupyterlab_rise` \n",
    "\n",
    "Restart jlab, open a notebook (that contains a code cell), and click on the little presentation icon on the top right to start rise. \n",
    "\n",
    "It should now be possible to execute code \"live\" in the presentation. \n"
   ]
  },
  {
   "cell_type": "markdown",
   "id": "99d9ef14-0854-4a21-87ee-e6832558d80f",
   "metadata": {
    "editable": true,
    "slideshow": {
     "slide_type": ""
    },
    "tags": []
   },
   "source": [
    "# Jupyter Book\n",
    "\n",
    "For even more centralization, you can structure all your materials in a `jupyter book`. \n",
    "\n",
    "[Jupyter book](https://jupyterbook.org/en/stable/intro.html) allows you to create a \"website\" where you can host all your notebooks, course materials, etc. \n",
    "\n",
    "As an example, check out our [Data Journalism](https://fhopp.github.io/data_journalism/content/intro.html) book. \n",
    "\n",
    "Another great feature of jupyter books are that students can use hypothesis.io to highlight text/ask questions in a notebook. \n",
    "\n",
    "**=> Creating a book takes some time, but it sure is worth the effort.** "
   ]
  },
  {
   "cell_type": "markdown",
   "id": "ac93dd08-04a8-48d5-9629-68415c007a11",
   "metadata": {
    "editable": true,
    "slideshow": {
     "slide_type": "skip"
    },
    "tags": []
   },
   "source": [
    "***"
   ]
  },
  {
   "cell_type": "markdown",
   "id": "802658a5-9683-4e0f-84ea-2651f37421ea",
   "metadata": {
    "editable": true,
    "slideshow": {
     "slide_type": "slide"
    },
    "tags": []
   },
   "source": [
    "# More Python! \n",
    "\n",
    "I'd like to introduce you to two more concepts to prepare you for the next sessions. \n",
    "\n",
    "1. Modules\n",
    "2. Paths and Files "
   ]
  },
  {
   "cell_type": "markdown",
   "id": "e8b7aa44-4f6a-4a15-acc6-04c3b396eab7",
   "metadata": {
    "editable": true,
    "slideshow": {
     "slide_type": "subslide"
    },
    "tags": []
   },
   "source": [
    "## Modules\n",
    "\n",
    "Modules are essentially \"software packages\" (think: Word, PPT, ...) designed for various tasks.  \n",
    "You will learn the common ones in this course, but for now, lets focus on their basic usage.\n",
    "\n",
    "To be used, modules always need to be imported (and sometimes installed, stay tuned!):"
   ]
  },
  {
   "cell_type": "code",
   "execution_count": 23,
   "id": "9b39d861-d452-4345-ba98-422fc2a4c22d",
   "metadata": {
    "editable": true,
    "slideshow": {
     "slide_type": "fragment"
    },
    "tags": []
   },
   "outputs": [
    {
     "name": "stdout",
     "output_type": "stream",
     "text": [
      "This code is run here: /Users/fhopp/Library/Mobile Documents/com~apple~CloudDocs/FRH/Science/ASCoR/Teaching/TTP\n"
     ]
    }
   ],
   "source": [
    "# os is useful for various \"operating system\" related things\n",
    "import os \n",
    "\n",
    "# Show current working directory\n",
    "pwd = os.getcwd()\n",
    "print('This code is run here:', pwd)\n"
   ]
  },
  {
   "cell_type": "code",
   "execution_count": 24,
   "id": "f1cc7a41-19f6-448e-91f0-212ff61bf70e",
   "metadata": {
    "editable": true,
    "slideshow": {
     "slide_type": "fragment"
    },
    "tags": []
   },
   "outputs": [
    {
     "name": "stdout",
     "output_type": "stream",
     "text": [
      "This cell took 2.165 seconds to run.\n"
     ]
    }
   ],
   "source": [
    "# Sometimes you want to measure how long a certain operation takes\n",
    "import time \n",
    "\n",
    "now = time.time()\n",
    "# How long does it take Python to loop 100 million times?\n",
    "for i in range(0,100000000):\n",
    "    continue\n",
    "end = time.time()\n",
    "total_time = round((end-now),3)\n",
    "print(f\"This cell took {total_time} seconds to run.\")"
   ]
  },
  {
   "cell_type": "code",
   "execution_count": 25,
   "id": "94930044-842c-44f0-bd13-a064a01390d9",
   "metadata": {
    "editable": true,
    "slideshow": {
     "slide_type": ""
    },
    "tags": []
   },
   "outputs": [],
   "source": [
    "# To install a module/package, you can use pip \n",
    "# pip  install pandas # uncomment to run"
   ]
  },
  {
   "cell_type": "markdown",
   "id": "115b95dd-a166-4ad5-925a-ed61b0609e86",
   "metadata": {
    "editable": true,
    "slideshow": {
     "slide_type": "slide"
    },
    "tags": []
   },
   "source": [
    "# Paths\n",
    "\n",
    "Apologies in advance, this one is tricky. \n",
    "\n",
    "When we want to load files (e.g. a csv) into Python to work with it, we have to tell Python where this file is located on our machine. \n",
    "\n",
    "As an example, let's create a simple text file using jlab and write a few things into it. \n",
    "\n",
    "Say we named it `my_file.txt` and placed it in the **same** folder as our notebook. If this is the case, we can simply open it like so:"
   ]
  },
  {
   "cell_type": "code",
   "execution_count": 28,
   "id": "8934a147-dffb-429f-b2b4-8604740f1208",
   "metadata": {
    "editable": true,
    "slideshow": {
     "slide_type": "fragment"
    },
    "tags": []
   },
   "outputs": [
    {
     "name": "stdout",
     "output_type": "stream",
     "text": [
      "This is my file. \n",
      "\n",
      "It is empty. Just like me. \n"
     ]
    }
   ],
   "source": [
    "my_file = open(\"my_original_file.txt\")\n",
    "# Read it (a method for .txt files)\n",
    "my_file = my_file.read()\n",
    "# Print the content\n",
    "print(my_file)"
   ]
  },
  {
   "cell_type": "markdown",
   "id": "6b0d0cab-b015-42b7-869a-9d0e32a39c37",
   "metadata": {
    "editable": true,
    "slideshow": {
     "slide_type": ""
    },
    "tags": []
   },
   "source": [
    "Now create a folder and place the file in it."
   ]
  },
  {
   "cell_type": "code",
   "execution_count": 29,
   "id": "01354caa-8f9b-43ff-941c-04706a76a41e",
   "metadata": {
    "editable": true,
    "slideshow": {
     "slide_type": "fragment"
    },
    "tags": []
   },
   "outputs": [],
   "source": [
    "# This will now throw an error because the path to the file is no longer correct!\n",
    "# my_file = open(\"my_file.txt\")\n",
    "\n",
    "# Instead, we need to add the folder to the file path (note the / to indicate folders)\n",
    "my_file = open(\"files/my_file.txt\")"
   ]
  },
  {
   "cell_type": "markdown",
   "id": "31f9f3d8-4d87-4d67-a6a5-fd79a3c354ec",
   "metadata": {
    "editable": true,
    "slideshow": {
     "slide_type": "slide"
    },
    "tags": []
   },
   "source": [
    "Finally, should your files reside in a galaxy far, far away, it is best to get the whole path to the folder, and keep the path as a variable:"
   ]
  },
  {
   "cell_type": "code",
   "execution_count": 30,
   "id": "33ead3ae-bfdb-4338-9054-8ac302f47905",
   "metadata": {
    "editable": true,
    "slideshow": {
     "slide_type": "fragment"
    },
    "tags": []
   },
   "outputs": [],
   "source": [
    "DATA_PATH = \"/Users/fhopp/Library/Mobile Documents/com~apple~CloudDocs/FRH/Science/ASCoR/Teaching/TTP/files\"\n",
    "\n",
    "# You can then load all files in that folder using os module\n",
    "my_files = os.listdir(DATA_PATH)"
   ]
  },
  {
   "cell_type": "markdown",
   "id": "a3036c53-b2c5-4b99-85f1-d3ad2fae2292",
   "metadata": {
    "editable": true,
    "slideshow": {
     "slide_type": "skip"
    },
    "tags": []
   },
   "source": [
    "***"
   ]
  },
  {
   "cell_type": "markdown",
   "id": "158c4fc4-ad24-4229-867b-2a2aafc07c36",
   "metadata": {
    "editable": true,
    "slideshow": {
     "slide_type": "slide"
    },
    "tags": []
   },
   "source": [
    "# How may for-loops be helpful for loading files?"
   ]
  },
  {
   "cell_type": "markdown",
   "id": "60c89bab-f189-4b03-bfac-cb43ed855293",
   "metadata": {
    "editable": true,
    "slideshow": {
     "slide_type": ""
    },
    "tags": []
   },
   "source": [
    "***"
   ]
  },
  {
   "cell_type": "markdown",
   "id": "45e41f32-893a-4369-94aa-b5daa8ba4d41",
   "metadata": {
    "editable": true,
    "slideshow": {
     "slide_type": "slide"
    },
    "tags": []
   },
   "source": [
    "# Which questions do you have? "
   ]
  },
  {
   "cell_type": "markdown",
   "id": "31e9c006-34b0-4c46-9946-9597e61db857",
   "metadata": {
    "editable": true,
    "slideshow": {
     "slide_type": ""
    },
    "tags": []
   },
   "source": [
    "***"
   ]
  },
  {
   "cell_type": "code",
   "execution_count": null,
   "id": "9b45764a-1c17-44b9-8558-929584839f62",
   "metadata": {
    "editable": true,
    "slideshow": {
     "slide_type": "skip"
    },
    "tags": []
   },
   "outputs": [],
   "source": [
    "#git clone https://github.com/hakimel/reveal.js/\n",
    "#!jupyter-nbconvert --to slides introduction.ipynb --reveal-prefix=reveal.js\n",
    "#!jupyter-nbconvert --to slides introduction.ipynb --post serve"
   ]
  }
 ],
 "metadata": {
  "kernelspec": {
   "display_name": "Python 3 (ipykernel)",
   "language": "python",
   "name": "python3"
  },
  "language_info": {
   "codemirror_mode": {
    "name": "ipython",
    "version": 3
   },
   "file_extension": ".py",
   "mimetype": "text/x-python",
   "name": "python",
   "nbconvert_exporter": "python",
   "pygments_lexer": "ipython3",
   "version": "3.8.18"
  }
 },
 "nbformat": 4,
 "nbformat_minor": 5
}

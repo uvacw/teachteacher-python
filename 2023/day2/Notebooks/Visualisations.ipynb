{
 "cells": [
  {
   "cell_type": "markdown",
   "id": "postal-vitamin",
   "metadata": {},
   "source": [
    "# Data visualisation\n",
    "\n",
    "*Based on BDACA and CCS1 materials*"
   ]
  },
  {
   "cell_type": "markdown",
   "id": "angry-alberta",
   "metadata": {},
   "source": [
    "## Choosing the right library\n",
    "\n",
    "Some background about our modules of choice:\n",
    "* matplotlib is the standard work horse. It's neither smart nor beautiful, but the decent option that just does its job. It is what happens under the hood if you use the .plot() methods in pandas, but you can also just directly feed it some lists and dictionaries as input.\n",
    "* seaborn offers more beautiful output, has many more options, is smarter and can produce advanced statistical plots. It is also a bit easier to use. Its a bit like ggplot2 in R.\n",
    "\n",
    "As you will see when browsing examples on https://python-graph-gallery.com/ , both matplotlib and seaborn are very popular, and some of the examples use one, some the other. You can do all the standard stuff (like bar charts) in either of them, and we therefore introduce you to both (after all, when googling for help, you are very likely to come accross both libraries).\n",
    "\n",
    "\n",
    "We will use a dataset that comes with seaborn and contains statistics on passengers that were embarked on the Titanic. It's just a pandas dataframe, so of course, you could also load your own dataset.\n",
    "\n",
    "It's always a good idea to use\n",
    "- `.head()`\n",
    "- `.shape` (not a method, just a property (=variable), therefore no need to call with `()`\n",
    "- `.describe()`\n",
    "- `.value_counts()`\n",
    "\n",
    "to get a first overview, so let's do that"
   ]
  },
  {
   "cell_type": "markdown",
   "id": "indie-quest",
   "metadata": {},
   "source": [
    "### Preparation"
   ]
  },
  {
   "cell_type": "code",
   "execution_count": null,
   "id": "expired-market",
   "metadata": {},
   "outputs": [],
   "source": [
    "import pandas as pd\n",
    "import numpy as np\n",
    "import seaborn as sns\n",
    "import matplotlib.pyplot as plt\n",
    "%matplotlib inline"
   ]
  },
  {
   "cell_type": "code",
   "execution_count": null,
   "id": "floppy-switzerland",
   "metadata": {},
   "outputs": [],
   "source": [
    "import ssl\n",
    "ssl._create_default_https_context = ssl._create_unverified_context"
   ]
  },
  {
   "cell_type": "code",
   "execution_count": null,
   "id": "failing-windows",
   "metadata": {},
   "outputs": [],
   "source": [
    "titanic = sns.load_dataset(\"titanic\")\n",
    "titanic.head()"
   ]
  },
  {
   "cell_type": "code",
   "execution_count": null,
   "id": "deluxe-hampshire",
   "metadata": {},
   "outputs": [],
   "source": [
    "tips = sns.load_dataset(\"tips\")\n",
    "tips.head()"
   ]
  },
  {
   "cell_type": "code",
   "execution_count": null,
   "id": "worth-retirement",
   "metadata": {},
   "outputs": [],
   "source": [
    "videos = pd.read_csv('YouTube_climatechange.tab',sep='\\t')\n",
    "videos.head()"
   ]
  },
  {
   "cell_type": "markdown",
   "id": "fitting-bathroom",
   "metadata": {},
   "source": [
    "## Matplotlib\n",
    "\n",
    "We can work directly from lists"
   ]
  },
  {
   "cell_type": "code",
   "execution_count": null,
   "id": "sunrise-election",
   "metadata": {},
   "outputs": [],
   "source": [
    "l1 = [2,3,4]\n",
    "l2 = [1,4,4]\n",
    "plt.plot(l1,l2)"
   ]
  },
  {
   "cell_type": "code",
   "execution_count": null,
   "id": "alternative-astronomy",
   "metadata": {},
   "outputs": [],
   "source": [
    "# example adapted from https://matplotlib.org/3.1.1/tutorials/introductory/usage.html#sphx-glr-tutorials-introductory-usage-py\n",
    "\n",
    "# let's generate some sample data\n",
    "x = np.linspace(0, 2, 100)  # this gives you an array (sth like a list) \n",
    "                            # with all numbers from 0 to 2, in 100 steps. [0, 0.02, 0.04, ... 2.0]"
   ]
  },
  {
   "cell_type": "code",
   "execution_count": null,
   "id": "fluid-democrat",
   "metadata": {},
   "outputs": [],
   "source": [
    "x"
   ]
  },
  {
   "cell_type": "code",
   "execution_count": null,
   "id": "enclosed-coalition",
   "metadata": {},
   "outputs": [],
   "source": [
    "# create a figure (a canvas)\n",
    "plt.figure(figsize=(10,7))"
   ]
  },
  {
   "cell_type": "code",
   "execution_count": null,
   "id": "adopted-launch",
   "metadata": {},
   "outputs": [],
   "source": [
    "# plot things on that canvas\n",
    "plt.plot(x, x, label='linear')\n",
    "plt.plot(x, x**2, label='quadratic')\n",
    "plt.plot(x, x**3, label='cubic')\n",
    "\n",
    "# add labels, titles, legends, ...\n",
    "plt.xlabel('x label')\n",
    "plt.ylabel('y label')\n",
    "plt.title(\"Simple Plot\")\n",
    "plt.legend()\n",
    "\n",
    "# Save and/or show the figure. Use ? to get different options for file formats etc\n",
    "#plt.savefig('test.png',dpi=300)\n",
    "#plt.show()"
   ]
  },
  {
   "cell_type": "markdown",
   "id": "peripheral-earth",
   "metadata": {},
   "source": [
    "But we can also plot Pandas columns"
   ]
  },
  {
   "cell_type": "code",
   "execution_count": null,
   "id": "mechanical-trash",
   "metadata": {},
   "outputs": [],
   "source": [
    "#point to column\n",
    "#.plot - with kind define what kind\n",
    "videos['likeCount'].plot(kind='hist')"
   ]
  },
  {
   "cell_type": "code",
   "execution_count": null,
   "id": "british-appraisal",
   "metadata": {},
   "outputs": [],
   "source": [
    "videos['videoCategoryLabel'].value_counts().plot(kind='bar')"
   ]
  },
  {
   "cell_type": "code",
   "execution_count": null,
   "id": "necessary-volunteer",
   "metadata": {},
   "outputs": [],
   "source": [
    "videos[['commentCount','videoCategoryLabel']].groupby('videoCategoryLabel').agg(np.mean).plot(kind='bar')"
   ]
  },
  {
   "cell_type": "markdown",
   "id": "rotary-atlanta",
   "metadata": {},
   "source": [
    "## Seaborn\n",
    "\n",
    "Seaborn uses very specific grammar that many find quite intuitive (and may recognize from ggplot ;))\n",
    "You need to provide the following arguments:\n",
    "```\n",
    "data : the name of the dataframe with all your data\n",
    "x    : which column to plot on the x axis\n",
    "y    : which column to plot on the y axis\n",
    "hue  : which column to use to group the data (and represent by different colors)\n",
    "col  : which column to use to group the data into different sub-plots ('columns')\n",
    "style: which column to use to group the data into different styles of the marker\n",
    "size : which column to use to change the size of the marker\n",
    "... \n",
    "```\n",
    "\n",
    "\n",
    "In other words, when using seaborn, we do not use the method of a pandas object (as with matplotlib, see above), but call the seaborn function directly and pass on the dataframe with the `data = ...` argument"
   ]
  },
  {
   "cell_type": "markdown",
   "metadata": {},
   "source": [
    "# A systematic look at different visualizations"
   ]
  },
  {
   "cell_type": "markdown",
   "metadata": {},
   "source": [
    "## 1. Bar charts\n",
    "\n",
    "- counts per (discrete) category  (in seaborn: `.countplot()`)\n",
    "- or: other statistical property (e..g, mean)  per (discrete) category (in seaborn: `barplot()`)\n",
    "- different variations (e.g., stacked bar charts)\n",
    "\n"
   ]
  },
  {
   "cell_type": "code",
   "execution_count": null,
   "metadata": {},
   "outputs": [],
   "source": [
    "# Look how sns has a function that integrates counting of values and producing the bar chart.\n",
    "sns.countplot(x = 'class', data=titanic)"
   ]
  },
  {
   "cell_type": "markdown",
   "metadata": {},
   "source": [
    "In the following example, we do not want to calculate counts and then plot them in a bar chart, but rather plot the (implicitly calculated) means:"
   ]
  },
  {
   "cell_type": "code",
   "execution_count": null,
   "metadata": {},
   "outputs": [],
   "source": [
    "sns.barplot(x=\"class\", y=\"fare\", data=titanic, ci=95)"
   ]
  },
  {
   "cell_type": "markdown",
   "metadata": {},
   "source": [
    "As always, use the ? to get more help:"
   ]
  },
  {
   "cell_type": "code",
   "execution_count": null,
   "metadata": {},
   "outputs": [],
   "source": [
    "sns.barplot?"
   ]
  },
  {
   "cell_type": "markdown",
   "metadata": {},
   "source": [
    "### 1.1 Grouped barplots\n",
    "\n",
    "We can use the `hue` argument to say that we want to use different colors for different groups:"
   ]
  },
  {
   "cell_type": "code",
   "execution_count": null,
   "metadata": {},
   "outputs": [],
   "source": [
    "sns.barplot(x=\"class\", y=\"fare\",  hue=\"sex\",  data=titanic)"
   ]
  },
  {
   "cell_type": "markdown",
   "metadata": {},
   "source": [
    "`catplot` provides a more generic interface, where we can also specify a different `kind` than bar if we want to (such as `point` instead of `bar`, see next section):"
   ]
  },
  {
   "cell_type": "code",
   "execution_count": null,
   "metadata": {},
   "outputs": [],
   "source": [
    "sns.catplot(x=\"class\", y=\"fare\", hue=\"sex\", kind='bar', data=titanic)"
   ]
  },
  {
   "cell_type": "code",
   "execution_count": null,
   "metadata": {},
   "outputs": [],
   "source": [
    "sns.barplot?"
   ]
  },
  {
   "cell_type": "code",
   "execution_count": null,
   "metadata": {},
   "outputs": [],
   "source": [
    "sns.set(style=\"whitegrid\") #style for all plots\n",
    "fig, ax = plt.subplots(figsize=(15,5)) #create a \"canvas\"\n",
    "sns.barplot(ax=ax, x=\"likeCount\", y=\"category\", hue='licensedContent', data=videos, ci = None)"
   ]
  },
  {
   "cell_type": "markdown",
   "metadata": {},
   "source": [
    "### 1.2 Histograms\n",
    "\n",
    "\n",
    "Histograms could be seen as somewhat related to bar plots, but they are used to display the univariate distribution of numerical variables. If there are many, then they are 'binned'. Some examples:"
   ]
  },
  {
   "cell_type": "code",
   "execution_count": null,
   "metadata": {},
   "outputs": [],
   "source": [
    "sns.histplot(x = 'fare', data=titanic)"
   ]
  },
  {
   "cell_type": "code",
   "execution_count": null,
   "metadata": {},
   "outputs": [],
   "source": [
    "sns.histplot(x = 'fare', bins=20, data=titanic)"
   ]
  },
  {
   "cell_type": "markdown",
   "metadata": {},
   "source": [
    "# 2. Point charts\n",
    "\n",
    "- similar to bar charts\n",
    "- but: can look 'cleaner'\n",
    "- but: can give a clearer message if the categories can be meaningfully ordered\n",
    "\n",
    "Compare the following two charts that present the same data:\n",
    "\n"
   ]
  },
  {
   "cell_type": "code",
   "execution_count": null,
   "metadata": {},
   "outputs": [],
   "source": [
    "sns.catplot(x=\"class\", y=\"survived\", hue=\"sex\",\n",
    "            palette={\"male\": \"m\", \"female\": \"y\"},\n",
    "            kind=\"bar\", data=titanic)"
   ]
  },
  {
   "cell_type": "code",
   "execution_count": null,
   "metadata": {},
   "outputs": [],
   "source": [
    "sns.catplot(x=\"class\", y=\"survived\", hue=\"sex\",\n",
    "            palette={\"male\": \"g\", \"female\": \"m\"},\n",
    "            markers=[\"^\", \"o\"], linestyles=[\"-\", \"--\"],\n",
    "            kind=\"point\", data=titanic)"
   ]
  },
  {
   "cell_type": "markdown",
   "metadata": {},
   "source": [
    "## 3. Line charts\n",
    "\n",
    "- ordered (and typically evenly spaced) values on x-axis\n",
    "- x-axis has many (in theory: contious) measurements\n",
    "- most typical: plot some value(s) over time\n"
   ]
  },
  {
   "cell_type": "code",
   "execution_count": null,
   "metadata": {},
   "outputs": [],
   "source": [
    "# never mind about this specific code, we just want a dataset that looks like a time series\n",
    "# this is some economic indicator per year per country that's it\n",
    "capital= pd.read_csv(\"https://cssbook.net/d/private_capital.csv\").melt(id_vars=\"Year\",\n",
    "            var_name=\"country\", value_name=\"capital\").rename({\"Year\":\"year\"}, axis=1)\n",
    "capital.head()"
   ]
  },
  {
   "cell_type": "code",
   "execution_count": null,
   "metadata": {},
   "outputs": [],
   "source": [
    "# if we have multiple measurements (=countries) for a year, we get a confidence interval\n",
    "sns.lineplot(x='year', y='capital', data=capital)"
   ]
  },
  {
   "cell_type": "code",
   "execution_count": null,
   "metadata": {},
   "outputs": [],
   "source": [
    "# there's never more than one measurement per year and country, so no confindence interval\n",
    "sns.lineplot(x='year', y='capital', hue='country', data=capital)"
   ]
  },
  {
   "cell_type": "markdown",
   "metadata": {},
   "source": [
    "# 4. Plotting bivariate relationships\n",
    "\n",
    "If we have bivariate relationships between **continous variables**, we usually plot them using a **scatter plot**. Scatter plots show a little dot for each data point.\n",
    "\n",
    "In seaborn, we can create them using either `.relplot()` for a simple scatter plot, or `.regplot()` if we want to have a scatter plot with an added regression line."
   ]
  },
  {
   "cell_type": "code",
   "execution_count": null,
   "metadata": {},
   "outputs": [],
   "source": [
    "# let's use a different dataset for this, where we have two continuous variables (total_bill and tip)\n",
    "\n",
    "tips = sns.load_dataset(\"tips\")\n",
    "tips.head()"
   ]
  },
  {
   "cell_type": "code",
   "execution_count": null,
   "metadata": {},
   "outputs": [],
   "source": [
    "# the same with seaborn\n",
    "sns.relplot(x='total_bill', y='tip', data=tips)"
   ]
  },
  {
   "cell_type": "code",
   "execution_count": null,
   "metadata": {},
   "outputs": [],
   "source": [
    "# but seaborn can do more, e.g. add a regression line and confidence intervals\n",
    "sns.regplot(x='total_bill', y='tip', data=tips)"
   ]
  },
  {
   "cell_type": "code",
   "execution_count": null,
   "metadata": {},
   "outputs": [],
   "source": [
    "# Or we can draw a locally weighted regression line (lowess)\n",
    "# (and much more)\n",
    "sns.regplot(x='total_bill', y='tip', data=tips, lowess=True)"
   ]
  },
  {
   "cell_type": "code",
   "execution_count": null,
   "metadata": {},
   "outputs": [],
   "source": [
    "#Or we can add multiple variables\n",
    "sns.relplot(x=\"total_bill\", y=\"tip\", size='size',  hue='smoker',  col='sex', data=tips);\n"
   ]
  },
  {
   "cell_type": "code",
   "execution_count": null,
   "metadata": {},
   "outputs": [],
   "source": [
    "# example taken fromn https://seaborn.pydata.org/introduction.html#introduction\n",
    "sns.relplot(x=\"total_bill\", y=\"tip\", col=\"time\",\n",
    "            hue=\"smoker\", style=\"smoker\", size=\"size\",\n",
    "            data=tips);"
   ]
  },
  {
   "cell_type": "code",
   "execution_count": null,
   "metadata": {},
   "outputs": [],
   "source": [
    "# We could also add histograms to the sides\n",
    "sns.jointplot(data = tips, x = 'total_bill', y='tip', \n",
    "              kind=\"scatter\", color=\"#4CB391\")"
   ]
  },
  {
   "cell_type": "code",
   "execution_count": null,
   "metadata": {},
   "outputs": [],
   "source": [
    "# ... or replace the scatterplot by a hexplot in which overlapping points lead to a darker shade\n",
    "sns.jointplot(data = tips, x = 'total_bill', y='tip', \n",
    "              kind=\"hex\", color=\"#4CB391\")"
   ]
  },
  {
   "cell_type": "markdown",
   "metadata": {},
   "source": [
    "# Bonus \n",
    "\n",
    "We do not cover this in this class, but you can also create interactive plots in Python:"
   ]
  },
  {
   "cell_type": "code",
   "execution_count": null,
   "metadata": {},
   "outputs": [],
   "source": [
    "pd.options.plotting.backend = \"plotly\"\n",
    "fig = tips.plot(x= \"total_bill\", y='tip', kind='scatter', hover_data={\"smoker\":True})\n",
    "fig.show()\n",
    "fig.write_html(\"plotly-example.html\")"
   ]
  },
  {
   "cell_type": "markdown",
   "metadata": {},
   "source": [
    "Another, really powerful way to build interactive visualization apps is Bokeh - see the tutorial here: \n",
    "https://mybinder.org/v2/gh/bokeh/bokeh-notebooks/master?filepath=tutorial%2F00%20-%20Introduction%20and%20Setup.ipynb"
   ]
  },
  {
   "cell_type": "code",
   "execution_count": null,
   "id": "statutory-stephen",
   "metadata": {},
   "outputs": [],
   "source": []
  }
 ],
 "metadata": {
  "kernelspec": {
   "display_name": "Python 3",
   "language": "python",
   "name": "python3"
  },
  "language_info": {
   "codemirror_mode": {
    "name": "ipython",
    "version": 3
   },
   "file_extension": ".py",
   "mimetype": "text/x-python",
   "name": "python",
   "nbconvert_exporter": "python",
   "pygments_lexer": "ipython3",
   "version": "3.9.1"
  }
 },
 "nbformat": 4,
 "nbformat_minor": 5
}

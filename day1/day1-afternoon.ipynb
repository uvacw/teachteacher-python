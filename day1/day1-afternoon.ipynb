{
 "cells": [
  {
   "cell_type": "markdown",
   "metadata": {},
   "source": [
    "## Teaching the Teacher: Python\n",
    "# Day 1 - Afternoon - Python Basics + Jupyter Notebooks\n",
    "\n",
    "\n",
    "\n",
    "28.06.2021\n",
    "\n",
    "\n",
    "*Theo Araujo, Department of Commmunication Science, University of Amsterdam*\n"
   ]
  },
  {
   "cell_type": "markdown",
   "metadata": {},
   "source": [
    "# Agenda\n",
    "\n",
    "1. Jupyter notebooks\n",
    "2. Functions and iterations (again)"
   ]
  },
  {
   "cell_type": "markdown",
   "metadata": {},
   "source": [
    "# 1. Jupyter Notebooks\n",
    "\n",
    "Some of our classes use  Jupyter Notebook (and Jupyter Labs) as they are one of the most popular and powerful ways to execute data analyses in Python. A Jupyter Notebook combines:\n",
    "* the Python code\n",
    "* the results of the Python code\n",
    "* annotations that you can make in MarkDown\n",
    "\n",
    "*Let's dive into this in a bit more detail*"
   ]
  },
  {
   "cell_type": "code",
   "execution_count": 1,
   "metadata": {},
   "outputs": [
    {
     "name": "stdout",
     "output_type": "stream",
     "text": [
      "This is a Python code\n"
     ]
    }
   ],
   "source": [
    "print('This is a Python code')"
   ]
  },
  {
   "cell_type": "markdown",
   "metadata": {},
   "source": [
    "What we see above is that ```print('This is a Python code')``` is the code you will run. When you run it, the cell will receive a line number on its left side. The results of the code appear immediately below it.\n",
    "\n",
    "In this case, the print command shows something on the screen - whatever is between parenthesis. We'll get to how it works in a bit."
   ]
  },
  {
   "cell_type": "markdown",
   "metadata": {},
   "source": [
    "The annotations you can make are in MarkDown. This is a special formatting language - that I am using now simply to write some text. It does not run any code, but is helpful to document what you are doing. \n",
    "\n",
    "It has a few interesting options:\n",
    "\n",
    "# Here I can make a first level heading\n",
    "## Now a second level heading\n",
    "### or a third level heading\n",
    "\n",
    "I can also write things in **bold** or in *italic*.\n",
    "\n",
    "And I can make unordered lists:\n",
    "* Item 1\n",
    "* Item 2\n",
    "* Item 3\n",
    "\n",
    "Or ordered lists:\n",
    "1. Item 1\n",
    "2. Item 2\n",
    "3. Item 3"
   ]
  },
  {
   "cell_type": "markdown",
   "metadata": {},
   "source": [
    "## Jupyter notebooks & Open Science\n",
    "\n",
    "Notebooks are not *the only way* to ensure code replicability, but are an *important* way to do so. Some of the advantages in research and in teaching:\n",
    "* **Combination** of markdown, code, output, and markdown:<br>the *why*, the *how*, the *what* and the *what it means* <br>&nbsp;<br>\n",
    "* **Portable**: exporting to html or PDF (handy for assignments)<br>&nbsp;<br>\n",
    "* **Online visualisations**: when working with GitHub\n",
    "\n",
    "**Not the solution to everything:**\n",
    "* Sometimes slower than running directly in Python\n",
    "* Not very handy when there's a lot of output\n",
    "* Can crash - when there's **just.too.much.output**.\n"
   ]
  },
  {
   "cell_type": "code",
   "execution_count": null,
   "metadata": {},
   "outputs": [],
   "source": []
  },
  {
   "cell_type": "markdown",
   "metadata": {},
   "source": [
    "# 2. Functions and iterations (again)"
   ]
  },
  {
   "cell_type": "markdown",
   "metadata": {},
   "source": [
    "## Conditions\n",
    "\n",
    "Conditions are a way to test if something is happening and, if so, to do something about it. Let's explore a bit.\n"
   ]
  },
  {
   "cell_type": "code",
   "execution_count": 2,
   "metadata": {},
   "outputs": [],
   "source": [
    "a = 1"
   ]
  },
  {
   "cell_type": "code",
   "execution_count": 3,
   "metadata": {},
   "outputs": [
    {
     "data": {
      "text/plain": [
       "1"
      ]
     },
     "execution_count": 3,
     "metadata": {},
     "output_type": "execute_result"
    }
   ],
   "source": [
    "a"
   ]
  },
  {
   "cell_type": "code",
   "execution_count": 4,
   "metadata": {},
   "outputs": [
    {
     "name": "stdout",
     "output_type": "stream",
     "text": [
      "a is 1!!!\n"
     ]
    }
   ],
   "source": [
    "if a == 1:\n",
    "    print('a is 1!!!')"
   ]
  },
  {
   "cell_type": "code",
   "execution_count": 5,
   "metadata": {},
   "outputs": [],
   "source": [
    "a = 0"
   ]
  },
  {
   "cell_type": "code",
   "execution_count": 6,
   "metadata": {},
   "outputs": [],
   "source": [
    "if a == 1:\n",
    "    print('a is 1!')"
   ]
  },
  {
   "cell_type": "code",
   "execution_count": 7,
   "metadata": {},
   "outputs": [
    {
     "name": "stdout",
     "output_type": "stream",
     "text": [
      "a is not 2!\n"
     ]
    }
   ],
   "source": [
    "if a == 2:\n",
    "    print('a is 2!')\n",
    "else:\n",
    "    print('a is not 2!')"
   ]
  },
  {
   "cell_type": "code",
   "execution_count": 8,
   "metadata": {},
   "outputs": [],
   "source": [
    "a = 2"
   ]
  },
  {
   "cell_type": "code",
   "execution_count": 9,
   "metadata": {},
   "outputs": [
    {
     "name": "stdout",
     "output_type": "stream",
     "text": [
      "a is 2!\n",
      "a is larger than 0\n"
     ]
    }
   ],
   "source": [
    "if a == 2:\n",
    "    print('a is 2!')\n",
    "if a > 0:\n",
    "    print('a is larger than 0')\n",
    "else:\n",
    "    print('a is not 2!')"
   ]
  },
  {
   "cell_type": "markdown",
   "metadata": {},
   "source": [
    "Some important things that we've done above:\n",
    "* First, we indicated a condition by checking IF SOMETHING is equal (==) to SOMETHING ELSE.\n",
    "* Notice that after the condition, we have a :. It indicates what needs to be done if that condition is TRUE\n",
    "* After the column, we have indented text (meaning: there's a tab). Everything that is within that area (even the lines below, should they also be indented) belong to that condition\n",
    "* We also used ELSE to indicate what to do if the condition was FALSE\n",
    "\n",
    "\n",
    "Let's look at another example:"
   ]
  },
  {
   "cell_type": "code",
   "execution_count": 10,
   "metadata": {},
   "outputs": [
    {
     "name": "stdout",
     "output_type": "stream",
     "text": [
      "there's a 3 in my list\n",
      "my list has 3 items\n"
     ]
    }
   ],
   "source": [
    "mylist = [1, 2, 3]\n",
    "\n",
    "if 3 in mylist:\n",
    "    print(\"there's a 3 in my list\")\n",
    "    print(\"my list has\", len(mylist), \"items\")\n",
    "else:\n",
    "    print(\"there's no 3 in my list\")"
   ]
  },
  {
   "cell_type": "code",
   "execution_count": 11,
   "metadata": {},
   "outputs": [
    {
     "name": "stdout",
     "output_type": "stream",
     "text": [
      "there's no 4 in my list\n"
     ]
    }
   ],
   "source": [
    "if 4 in mylist:\n",
    "    print(\"there's a 4 in my list\")\n",
    "    print(\"my list has\", len(mylist), \"items\")\n",
    "else:\n",
    "    print(\"there's no 4 in my list\")"
   ]
  },
  {
   "cell_type": "code",
   "execution_count": 12,
   "metadata": {},
   "outputs": [
    {
     "data": {
      "text/plain": [
       "True"
      ]
     },
     "execution_count": 12,
     "metadata": {},
     "output_type": "execute_result"
    }
   ],
   "source": [
    "'a' in 'abc'"
   ]
  },
  {
   "cell_type": "code",
   "execution_count": 13,
   "metadata": {},
   "outputs": [
    {
     "data": {
      "text/plain": [
       "True"
      ]
     },
     "execution_count": 13,
     "metadata": {},
     "output_type": "execute_result"
    }
   ],
   "source": [
    "'a' in ['a', 'b']"
   ]
  },
  {
   "cell_type": "code",
   "execution_count": 14,
   "metadata": {},
   "outputs": [
    {
     "data": {
      "text/plain": [
       "False"
      ]
     },
     "execution_count": 14,
     "metadata": {},
     "output_type": "execute_result"
    }
   ],
   "source": [
    "1 in {'a': 1, 'b': 2}"
   ]
  },
  {
   "cell_type": "code",
   "execution_count": 15,
   "metadata": {},
   "outputs": [
    {
     "name": "stdout",
     "output_type": "stream",
     "text": [
      "a < b\n"
     ]
    }
   ],
   "source": [
    "a = 1\n",
    "b = 1000000\n",
    "\n",
    "if a > b: \n",
    "    print('a > b')\n",
    "elif a < b: \n",
    "    print('a < b')\n",
    "elif a == b: \n",
    "    print('a == b')"
   ]
  },
  {
   "cell_type": "markdown",
   "metadata": {},
   "source": [
    "The ```elif``` condition is a shorthand for ```else if```. This allows us to check one condition and, if it is not true, check another condition. In the example above it does not matter. Check the two examples below and let's see why it matters."
   ]
  },
  {
   "cell_type": "code",
   "execution_count": 16,
   "metadata": {},
   "outputs": [
    {
     "name": "stdout",
     "output_type": "stream",
     "text": [
      "a == b\n"
     ]
    }
   ],
   "source": [
    "a = 0\n",
    "b = 0\n",
    "\n",
    "\n",
    "if a == b: \n",
    "    print('a == b')\n",
    "elif a == 0: \n",
    "    print('a == 0')\n"
   ]
  },
  {
   "cell_type": "code",
   "execution_count": 17,
   "metadata": {},
   "outputs": [
    {
     "name": "stdout",
     "output_type": "stream",
     "text": [
      "a == b\n",
      "a == 0\n"
     ]
    }
   ],
   "source": [
    "a = 0\n",
    "b = 0\n",
    "\n",
    "\n",
    "if a == b: \n",
    "    print('a == b')\n",
    "if a == 0: \n",
    "    print('a == 0')"
   ]
  },
  {
   "cell_type": "code",
   "execution_count": 18,
   "metadata": {},
   "outputs": [
    {
     "name": "stdout",
     "output_type": "stream",
     "text": [
      "0,0\n"
     ]
    }
   ],
   "source": [
    "if a == 0:\n",
    "    if b == 0:\n",
    "        print('0,0')\n",
    "    else:\n",
    "        print('0,1')\n",
    "else:\n",
    "    print('1,1')"
   ]
  },
  {
   "cell_type": "code",
   "execution_count": null,
   "metadata": {},
   "outputs": [],
   "source": []
  },
  {
   "cell_type": "markdown",
   "metadata": {},
   "source": [
    "## Iterations\n",
    "Iterations are a way to ask Python to do something continuously - until a certain condition is met. While it is possible to create a loop that does not end (without an exit condition), we should never do that... otherwise, the code would run forever. Let's see some basic loops."
   ]
  },
  {
   "cell_type": "code",
   "execution_count": 19,
   "metadata": {},
   "outputs": [
    {
     "name": "stdout",
     "output_type": "stream",
     "text": [
      "counter at 0\n",
      "counter at 1\n",
      "counter at 2\n",
      "counter at 3\n",
      "counter at 4\n",
      "counter at 5\n",
      "counter at 6\n",
      "counter at 7\n",
      "counter at 8\n",
      "counter at 9\n",
      "counter finished at 10\n"
     ]
    }
   ],
   "source": [
    "counter = 0\n",
    "while counter < 10:\n",
    "    print('counter at', counter)\n",
    "    counter += 1\n",
    "\n",
    "print('counter finished at', counter)"
   ]
  },
  {
   "cell_type": "code",
   "execution_count": 20,
   "metadata": {},
   "outputs": [
    {
     "name": "stdout",
     "output_type": "stream",
     "text": [
      "1\n",
      "2\n",
      "3\n",
      "4\n",
      "5\n",
      "6\n",
      "7\n",
      "8\n",
      "9\n",
      "10\n"
     ]
    }
   ],
   "source": [
    "mylist = [1,2,3,4,5,6,7,8,9,10]\n",
    "\n",
    "for aaa in mylist:\n",
    "    print(aaa)"
   ]
  },
  {
   "cell_type": "markdown",
   "metadata": {},
   "source": [
    "**while** and **for** are some common ways to do loops in Python:\n",
    "* while will repeat the code (that is in the indented area) until a certain condition is met\n",
    "* for will loop for each element of a list (or a string, or tuple) until there are no elements anymore"
   ]
  },
  {
   "cell_type": "code",
   "execution_count": 21,
   "metadata": {},
   "outputs": [
    {
     "name": "stdout",
     "output_type": "stream",
     "text": [
      "t\n",
      "h\n",
      "i\n",
      "s\n",
      " \n",
      "i\n",
      "s\n",
      " \n",
      "a\n",
      " \n",
      "s\n",
      "e\n",
      "n\n",
      "t\n",
      "e\n",
      "n\n",
      "c\n",
      "e\n",
      "!\n"
     ]
    }
   ],
   "source": [
    "for x in 'this is a sentence!':\n",
    "    print(x)"
   ]
  },
  {
   "cell_type": "markdown",
   "metadata": {},
   "source": [
    "Another example: let's select and print only the items that are strings"
   ]
  },
  {
   "cell_type": "code",
   "execution_count": 22,
   "metadata": {},
   "outputs": [],
   "source": [
    "orgs = ['DUO', 55, None, 'Belastingdienst', 'UWW', False]"
   ]
  },
  {
   "cell_type": "code",
   "execution_count": 23,
   "metadata": {},
   "outputs": [
    {
     "data": {
      "text/plain": [
       "['DUO', 55, None, 'Belastingdienst', 'UWW', False]"
      ]
     },
     "execution_count": 23,
     "metadata": {},
     "output_type": "execute_result"
    }
   ],
   "source": [
    "orgs"
   ]
  },
  {
   "cell_type": "code",
   "execution_count": 24,
   "metadata": {},
   "outputs": [
    {
     "name": "stdout",
     "output_type": "stream",
     "text": [
      "DUO\n",
      "Belastingdienst\n",
      "UWW\n"
     ]
    }
   ],
   "source": [
    "for org in orgs:\n",
    "    if type(org) == str:\n",
    "        print(org)"
   ]
  },
  {
   "cell_type": "code",
   "execution_count": 25,
   "metadata": {},
   "outputs": [
    {
     "name": "stdout",
     "output_type": "stream",
     "text": [
      "None\n",
      "False\n"
     ]
    }
   ],
   "source": [
    "for org in orgs:\n",
    "    if not org:\n",
    "        print(org)"
   ]
  },
  {
   "cell_type": "code",
   "execution_count": 26,
   "metadata": {},
   "outputs": [
    {
     "name": "stdout",
     "output_type": "stream",
     "text": [
      "None\n"
     ]
    }
   ],
   "source": [
    "for org in orgs:\n",
    "    if org == None:\n",
    "        print(org)"
   ]
  },
  {
   "cell_type": "code",
   "execution_count": 27,
   "metadata": {},
   "outputs": [
    {
     "data": {
      "text/plain": [
       "False"
      ]
     },
     "execution_count": 27,
     "metadata": {},
     "output_type": "execute_result"
    }
   ],
   "source": [
    "None == 'None'"
   ]
  },
  {
   "cell_type": "code",
   "execution_count": 28,
   "metadata": {},
   "outputs": [
    {
     "data": {
      "text/plain": [
       "list"
      ]
     },
     "execution_count": 28,
     "metadata": {},
     "output_type": "execute_result"
    }
   ],
   "source": [
    "type(['1',])"
   ]
  },
  {
   "cell_type": "code",
   "execution_count": 29,
   "metadata": {},
   "outputs": [
    {
     "data": {
      "text/plain": [
       "str"
      ]
     },
     "execution_count": 29,
     "metadata": {},
     "output_type": "execute_result"
    }
   ],
   "source": [
    "type('1')"
   ]
  },
  {
   "cell_type": "markdown",
   "metadata": {},
   "source": [
    "## Functions"
   ]
  },
  {
   "cell_type": "code",
   "execution_count": 30,
   "metadata": {},
   "outputs": [],
   "source": [
    "visitors = ['Facebook', 'Twitter', 'Twitter', 'YouTube', 'NYT',\n",
    "           'Facebook', 'WP', 'YouTube', 'NYT', 'NYT', 'Instagram']"
   ]
  },
  {
   "cell_type": "code",
   "execution_count": 31,
   "metadata": {},
   "outputs": [
    {
     "data": {
      "text/plain": [
       "['Facebook',\n",
       " 'Twitter',\n",
       " 'Twitter',\n",
       " 'YouTube',\n",
       " 'NYT',\n",
       " 'Facebook',\n",
       " 'WP',\n",
       " 'YouTube',\n",
       " 'NYT',\n",
       " 'NYT',\n",
       " 'Instagram']"
      ]
     },
     "execution_count": 31,
     "metadata": {},
     "output_type": "execute_result"
    }
   ],
   "source": [
    "visitors"
   ]
  },
  {
   "cell_type": "code",
   "execution_count": 32,
   "metadata": {},
   "outputs": [],
   "source": [
    "def check_website(website):\n",
    "    if website in ['Facebook', 'Twitter', 'Instagram']:\n",
    "        return 'Social Media'\n",
    "    if website in ['NYT', 'WP']:\n",
    "        return 'News website'\n",
    "    return 'not categorized'"
   ]
  },
  {
   "cell_type": "code",
   "execution_count": 33,
   "metadata": {},
   "outputs": [
    {
     "name": "stdout",
     "output_type": "stream",
     "text": [
      "Facebook\n",
      "Social Media\n",
      "not categorized\n",
      "Twitter\n",
      "Social Media\n",
      "not categorized\n",
      "Twitter\n",
      "Social Media\n",
      "not categorized\n",
      "YouTube\n",
      "not categorized\n",
      "NYT\n",
      "News website\n",
      "Facebook\n",
      "Social Media\n",
      "not categorized\n",
      "WP\n",
      "Social Media\n",
      "News website\n",
      "YouTube\n",
      "not categorized\n",
      "NYT\n",
      "News website\n",
      "NYT\n",
      "News website\n",
      "Instagram\n",
      "Social Media\n",
      "not categorized\n"
     ]
    }
   ],
   "source": [
    "for website in visitors:\n",
    "    print(website)\n",
    "    if website in ['Facebook', 'Twitter', 'Instagram', 'WP']:\n",
    "        print('Social Media')\n",
    "    if website in ['NYT', 'WP']:\n",
    "        print('News website')\n",
    "    else:\n",
    "        print('not categorized')"
   ]
  },
  {
   "cell_type": "code",
   "execution_count": null,
   "metadata": {},
   "outputs": [],
   "source": []
  },
  {
   "cell_type": "code",
   "execution_count": null,
   "metadata": {},
   "outputs": [],
   "source": []
  },
  {
   "cell_type": "code",
   "execution_count": 34,
   "metadata": {},
   "outputs": [
    {
     "name": "stdout",
     "output_type": "stream",
     "text": [
      "Social Media\n",
      "Social Media\n",
      "Social Media\n",
      "not categorized\n",
      "News website\n",
      "Social Media\n",
      "News website\n",
      "not categorized\n",
      "News website\n",
      "News website\n",
      "Social Media\n"
     ]
    }
   ],
   "source": [
    "for item in visitors:\n",
    "    print(check_website(item))"
   ]
  },
  {
   "cell_type": "code",
   "execution_count": 35,
   "metadata": {},
   "outputs": [],
   "source": [
    "def add_one(x):\n",
    "    return x + 1"
   ]
  },
  {
   "cell_type": "code",
   "execution_count": 36,
   "metadata": {},
   "outputs": [
    {
     "data": {
      "text/plain": [
       "2"
      ]
     },
     "execution_count": 36,
     "metadata": {},
     "output_type": "execute_result"
    }
   ],
   "source": [
    "add_one(1)"
   ]
  },
  {
   "cell_type": "code",
   "execution_count": 37,
   "metadata": {},
   "outputs": [
    {
     "data": {
      "text/plain": [
       "3"
      ]
     },
     "execution_count": 37,
     "metadata": {},
     "output_type": "execute_result"
    }
   ],
   "source": [
    "add_one(2)"
   ]
  },
  {
   "cell_type": "code",
   "execution_count": 38,
   "metadata": {},
   "outputs": [],
   "source": [
    "def add_values(x, y):\n",
    "    return x + y"
   ]
  },
  {
   "cell_type": "code",
   "execution_count": 39,
   "metadata": {},
   "outputs": [
    {
     "data": {
      "text/plain": [
       "3"
      ]
     },
     "execution_count": 39,
     "metadata": {},
     "output_type": "execute_result"
    }
   ],
   "source": [
    "add_values(1,2)"
   ]
  },
  {
   "cell_type": "code",
   "execution_count": 40,
   "metadata": {},
   "outputs": [
    {
     "data": {
      "text/plain": [
       "'ab'"
      ]
     },
     "execution_count": 40,
     "metadata": {},
     "output_type": "execute_result"
    }
   ],
   "source": [
    "add_values('a', 'b')"
   ]
  },
  {
   "cell_type": "code",
   "execution_count": 41,
   "metadata": {},
   "outputs": [],
   "source": [
    "a = add_values(1,2)"
   ]
  },
  {
   "cell_type": "code",
   "execution_count": 42,
   "metadata": {},
   "outputs": [
    {
     "data": {
      "text/plain": [
       "3"
      ]
     },
     "execution_count": 42,
     "metadata": {},
     "output_type": "execute_result"
    }
   ],
   "source": [
    "a"
   ]
  },
  {
   "cell_type": "code",
   "execution_count": 43,
   "metadata": {},
   "outputs": [],
   "source": [
    "def add_values_print(x, y):\n",
    "    print(x + y)"
   ]
  },
  {
   "cell_type": "code",
   "execution_count": 44,
   "metadata": {},
   "outputs": [
    {
     "name": "stdout",
     "output_type": "stream",
     "text": [
      "4\n"
     ]
    }
   ],
   "source": [
    "b = add_values_print(1, 3)"
   ]
  },
  {
   "cell_type": "code",
   "execution_count": 45,
   "metadata": {},
   "outputs": [],
   "source": [
    "b"
   ]
  },
  {
   "cell_type": "code",
   "execution_count": null,
   "metadata": {},
   "outputs": [],
   "source": []
  },
  {
   "cell_type": "markdown",
   "metadata": {},
   "source": [
    "### Why are functions important?\n",
    "\n",
    "First, a detour: Share of effort in a Computational Communication Science project\n",
    "\n",
    "**Expectations...**\n",
    "\n",
    "| Activity                            | Expectation for time spent  |\n",
    "|-------------------------------------|-----------------------------|\n",
    "|Data collection                      | 10%                         |\n",
    "|Data cleaning                        | 10%                         |\n",
    "|Data exploration / visualisation     | 40%                         |\n",
    "|Model building & analysis.           | 40%                         |\n",
    "\n",
    "\n",
    "**My reality...**\n",
    "\n",
    "| Activity                            | Expectation for time spent  | (My) Reality   |\n",
    "|-------------------------------------|-----------------------------|----------------|\n",
    "|Data collection                      | 10%                         | 60%            |\n",
    "|Data cleaning                        | 10%                         | 60%            |\n",
    "|Data exploration / visualisation     | 40%                         | 10%            |\n",
    "|Model building & analysis.           | 40%                         | 5%             |\n",
    "\n",
    "*(Yep, it doesn't add up to 100% - usually it **always** takes more time than expected)*\n",
    "\n",
    "\n",
    "\n",
    "\n",
    "\n",
    "\n",
    "\n",
    "\n",
    "\n",
    "\n",
    "\n",
    "\n",
    "\n",
    "\n"
   ]
  },
  {
   "cell_type": "markdown",
   "metadata": {},
   "source": [
    "### What do we use functions for?\n",
    "\n",
    "* Data collection\n",
    "* Data cleaning while collecting data\n",
    "* Data cleaning before doing the analysis\n",
    "* And some more data cleaning (because there's always something that doesn't work the first time)\n",
    "\n"
   ]
  },
  {
   "cell_type": "markdown",
   "metadata": {},
   "source": [
    "### My approach to building functions\n",
    "\n",
    "1. Create the sample code for one example\n",
    "2. Encapsulate with a function\n",
    "3. Iterate through a list of examples\n",
    "4. Go wild\n"
   ]
  },
  {
   "cell_type": "markdown",
   "metadata": {},
   "source": [
    "#### Something recent: anonymizers for Facebook data donation\n",
    "\n",
    "Loading some synthetic data from [OSD2F](https://github.com/uvacw/osd2f)."
   ]
  },
  {
   "cell_type": "code",
   "execution_count": 46,
   "metadata": {},
   "outputs": [],
   "source": [
    "import json"
   ]
  },
  {
   "cell_type": "code",
   "execution_count": 47,
   "metadata": {},
   "outputs": [],
   "source": [
    "data = json.load(open('mockdata/mockdata-your_posts_1.json', 'r'))"
   ]
  },
  {
   "cell_type": "code",
   "execution_count": 48,
   "metadata": {},
   "outputs": [
    {
     "data": {
      "text/plain": [
       "100"
      ]
     },
     "execution_count": 48,
     "metadata": {},
     "output_type": "execute_result"
    }
   ],
   "source": [
    "len(data)"
   ]
  },
  {
   "cell_type": "code",
   "execution_count": 49,
   "metadata": {},
   "outputs": [
    {
     "data": {
      "text/plain": [
       "[{'timestamp': 1607922261,\n",
       "  'title': \"charlesthompson wrote on Veronica Olson's timeline.\",\n",
       "  'tags': ['Taylor Cabrera', 'Jennifer Young', 'Virginia Thompson'],\n",
       "  'data': []},\n",
       " {'timestamp': 1620342917,\n",
       "  'title': \"charlesthompson wrote on Ashley Schneider's timeline.\",\n",
       "  'tags': [],\n",
       "  'attachments': {'data': [{'external_context': {'url': 'http://www.carroll-craig.com/'}}]},\n",
       "  'data': []},\n",
       " {'timestamp': 1599939342,\n",
       "  'title': \"charlesthompson wrote on James Dalton's timeline.\",\n",
       "  'tags': [],\n",
       "  'attachments': {'data': [{'external_context': {'url': 'http://www.simpson-moore.com/'}}]},\n",
       "  'data': []},\n",
       " {'timestamp': 1595402633,\n",
       "  'title': \"charlesthompson wrote on Tiffany Cantu's timeline.\",\n",
       "  'tags': ['Eric Henry', 'Sean Roman'],\n",
       "  'data': []},\n",
       " {'timestamp': 1590761620,\n",
       "  'title': \"charlesthompson wrote on Kathy Murphy's timeline.\",\n",
       "  'tags': ['John Howell'],\n",
       "  'attachments': {'data': [{'external_context': {'url': 'http://www.glenn.org/'}}]},\n",
       "  'data': [{'post': 'Itself carry control job staff. People out same. Give right door poor event.\\nEvidence fund way open I. Someone go color receive public. Middle scientist policy sound firm. Soon bit more.\\nCompany area wall food two community help. Way serve five keep choose education range. Energy consider parent suffer method sea yeah.\\nCulture life raise truth long act head. Full during often once.\\nProduct vote rule year consider. Great opportunity training. Remain production than gas attack look.'}]},\n",
       " {'timestamp': 1609480244,\n",
       "  'title': \"charlesthompson wrote on Nathan Silva's timeline.\",\n",
       "  'tags': [],\n",
       "  'data': []},\n",
       " {'timestamp': 1582420415,\n",
       "  'title': \"charlesthompson wrote on Michelle Smith's timeline.\",\n",
       "  'tags': ['Christina Garcia'],\n",
       "  'attachments': {'data': [{'external_context': {'url': 'https://www.lewis.com/'}}]},\n",
       "  'data': [{'post': 'Develop a individual source store man.\\nStyle whole how foot. Security he structure rate sister theory area go.\\nProduce around produce record. Receive contain alone military in from. Central girl health party whatever door career.\\nPage field claim on. Above there various player.\\nForward at head girl adult anything why. About get next have well management box. Style history give.\\nRequire glass stop general mention sit reach. Realize trouble hot find later later bag.'}]},\n",
       " {'timestamp': 1582621215,\n",
       "  'title': \"charlesthompson wrote on Laura Crosby's timeline.\",\n",
       "  'tags': [],\n",
       "  'data': []},\n",
       " {'timestamp': 1607526057,\n",
       "  'title': \"charlesthompson wrote on Ashley Webb's timeline.\",\n",
       "  'tags': ['Nicholas Garner'],\n",
       "  'data': []},\n",
       " {'timestamp': 1604797155,\n",
       "  'title': \"charlesthompson wrote on Martin Marshall's timeline.\",\n",
       "  'tags': ['Benjamin Church'],\n",
       "  'attachments': {'data': [{'external_context': {'url': 'https://burton-baldwin.biz/'}}]},\n",
       "  'data': []},\n",
       " {'timestamp': 1614078879,\n",
       "  'title': \"charlesthompson wrote on Kenneth Anderson's timeline.\",\n",
       "  'tags': [],\n",
       "  'attachments': {'data': [{'external_context': {'url': 'https://www.jackson.org/'}}]},\n",
       "  'data': []},\n",
       " {'timestamp': 1582697466,\n",
       "  'title': \"charlesthompson wrote on Joseph Rocha DDS's timeline.\",\n",
       "  'tags': ['Victoria Gonzales', 'Robert Wood'],\n",
       "  'attachments': {'data': [{'external_context': {'url': 'http://gonzalez.biz/'}}]},\n",
       "  'data': [{'post': 'This onto president least board hospital. Figure game professor should us cup. Consumer give position color carry finish laugh.\\nArgue thing social dog another difference. Whose then should significant affect partner.\\nProduction around his notice strategy. Seem those event long president read.\\nFill conference still picture main set religious. Doctor hot bring. Cut attorney someone three quickly conference ball.'}]},\n",
       " {'timestamp': 1584647067,\n",
       "  'title': \"charlesthompson wrote on Albert Thompson's timeline.\",\n",
       "  'tags': ['Christina Dudley'],\n",
       "  'data': [{'post': 'Note child show. Near single pay quite interest act. See environmental since inside majority energy.\\nTeacher instead season site. Like decide budget must network cover.\\nMan common soldier prove partner crime anything. Bring grow before everyone. Eight work choice example budget political hand.\\nFund case production grow clear civil fast. Rather take million star.'}]},\n",
       " {'timestamp': 1582021592,\n",
       "  'title': \"charlesthompson wrote on Elizabeth Mosley's timeline.\",\n",
       "  'tags': ['Heidi Miller', 'Robert Hudson'],\n",
       "  'data': [{'post': 'Political end perform husband water middle.\\nJoin up certain image American. Subject similar result recently school. Across maybe put itself.\\nFoot may response agent popular again wonder difficult.\\nIt friend it worry career. Approach computer minute according.\\nInternational area also whom property. Force family anyone could.\\nOrder use partner drop industry system.\\nSpace cover month professor start. Feeling way arm ready she brother social series.\\nLow election accept. Remember carry story majority another race nothing.'}]},\n",
       " {'timestamp': 1597155950,\n",
       "  'title': \"charlesthompson wrote on Eric Curtis's timeline.\",\n",
       "  'tags': ['Lisa Jacobs', 'Michelle Gilmore'],\n",
       "  'data': [{'post': 'Impact fill defense. Box billion spend program surface short.\\nTechnology trial town similar painting let director. Grow action business road strategy able least.\\nTravel popular establish else majority. System work officer well. Opportunity despite general movie rate assume.\\nJoin special drive similar partner. Start without he space bill government window.\\nCare make thousand effect watch space generation. Lead enjoy professional many baby information.\\nPm culture difficult power. Pull turn discussion approach million.'}]},\n",
       " {'timestamp': 1609451510,\n",
       "  'title': \"charlesthompson wrote on Sara Carroll's timeline.\",\n",
       "  'tags': [],\n",
       "  'data': []},\n",
       " {'timestamp': 1620733142,\n",
       "  'title': \"charlesthompson wrote on Ricky Smith's timeline.\",\n",
       "  'tags': [],\n",
       "  'data': []},\n",
       " {'timestamp': 1583735748,\n",
       "  'title': \"charlesthompson wrote on Adam Sims's timeline.\",\n",
       "  'tags': [],\n",
       "  'data': []},\n",
       " {'timestamp': 1579555420,\n",
       "  'title': \"charlesthompson wrote on Spencer Hays's timeline.\",\n",
       "  'tags': ['Laura Hale', 'Susan Watson', 'Nathan Walter'],\n",
       "  'data': []},\n",
       " {'timestamp': 1616145488,\n",
       "  'title': \"charlesthompson wrote on Courtney Andrews's timeline.\",\n",
       "  'tags': ['Michael Finley', 'Elizabeth Cameron', 'Phillip Evans'],\n",
       "  'data': []},\n",
       " {'timestamp': 1581113451,\n",
       "  'title': \"charlesthompson wrote on Jason Scott's timeline.\",\n",
       "  'tags': [],\n",
       "  'data': [{'post': 'Likely find two detail involve or international. Her white seat old lose.\\nFinish Congress ability over. Spend board movement trade natural resource. Entire town character middle.\\nSimilar cut arm. Rise agree pretty. Land couple child.\\nOnly yard relationship child. Car help bed lawyer support.\\nDebate west on them.\\nAnalysis south then win seat.\\nRadio manage practice military wide. All staff field all ok.\\nAccording level me play. Section class film miss. Push relationship determine control yes.'}]},\n",
       " {'timestamp': 1618036061,\n",
       "  'title': \"charlesthompson wrote on Dennis Rodriguez's timeline.\",\n",
       "  'tags': ['Larry Holmes', 'Steven Willis', 'Brittany Robinson'],\n",
       "  'data': []},\n",
       " {'timestamp': 1612232241,\n",
       "  'title': \"charlesthompson wrote on Sarah Davis's timeline.\",\n",
       "  'tags': ['Mark Molina'],\n",
       "  'attachments': {'data': [{'external_context': {'url': 'https://www.brady.com/',\n",
       "      'name': 'Industry major put bar state.',\n",
       "      'source': 'Trevino, Huerta and Villa'}}]},\n",
       "  'data': []},\n",
       " {'timestamp': 1601157834,\n",
       "  'title': \"charlesthompson wrote on Kelly Powell's timeline.\",\n",
       "  'tags': [],\n",
       "  'data': []},\n",
       " {'timestamp': 1618003737,\n",
       "  'title': \"charlesthompson wrote on Leslie Clarke's timeline.\",\n",
       "  'tags': ['Rachel Mendoza'],\n",
       "  'data': [{'post': 'Young something moment close western. Laugh middle thought kid.\\nMillion political near property surface such whether. Computer forward their degree.\\nNote until animal charge song let. Agent where cell pay.\\nCustomer phone body thing pressure of with. Wear school story on fight nearly to green. Rather whether trip such.\\nThus glass friend beyond land study.\\nAuthor whatever whom only fight rather.\\nFactor lawyer most whether next instead rock.'}]},\n",
       " {'timestamp': 1602598929,\n",
       "  'title': \"charlesthompson wrote on Kelly Dunn's timeline.\",\n",
       "  'tags': [],\n",
       "  'data': []},\n",
       " {'timestamp': 1615840605,\n",
       "  'title': \"charlesthompson wrote on Dr. Michael Jones's timeline.\",\n",
       "  'tags': [],\n",
       "  'data': []},\n",
       " {'timestamp': 1616958698,\n",
       "  'title': \"charlesthompson wrote on Rebecca Garcia's timeline.\",\n",
       "  'tags': ['Teresa Anderson'],\n",
       "  'data': [{'post': 'Gun real wait life. Wide region draw national left section. Throughout example learn body continue.\\nBlood open glass near. He against scene away. Spring wear minute science issue.\\nNational teach friend not. Last that admit serious. Onto mind wall than prevent city onto.\\nHotel half someone wall exactly. Section wall author two bit.\\nLater rich according work. Teacher ahead information season draw. Support range movement item will American century.\\nPrice business where likely. Forward message well from soldier.'}]},\n",
       " {'timestamp': 1611381455,\n",
       "  'title': \"charlesthompson wrote on Mary Roberts's timeline.\",\n",
       "  'tags': ['Raymond Williams', 'Katherine Sanders'],\n",
       "  'attachments': {'data': [{'external_context': {'url': 'http://www.ramirez.com/',\n",
       "      'name': 'Relate and lot represent than create participant.',\n",
       "      'source': 'Wilson-Grimes'}}]},\n",
       "  'data': []},\n",
       " {'timestamp': 1613382418,\n",
       "  'title': \"charlesthompson wrote on Ricardo Rivera's timeline.\",\n",
       "  'tags': ['Jonathan Bishop', 'Heather Scott', 'Lauren Carney'],\n",
       "  'data': []},\n",
       " {'timestamp': 1594599760,\n",
       "  'title': \"charlesthompson wrote on Thomas Davies's timeline.\",\n",
       "  'tags': ['Melissa Jones', 'Margaret Nichols'],\n",
       "  'attachments': {'data': [{'external_context': {'url': 'https://www.cisneros.net/',\n",
       "      'name': 'Central speech ever apply free learn affect.',\n",
       "      'source': 'Davis LLC'}}]},\n",
       "  'data': []},\n",
       " {'timestamp': 1587801569,\n",
       "  'title': \"charlesthompson wrote on Joseph Hebert's timeline.\",\n",
       "  'tags': ['Charlotte Gomez', 'Angela Walls'],\n",
       "  'data': []},\n",
       " {'timestamp': 1599964240,\n",
       "  'title': \"charlesthompson wrote on Jeremy Wagner's timeline.\",\n",
       "  'tags': ['Adriana Fleming', 'Monica Sherman'],\n",
       "  'data': []},\n",
       " {'timestamp': 1583238696,\n",
       "  'title': \"charlesthompson wrote on Michelle Miller's timeline.\",\n",
       "  'tags': ['Isabel Shaffer'],\n",
       "  'attachments': {'data': [{'external_context': {'url': 'https://nguyen-glass.info/'}}]},\n",
       "  'data': []},\n",
       " {'timestamp': 1587330026,\n",
       "  'title': \"charlesthompson wrote on William Rubio's timeline.\",\n",
       "  'tags': ['Clarence Barnes'],\n",
       "  'attachments': {'data': [{'external_context': {'url': 'https://www.fuller.org/'}}]},\n",
       "  'data': []},\n",
       " {'timestamp': 1589705731,\n",
       "  'title': \"charlesthompson wrote on Paul Jones's timeline.\",\n",
       "  'tags': ['Lauren Black', 'Elizabeth Page', 'Richard Nichols'],\n",
       "  'attachments': {'data': [{'external_context': {'url': 'http://mayer.org/'}}]},\n",
       "  'data': []},\n",
       " {'timestamp': 1610088845,\n",
       "  'title': \"charlesthompson wrote on Andrew Thomas's timeline.\",\n",
       "  'tags': ['David Marks', 'Andrew Jordan'],\n",
       "  'data': []},\n",
       " {'timestamp': 1597118358,\n",
       "  'title': \"charlesthompson wrote on Michelle Burgess's timeline.\",\n",
       "  'tags': ['Gregory Deleon', 'Jason Hill', 'Mark Durham'],\n",
       "  'data': []},\n",
       " {'timestamp': 1615710823,\n",
       "  'title': \"charlesthompson wrote on Paul Sanchez's timeline.\",\n",
       "  'tags': ['Jonathon Phillips'],\n",
       "  'data': []},\n",
       " {'timestamp': 1593915389,\n",
       "  'title': \"charlesthompson wrote on Kayla Baldwin's timeline.\",\n",
       "  'tags': ['Adam Perez', 'John Sanchez'],\n",
       "  'data': []},\n",
       " {'timestamp': 1587714245,\n",
       "  'title': \"charlesthompson wrote on Laura Vargas's timeline.\",\n",
       "  'tags': ['Joshua Griffin', 'Heather Brooks', 'Jessica Morrison'],\n",
       "  'data': []},\n",
       " {'timestamp': 1604049355,\n",
       "  'title': \"charlesthompson wrote on Michael Campbell's timeline.\",\n",
       "  'tags': ['John Palmer', 'Mr. Frederick Nguyen'],\n",
       "  'data': []},\n",
       " {'timestamp': 1581307202,\n",
       "  'title': \"charlesthompson wrote on Megan Flores's timeline.\",\n",
       "  'tags': [],\n",
       "  'data': []},\n",
       " {'timestamp': 1591256575,\n",
       "  'title': \"charlesthompson wrote on Angela Peterson's timeline.\",\n",
       "  'tags': ['Laura Smith'],\n",
       "  'data': []},\n",
       " {'timestamp': 1601540502,\n",
       "  'title': \"charlesthompson wrote on Donna Sparks's timeline.\",\n",
       "  'tags': ['Tracy Snow', 'Melissa Rios'],\n",
       "  'data': []},\n",
       " {'timestamp': 1599095783,\n",
       "  'title': \"charlesthompson wrote on Tammy Jackson's timeline.\",\n",
       "  'tags': [],\n",
       "  'attachments': {'data': [{'external_context': {'url': 'http://www.roberts.com/',\n",
       "      'name': 'Lay more on which response.',\n",
       "      'source': 'Martin, Matthews and Hanson'}}]},\n",
       "  'data': [{'post': 'Agent mouth general forget. Such again relationship perhaps.\\nGuy Mrs of through wish. Expect go throughout sister member him radio. My before lead take all unit.\\nGuess door leg free population everyone always to. Everybody wrong first us nice true join.\\nWorker more project media somebody. Economy whom bit thus skill number trip.\\nPublic class reveal your region data. White way avoid street build money pattern.\\nKnowledge woman determine try organization science. Under board enough policy.\\nSound or hotel peace. Me sign before.'}]},\n",
       " {'timestamp': 1587104127,\n",
       "  'title': \"charlesthompson wrote on Brandon Rodriguez's timeline.\",\n",
       "  'tags': [],\n",
       "  'attachments': {'data': [{'external_context': {'url': 'http://www.russell.com/',\n",
       "      'name': 'Their senior east performance.',\n",
       "      'source': 'Brown, Jones and James'}}]},\n",
       "  'data': []},\n",
       " {'timestamp': 1599191341,\n",
       "  'title': \"charlesthompson wrote on Catherine Park's timeline.\",\n",
       "  'tags': ['Sarah Williams', 'Elizabeth Sloan'],\n",
       "  'data': []},\n",
       " {'timestamp': 1590773329,\n",
       "  'title': \"charlesthompson wrote on Michael Spencer's timeline.\",\n",
       "  'tags': ['Maria Watson'],\n",
       "  'data': []},\n",
       " {'timestamp': 1609791017,\n",
       "  'title': \"charlesthompson wrote on Laurie Miles's timeline.\",\n",
       "  'tags': ['Megan Harris'],\n",
       "  'data': []},\n",
       " {'timestamp': 1617847040,\n",
       "  'title': \"charlesthompson wrote on Jeffrey Thomas's timeline.\",\n",
       "  'tags': ['Jared Phillips', 'Amanda Summers', 'Travis Guerra'],\n",
       "  'data': [{'post': 'Resource cup consumer specific. Alone where today lead middle medical. Assume recognize draw thought cover. Book garden enjoy least.\\nListen another local not else from leave. Foreign no space wall make thought.\\nDesign book affect guess statement according. Especially court all lay until trial.\\nWhich she other behind. Sign become image keep. Pay article I factor.'}]},\n",
       " {'timestamp': 1578583143,\n",
       "  'title': \"charlesthompson wrote on Tracey Jones's timeline.\",\n",
       "  'tags': ['Kimberly Carlson', 'Thomas Ward', 'Tonya Lopez'],\n",
       "  'data': [{'post': 'Mrs into over toward bad morning. Expect material positive she field everything.\\nCustomer boy produce. Paper party understand change.\\nDecide anything at. Claim scene great mission she face blue. Support could more out young.\\nIt expect near. Lead begin see.\\nMiddle seem executive then. Nothing use wait yes nearly environment own.\\nStaff base opportunity recognize. Performance wind this.'}]},\n",
       " {'timestamp': 1622249258,\n",
       "  'title': \"charlesthompson wrote on Nicholas Martin's timeline.\",\n",
       "  'tags': ['Daniel Walker', 'Leslie Massey', 'Donald Hartman'],\n",
       "  'attachments': {'data': [{'external_context': {'url': 'http://esparza-thomas.com/'}}]},\n",
       "  'data': []},\n",
       " {'timestamp': 1610757178,\n",
       "  'title': \"charlesthompson wrote on Michelle Brown's timeline.\",\n",
       "  'tags': ['Kimberly Gonzalez', 'Michael Moon', 'Bonnie Jimenez'],\n",
       "  'data': []},\n",
       " {'timestamp': 1593153418,\n",
       "  'title': \"charlesthompson wrote on Laura Madden's timeline.\",\n",
       "  'tags': ['Patricia Schmidt'],\n",
       "  'data': [{'post': 'Letter save either about turn face network. Let either these college health west follow. Her reality which friend interesting product good. Behavior ability trial.\\nSo guess knowledge enter democratic million. Happen radio cause house.\\nStart realize simply partner skill society. Will this military music memory court hard. No enough win home.\\nRemember have open bed. Leader seem loss use dinner. Along draw hand action though central indeed religious.\\nTree move skill fall these. Alone nice beat follow.\\nMovie act half.'}]},\n",
       " {'timestamp': 1582730398,\n",
       "  'title': \"charlesthompson wrote on Anthony Garza's timeline.\",\n",
       "  'tags': ['Megan Robinson', 'John Gutierrez', 'Steven Perkins'],\n",
       "  'attachments': {'data': [{'external_context': {'url': 'https://www.bell-harmon.com/'}}]},\n",
       "  'data': [{'post': 'Behind picture one create still great different piece. Bad see former another leave energy individual. Manager character brother gun.\\nSimple no just. Indeed you out today production party.\\nFinancial dark head fire different land kitchen. Statement institution administration purpose wall.\\nDeal relationship good involve water choice. Consider add politics physical job catch later. Thought market between coach take plan grow.\\nWait long different reach.'}]},\n",
       " {'timestamp': 1593231790,\n",
       "  'title': \"charlesthompson wrote on Tammy Bell's timeline.\",\n",
       "  'tags': [],\n",
       "  'attachments': {'data': [{'external_context': {'url': 'http://www.shaffer.com/'}}]},\n",
       "  'data': [{'post': 'Here issue born other design senior Congress. Value relate whom within sister strong off. Hour upon out. Executive technology benefit out.\\nFriend see base star message. Feel dream need analysis remember off participant.\\nOn so suggest glass available piece strategy. Coach area recently take lay politics.\\nDemocratic sign somebody join director red. All film huge. Media street stop power.\\nEven serious subject however. Green certain plan improve gas.'}]},\n",
       " {'timestamp': 1603174831,\n",
       "  'title': \"charlesthompson wrote on Nicole Underwood's timeline.\",\n",
       "  'tags': ['Lisa Olson'],\n",
       "  'data': []},\n",
       " {'timestamp': 1599948357,\n",
       "  'title': \"charlesthompson wrote on Jodi Allen's timeline.\",\n",
       "  'tags': ['Christian Freeman MD'],\n",
       "  'data': []},\n",
       " {'timestamp': 1584670156,\n",
       "  'title': \"charlesthompson wrote on Hannah Franco's timeline.\",\n",
       "  'tags': ['Felicia Diaz', 'Karen Johnson'],\n",
       "  'data': []},\n",
       " {'timestamp': 1592013316,\n",
       "  'title': \"charlesthompson wrote on Karen Lewis's timeline.\",\n",
       "  'tags': ['Kelly Kim', 'Seth Edwards', 'Katherine Owen'],\n",
       "  'data': [{'post': 'Exactly create strategy minute. Eat speak gun south physical keep economy factor.\\nBuilding race blood PM between test majority stage. Claim information all speak. This will federal tree.\\nHappy situation deep ok. Laugh music law product parent head. There billion theory son bed alone.\\nGroup open nearly improve statement. Third maintain rest personal. Interest design good of trouble issue.'}]},\n",
       " {'timestamp': 1604190842,\n",
       "  'title': \"charlesthompson wrote on Kimberly Williams's timeline.\",\n",
       "  'tags': ['Megan Ray', 'Mariah Cox'],\n",
       "  'data': []},\n",
       " {'timestamp': 1620169375,\n",
       "  'title': \"charlesthompson wrote on Alexander Gilbert's timeline.\",\n",
       "  'tags': ['Gregory Lee', 'Gregory Richardson', 'Christopher Velez'],\n",
       "  'data': [{'post': 'History back person question fill arm. Brother individual miss responsibility one indeed. Allow really seem east.\\nBad together choice market price participant. Sense strong bank appear. List my foot simple sort officer simple.\\nBuild attorney coach either. Company city prove Mrs person assume.\\nYour Mr special crime baby tell task.\\nFace media knowledge owner free assume bank necessary. At mention radio two audience. Popular into director stage.'}]},\n",
       " {'timestamp': 1599662979,\n",
       "  'title': \"charlesthompson wrote on Justin Martinez's timeline.\",\n",
       "  'tags': ['Daniel Delacruz', 'Kelly Castro', 'Elizabeth Brown'],\n",
       "  'attachments': {'data': [{'external_context': {'url': 'https://www.hart-rivera.com/'}}]},\n",
       "  'data': [{'post': 'Pretty chair evidence card. Miss agent positive soon author white pattern. Concern improve method result must into.\\nCamera identify outside hold energy anything nothing one. Place indeed base rather read take play agent.\\nAcross voice project care attack course wait. Attorney if large particularly. Investment recently cultural return whose all.'}]},\n",
       " {'timestamp': 1584250515,\n",
       "  'title': \"charlesthompson wrote on Steven Graham's timeline.\",\n",
       "  'tags': ['Brian Steele', 'Sean Patterson'],\n",
       "  'data': []},\n",
       " {'timestamp': 1604331861,\n",
       "  'title': \"charlesthompson wrote on Sarah Fischer's timeline.\",\n",
       "  'tags': [],\n",
       "  'attachments': {'data': [{'external_context': {'url': 'http://www.burnett-young.net/'}}]},\n",
       "  'data': []},\n",
       " {'timestamp': 1608450805,\n",
       "  'title': \"charlesthompson wrote on Courtney Holt's timeline.\",\n",
       "  'tags': ['Taylor Nelson'],\n",
       "  'data': []},\n",
       " {'timestamp': 1622179230,\n",
       "  'title': \"charlesthompson wrote on Annette Dunn's timeline.\",\n",
       "  'tags': ['Guy Myers'],\n",
       "  'data': []},\n",
       " {'timestamp': 1591377482,\n",
       "  'title': \"charlesthompson wrote on Janice Brown's timeline.\",\n",
       "  'tags': ['Charles Carr', 'Ronnie Farrell', 'David Sanchez'],\n",
       "  'attachments': {'data': [{'external_context': {'url': 'https://www.mitchell-turner.com/'}}]},\n",
       "  'data': []},\n",
       " {'timestamp': 1599106770,\n",
       "  'title': \"charlesthompson wrote on Tina Solis's timeline.\",\n",
       "  'tags': ['Benjamin Hernandez', 'Daniel Conley'],\n",
       "  'attachments': {'data': [{'external_context': {'url': 'http://brown.com/',\n",
       "      'name': 'Carry share clear since seek interest.',\n",
       "      'source': 'Brown Group'}}]},\n",
       "  'data': [{'post': 'Natural wall bill dream key east test. Artist after writer beat say material. Race but identify various world five.\\nFew deal authority production. First soon stay perform.\\nAudience inside tough hand concern student prove no. Cost peace nature standard tend floor best key. Including trip behavior goal growth foot.\\nGrow through benefit establish ask reach. Response data minute. Protect option sure wonder very.\\nNow doctor treat top often. Say full spring on poor start suffer.'}]},\n",
       " {'timestamp': 1616100990,\n",
       "  'title': \"charlesthompson wrote on Dustin Ball's timeline.\",\n",
       "  'tags': ['Carl Barnes', 'Zachary Moore', 'Robert Bates'],\n",
       "  'data': []},\n",
       " {'timestamp': 1595269314,\n",
       "  'title': \"charlesthompson wrote on Jeremy Perez's timeline.\",\n",
       "  'tags': ['Sandra Fox', 'Aaron Rose'],\n",
       "  'attachments': {'data': [{'external_context': {'url': 'http://nguyen.com/'}}]},\n",
       "  'data': []},\n",
       " {'timestamp': 1604600528,\n",
       "  'title': \"charlesthompson wrote on James Johnson's timeline.\",\n",
       "  'tags': ['Brianna Rasmussen'],\n",
       "  'data': []},\n",
       " {'timestamp': 1604343085,\n",
       "  'title': \"charlesthompson wrote on Darin Martin's timeline.\",\n",
       "  'tags': ['Bruce Miller'],\n",
       "  'data': []},\n",
       " {'timestamp': 1597576531,\n",
       "  'title': \"charlesthompson wrote on Christy Stone's timeline.\",\n",
       "  'tags': ['Jon King'],\n",
       "  'data': [{'post': 'Join goal key clearly admit couple. Population official standard.\\nLoss can environment sometimes institution. Itself hit structure simply instead.\\nSpeech voice recognize rule along reality. Push no tough southern one area standard. Development exactly suggest area third.\\nEveryone sing sea show explain evening night. Buy gun finally want best law. Music trouble form ask table condition.'}]},\n",
       " {'timestamp': 1581303693,\n",
       "  'title': \"charlesthompson wrote on Ashlee Hernandez's timeline.\",\n",
       "  'tags': [],\n",
       "  'attachments': {'data': [{'for_sale_item': {'title': 'Function-based coherent synergy',\n",
       "      'price': '$361',\n",
       "      'seller': 'charlesthompson',\n",
       "      'created_timestamp': 1606518663,\n",
       "      'updated_timestamp': 1598304496,\n",
       "      'category': 'Electronics',\n",
       "      'marketplace': 'program-among',\n",
       "      'location': {'coordinate': {'lattitude': '40.92298',\n",
       "        'longitude': '14.30935'}},\n",
       "      'description': 'Drop most always song student.'}},\n",
       "    {'media': {'uri': 'https://dummyimage.com/746x885',\n",
       "      'creation_timestamp': 1606518663,\n",
       "      'media_metadata': {'upload_ip': '111.15.76.121'},\n",
       "      'title': ''}},\n",
       "    {'media': {'uri': 'https://placekitten.com/590/743',\n",
       "      'creation_timestamp': 1606518663,\n",
       "      'media_metadata': {'upload_ip': '112.208.101.191'},\n",
       "      'title': ''}},\n",
       "    {'media': {'uri': 'https://dummyimage.com/281x74',\n",
       "      'creation_timestamp': 1606518663,\n",
       "      'media_metadata': {'upload_ip': '30.127.253.6'},\n",
       "      'title': ''}}]},\n",
       "  'data': []},\n",
       " {'timestamp': 1579704175,\n",
       "  'title': \"charlesthompson wrote on Aaron Jackson's timeline.\",\n",
       "  'tags': ['Jeffrey Duncan', 'James Hernandez'],\n",
       "  'data': []},\n",
       " {'timestamp': 1603587558,\n",
       "  'title': \"charlesthompson wrote on Mary Berry's timeline.\",\n",
       "  'tags': ['Edward Moore'],\n",
       "  'data': []},\n",
       " {'timestamp': 1619101765,\n",
       "  'title': \"charlesthompson wrote on Jason Miller's timeline.\",\n",
       "  'tags': ['Kimberly Russo'],\n",
       "  'attachments': {'data': [{'external_context': {'url': 'https://bowman.org/',\n",
       "      'name': 'View town bank present scene man.',\n",
       "      'source': 'Gardner Ltd'}}]},\n",
       "  'data': [{'post': 'Experience red fine there girl. There action impact this. Ok prepare nature that assume. Hotel particularly artist enough morning agent day.\\nDinner standard move. Fine high bad statement character sing another.\\nEver argue market. Loss wish design adult kitchen. Defense reduce style short reflect.\\nCollection store morning stock traditional. Well weight purpose cover.'}]},\n",
       " {'timestamp': 1615816455,\n",
       "  'title': \"charlesthompson wrote on Christina Lee's timeline.\",\n",
       "  'tags': ['Jeremy Allen', 'Brian Chavez', 'Veronica Jones'],\n",
       "  'data': []},\n",
       " {'timestamp': 1602380873,\n",
       "  'title': \"charlesthompson wrote on Amanda Reyes's timeline.\",\n",
       "  'tags': ['Brian Harris', 'Carl Sanchez'],\n",
       "  'attachments': {'data': [{'external_context': {'url': 'http://www.ramos.org/',\n",
       "      'name': 'Food often teach work first letter.',\n",
       "      'source': 'Vega, Burke and Holden'}}]},\n",
       "  'data': [{'post': 'His ten sea fear seat pick team. Conference four throughout in sign. Change whether indicate better goal image.\\nTotal this goal young new yes the. Still huge local health newspaper. Win artist information state.\\nMr then a among truth. Interest customer red question feel. Machine that still.\\nArt data visit hope physical television season. Wall describe myself why how class name. Deal forward foreign lot recognize day price.'}]},\n",
       " {'timestamp': 1587506379,\n",
       "  'title': \"charlesthompson wrote on Christina Valdez's timeline.\",\n",
       "  'tags': ['Holly Williams'],\n",
       "  'data': []},\n",
       " {'timestamp': 1606684926,\n",
       "  'title': \"charlesthompson wrote on Ryan Snyder's timeline.\",\n",
       "  'tags': ['Noah Collins', 'Valerie Pham'],\n",
       "  'attachments': {'data': [{'external_context': {'url': 'https://www.garrett.info/',\n",
       "      'name': 'Spend how big effort.',\n",
       "      'source': 'Bass PLC'}}]},\n",
       "  'data': []},\n",
       " {'timestamp': 1614582587,\n",
       "  'title': \"charlesthompson wrote on Sarah Bruce's timeline.\",\n",
       "  'tags': ['Leslie Garcia', 'Eric Jackson'],\n",
       "  'attachments': {'data': [{'external_context': {'url': 'https://www.smith-davis.com/'}}]},\n",
       "  'data': [{'post': 'While century firm animal near. Study military image development have far kind.\\nName peace determine ahead fish perhaps. Thing pass save military even spend.\\nOk build both several action various without myself. Represent test form group garden yeah give. Seven game major claim left itself who husband.\\nThose kid price. Fast bit fire happen green.\\nHim network there color rather figure within care. Or room sit lot law.'}]},\n",
       " {'timestamp': 1580101344,\n",
       "  'title': \"charlesthompson wrote on Jessica Reilly's timeline.\",\n",
       "  'tags': ['Elijah Hammond', 'Monique Downs MD', 'Karen Torres'],\n",
       "  'attachments': {'data': [{'for_sale_item': {'title': 'Switchable didactic website',\n",
       "      'price': '﷼893',\n",
       "      'seller': 'charlesthompson',\n",
       "      'created_timestamp': 1600139205,\n",
       "      'updated_timestamp': 1605645050,\n",
       "      'category': 'Sports & outdoor',\n",
       "      'marketplace': 'benefit-person',\n",
       "      'location': {'coordinate': {'lattitude': '-21.42917',\n",
       "        'longitude': '-45.94722'}},\n",
       "      'description': 'Land middle majority them site staff maybe. Share place base garden board back activity. Produce star use able usually sound right. White decade summer television about company nearly.'}},\n",
       "    {'media': {'uri': 'https://www.lorempixel.com/99/864',\n",
       "      'creation_timestamp': 1600139205,\n",
       "      'media_metadata': {'upload_ip': '183.127.18.221'},\n",
       "      'title': ''}}]},\n",
       "  'data': [{'post': 'Do specific radio. Forward high politics current challenge. Forward official opportunity world impact sometimes. Information believe drive.\\nDemocratic more rich others two short. Music we tough open. Class sort card economy have particularly.\\nFather year determine music ten. Turn begin too.\\nBring real ever stay cause cause. Staff but nearly player light human bar race.'}]},\n",
       " {'timestamp': 1594133256,\n",
       "  'title': \"charlesthompson wrote on Dr. David Nguyen's timeline.\",\n",
       "  'tags': ['Linda Stark'],\n",
       "  'attachments': {'data': [{'external_context': {'url': 'http://www.brady.com/'}}]},\n",
       "  'data': []},\n",
       " {'timestamp': 1609434721,\n",
       "  'title': \"charlesthompson wrote on Kayla Perez's timeline.\",\n",
       "  'tags': ['Daniel Jackson'],\n",
       "  'attachments': {'data': [{'external_context': {'url': 'http://wilcox.info/'}}]},\n",
       "  'data': []},\n",
       " {'timestamp': 1614349377,\n",
       "  'title': \"charlesthompson wrote on Michelle Lopez's timeline.\",\n",
       "  'tags': ['Lisa Bennett'],\n",
       "  'attachments': {'data': [{'external_context': {'url': 'http://www.meza-wolfe.info/'}}]},\n",
       "  'data': []},\n",
       " {'timestamp': 1585455887,\n",
       "  'title': \"charlesthompson wrote on Melissa Webb's timeline.\",\n",
       "  'tags': ['Kristen Francis'],\n",
       "  'attachments': {'data': [{'external_context': {'url': 'http://thomas-anderson.com/'}}]},\n",
       "  'data': []},\n",
       " {'timestamp': 1613518398,\n",
       "  'title': \"charlesthompson wrote on Christopher White's timeline.\",\n",
       "  'tags': ['Kenneth Cook'],\n",
       "  'data': []},\n",
       " {'timestamp': 1585590737,\n",
       "  'title': \"charlesthompson wrote on Roberto Le's timeline.\",\n",
       "  'tags': [],\n",
       "  'attachments': {'data': [{'external_context': {'url': 'http://www.smith.com/',\n",
       "      'name': 'Owner month reveal truth true approach during including.',\n",
       "      'source': 'Ramos LLC'}}]},\n",
       "  'data': [{'post': 'Line woman somebody entire subject. Should store change trade edge pay.\\nTraining present standard say sort. Glass institution color can.\\nMrs upon spring off. Establish politics street interest walk need down.\\nChange respond agency happen road official reflect. Number pass public partner. Such dinner major charge PM.\\nCoach add not political hard executive. Friend art special report measure. Service side and page image few despite.'}]},\n",
       " {'timestamp': 1619622186,\n",
       "  'title': \"charlesthompson wrote on Hannah Rios's timeline.\",\n",
       "  'tags': [],\n",
       "  'attachments': {'data': [{'external_context': {'url': 'http://mejia.com/'}}]},\n",
       "  'data': []},\n",
       " {'timestamp': 1609106124,\n",
       "  'title': \"charlesthompson wrote on Brooke Palmer's timeline.\",\n",
       "  'tags': ['Denise Wilson', 'Clinton Williamson', 'Mckenzie White'],\n",
       "  'attachments': {'data': [{'external_context': {'url': 'https://www.parker.com/'}}]},\n",
       "  'data': [{'post': 'Sound fight interesting us career old. Level see attack mission player let hundred note. Become sing economy price boy buy stage.\\nMother no director bank. Project produce have nor stock will third successful. Public back building.\\nArgue ready without action yet. Business miss them whom great maintain.\\nAlone parent product sense big remain action worry. Home age short can usually big other. Respond check market fire eat community.\\nPrevent occur might own artist. Class a us difference.',\n",
       "    'update_timestamp': 1618855273}]},\n",
       " {'timestamp': 1619862861,\n",
       "  'title': \"charlesthompson wrote on David Lee's timeline.\",\n",
       "  'tags': [],\n",
       "  'data': []},\n",
       " {'timestamp': 1579351700,\n",
       "  'title': \"charlesthompson wrote on Dean Cardenas's timeline.\",\n",
       "  'tags': ['Stephanie Jefferson'],\n",
       "  'attachments': {'data': [{'external_context': {'url': 'https://www.peters-johnson.com/'}}]},\n",
       "  'data': []},\n",
       " {'timestamp': 1619904400,\n",
       "  'title': \"charlesthompson wrote on Michael Bowman's timeline.\",\n",
       "  'tags': [],\n",
       "  'attachments': {'data': [{'external_context': {'url': 'http://ryan-haynes.org/'}}]},\n",
       "  'data': []},\n",
       " {'timestamp': 1617951105,\n",
       "  'title': \"charlesthompson wrote on Michael Haney's timeline.\",\n",
       "  'tags': ['Katie Maldonado', 'William Sloan', 'Zachary Dougherty'],\n",
       "  'attachments': {'data': [{'for_sale_item': {'title': 'Face-to-face solution-oriented parallelism',\n",
       "      'price': '$117',\n",
       "      'seller': 'charlesthompson',\n",
       "      'created_timestamp': 1614352000,\n",
       "      'updated_timestamp': 1606271920,\n",
       "      'category': 'Sports & outdoor',\n",
       "      'marketplace': 'nation-worker-role',\n",
       "      'location': {'coordinate': {'lattitude': '51.62907',\n",
       "        'longitude': '-0.74934'}},\n",
       "      'description': 'Animal model already tell her.'}},\n",
       "    {'media': {'uri': 'https://dummyimage.com/833x806',\n",
       "      'creation_timestamp': 1614352000,\n",
       "      'media_metadata': {'upload_ip': '173.58.245.76'},\n",
       "      'title': ''}}]},\n",
       "  'data': []},\n",
       " {'timestamp': 1597142222,\n",
       "  'title': \"charlesthompson wrote on Perry Robinson's timeline.\",\n",
       "  'tags': ['Jaclyn Anderson'],\n",
       "  'attachments': {'data': [{'external_context': {'url': 'http://www.marshall-smith.com/'}}]},\n",
       "  'data': []},\n",
       " {'timestamp': 1612304427,\n",
       "  'title': \"charlesthompson wrote on Ronald Wade's timeline.\",\n",
       "  'tags': ['Lauren Aguilar DVM', 'Aaron Schmidt'],\n",
       "  'data': []},\n",
       " {'timestamp': 1615003916,\n",
       "  'title': \"charlesthompson wrote on Teresa Maldonado's timeline.\",\n",
       "  'tags': ['Christopher Blankenship', 'Michelle Miller', 'Rita Mccoy'],\n",
       "  'data': []}]"
      ]
     },
     "execution_count": 49,
     "metadata": {},
     "output_type": "execute_result"
    }
   ],
   "source": [
    "data"
   ]
  },
  {
   "cell_type": "markdown",
   "metadata": {},
   "source": [
    "Challenge: I want to anonymize the titles for now. At least, I want to change the username by the tag ```<user>```"
   ]
  },
  {
   "cell_type": "code",
   "execution_count": 50,
   "metadata": {},
   "outputs": [
    {
     "data": {
      "text/plain": [
       "{'timestamp': 1607922261,\n",
       " 'title': \"charlesthompson wrote on Veronica Olson's timeline.\",\n",
       " 'tags': ['Taylor Cabrera', 'Jennifer Young', 'Virginia Thompson'],\n",
       " 'data': []}"
      ]
     },
     "execution_count": 50,
     "metadata": {},
     "output_type": "execute_result"
    }
   ],
   "source": [
    "data[0]\n",
    "# this is a comment"
   ]
  },
  {
   "cell_type": "markdown",
   "metadata": {},
   "source": [
    "I am having a problem here"
   ]
  },
  {
   "cell_type": "code",
   "execution_count": 51,
   "metadata": {},
   "outputs": [],
   "source": [
    "title = data[0]['title']"
   ]
  },
  {
   "cell_type": "code",
   "execution_count": 52,
   "metadata": {},
   "outputs": [
    {
     "data": {
      "text/plain": [
       "\"charlesthompson wrote on Veronica Olson's timeline.\""
      ]
     },
     "execution_count": 52,
     "metadata": {},
     "output_type": "execute_result"
    }
   ],
   "source": [
    "title"
   ]
  },
  {
   "cell_type": "code",
   "execution_count": 53,
   "metadata": {},
   "outputs": [
    {
     "data": {
      "text/plain": [
       "['charlesthompson ', \" Veronica Olson's timeline.\"]"
      ]
     },
     "execution_count": 53,
     "metadata": {},
     "output_type": "execute_result"
    }
   ],
   "source": [
    "title.split('wrote on')"
   ]
  },
  {
   "cell_type": "code",
   "execution_count": 54,
   "metadata": {},
   "outputs": [
    {
     "data": {
      "text/plain": [
       "['charlesthompson', 'wrote', 'on', 'Veronica', \"Olson's\", 'timeline.']"
      ]
     },
     "execution_count": 54,
     "metadata": {},
     "output_type": "execute_result"
    }
   ],
   "source": [
    "title.split(' ')"
   ]
  },
  {
   "cell_type": "code",
   "execution_count": 55,
   "metadata": {},
   "outputs": [
    {
     "data": {
      "text/plain": [
       "'charlesthompson '"
      ]
     },
     "execution_count": 55,
     "metadata": {},
     "output_type": "execute_result"
    }
   ],
   "source": [
    "title.split('wrote on')[0]"
   ]
  },
  {
   "cell_type": "code",
   "execution_count": 56,
   "metadata": {},
   "outputs": [
    {
     "data": {
      "text/plain": [
       "'charlesthompson'"
      ]
     },
     "execution_count": 56,
     "metadata": {},
     "output_type": "execute_result"
    }
   ],
   "source": [
    "title.split('wrote on')[0].strip()"
   ]
  },
  {
   "cell_type": "code",
   "execution_count": 57,
   "metadata": {},
   "outputs": [],
   "source": [
    "user = title.split('wrote on')[0].strip()"
   ]
  },
  {
   "cell_type": "code",
   "execution_count": 58,
   "metadata": {},
   "outputs": [
    {
     "data": {
      "text/plain": [
       "'charlesthompson'"
      ]
     },
     "execution_count": 58,
     "metadata": {},
     "output_type": "execute_result"
    }
   ],
   "source": [
    "user"
   ]
  },
  {
   "cell_type": "code",
   "execution_count": 59,
   "metadata": {},
   "outputs": [
    {
     "data": {
      "text/plain": [
       "\"charlesthompson wrote on Veronica Olson's timeline.\""
      ]
     },
     "execution_count": 59,
     "metadata": {},
     "output_type": "execute_result"
    }
   ],
   "source": [
    "title"
   ]
  },
  {
   "cell_type": "code",
   "execution_count": 60,
   "metadata": {},
   "outputs": [
    {
     "data": {
      "text/plain": [
       "\"<user> wrote on Veronica Olson's timeline.\""
      ]
     },
     "execution_count": 60,
     "metadata": {},
     "output_type": "execute_result"
    }
   ],
   "source": [
    "title.replace(user, '<user>')"
   ]
  },
  {
   "cell_type": "code",
   "execution_count": 61,
   "metadata": {},
   "outputs": [],
   "source": [
    "def anonymize_user(title):\n",
    "    # Some safety measures first... \n",
    "    # 1. Maybe the title is empty (None)\n",
    "    if not title:\n",
    "        return title\n",
    "    # 2. Maybe \"wrote on\" is not in the title...\n",
    "    if 'wrote on' not in title:\n",
    "        return title\n",
    "    \n",
    "    # Now it's time to do the magic...\n",
    "    user = title.split('wrote on')[0].strip()\n",
    "    \n",
    "    return title.replace(user, '<user>')\n",
    "        "
   ]
  },
  {
   "cell_type": "code",
   "execution_count": 62,
   "metadata": {},
   "outputs": [],
   "source": [
    "example_titles = [None, \n",
    "                  \"someone wrote whatever somewhere else\",\n",
    "                 \"someone wrote on another person's timeline\"]"
   ]
  },
  {
   "cell_type": "code",
   "execution_count": 63,
   "metadata": {},
   "outputs": [
    {
     "name": "stdout",
     "output_type": "stream",
     "text": [
      "None\n",
      "someone wrote whatever somewhere else\n",
      "<user> wrote on another person's timeline\n"
     ]
    }
   ],
   "source": [
    "for title in example_titles:\n",
    "    print(anonymize_user(title))"
   ]
  },
  {
   "cell_type": "code",
   "execution_count": 64,
   "metadata": {},
   "outputs": [],
   "source": [
    "exampletitles = ['charles thompson wrote on someone timeline', 'charlesthompson wrote on someone else timeline']"
   ]
  },
  {
   "cell_type": "code",
   "execution_count": 65,
   "metadata": {},
   "outputs": [
    {
     "data": {
      "text/plain": [
       "['charles thompson wrote on someone timeline',\n",
       " 'charlesthompson wrote on someone else timeline']"
      ]
     },
     "execution_count": 65,
     "metadata": {},
     "output_type": "execute_result"
    }
   ],
   "source": [
    "exampletitles"
   ]
  },
  {
   "cell_type": "code",
   "execution_count": 66,
   "metadata": {},
   "outputs": [
    {
     "data": {
      "text/plain": [
       "['charles', 'thompson', 'wrote', 'on', 'someone', 'timeline']"
      ]
     },
     "execution_count": 66,
     "metadata": {},
     "output_type": "execute_result"
    }
   ],
   "source": [
    "exampletitles[0].split(' ')"
   ]
  },
  {
   "cell_type": "code",
   "execution_count": 67,
   "metadata": {},
   "outputs": [
    {
     "data": {
      "text/plain": [
       "['charlesthompson', 'wrote', 'on', 'someone', 'else', 'timeline']"
      ]
     },
     "execution_count": 67,
     "metadata": {},
     "output_type": "execute_result"
    }
   ],
   "source": [
    "exampletitles[1].split(' ')"
   ]
  },
  {
   "cell_type": "markdown",
   "metadata": {},
   "source": [
    "Trying with a subset of the data"
   ]
  },
  {
   "cell_type": "code",
   "execution_count": null,
   "metadata": {},
   "outputs": [],
   "source": []
  },
  {
   "cell_type": "code",
   "execution_count": null,
   "metadata": {},
   "outputs": [],
   "source": []
  },
  {
   "cell_type": "code",
   "execution_count": 68,
   "metadata": {},
   "outputs": [],
   "source": [
    "testdata = data[:15]"
   ]
  },
  {
   "cell_type": "code",
   "execution_count": 69,
   "metadata": {},
   "outputs": [
    {
     "data": {
      "text/plain": [
       "[{'timestamp': 1607922261,\n",
       "  'title': \"charlesthompson wrote on Veronica Olson's timeline.\",\n",
       "  'tags': ['Taylor Cabrera', 'Jennifer Young', 'Virginia Thompson'],\n",
       "  'data': []},\n",
       " {'timestamp': 1620342917,\n",
       "  'title': \"charlesthompson wrote on Ashley Schneider's timeline.\",\n",
       "  'tags': [],\n",
       "  'attachments': {'data': [{'external_context': {'url': 'http://www.carroll-craig.com/'}}]},\n",
       "  'data': []},\n",
       " {'timestamp': 1599939342,\n",
       "  'title': \"charlesthompson wrote on James Dalton's timeline.\",\n",
       "  'tags': [],\n",
       "  'attachments': {'data': [{'external_context': {'url': 'http://www.simpson-moore.com/'}}]},\n",
       "  'data': []},\n",
       " {'timestamp': 1595402633,\n",
       "  'title': \"charlesthompson wrote on Tiffany Cantu's timeline.\",\n",
       "  'tags': ['Eric Henry', 'Sean Roman'],\n",
       "  'data': []},\n",
       " {'timestamp': 1590761620,\n",
       "  'title': \"charlesthompson wrote on Kathy Murphy's timeline.\",\n",
       "  'tags': ['John Howell'],\n",
       "  'attachments': {'data': [{'external_context': {'url': 'http://www.glenn.org/'}}]},\n",
       "  'data': [{'post': 'Itself carry control job staff. People out same. Give right door poor event.\\nEvidence fund way open I. Someone go color receive public. Middle scientist policy sound firm. Soon bit more.\\nCompany area wall food two community help. Way serve five keep choose education range. Energy consider parent suffer method sea yeah.\\nCulture life raise truth long act head. Full during often once.\\nProduct vote rule year consider. Great opportunity training. Remain production than gas attack look.'}]},\n",
       " {'timestamp': 1609480244,\n",
       "  'title': \"charlesthompson wrote on Nathan Silva's timeline.\",\n",
       "  'tags': [],\n",
       "  'data': []},\n",
       " {'timestamp': 1582420415,\n",
       "  'title': \"charlesthompson wrote on Michelle Smith's timeline.\",\n",
       "  'tags': ['Christina Garcia'],\n",
       "  'attachments': {'data': [{'external_context': {'url': 'https://www.lewis.com/'}}]},\n",
       "  'data': [{'post': 'Develop a individual source store man.\\nStyle whole how foot. Security he structure rate sister theory area go.\\nProduce around produce record. Receive contain alone military in from. Central girl health party whatever door career.\\nPage field claim on. Above there various player.\\nForward at head girl adult anything why. About get next have well management box. Style history give.\\nRequire glass stop general mention sit reach. Realize trouble hot find later later bag.'}]},\n",
       " {'timestamp': 1582621215,\n",
       "  'title': \"charlesthompson wrote on Laura Crosby's timeline.\",\n",
       "  'tags': [],\n",
       "  'data': []},\n",
       " {'timestamp': 1607526057,\n",
       "  'title': \"charlesthompson wrote on Ashley Webb's timeline.\",\n",
       "  'tags': ['Nicholas Garner'],\n",
       "  'data': []},\n",
       " {'timestamp': 1604797155,\n",
       "  'title': \"charlesthompson wrote on Martin Marshall's timeline.\",\n",
       "  'tags': ['Benjamin Church'],\n",
       "  'attachments': {'data': [{'external_context': {'url': 'https://burton-baldwin.biz/'}}]},\n",
       "  'data': []},\n",
       " {'timestamp': 1614078879,\n",
       "  'title': \"charlesthompson wrote on Kenneth Anderson's timeline.\",\n",
       "  'tags': [],\n",
       "  'attachments': {'data': [{'external_context': {'url': 'https://www.jackson.org/'}}]},\n",
       "  'data': []},\n",
       " {'timestamp': 1582697466,\n",
       "  'title': \"charlesthompson wrote on Joseph Rocha DDS's timeline.\",\n",
       "  'tags': ['Victoria Gonzales', 'Robert Wood'],\n",
       "  'attachments': {'data': [{'external_context': {'url': 'http://gonzalez.biz/'}}]},\n",
       "  'data': [{'post': 'This onto president least board hospital. Figure game professor should us cup. Consumer give position color carry finish laugh.\\nArgue thing social dog another difference. Whose then should significant affect partner.\\nProduction around his notice strategy. Seem those event long president read.\\nFill conference still picture main set religious. Doctor hot bring. Cut attorney someone three quickly conference ball.'}]},\n",
       " {'timestamp': 1584647067,\n",
       "  'title': \"charlesthompson wrote on Albert Thompson's timeline.\",\n",
       "  'tags': ['Christina Dudley'],\n",
       "  'data': [{'post': 'Note child show. Near single pay quite interest act. See environmental since inside majority energy.\\nTeacher instead season site. Like decide budget must network cover.\\nMan common soldier prove partner crime anything. Bring grow before everyone. Eight work choice example budget political hand.\\nFund case production grow clear civil fast. Rather take million star.'}]},\n",
       " {'timestamp': 1582021592,\n",
       "  'title': \"charlesthompson wrote on Elizabeth Mosley's timeline.\",\n",
       "  'tags': ['Heidi Miller', 'Robert Hudson'],\n",
       "  'data': [{'post': 'Political end perform husband water middle.\\nJoin up certain image American. Subject similar result recently school. Across maybe put itself.\\nFoot may response agent popular again wonder difficult.\\nIt friend it worry career. Approach computer minute according.\\nInternational area also whom property. Force family anyone could.\\nOrder use partner drop industry system.\\nSpace cover month professor start. Feeling way arm ready she brother social series.\\nLow election accept. Remember carry story majority another race nothing.'}]},\n",
       " {'timestamp': 1597155950,\n",
       "  'title': \"charlesthompson wrote on Eric Curtis's timeline.\",\n",
       "  'tags': ['Lisa Jacobs', 'Michelle Gilmore'],\n",
       "  'data': [{'post': 'Impact fill defense. Box billion spend program surface short.\\nTechnology trial town similar painting let director. Grow action business road strategy able least.\\nTravel popular establish else majority. System work officer well. Opportunity despite general movie rate assume.\\nJoin special drive similar partner. Start without he space bill government window.\\nCare make thousand effect watch space generation. Lead enjoy professional many baby information.\\nPm culture difficult power. Pull turn discussion approach million.'}]}]"
      ]
     },
     "execution_count": 69,
     "metadata": {},
     "output_type": "execute_result"
    }
   ],
   "source": [
    "testdata"
   ]
  },
  {
   "cell_type": "code",
   "execution_count": 70,
   "metadata": {},
   "outputs": [
    {
     "name": "stdout",
     "output_type": "stream",
     "text": [
      "{'timestamp': 1607922261, 'title': \"charlesthompson wrote on Veronica Olson's timeline.\", 'tags': ['Taylor Cabrera', 'Jennifer Young', 'Virginia Thompson'], 'data': []}\n",
      "{'timestamp': 1620342917, 'title': \"charlesthompson wrote on Ashley Schneider's timeline.\", 'tags': [], 'attachments': {'data': [{'external_context': {'url': 'http://www.carroll-craig.com/'}}]}, 'data': []}\n",
      "{'timestamp': 1599939342, 'title': \"charlesthompson wrote on James Dalton's timeline.\", 'tags': [], 'attachments': {'data': [{'external_context': {'url': 'http://www.simpson-moore.com/'}}]}, 'data': []}\n",
      "{'timestamp': 1595402633, 'title': \"charlesthompson wrote on Tiffany Cantu's timeline.\", 'tags': ['Eric Henry', 'Sean Roman'], 'data': []}\n",
      "{'timestamp': 1590761620, 'title': \"charlesthompson wrote on Kathy Murphy's timeline.\", 'tags': ['John Howell'], 'attachments': {'data': [{'external_context': {'url': 'http://www.glenn.org/'}}]}, 'data': [{'post': 'Itself carry control job staff. People out same. Give right door poor event.\\nEvidence fund way open I. Someone go color receive public. Middle scientist policy sound firm. Soon bit more.\\nCompany area wall food two community help. Way serve five keep choose education range. Energy consider parent suffer method sea yeah.\\nCulture life raise truth long act head. Full during often once.\\nProduct vote rule year consider. Great opportunity training. Remain production than gas attack look.'}]}\n",
      "{'timestamp': 1609480244, 'title': \"charlesthompson wrote on Nathan Silva's timeline.\", 'tags': [], 'data': []}\n",
      "{'timestamp': 1582420415, 'title': \"charlesthompson wrote on Michelle Smith's timeline.\", 'tags': ['Christina Garcia'], 'attachments': {'data': [{'external_context': {'url': 'https://www.lewis.com/'}}]}, 'data': [{'post': 'Develop a individual source store man.\\nStyle whole how foot. Security he structure rate sister theory area go.\\nProduce around produce record. Receive contain alone military in from. Central girl health party whatever door career.\\nPage field claim on. Above there various player.\\nForward at head girl adult anything why. About get next have well management box. Style history give.\\nRequire glass stop general mention sit reach. Realize trouble hot find later later bag.'}]}\n",
      "{'timestamp': 1582621215, 'title': \"charlesthompson wrote on Laura Crosby's timeline.\", 'tags': [], 'data': []}\n",
      "{'timestamp': 1607526057, 'title': \"charlesthompson wrote on Ashley Webb's timeline.\", 'tags': ['Nicholas Garner'], 'data': []}\n",
      "{'timestamp': 1604797155, 'title': \"charlesthompson wrote on Martin Marshall's timeline.\", 'tags': ['Benjamin Church'], 'attachments': {'data': [{'external_context': {'url': 'https://burton-baldwin.biz/'}}]}, 'data': []}\n",
      "{'timestamp': 1614078879, 'title': \"charlesthompson wrote on Kenneth Anderson's timeline.\", 'tags': [], 'attachments': {'data': [{'external_context': {'url': 'https://www.jackson.org/'}}]}, 'data': []}\n",
      "{'timestamp': 1582697466, 'title': \"charlesthompson wrote on Joseph Rocha DDS's timeline.\", 'tags': ['Victoria Gonzales', 'Robert Wood'], 'attachments': {'data': [{'external_context': {'url': 'http://gonzalez.biz/'}}]}, 'data': [{'post': 'This onto president least board hospital. Figure game professor should us cup. Consumer give position color carry finish laugh.\\nArgue thing social dog another difference. Whose then should significant affect partner.\\nProduction around his notice strategy. Seem those event long president read.\\nFill conference still picture main set religious. Doctor hot bring. Cut attorney someone three quickly conference ball.'}]}\n",
      "{'timestamp': 1584647067, 'title': \"charlesthompson wrote on Albert Thompson's timeline.\", 'tags': ['Christina Dudley'], 'data': [{'post': 'Note child show. Near single pay quite interest act. See environmental since inside majority energy.\\nTeacher instead season site. Like decide budget must network cover.\\nMan common soldier prove partner crime anything. Bring grow before everyone. Eight work choice example budget political hand.\\nFund case production grow clear civil fast. Rather take million star.'}]}\n",
      "{'timestamp': 1582021592, 'title': \"charlesthompson wrote on Elizabeth Mosley's timeline.\", 'tags': ['Heidi Miller', 'Robert Hudson'], 'data': [{'post': 'Political end perform husband water middle.\\nJoin up certain image American. Subject similar result recently school. Across maybe put itself.\\nFoot may response agent popular again wonder difficult.\\nIt friend it worry career. Approach computer minute according.\\nInternational area also whom property. Force family anyone could.\\nOrder use partner drop industry system.\\nSpace cover month professor start. Feeling way arm ready she brother social series.\\nLow election accept. Remember carry story majority another race nothing.'}]}\n",
      "{'timestamp': 1597155950, 'title': \"charlesthompson wrote on Eric Curtis's timeline.\", 'tags': ['Lisa Jacobs', 'Michelle Gilmore'], 'data': [{'post': 'Impact fill defense. Box billion spend program surface short.\\nTechnology trial town similar painting let director. Grow action business road strategy able least.\\nTravel popular establish else majority. System work officer well. Opportunity despite general movie rate assume.\\nJoin special drive similar partner. Start without he space bill government window.\\nCare make thousand effect watch space generation. Lead enjoy professional many baby information.\\nPm culture difficult power. Pull turn discussion approach million.'}]}\n"
     ]
    }
   ],
   "source": [
    "for aaaaaaa in testdata:\n",
    "    print(aaaaaaa)"
   ]
  },
  {
   "cell_type": "code",
   "execution_count": 71,
   "metadata": {},
   "outputs": [
    {
     "name": "stdout",
     "output_type": "stream",
     "text": [
      "<user> wrote on Veronica Olson's timeline.\n",
      "<user> wrote on Ashley Schneider's timeline.\n",
      "<user> wrote on James Dalton's timeline.\n",
      "<user> wrote on Tiffany Cantu's timeline.\n",
      "<user> wrote on Kathy Murphy's timeline.\n",
      "<user> wrote on Nathan Silva's timeline.\n",
      "<user> wrote on Michelle Smith's timeline.\n",
      "<user> wrote on Laura Crosby's timeline.\n",
      "<user> wrote on Ashley Webb's timeline.\n",
      "<user> wrote on Martin Marshall's timeline.\n",
      "<user> wrote on Kenneth Anderson's timeline.\n",
      "<user> wrote on Joseph Rocha DDS's timeline.\n",
      "<user> wrote on Albert Thompson's timeline.\n",
      "<user> wrote on Elizabeth Mosley's timeline.\n",
      "<user> wrote on Eric Curtis's timeline.\n"
     ]
    }
   ],
   "source": [
    "for item in testdata:\n",
    "    if 'title' in item.keys():\n",
    "        print(anonymize_user(item['title']))"
   ]
  },
  {
   "cell_type": "code",
   "execution_count": null,
   "metadata": {},
   "outputs": [],
   "source": []
  },
  {
   "cell_type": "code",
   "execution_count": null,
   "metadata": {},
   "outputs": [],
   "source": []
  },
  {
   "cell_type": "code",
   "execution_count": 72,
   "metadata": {},
   "outputs": [],
   "source": [
    "for item in testdata:\n",
    "    if 'title' in item.keys():\n",
    "        item['title'] = anonymize_user(item['title'])"
   ]
  },
  {
   "cell_type": "code",
   "execution_count": 73,
   "metadata": {},
   "outputs": [
    {
     "data": {
      "text/plain": [
       "[{'timestamp': 1607922261,\n",
       "  'title': \"<user> wrote on Veronica Olson's timeline.\",\n",
       "  'tags': ['Taylor Cabrera', 'Jennifer Young', 'Virginia Thompson'],\n",
       "  'data': []},\n",
       " {'timestamp': 1620342917,\n",
       "  'title': \"<user> wrote on Ashley Schneider's timeline.\",\n",
       "  'tags': [],\n",
       "  'attachments': {'data': [{'external_context': {'url': 'http://www.carroll-craig.com/'}}]},\n",
       "  'data': []},\n",
       " {'timestamp': 1599939342,\n",
       "  'title': \"<user> wrote on James Dalton's timeline.\",\n",
       "  'tags': [],\n",
       "  'attachments': {'data': [{'external_context': {'url': 'http://www.simpson-moore.com/'}}]},\n",
       "  'data': []},\n",
       " {'timestamp': 1595402633,\n",
       "  'title': \"<user> wrote on Tiffany Cantu's timeline.\",\n",
       "  'tags': ['Eric Henry', 'Sean Roman'],\n",
       "  'data': []},\n",
       " {'timestamp': 1590761620,\n",
       "  'title': \"<user> wrote on Kathy Murphy's timeline.\",\n",
       "  'tags': ['John Howell'],\n",
       "  'attachments': {'data': [{'external_context': {'url': 'http://www.glenn.org/'}}]},\n",
       "  'data': [{'post': 'Itself carry control job staff. People out same. Give right door poor event.\\nEvidence fund way open I. Someone go color receive public. Middle scientist policy sound firm. Soon bit more.\\nCompany area wall food two community help. Way serve five keep choose education range. Energy consider parent suffer method sea yeah.\\nCulture life raise truth long act head. Full during often once.\\nProduct vote rule year consider. Great opportunity training. Remain production than gas attack look.'}]},\n",
       " {'timestamp': 1609480244,\n",
       "  'title': \"<user> wrote on Nathan Silva's timeline.\",\n",
       "  'tags': [],\n",
       "  'data': []},\n",
       " {'timestamp': 1582420415,\n",
       "  'title': \"<user> wrote on Michelle Smith's timeline.\",\n",
       "  'tags': ['Christina Garcia'],\n",
       "  'attachments': {'data': [{'external_context': {'url': 'https://www.lewis.com/'}}]},\n",
       "  'data': [{'post': 'Develop a individual source store man.\\nStyle whole how foot. Security he structure rate sister theory area go.\\nProduce around produce record. Receive contain alone military in from. Central girl health party whatever door career.\\nPage field claim on. Above there various player.\\nForward at head girl adult anything why. About get next have well management box. Style history give.\\nRequire glass stop general mention sit reach. Realize trouble hot find later later bag.'}]},\n",
       " {'timestamp': 1582621215,\n",
       "  'title': \"<user> wrote on Laura Crosby's timeline.\",\n",
       "  'tags': [],\n",
       "  'data': []},\n",
       " {'timestamp': 1607526057,\n",
       "  'title': \"<user> wrote on Ashley Webb's timeline.\",\n",
       "  'tags': ['Nicholas Garner'],\n",
       "  'data': []},\n",
       " {'timestamp': 1604797155,\n",
       "  'title': \"<user> wrote on Martin Marshall's timeline.\",\n",
       "  'tags': ['Benjamin Church'],\n",
       "  'attachments': {'data': [{'external_context': {'url': 'https://burton-baldwin.biz/'}}]},\n",
       "  'data': []},\n",
       " {'timestamp': 1614078879,\n",
       "  'title': \"<user> wrote on Kenneth Anderson's timeline.\",\n",
       "  'tags': [],\n",
       "  'attachments': {'data': [{'external_context': {'url': 'https://www.jackson.org/'}}]},\n",
       "  'data': []},\n",
       " {'timestamp': 1582697466,\n",
       "  'title': \"<user> wrote on Joseph Rocha DDS's timeline.\",\n",
       "  'tags': ['Victoria Gonzales', 'Robert Wood'],\n",
       "  'attachments': {'data': [{'external_context': {'url': 'http://gonzalez.biz/'}}]},\n",
       "  'data': [{'post': 'This onto president least board hospital. Figure game professor should us cup. Consumer give position color carry finish laugh.\\nArgue thing social dog another difference. Whose then should significant affect partner.\\nProduction around his notice strategy. Seem those event long president read.\\nFill conference still picture main set religious. Doctor hot bring. Cut attorney someone three quickly conference ball.'}]},\n",
       " {'timestamp': 1584647067,\n",
       "  'title': \"<user> wrote on Albert Thompson's timeline.\",\n",
       "  'tags': ['Christina Dudley'],\n",
       "  'data': [{'post': 'Note child show. Near single pay quite interest act. See environmental since inside majority energy.\\nTeacher instead season site. Like decide budget must network cover.\\nMan common soldier prove partner crime anything. Bring grow before everyone. Eight work choice example budget political hand.\\nFund case production grow clear civil fast. Rather take million star.'}]},\n",
       " {'timestamp': 1582021592,\n",
       "  'title': \"<user> wrote on Elizabeth Mosley's timeline.\",\n",
       "  'tags': ['Heidi Miller', 'Robert Hudson'],\n",
       "  'data': [{'post': 'Political end perform husband water middle.\\nJoin up certain image American. Subject similar result recently school. Across maybe put itself.\\nFoot may response agent popular again wonder difficult.\\nIt friend it worry career. Approach computer minute according.\\nInternational area also whom property. Force family anyone could.\\nOrder use partner drop industry system.\\nSpace cover month professor start. Feeling way arm ready she brother social series.\\nLow election accept. Remember carry story majority another race nothing.'}]},\n",
       " {'timestamp': 1597155950,\n",
       "  'title': \"<user> wrote on Eric Curtis's timeline.\",\n",
       "  'tags': ['Lisa Jacobs', 'Michelle Gilmore'],\n",
       "  'data': [{'post': 'Impact fill defense. Box billion spend program surface short.\\nTechnology trial town similar painting let director. Grow action business road strategy able least.\\nTravel popular establish else majority. System work officer well. Opportunity despite general movie rate assume.\\nJoin special drive similar partner. Start without he space bill government window.\\nCare make thousand effect watch space generation. Lead enjoy professional many baby information.\\nPm culture difficult power. Pull turn discussion approach million.'}]}]"
      ]
     },
     "execution_count": 73,
     "metadata": {},
     "output_type": "execute_result"
    }
   ],
   "source": [
    "testdata"
   ]
  },
  {
   "cell_type": "markdown",
   "metadata": {},
   "source": [
    "I guess it works... now let's try in all the data"
   ]
  },
  {
   "cell_type": "code",
   "execution_count": 74,
   "metadata": {},
   "outputs": [],
   "source": [
    "for item in data:\n",
    "    if 'title' in item.keys():\n",
    "        item['title'] = anonymize_user(item['title'])"
   ]
  },
  {
   "cell_type": "code",
   "execution_count": 75,
   "metadata": {},
   "outputs": [
    {
     "data": {
      "text/plain": [
       "[{'timestamp': 1607922261,\n",
       "  'title': \"<user> wrote on Veronica Olson's timeline.\",\n",
       "  'tags': ['Taylor Cabrera', 'Jennifer Young', 'Virginia Thompson'],\n",
       "  'data': []},\n",
       " {'timestamp': 1620342917,\n",
       "  'title': \"<user> wrote on Ashley Schneider's timeline.\",\n",
       "  'tags': [],\n",
       "  'attachments': {'data': [{'external_context': {'url': 'http://www.carroll-craig.com/'}}]},\n",
       "  'data': []},\n",
       " {'timestamp': 1599939342,\n",
       "  'title': \"<user> wrote on James Dalton's timeline.\",\n",
       "  'tags': [],\n",
       "  'attachments': {'data': [{'external_context': {'url': 'http://www.simpson-moore.com/'}}]},\n",
       "  'data': []},\n",
       " {'timestamp': 1595402633,\n",
       "  'title': \"<user> wrote on Tiffany Cantu's timeline.\",\n",
       "  'tags': ['Eric Henry', 'Sean Roman'],\n",
       "  'data': []},\n",
       " {'timestamp': 1590761620,\n",
       "  'title': \"<user> wrote on Kathy Murphy's timeline.\",\n",
       "  'tags': ['John Howell'],\n",
       "  'attachments': {'data': [{'external_context': {'url': 'http://www.glenn.org/'}}]},\n",
       "  'data': [{'post': 'Itself carry control job staff. People out same. Give right door poor event.\\nEvidence fund way open I. Someone go color receive public. Middle scientist policy sound firm. Soon bit more.\\nCompany area wall food two community help. Way serve five keep choose education range. Energy consider parent suffer method sea yeah.\\nCulture life raise truth long act head. Full during often once.\\nProduct vote rule year consider. Great opportunity training. Remain production than gas attack look.'}]},\n",
       " {'timestamp': 1609480244,\n",
       "  'title': \"<user> wrote on Nathan Silva's timeline.\",\n",
       "  'tags': [],\n",
       "  'data': []},\n",
       " {'timestamp': 1582420415,\n",
       "  'title': \"<user> wrote on Michelle Smith's timeline.\",\n",
       "  'tags': ['Christina Garcia'],\n",
       "  'attachments': {'data': [{'external_context': {'url': 'https://www.lewis.com/'}}]},\n",
       "  'data': [{'post': 'Develop a individual source store man.\\nStyle whole how foot. Security he structure rate sister theory area go.\\nProduce around produce record. Receive contain alone military in from. Central girl health party whatever door career.\\nPage field claim on. Above there various player.\\nForward at head girl adult anything why. About get next have well management box. Style history give.\\nRequire glass stop general mention sit reach. Realize trouble hot find later later bag.'}]},\n",
       " {'timestamp': 1582621215,\n",
       "  'title': \"<user> wrote on Laura Crosby's timeline.\",\n",
       "  'tags': [],\n",
       "  'data': []},\n",
       " {'timestamp': 1607526057,\n",
       "  'title': \"<user> wrote on Ashley Webb's timeline.\",\n",
       "  'tags': ['Nicholas Garner'],\n",
       "  'data': []},\n",
       " {'timestamp': 1604797155,\n",
       "  'title': \"<user> wrote on Martin Marshall's timeline.\",\n",
       "  'tags': ['Benjamin Church'],\n",
       "  'attachments': {'data': [{'external_context': {'url': 'https://burton-baldwin.biz/'}}]},\n",
       "  'data': []},\n",
       " {'timestamp': 1614078879,\n",
       "  'title': \"<user> wrote on Kenneth Anderson's timeline.\",\n",
       "  'tags': [],\n",
       "  'attachments': {'data': [{'external_context': {'url': 'https://www.jackson.org/'}}]},\n",
       "  'data': []},\n",
       " {'timestamp': 1582697466,\n",
       "  'title': \"<user> wrote on Joseph Rocha DDS's timeline.\",\n",
       "  'tags': ['Victoria Gonzales', 'Robert Wood'],\n",
       "  'attachments': {'data': [{'external_context': {'url': 'http://gonzalez.biz/'}}]},\n",
       "  'data': [{'post': 'This onto president least board hospital. Figure game professor should us cup. Consumer give position color carry finish laugh.\\nArgue thing social dog another difference. Whose then should significant affect partner.\\nProduction around his notice strategy. Seem those event long president read.\\nFill conference still picture main set religious. Doctor hot bring. Cut attorney someone three quickly conference ball.'}]},\n",
       " {'timestamp': 1584647067,\n",
       "  'title': \"<user> wrote on Albert Thompson's timeline.\",\n",
       "  'tags': ['Christina Dudley'],\n",
       "  'data': [{'post': 'Note child show. Near single pay quite interest act. See environmental since inside majority energy.\\nTeacher instead season site. Like decide budget must network cover.\\nMan common soldier prove partner crime anything. Bring grow before everyone. Eight work choice example budget political hand.\\nFund case production grow clear civil fast. Rather take million star.'}]},\n",
       " {'timestamp': 1582021592,\n",
       "  'title': \"<user> wrote on Elizabeth Mosley's timeline.\",\n",
       "  'tags': ['Heidi Miller', 'Robert Hudson'],\n",
       "  'data': [{'post': 'Political end perform husband water middle.\\nJoin up certain image American. Subject similar result recently school. Across maybe put itself.\\nFoot may response agent popular again wonder difficult.\\nIt friend it worry career. Approach computer minute according.\\nInternational area also whom property. Force family anyone could.\\nOrder use partner drop industry system.\\nSpace cover month professor start. Feeling way arm ready she brother social series.\\nLow election accept. Remember carry story majority another race nothing.'}]},\n",
       " {'timestamp': 1597155950,\n",
       "  'title': \"<user> wrote on Eric Curtis's timeline.\",\n",
       "  'tags': ['Lisa Jacobs', 'Michelle Gilmore'],\n",
       "  'data': [{'post': 'Impact fill defense. Box billion spend program surface short.\\nTechnology trial town similar painting let director. Grow action business road strategy able least.\\nTravel popular establish else majority. System work officer well. Opportunity despite general movie rate assume.\\nJoin special drive similar partner. Start without he space bill government window.\\nCare make thousand effect watch space generation. Lead enjoy professional many baby information.\\nPm culture difficult power. Pull turn discussion approach million.'}]},\n",
       " {'timestamp': 1609451510,\n",
       "  'title': \"<user> wrote on Sara Carroll's timeline.\",\n",
       "  'tags': [],\n",
       "  'data': []},\n",
       " {'timestamp': 1620733142,\n",
       "  'title': \"<user> wrote on Ricky Smith's timeline.\",\n",
       "  'tags': [],\n",
       "  'data': []},\n",
       " {'timestamp': 1583735748,\n",
       "  'title': \"<user> wrote on Adam Sims's timeline.\",\n",
       "  'tags': [],\n",
       "  'data': []},\n",
       " {'timestamp': 1579555420,\n",
       "  'title': \"<user> wrote on Spencer Hays's timeline.\",\n",
       "  'tags': ['Laura Hale', 'Susan Watson', 'Nathan Walter'],\n",
       "  'data': []},\n",
       " {'timestamp': 1616145488,\n",
       "  'title': \"<user> wrote on Courtney Andrews's timeline.\",\n",
       "  'tags': ['Michael Finley', 'Elizabeth Cameron', 'Phillip Evans'],\n",
       "  'data': []},\n",
       " {'timestamp': 1581113451,\n",
       "  'title': \"<user> wrote on Jason Scott's timeline.\",\n",
       "  'tags': [],\n",
       "  'data': [{'post': 'Likely find two detail involve or international. Her white seat old lose.\\nFinish Congress ability over. Spend board movement trade natural resource. Entire town character middle.\\nSimilar cut arm. Rise agree pretty. Land couple child.\\nOnly yard relationship child. Car help bed lawyer support.\\nDebate west on them.\\nAnalysis south then win seat.\\nRadio manage practice military wide. All staff field all ok.\\nAccording level me play. Section class film miss. Push relationship determine control yes.'}]},\n",
       " {'timestamp': 1618036061,\n",
       "  'title': \"<user> wrote on Dennis Rodriguez's timeline.\",\n",
       "  'tags': ['Larry Holmes', 'Steven Willis', 'Brittany Robinson'],\n",
       "  'data': []},\n",
       " {'timestamp': 1612232241,\n",
       "  'title': \"<user> wrote on Sarah Davis's timeline.\",\n",
       "  'tags': ['Mark Molina'],\n",
       "  'attachments': {'data': [{'external_context': {'url': 'https://www.brady.com/',\n",
       "      'name': 'Industry major put bar state.',\n",
       "      'source': 'Trevino, Huerta and Villa'}}]},\n",
       "  'data': []},\n",
       " {'timestamp': 1601157834,\n",
       "  'title': \"<user> wrote on Kelly Powell's timeline.\",\n",
       "  'tags': [],\n",
       "  'data': []},\n",
       " {'timestamp': 1618003737,\n",
       "  'title': \"<user> wrote on Leslie Clarke's timeline.\",\n",
       "  'tags': ['Rachel Mendoza'],\n",
       "  'data': [{'post': 'Young something moment close western. Laugh middle thought kid.\\nMillion political near property surface such whether. Computer forward their degree.\\nNote until animal charge song let. Agent where cell pay.\\nCustomer phone body thing pressure of with. Wear school story on fight nearly to green. Rather whether trip such.\\nThus glass friend beyond land study.\\nAuthor whatever whom only fight rather.\\nFactor lawyer most whether next instead rock.'}]},\n",
       " {'timestamp': 1602598929,\n",
       "  'title': \"<user> wrote on Kelly Dunn's timeline.\",\n",
       "  'tags': [],\n",
       "  'data': []},\n",
       " {'timestamp': 1615840605,\n",
       "  'title': \"<user> wrote on Dr. Michael Jones's timeline.\",\n",
       "  'tags': [],\n",
       "  'data': []},\n",
       " {'timestamp': 1616958698,\n",
       "  'title': \"<user> wrote on Rebecca Garcia's timeline.\",\n",
       "  'tags': ['Teresa Anderson'],\n",
       "  'data': [{'post': 'Gun real wait life. Wide region draw national left section. Throughout example learn body continue.\\nBlood open glass near. He against scene away. Spring wear minute science issue.\\nNational teach friend not. Last that admit serious. Onto mind wall than prevent city onto.\\nHotel half someone wall exactly. Section wall author two bit.\\nLater rich according work. Teacher ahead information season draw. Support range movement item will American century.\\nPrice business where likely. Forward message well from soldier.'}]},\n",
       " {'timestamp': 1611381455,\n",
       "  'title': \"<user> wrote on Mary Roberts's timeline.\",\n",
       "  'tags': ['Raymond Williams', 'Katherine Sanders'],\n",
       "  'attachments': {'data': [{'external_context': {'url': 'http://www.ramirez.com/',\n",
       "      'name': 'Relate and lot represent than create participant.',\n",
       "      'source': 'Wilson-Grimes'}}]},\n",
       "  'data': []},\n",
       " {'timestamp': 1613382418,\n",
       "  'title': \"<user> wrote on Ricardo Rivera's timeline.\",\n",
       "  'tags': ['Jonathan Bishop', 'Heather Scott', 'Lauren Carney'],\n",
       "  'data': []},\n",
       " {'timestamp': 1594599760,\n",
       "  'title': \"<user> wrote on Thomas Davies's timeline.\",\n",
       "  'tags': ['Melissa Jones', 'Margaret Nichols'],\n",
       "  'attachments': {'data': [{'external_context': {'url': 'https://www.cisneros.net/',\n",
       "      'name': 'Central speech ever apply free learn affect.',\n",
       "      'source': 'Davis LLC'}}]},\n",
       "  'data': []},\n",
       " {'timestamp': 1587801569,\n",
       "  'title': \"<user> wrote on Joseph Hebert's timeline.\",\n",
       "  'tags': ['Charlotte Gomez', 'Angela Walls'],\n",
       "  'data': []},\n",
       " {'timestamp': 1599964240,\n",
       "  'title': \"<user> wrote on Jeremy Wagner's timeline.\",\n",
       "  'tags': ['Adriana Fleming', 'Monica Sherman'],\n",
       "  'data': []},\n",
       " {'timestamp': 1583238696,\n",
       "  'title': \"<user> wrote on Michelle Miller's timeline.\",\n",
       "  'tags': ['Isabel Shaffer'],\n",
       "  'attachments': {'data': [{'external_context': {'url': 'https://nguyen-glass.info/'}}]},\n",
       "  'data': []},\n",
       " {'timestamp': 1587330026,\n",
       "  'title': \"<user> wrote on William Rubio's timeline.\",\n",
       "  'tags': ['Clarence Barnes'],\n",
       "  'attachments': {'data': [{'external_context': {'url': 'https://www.fuller.org/'}}]},\n",
       "  'data': []},\n",
       " {'timestamp': 1589705731,\n",
       "  'title': \"<user> wrote on Paul Jones's timeline.\",\n",
       "  'tags': ['Lauren Black', 'Elizabeth Page', 'Richard Nichols'],\n",
       "  'attachments': {'data': [{'external_context': {'url': 'http://mayer.org/'}}]},\n",
       "  'data': []},\n",
       " {'timestamp': 1610088845,\n",
       "  'title': \"<user> wrote on Andrew Thomas's timeline.\",\n",
       "  'tags': ['David Marks', 'Andrew Jordan'],\n",
       "  'data': []},\n",
       " {'timestamp': 1597118358,\n",
       "  'title': \"<user> wrote on Michelle Burgess's timeline.\",\n",
       "  'tags': ['Gregory Deleon', 'Jason Hill', 'Mark Durham'],\n",
       "  'data': []},\n",
       " {'timestamp': 1615710823,\n",
       "  'title': \"<user> wrote on Paul Sanchez's timeline.\",\n",
       "  'tags': ['Jonathon Phillips'],\n",
       "  'data': []},\n",
       " {'timestamp': 1593915389,\n",
       "  'title': \"<user> wrote on Kayla Baldwin's timeline.\",\n",
       "  'tags': ['Adam Perez', 'John Sanchez'],\n",
       "  'data': []},\n",
       " {'timestamp': 1587714245,\n",
       "  'title': \"<user> wrote on Laura Vargas's timeline.\",\n",
       "  'tags': ['Joshua Griffin', 'Heather Brooks', 'Jessica Morrison'],\n",
       "  'data': []},\n",
       " {'timestamp': 1604049355,\n",
       "  'title': \"<user> wrote on Michael Campbell's timeline.\",\n",
       "  'tags': ['John Palmer', 'Mr. Frederick Nguyen'],\n",
       "  'data': []},\n",
       " {'timestamp': 1581307202,\n",
       "  'title': \"<user> wrote on Megan Flores's timeline.\",\n",
       "  'tags': [],\n",
       "  'data': []},\n",
       " {'timestamp': 1591256575,\n",
       "  'title': \"<user> wrote on Angela Peterson's timeline.\",\n",
       "  'tags': ['Laura Smith'],\n",
       "  'data': []},\n",
       " {'timestamp': 1601540502,\n",
       "  'title': \"<user> wrote on Donna Sparks's timeline.\",\n",
       "  'tags': ['Tracy Snow', 'Melissa Rios'],\n",
       "  'data': []},\n",
       " {'timestamp': 1599095783,\n",
       "  'title': \"<user> wrote on Tammy Jackson's timeline.\",\n",
       "  'tags': [],\n",
       "  'attachments': {'data': [{'external_context': {'url': 'http://www.roberts.com/',\n",
       "      'name': 'Lay more on which response.',\n",
       "      'source': 'Martin, Matthews and Hanson'}}]},\n",
       "  'data': [{'post': 'Agent mouth general forget. Such again relationship perhaps.\\nGuy Mrs of through wish. Expect go throughout sister member him radio. My before lead take all unit.\\nGuess door leg free population everyone always to. Everybody wrong first us nice true join.\\nWorker more project media somebody. Economy whom bit thus skill number trip.\\nPublic class reveal your region data. White way avoid street build money pattern.\\nKnowledge woman determine try organization science. Under board enough policy.\\nSound or hotel peace. Me sign before.'}]},\n",
       " {'timestamp': 1587104127,\n",
       "  'title': \"<user> wrote on Brandon Rodriguez's timeline.\",\n",
       "  'tags': [],\n",
       "  'attachments': {'data': [{'external_context': {'url': 'http://www.russell.com/',\n",
       "      'name': 'Their senior east performance.',\n",
       "      'source': 'Brown, Jones and James'}}]},\n",
       "  'data': []},\n",
       " {'timestamp': 1599191341,\n",
       "  'title': \"<user> wrote on Catherine Park's timeline.\",\n",
       "  'tags': ['Sarah Williams', 'Elizabeth Sloan'],\n",
       "  'data': []},\n",
       " {'timestamp': 1590773329,\n",
       "  'title': \"<user> wrote on Michael Spencer's timeline.\",\n",
       "  'tags': ['Maria Watson'],\n",
       "  'data': []},\n",
       " {'timestamp': 1609791017,\n",
       "  'title': \"<user> wrote on Laurie Miles's timeline.\",\n",
       "  'tags': ['Megan Harris'],\n",
       "  'data': []},\n",
       " {'timestamp': 1617847040,\n",
       "  'title': \"<user> wrote on Jeffrey Thomas's timeline.\",\n",
       "  'tags': ['Jared Phillips', 'Amanda Summers', 'Travis Guerra'],\n",
       "  'data': [{'post': 'Resource cup consumer specific. Alone where today lead middle medical. Assume recognize draw thought cover. Book garden enjoy least.\\nListen another local not else from leave. Foreign no space wall make thought.\\nDesign book affect guess statement according. Especially court all lay until trial.\\nWhich she other behind. Sign become image keep. Pay article I factor.'}]},\n",
       " {'timestamp': 1578583143,\n",
       "  'title': \"<user> wrote on Tracey Jones's timeline.\",\n",
       "  'tags': ['Kimberly Carlson', 'Thomas Ward', 'Tonya Lopez'],\n",
       "  'data': [{'post': 'Mrs into over toward bad morning. Expect material positive she field everything.\\nCustomer boy produce. Paper party understand change.\\nDecide anything at. Claim scene great mission she face blue. Support could more out young.\\nIt expect near. Lead begin see.\\nMiddle seem executive then. Nothing use wait yes nearly environment own.\\nStaff base opportunity recognize. Performance wind this.'}]},\n",
       " {'timestamp': 1622249258,\n",
       "  'title': \"<user> wrote on Nicholas Martin's timeline.\",\n",
       "  'tags': ['Daniel Walker', 'Leslie Massey', 'Donald Hartman'],\n",
       "  'attachments': {'data': [{'external_context': {'url': 'http://esparza-thomas.com/'}}]},\n",
       "  'data': []},\n",
       " {'timestamp': 1610757178,\n",
       "  'title': \"<user> wrote on Michelle Brown's timeline.\",\n",
       "  'tags': ['Kimberly Gonzalez', 'Michael Moon', 'Bonnie Jimenez'],\n",
       "  'data': []},\n",
       " {'timestamp': 1593153418,\n",
       "  'title': \"<user> wrote on Laura Madden's timeline.\",\n",
       "  'tags': ['Patricia Schmidt'],\n",
       "  'data': [{'post': 'Letter save either about turn face network. Let either these college health west follow. Her reality which friend interesting product good. Behavior ability trial.\\nSo guess knowledge enter democratic million. Happen radio cause house.\\nStart realize simply partner skill society. Will this military music memory court hard. No enough win home.\\nRemember have open bed. Leader seem loss use dinner. Along draw hand action though central indeed religious.\\nTree move skill fall these. Alone nice beat follow.\\nMovie act half.'}]},\n",
       " {'timestamp': 1582730398,\n",
       "  'title': \"<user> wrote on Anthony Garza's timeline.\",\n",
       "  'tags': ['Megan Robinson', 'John Gutierrez', 'Steven Perkins'],\n",
       "  'attachments': {'data': [{'external_context': {'url': 'https://www.bell-harmon.com/'}}]},\n",
       "  'data': [{'post': 'Behind picture one create still great different piece. Bad see former another leave energy individual. Manager character brother gun.\\nSimple no just. Indeed you out today production party.\\nFinancial dark head fire different land kitchen. Statement institution administration purpose wall.\\nDeal relationship good involve water choice. Consider add politics physical job catch later. Thought market between coach take plan grow.\\nWait long different reach.'}]},\n",
       " {'timestamp': 1593231790,\n",
       "  'title': \"<user> wrote on Tammy Bell's timeline.\",\n",
       "  'tags': [],\n",
       "  'attachments': {'data': [{'external_context': {'url': 'http://www.shaffer.com/'}}]},\n",
       "  'data': [{'post': 'Here issue born other design senior Congress. Value relate whom within sister strong off. Hour upon out. Executive technology benefit out.\\nFriend see base star message. Feel dream need analysis remember off participant.\\nOn so suggest glass available piece strategy. Coach area recently take lay politics.\\nDemocratic sign somebody join director red. All film huge. Media street stop power.\\nEven serious subject however. Green certain plan improve gas.'}]},\n",
       " {'timestamp': 1603174831,\n",
       "  'title': \"<user> wrote on Nicole Underwood's timeline.\",\n",
       "  'tags': ['Lisa Olson'],\n",
       "  'data': []},\n",
       " {'timestamp': 1599948357,\n",
       "  'title': \"<user> wrote on Jodi Allen's timeline.\",\n",
       "  'tags': ['Christian Freeman MD'],\n",
       "  'data': []},\n",
       " {'timestamp': 1584670156,\n",
       "  'title': \"<user> wrote on Hannah Franco's timeline.\",\n",
       "  'tags': ['Felicia Diaz', 'Karen Johnson'],\n",
       "  'data': []},\n",
       " {'timestamp': 1592013316,\n",
       "  'title': \"<user> wrote on Karen Lewis's timeline.\",\n",
       "  'tags': ['Kelly Kim', 'Seth Edwards', 'Katherine Owen'],\n",
       "  'data': [{'post': 'Exactly create strategy minute. Eat speak gun south physical keep economy factor.\\nBuilding race blood PM between test majority stage. Claim information all speak. This will federal tree.\\nHappy situation deep ok. Laugh music law product parent head. There billion theory son bed alone.\\nGroup open nearly improve statement. Third maintain rest personal. Interest design good of trouble issue.'}]},\n",
       " {'timestamp': 1604190842,\n",
       "  'title': \"<user> wrote on Kimberly Williams's timeline.\",\n",
       "  'tags': ['Megan Ray', 'Mariah Cox'],\n",
       "  'data': []},\n",
       " {'timestamp': 1620169375,\n",
       "  'title': \"<user> wrote on Alexander Gilbert's timeline.\",\n",
       "  'tags': ['Gregory Lee', 'Gregory Richardson', 'Christopher Velez'],\n",
       "  'data': [{'post': 'History back person question fill arm. Brother individual miss responsibility one indeed. Allow really seem east.\\nBad together choice market price participant. Sense strong bank appear. List my foot simple sort officer simple.\\nBuild attorney coach either. Company city prove Mrs person assume.\\nYour Mr special crime baby tell task.\\nFace media knowledge owner free assume bank necessary. At mention radio two audience. Popular into director stage.'}]},\n",
       " {'timestamp': 1599662979,\n",
       "  'title': \"<user> wrote on Justin Martinez's timeline.\",\n",
       "  'tags': ['Daniel Delacruz', 'Kelly Castro', 'Elizabeth Brown'],\n",
       "  'attachments': {'data': [{'external_context': {'url': 'https://www.hart-rivera.com/'}}]},\n",
       "  'data': [{'post': 'Pretty chair evidence card. Miss agent positive soon author white pattern. Concern improve method result must into.\\nCamera identify outside hold energy anything nothing one. Place indeed base rather read take play agent.\\nAcross voice project care attack course wait. Attorney if large particularly. Investment recently cultural return whose all.'}]},\n",
       " {'timestamp': 1584250515,\n",
       "  'title': \"<user> wrote on Steven Graham's timeline.\",\n",
       "  'tags': ['Brian Steele', 'Sean Patterson'],\n",
       "  'data': []},\n",
       " {'timestamp': 1604331861,\n",
       "  'title': \"<user> wrote on Sarah Fischer's timeline.\",\n",
       "  'tags': [],\n",
       "  'attachments': {'data': [{'external_context': {'url': 'http://www.burnett-young.net/'}}]},\n",
       "  'data': []},\n",
       " {'timestamp': 1608450805,\n",
       "  'title': \"<user> wrote on Courtney Holt's timeline.\",\n",
       "  'tags': ['Taylor Nelson'],\n",
       "  'data': []},\n",
       " {'timestamp': 1622179230,\n",
       "  'title': \"<user> wrote on Annette Dunn's timeline.\",\n",
       "  'tags': ['Guy Myers'],\n",
       "  'data': []},\n",
       " {'timestamp': 1591377482,\n",
       "  'title': \"<user> wrote on Janice Brown's timeline.\",\n",
       "  'tags': ['Charles Carr', 'Ronnie Farrell', 'David Sanchez'],\n",
       "  'attachments': {'data': [{'external_context': {'url': 'https://www.mitchell-turner.com/'}}]},\n",
       "  'data': []},\n",
       " {'timestamp': 1599106770,\n",
       "  'title': \"<user> wrote on Tina Solis's timeline.\",\n",
       "  'tags': ['Benjamin Hernandez', 'Daniel Conley'],\n",
       "  'attachments': {'data': [{'external_context': {'url': 'http://brown.com/',\n",
       "      'name': 'Carry share clear since seek interest.',\n",
       "      'source': 'Brown Group'}}]},\n",
       "  'data': [{'post': 'Natural wall bill dream key east test. Artist after writer beat say material. Race but identify various world five.\\nFew deal authority production. First soon stay perform.\\nAudience inside tough hand concern student prove no. Cost peace nature standard tend floor best key. Including trip behavior goal growth foot.\\nGrow through benefit establish ask reach. Response data minute. Protect option sure wonder very.\\nNow doctor treat top often. Say full spring on poor start suffer.'}]},\n",
       " {'timestamp': 1616100990,\n",
       "  'title': \"<user> wrote on Dustin Ball's timeline.\",\n",
       "  'tags': ['Carl Barnes', 'Zachary Moore', 'Robert Bates'],\n",
       "  'data': []},\n",
       " {'timestamp': 1595269314,\n",
       "  'title': \"<user> wrote on Jeremy Perez's timeline.\",\n",
       "  'tags': ['Sandra Fox', 'Aaron Rose'],\n",
       "  'attachments': {'data': [{'external_context': {'url': 'http://nguyen.com/'}}]},\n",
       "  'data': []},\n",
       " {'timestamp': 1604600528,\n",
       "  'title': \"<user> wrote on James Johnson's timeline.\",\n",
       "  'tags': ['Brianna Rasmussen'],\n",
       "  'data': []},\n",
       " {'timestamp': 1604343085,\n",
       "  'title': \"<user> wrote on Darin Martin's timeline.\",\n",
       "  'tags': ['Bruce Miller'],\n",
       "  'data': []},\n",
       " {'timestamp': 1597576531,\n",
       "  'title': \"<user> wrote on Christy Stone's timeline.\",\n",
       "  'tags': ['Jon King'],\n",
       "  'data': [{'post': 'Join goal key clearly admit couple. Population official standard.\\nLoss can environment sometimes institution. Itself hit structure simply instead.\\nSpeech voice recognize rule along reality. Push no tough southern one area standard. Development exactly suggest area third.\\nEveryone sing sea show explain evening night. Buy gun finally want best law. Music trouble form ask table condition.'}]},\n",
       " {'timestamp': 1581303693,\n",
       "  'title': \"<user> wrote on Ashlee Hernandez's timeline.\",\n",
       "  'tags': [],\n",
       "  'attachments': {'data': [{'for_sale_item': {'title': 'Function-based coherent synergy',\n",
       "      'price': '$361',\n",
       "      'seller': 'charlesthompson',\n",
       "      'created_timestamp': 1606518663,\n",
       "      'updated_timestamp': 1598304496,\n",
       "      'category': 'Electronics',\n",
       "      'marketplace': 'program-among',\n",
       "      'location': {'coordinate': {'lattitude': '40.92298',\n",
       "        'longitude': '14.30935'}},\n",
       "      'description': 'Drop most always song student.'}},\n",
       "    {'media': {'uri': 'https://dummyimage.com/746x885',\n",
       "      'creation_timestamp': 1606518663,\n",
       "      'media_metadata': {'upload_ip': '111.15.76.121'},\n",
       "      'title': ''}},\n",
       "    {'media': {'uri': 'https://placekitten.com/590/743',\n",
       "      'creation_timestamp': 1606518663,\n",
       "      'media_metadata': {'upload_ip': '112.208.101.191'},\n",
       "      'title': ''}},\n",
       "    {'media': {'uri': 'https://dummyimage.com/281x74',\n",
       "      'creation_timestamp': 1606518663,\n",
       "      'media_metadata': {'upload_ip': '30.127.253.6'},\n",
       "      'title': ''}}]},\n",
       "  'data': []},\n",
       " {'timestamp': 1579704175,\n",
       "  'title': \"<user> wrote on Aaron Jackson's timeline.\",\n",
       "  'tags': ['Jeffrey Duncan', 'James Hernandez'],\n",
       "  'data': []},\n",
       " {'timestamp': 1603587558,\n",
       "  'title': \"<user> wrote on Mary Berry's timeline.\",\n",
       "  'tags': ['Edward Moore'],\n",
       "  'data': []},\n",
       " {'timestamp': 1619101765,\n",
       "  'title': \"<user> wrote on Jason Miller's timeline.\",\n",
       "  'tags': ['Kimberly Russo'],\n",
       "  'attachments': {'data': [{'external_context': {'url': 'https://bowman.org/',\n",
       "      'name': 'View town bank present scene man.',\n",
       "      'source': 'Gardner Ltd'}}]},\n",
       "  'data': [{'post': 'Experience red fine there girl. There action impact this. Ok prepare nature that assume. Hotel particularly artist enough morning agent day.\\nDinner standard move. Fine high bad statement character sing another.\\nEver argue market. Loss wish design adult kitchen. Defense reduce style short reflect.\\nCollection store morning stock traditional. Well weight purpose cover.'}]},\n",
       " {'timestamp': 1615816455,\n",
       "  'title': \"<user> wrote on Christina Lee's timeline.\",\n",
       "  'tags': ['Jeremy Allen', 'Brian Chavez', 'Veronica Jones'],\n",
       "  'data': []},\n",
       " {'timestamp': 1602380873,\n",
       "  'title': \"<user> wrote on Amanda Reyes's timeline.\",\n",
       "  'tags': ['Brian Harris', 'Carl Sanchez'],\n",
       "  'attachments': {'data': [{'external_context': {'url': 'http://www.ramos.org/',\n",
       "      'name': 'Food often teach work first letter.',\n",
       "      'source': 'Vega, Burke and Holden'}}]},\n",
       "  'data': [{'post': 'His ten sea fear seat pick team. Conference four throughout in sign. Change whether indicate better goal image.\\nTotal this goal young new yes the. Still huge local health newspaper. Win artist information state.\\nMr then a among truth. Interest customer red question feel. Machine that still.\\nArt data visit hope physical television season. Wall describe myself why how class name. Deal forward foreign lot recognize day price.'}]},\n",
       " {'timestamp': 1587506379,\n",
       "  'title': \"<user> wrote on Christina Valdez's timeline.\",\n",
       "  'tags': ['Holly Williams'],\n",
       "  'data': []},\n",
       " {'timestamp': 1606684926,\n",
       "  'title': \"<user> wrote on Ryan Snyder's timeline.\",\n",
       "  'tags': ['Noah Collins', 'Valerie Pham'],\n",
       "  'attachments': {'data': [{'external_context': {'url': 'https://www.garrett.info/',\n",
       "      'name': 'Spend how big effort.',\n",
       "      'source': 'Bass PLC'}}]},\n",
       "  'data': []},\n",
       " {'timestamp': 1614582587,\n",
       "  'title': \"<user> wrote on Sarah Bruce's timeline.\",\n",
       "  'tags': ['Leslie Garcia', 'Eric Jackson'],\n",
       "  'attachments': {'data': [{'external_context': {'url': 'https://www.smith-davis.com/'}}]},\n",
       "  'data': [{'post': 'While century firm animal near. Study military image development have far kind.\\nName peace determine ahead fish perhaps. Thing pass save military even spend.\\nOk build both several action various without myself. Represent test form group garden yeah give. Seven game major claim left itself who husband.\\nThose kid price. Fast bit fire happen green.\\nHim network there color rather figure within care. Or room sit lot law.'}]},\n",
       " {'timestamp': 1580101344,\n",
       "  'title': \"<user> wrote on Jessica Reilly's timeline.\",\n",
       "  'tags': ['Elijah Hammond', 'Monique Downs MD', 'Karen Torres'],\n",
       "  'attachments': {'data': [{'for_sale_item': {'title': 'Switchable didactic website',\n",
       "      'price': '﷼893',\n",
       "      'seller': 'charlesthompson',\n",
       "      'created_timestamp': 1600139205,\n",
       "      'updated_timestamp': 1605645050,\n",
       "      'category': 'Sports & outdoor',\n",
       "      'marketplace': 'benefit-person',\n",
       "      'location': {'coordinate': {'lattitude': '-21.42917',\n",
       "        'longitude': '-45.94722'}},\n",
       "      'description': 'Land middle majority them site staff maybe. Share place base garden board back activity. Produce star use able usually sound right. White decade summer television about company nearly.'}},\n",
       "    {'media': {'uri': 'https://www.lorempixel.com/99/864',\n",
       "      'creation_timestamp': 1600139205,\n",
       "      'media_metadata': {'upload_ip': '183.127.18.221'},\n",
       "      'title': ''}}]},\n",
       "  'data': [{'post': 'Do specific radio. Forward high politics current challenge. Forward official opportunity world impact sometimes. Information believe drive.\\nDemocratic more rich others two short. Music we tough open. Class sort card economy have particularly.\\nFather year determine music ten. Turn begin too.\\nBring real ever stay cause cause. Staff but nearly player light human bar race.'}]},\n",
       " {'timestamp': 1594133256,\n",
       "  'title': \"<user> wrote on Dr. David Nguyen's timeline.\",\n",
       "  'tags': ['Linda Stark'],\n",
       "  'attachments': {'data': [{'external_context': {'url': 'http://www.brady.com/'}}]},\n",
       "  'data': []},\n",
       " {'timestamp': 1609434721,\n",
       "  'title': \"<user> wrote on Kayla Perez's timeline.\",\n",
       "  'tags': ['Daniel Jackson'],\n",
       "  'attachments': {'data': [{'external_context': {'url': 'http://wilcox.info/'}}]},\n",
       "  'data': []},\n",
       " {'timestamp': 1614349377,\n",
       "  'title': \"<user> wrote on Michelle Lopez's timeline.\",\n",
       "  'tags': ['Lisa Bennett'],\n",
       "  'attachments': {'data': [{'external_context': {'url': 'http://www.meza-wolfe.info/'}}]},\n",
       "  'data': []},\n",
       " {'timestamp': 1585455887,\n",
       "  'title': \"<user> wrote on Melissa Webb's timeline.\",\n",
       "  'tags': ['Kristen Francis'],\n",
       "  'attachments': {'data': [{'external_context': {'url': 'http://thomas-anderson.com/'}}]},\n",
       "  'data': []},\n",
       " {'timestamp': 1613518398,\n",
       "  'title': \"<user> wrote on Christopher White's timeline.\",\n",
       "  'tags': ['Kenneth Cook'],\n",
       "  'data': []},\n",
       " {'timestamp': 1585590737,\n",
       "  'title': \"<user> wrote on Roberto Le's timeline.\",\n",
       "  'tags': [],\n",
       "  'attachments': {'data': [{'external_context': {'url': 'http://www.smith.com/',\n",
       "      'name': 'Owner month reveal truth true approach during including.',\n",
       "      'source': 'Ramos LLC'}}]},\n",
       "  'data': [{'post': 'Line woman somebody entire subject. Should store change trade edge pay.\\nTraining present standard say sort. Glass institution color can.\\nMrs upon spring off. Establish politics street interest walk need down.\\nChange respond agency happen road official reflect. Number pass public partner. Such dinner major charge PM.\\nCoach add not political hard executive. Friend art special report measure. Service side and page image few despite.'}]},\n",
       " {'timestamp': 1619622186,\n",
       "  'title': \"<user> wrote on Hannah Rios's timeline.\",\n",
       "  'tags': [],\n",
       "  'attachments': {'data': [{'external_context': {'url': 'http://mejia.com/'}}]},\n",
       "  'data': []},\n",
       " {'timestamp': 1609106124,\n",
       "  'title': \"<user> wrote on Brooke Palmer's timeline.\",\n",
       "  'tags': ['Denise Wilson', 'Clinton Williamson', 'Mckenzie White'],\n",
       "  'attachments': {'data': [{'external_context': {'url': 'https://www.parker.com/'}}]},\n",
       "  'data': [{'post': 'Sound fight interesting us career old. Level see attack mission player let hundred note. Become sing economy price boy buy stage.\\nMother no director bank. Project produce have nor stock will third successful. Public back building.\\nArgue ready without action yet. Business miss them whom great maintain.\\nAlone parent product sense big remain action worry. Home age short can usually big other. Respond check market fire eat community.\\nPrevent occur might own artist. Class a us difference.',\n",
       "    'update_timestamp': 1618855273}]},\n",
       " {'timestamp': 1619862861,\n",
       "  'title': \"<user> wrote on David Lee's timeline.\",\n",
       "  'tags': [],\n",
       "  'data': []},\n",
       " {'timestamp': 1579351700,\n",
       "  'title': \"<user> wrote on Dean Cardenas's timeline.\",\n",
       "  'tags': ['Stephanie Jefferson'],\n",
       "  'attachments': {'data': [{'external_context': {'url': 'https://www.peters-johnson.com/'}}]},\n",
       "  'data': []},\n",
       " {'timestamp': 1619904400,\n",
       "  'title': \"<user> wrote on Michael Bowman's timeline.\",\n",
       "  'tags': [],\n",
       "  'attachments': {'data': [{'external_context': {'url': 'http://ryan-haynes.org/'}}]},\n",
       "  'data': []},\n",
       " {'timestamp': 1617951105,\n",
       "  'title': \"<user> wrote on Michael Haney's timeline.\",\n",
       "  'tags': ['Katie Maldonado', 'William Sloan', 'Zachary Dougherty'],\n",
       "  'attachments': {'data': [{'for_sale_item': {'title': 'Face-to-face solution-oriented parallelism',\n",
       "      'price': '$117',\n",
       "      'seller': 'charlesthompson',\n",
       "      'created_timestamp': 1614352000,\n",
       "      'updated_timestamp': 1606271920,\n",
       "      'category': 'Sports & outdoor',\n",
       "      'marketplace': 'nation-worker-role',\n",
       "      'location': {'coordinate': {'lattitude': '51.62907',\n",
       "        'longitude': '-0.74934'}},\n",
       "      'description': 'Animal model already tell her.'}},\n",
       "    {'media': {'uri': 'https://dummyimage.com/833x806',\n",
       "      'creation_timestamp': 1614352000,\n",
       "      'media_metadata': {'upload_ip': '173.58.245.76'},\n",
       "      'title': ''}}]},\n",
       "  'data': []},\n",
       " {'timestamp': 1597142222,\n",
       "  'title': \"<user> wrote on Perry Robinson's timeline.\",\n",
       "  'tags': ['Jaclyn Anderson'],\n",
       "  'attachments': {'data': [{'external_context': {'url': 'http://www.marshall-smith.com/'}}]},\n",
       "  'data': []},\n",
       " {'timestamp': 1612304427,\n",
       "  'title': \"<user> wrote on Ronald Wade's timeline.\",\n",
       "  'tags': ['Lauren Aguilar DVM', 'Aaron Schmidt'],\n",
       "  'data': []},\n",
       " {'timestamp': 1615003916,\n",
       "  'title': \"<user> wrote on Teresa Maldonado's timeline.\",\n",
       "  'tags': ['Christopher Blankenship', 'Michelle Miller', 'Rita Mccoy'],\n",
       "  'data': []}]"
      ]
     },
     "execution_count": 75,
     "metadata": {},
     "output_type": "execute_result"
    }
   ],
   "source": [
    "data"
   ]
  },
  {
   "cell_type": "code",
   "execution_count": 76,
   "metadata": {},
   "outputs": [
    {
     "data": {
      "text/plain": [
       "[{'timestamp': 1607922261,\n",
       "  'title': \"<user> wrote on Veronica Olson's timeline.\",\n",
       "  'tags': ['Taylor Cabrera', 'Jennifer Young', 'Virginia Thompson'],\n",
       "  'data': []},\n",
       " {'timestamp': 1620342917,\n",
       "  'title': \"<user> wrote on Ashley Schneider's timeline.\",\n",
       "  'tags': [],\n",
       "  'attachments': {'data': [{'external_context': {'url': 'http://www.carroll-craig.com/'}}]},\n",
       "  'data': []},\n",
       " {'timestamp': 1599939342,\n",
       "  'title': \"<user> wrote on James Dalton's timeline.\",\n",
       "  'tags': [],\n",
       "  'attachments': {'data': [{'external_context': {'url': 'http://www.simpson-moore.com/'}}]},\n",
       "  'data': []},\n",
       " {'timestamp': 1595402633,\n",
       "  'title': \"<user> wrote on Tiffany Cantu's timeline.\",\n",
       "  'tags': ['Eric Henry', 'Sean Roman'],\n",
       "  'data': []},\n",
       " {'timestamp': 1590761620,\n",
       "  'title': \"<user> wrote on Kathy Murphy's timeline.\",\n",
       "  'tags': ['John Howell'],\n",
       "  'attachments': {'data': [{'external_context': {'url': 'http://www.glenn.org/'}}]},\n",
       "  'data': [{'post': 'Itself carry control job staff. People out same. Give right door poor event.\\nEvidence fund way open I. Someone go color receive public. Middle scientist policy sound firm. Soon bit more.\\nCompany area wall food two community help. Way serve five keep choose education range. Energy consider parent suffer method sea yeah.\\nCulture life raise truth long act head. Full during often once.\\nProduct vote rule year consider. Great opportunity training. Remain production than gas attack look.'}]},\n",
       " {'timestamp': 1609480244,\n",
       "  'title': \"<user> wrote on Nathan Silva's timeline.\",\n",
       "  'tags': [],\n",
       "  'data': []},\n",
       " {'timestamp': 1582420415,\n",
       "  'title': \"<user> wrote on Michelle Smith's timeline.\",\n",
       "  'tags': ['Christina Garcia'],\n",
       "  'attachments': {'data': [{'external_context': {'url': 'https://www.lewis.com/'}}]},\n",
       "  'data': [{'post': 'Develop a individual source store man.\\nStyle whole how foot. Security he structure rate sister theory area go.\\nProduce around produce record. Receive contain alone military in from. Central girl health party whatever door career.\\nPage field claim on. Above there various player.\\nForward at head girl adult anything why. About get next have well management box. Style history give.\\nRequire glass stop general mention sit reach. Realize trouble hot find later later bag.'}]},\n",
       " {'timestamp': 1582621215,\n",
       "  'title': \"<user> wrote on Laura Crosby's timeline.\",\n",
       "  'tags': [],\n",
       "  'data': []},\n",
       " {'timestamp': 1607526057,\n",
       "  'title': \"<user> wrote on Ashley Webb's timeline.\",\n",
       "  'tags': ['Nicholas Garner'],\n",
       "  'data': []},\n",
       " {'timestamp': 1604797155,\n",
       "  'title': \"<user> wrote on Martin Marshall's timeline.\",\n",
       "  'tags': ['Benjamin Church'],\n",
       "  'attachments': {'data': [{'external_context': {'url': 'https://burton-baldwin.biz/'}}]},\n",
       "  'data': []},\n",
       " {'timestamp': 1614078879,\n",
       "  'title': \"<user> wrote on Kenneth Anderson's timeline.\",\n",
       "  'tags': [],\n",
       "  'attachments': {'data': [{'external_context': {'url': 'https://www.jackson.org/'}}]},\n",
       "  'data': []},\n",
       " {'timestamp': 1582697466,\n",
       "  'title': \"<user> wrote on Joseph Rocha DDS's timeline.\",\n",
       "  'tags': ['Victoria Gonzales', 'Robert Wood'],\n",
       "  'attachments': {'data': [{'external_context': {'url': 'http://gonzalez.biz/'}}]},\n",
       "  'data': [{'post': 'This onto president least board hospital. Figure game professor should us cup. Consumer give position color carry finish laugh.\\nArgue thing social dog another difference. Whose then should significant affect partner.\\nProduction around his notice strategy. Seem those event long president read.\\nFill conference still picture main set religious. Doctor hot bring. Cut attorney someone three quickly conference ball.'}]},\n",
       " {'timestamp': 1584647067,\n",
       "  'title': \"<user> wrote on Albert Thompson's timeline.\",\n",
       "  'tags': ['Christina Dudley'],\n",
       "  'data': [{'post': 'Note child show. Near single pay quite interest act. See environmental since inside majority energy.\\nTeacher instead season site. Like decide budget must network cover.\\nMan common soldier prove partner crime anything. Bring grow before everyone. Eight work choice example budget political hand.\\nFund case production grow clear civil fast. Rather take million star.'}]},\n",
       " {'timestamp': 1582021592,\n",
       "  'title': \"<user> wrote on Elizabeth Mosley's timeline.\",\n",
       "  'tags': ['Heidi Miller', 'Robert Hudson'],\n",
       "  'data': [{'post': 'Political end perform husband water middle.\\nJoin up certain image American. Subject similar result recently school. Across maybe put itself.\\nFoot may response agent popular again wonder difficult.\\nIt friend it worry career. Approach computer minute according.\\nInternational area also whom property. Force family anyone could.\\nOrder use partner drop industry system.\\nSpace cover month professor start. Feeling way arm ready she brother social series.\\nLow election accept. Remember carry story majority another race nothing.'}]},\n",
       " {'timestamp': 1597155950,\n",
       "  'title': \"<user> wrote on Eric Curtis's timeline.\",\n",
       "  'tags': ['Lisa Jacobs', 'Michelle Gilmore'],\n",
       "  'data': [{'post': 'Impact fill defense. Box billion spend program surface short.\\nTechnology trial town similar painting let director. Grow action business road strategy able least.\\nTravel popular establish else majority. System work officer well. Opportunity despite general movie rate assume.\\nJoin special drive similar partner. Start without he space bill government window.\\nCare make thousand effect watch space generation. Lead enjoy professional many baby information.\\nPm culture difficult power. Pull turn discussion approach million.'}]},\n",
       " {'timestamp': 1609451510,\n",
       "  'title': \"<user> wrote on Sara Carroll's timeline.\",\n",
       "  'tags': [],\n",
       "  'data': []},\n",
       " {'timestamp': 1620733142,\n",
       "  'title': \"<user> wrote on Ricky Smith's timeline.\",\n",
       "  'tags': [],\n",
       "  'data': []},\n",
       " {'timestamp': 1583735748,\n",
       "  'title': \"<user> wrote on Adam Sims's timeline.\",\n",
       "  'tags': [],\n",
       "  'data': []},\n",
       " {'timestamp': 1579555420,\n",
       "  'title': \"<user> wrote on Spencer Hays's timeline.\",\n",
       "  'tags': ['Laura Hale', 'Susan Watson', 'Nathan Walter'],\n",
       "  'data': []},\n",
       " {'timestamp': 1616145488,\n",
       "  'title': \"<user> wrote on Courtney Andrews's timeline.\",\n",
       "  'tags': ['Michael Finley', 'Elizabeth Cameron', 'Phillip Evans'],\n",
       "  'data': []},\n",
       " {'timestamp': 1581113451,\n",
       "  'title': \"<user> wrote on Jason Scott's timeline.\",\n",
       "  'tags': [],\n",
       "  'data': [{'post': 'Likely find two detail involve or international. Her white seat old lose.\\nFinish Congress ability over. Spend board movement trade natural resource. Entire town character middle.\\nSimilar cut arm. Rise agree pretty. Land couple child.\\nOnly yard relationship child. Car help bed lawyer support.\\nDebate west on them.\\nAnalysis south then win seat.\\nRadio manage practice military wide. All staff field all ok.\\nAccording level me play. Section class film miss. Push relationship determine control yes.'}]},\n",
       " {'timestamp': 1618036061,\n",
       "  'title': \"<user> wrote on Dennis Rodriguez's timeline.\",\n",
       "  'tags': ['Larry Holmes', 'Steven Willis', 'Brittany Robinson'],\n",
       "  'data': []},\n",
       " {'timestamp': 1612232241,\n",
       "  'title': \"<user> wrote on Sarah Davis's timeline.\",\n",
       "  'tags': ['Mark Molina'],\n",
       "  'attachments': {'data': [{'external_context': {'url': 'https://www.brady.com/',\n",
       "      'name': 'Industry major put bar state.',\n",
       "      'source': 'Trevino, Huerta and Villa'}}]},\n",
       "  'data': []},\n",
       " {'timestamp': 1601157834,\n",
       "  'title': \"<user> wrote on Kelly Powell's timeline.\",\n",
       "  'tags': [],\n",
       "  'data': []},\n",
       " {'timestamp': 1618003737,\n",
       "  'title': \"<user> wrote on Leslie Clarke's timeline.\",\n",
       "  'tags': ['Rachel Mendoza'],\n",
       "  'data': [{'post': 'Young something moment close western. Laugh middle thought kid.\\nMillion political near property surface such whether. Computer forward their degree.\\nNote until animal charge song let. Agent where cell pay.\\nCustomer phone body thing pressure of with. Wear school story on fight nearly to green. Rather whether trip such.\\nThus glass friend beyond land study.\\nAuthor whatever whom only fight rather.\\nFactor lawyer most whether next instead rock.'}]},\n",
       " {'timestamp': 1602598929,\n",
       "  'title': \"<user> wrote on Kelly Dunn's timeline.\",\n",
       "  'tags': [],\n",
       "  'data': []},\n",
       " {'timestamp': 1615840605,\n",
       "  'title': \"<user> wrote on Dr. Michael Jones's timeline.\",\n",
       "  'tags': [],\n",
       "  'data': []},\n",
       " {'timestamp': 1616958698,\n",
       "  'title': \"<user> wrote on Rebecca Garcia's timeline.\",\n",
       "  'tags': ['Teresa Anderson'],\n",
       "  'data': [{'post': 'Gun real wait life. Wide region draw national left section. Throughout example learn body continue.\\nBlood open glass near. He against scene away. Spring wear minute science issue.\\nNational teach friend not. Last that admit serious. Onto mind wall than prevent city onto.\\nHotel half someone wall exactly. Section wall author two bit.\\nLater rich according work. Teacher ahead information season draw. Support range movement item will American century.\\nPrice business where likely. Forward message well from soldier.'}]},\n",
       " {'timestamp': 1611381455,\n",
       "  'title': \"<user> wrote on Mary Roberts's timeline.\",\n",
       "  'tags': ['Raymond Williams', 'Katherine Sanders'],\n",
       "  'attachments': {'data': [{'external_context': {'url': 'http://www.ramirez.com/',\n",
       "      'name': 'Relate and lot represent than create participant.',\n",
       "      'source': 'Wilson-Grimes'}}]},\n",
       "  'data': []},\n",
       " {'timestamp': 1613382418,\n",
       "  'title': \"<user> wrote on Ricardo Rivera's timeline.\",\n",
       "  'tags': ['Jonathan Bishop', 'Heather Scott', 'Lauren Carney'],\n",
       "  'data': []},\n",
       " {'timestamp': 1594599760,\n",
       "  'title': \"<user> wrote on Thomas Davies's timeline.\",\n",
       "  'tags': ['Melissa Jones', 'Margaret Nichols'],\n",
       "  'attachments': {'data': [{'external_context': {'url': 'https://www.cisneros.net/',\n",
       "      'name': 'Central speech ever apply free learn affect.',\n",
       "      'source': 'Davis LLC'}}]},\n",
       "  'data': []},\n",
       " {'timestamp': 1587801569,\n",
       "  'title': \"<user> wrote on Joseph Hebert's timeline.\",\n",
       "  'tags': ['Charlotte Gomez', 'Angela Walls'],\n",
       "  'data': []},\n",
       " {'timestamp': 1599964240,\n",
       "  'title': \"<user> wrote on Jeremy Wagner's timeline.\",\n",
       "  'tags': ['Adriana Fleming', 'Monica Sherman'],\n",
       "  'data': []},\n",
       " {'timestamp': 1583238696,\n",
       "  'title': \"<user> wrote on Michelle Miller's timeline.\",\n",
       "  'tags': ['Isabel Shaffer'],\n",
       "  'attachments': {'data': [{'external_context': {'url': 'https://nguyen-glass.info/'}}]},\n",
       "  'data': []},\n",
       " {'timestamp': 1587330026,\n",
       "  'title': \"<user> wrote on William Rubio's timeline.\",\n",
       "  'tags': ['Clarence Barnes'],\n",
       "  'attachments': {'data': [{'external_context': {'url': 'https://www.fuller.org/'}}]},\n",
       "  'data': []},\n",
       " {'timestamp': 1589705731,\n",
       "  'title': \"<user> wrote on Paul Jones's timeline.\",\n",
       "  'tags': ['Lauren Black', 'Elizabeth Page', 'Richard Nichols'],\n",
       "  'attachments': {'data': [{'external_context': {'url': 'http://mayer.org/'}}]},\n",
       "  'data': []},\n",
       " {'timestamp': 1610088845,\n",
       "  'title': \"<user> wrote on Andrew Thomas's timeline.\",\n",
       "  'tags': ['David Marks', 'Andrew Jordan'],\n",
       "  'data': []},\n",
       " {'timestamp': 1597118358,\n",
       "  'title': \"<user> wrote on Michelle Burgess's timeline.\",\n",
       "  'tags': ['Gregory Deleon', 'Jason Hill', 'Mark Durham'],\n",
       "  'data': []},\n",
       " {'timestamp': 1615710823,\n",
       "  'title': \"<user> wrote on Paul Sanchez's timeline.\",\n",
       "  'tags': ['Jonathon Phillips'],\n",
       "  'data': []},\n",
       " {'timestamp': 1593915389,\n",
       "  'title': \"<user> wrote on Kayla Baldwin's timeline.\",\n",
       "  'tags': ['Adam Perez', 'John Sanchez'],\n",
       "  'data': []},\n",
       " {'timestamp': 1587714245,\n",
       "  'title': \"<user> wrote on Laura Vargas's timeline.\",\n",
       "  'tags': ['Joshua Griffin', 'Heather Brooks', 'Jessica Morrison'],\n",
       "  'data': []},\n",
       " {'timestamp': 1604049355,\n",
       "  'title': \"<user> wrote on Michael Campbell's timeline.\",\n",
       "  'tags': ['John Palmer', 'Mr. Frederick Nguyen'],\n",
       "  'data': []},\n",
       " {'timestamp': 1581307202,\n",
       "  'title': \"<user> wrote on Megan Flores's timeline.\",\n",
       "  'tags': [],\n",
       "  'data': []},\n",
       " {'timestamp': 1591256575,\n",
       "  'title': \"<user> wrote on Angela Peterson's timeline.\",\n",
       "  'tags': ['Laura Smith'],\n",
       "  'data': []},\n",
       " {'timestamp': 1601540502,\n",
       "  'title': \"<user> wrote on Donna Sparks's timeline.\",\n",
       "  'tags': ['Tracy Snow', 'Melissa Rios'],\n",
       "  'data': []},\n",
       " {'timestamp': 1599095783,\n",
       "  'title': \"<user> wrote on Tammy Jackson's timeline.\",\n",
       "  'tags': [],\n",
       "  'attachments': {'data': [{'external_context': {'url': 'http://www.roberts.com/',\n",
       "      'name': 'Lay more on which response.',\n",
       "      'source': 'Martin, Matthews and Hanson'}}]},\n",
       "  'data': [{'post': 'Agent mouth general forget. Such again relationship perhaps.\\nGuy Mrs of through wish. Expect go throughout sister member him radio. My before lead take all unit.\\nGuess door leg free population everyone always to. Everybody wrong first us nice true join.\\nWorker more project media somebody. Economy whom bit thus skill number trip.\\nPublic class reveal your region data. White way avoid street build money pattern.\\nKnowledge woman determine try organization science. Under board enough policy.\\nSound or hotel peace. Me sign before.'}]},\n",
       " {'timestamp': 1587104127,\n",
       "  'title': \"<user> wrote on Brandon Rodriguez's timeline.\",\n",
       "  'tags': [],\n",
       "  'attachments': {'data': [{'external_context': {'url': 'http://www.russell.com/',\n",
       "      'name': 'Their senior east performance.',\n",
       "      'source': 'Brown, Jones and James'}}]},\n",
       "  'data': []},\n",
       " {'timestamp': 1599191341,\n",
       "  'title': \"<user> wrote on Catherine Park's timeline.\",\n",
       "  'tags': ['Sarah Williams', 'Elizabeth Sloan'],\n",
       "  'data': []},\n",
       " {'timestamp': 1590773329,\n",
       "  'title': \"<user> wrote on Michael Spencer's timeline.\",\n",
       "  'tags': ['Maria Watson'],\n",
       "  'data': []},\n",
       " {'timestamp': 1609791017,\n",
       "  'title': \"<user> wrote on Laurie Miles's timeline.\",\n",
       "  'tags': ['Megan Harris'],\n",
       "  'data': []},\n",
       " {'timestamp': 1617847040,\n",
       "  'title': \"<user> wrote on Jeffrey Thomas's timeline.\",\n",
       "  'tags': ['Jared Phillips', 'Amanda Summers', 'Travis Guerra'],\n",
       "  'data': [{'post': 'Resource cup consumer specific. Alone where today lead middle medical. Assume recognize draw thought cover. Book garden enjoy least.\\nListen another local not else from leave. Foreign no space wall make thought.\\nDesign book affect guess statement according. Especially court all lay until trial.\\nWhich she other behind. Sign become image keep. Pay article I factor.'}]},\n",
       " {'timestamp': 1578583143,\n",
       "  'title': \"<user> wrote on Tracey Jones's timeline.\",\n",
       "  'tags': ['Kimberly Carlson', 'Thomas Ward', 'Tonya Lopez'],\n",
       "  'data': [{'post': 'Mrs into over toward bad morning. Expect material positive she field everything.\\nCustomer boy produce. Paper party understand change.\\nDecide anything at. Claim scene great mission she face blue. Support could more out young.\\nIt expect near. Lead begin see.\\nMiddle seem executive then. Nothing use wait yes nearly environment own.\\nStaff base opportunity recognize. Performance wind this.'}]},\n",
       " {'timestamp': 1622249258,\n",
       "  'title': \"<user> wrote on Nicholas Martin's timeline.\",\n",
       "  'tags': ['Daniel Walker', 'Leslie Massey', 'Donald Hartman'],\n",
       "  'attachments': {'data': [{'external_context': {'url': 'http://esparza-thomas.com/'}}]},\n",
       "  'data': []},\n",
       " {'timestamp': 1610757178,\n",
       "  'title': \"<user> wrote on Michelle Brown's timeline.\",\n",
       "  'tags': ['Kimberly Gonzalez', 'Michael Moon', 'Bonnie Jimenez'],\n",
       "  'data': []},\n",
       " {'timestamp': 1593153418,\n",
       "  'title': \"<user> wrote on Laura Madden's timeline.\",\n",
       "  'tags': ['Patricia Schmidt'],\n",
       "  'data': [{'post': 'Letter save either about turn face network. Let either these college health west follow. Her reality which friend interesting product good. Behavior ability trial.\\nSo guess knowledge enter democratic million. Happen radio cause house.\\nStart realize simply partner skill society. Will this military music memory court hard. No enough win home.\\nRemember have open bed. Leader seem loss use dinner. Along draw hand action though central indeed religious.\\nTree move skill fall these. Alone nice beat follow.\\nMovie act half.'}]},\n",
       " {'timestamp': 1582730398,\n",
       "  'title': \"<user> wrote on Anthony Garza's timeline.\",\n",
       "  'tags': ['Megan Robinson', 'John Gutierrez', 'Steven Perkins'],\n",
       "  'attachments': {'data': [{'external_context': {'url': 'https://www.bell-harmon.com/'}}]},\n",
       "  'data': [{'post': 'Behind picture one create still great different piece. Bad see former another leave energy individual. Manager character brother gun.\\nSimple no just. Indeed you out today production party.\\nFinancial dark head fire different land kitchen. Statement institution administration purpose wall.\\nDeal relationship good involve water choice. Consider add politics physical job catch later. Thought market between coach take plan grow.\\nWait long different reach.'}]},\n",
       " {'timestamp': 1593231790,\n",
       "  'title': \"<user> wrote on Tammy Bell's timeline.\",\n",
       "  'tags': [],\n",
       "  'attachments': {'data': [{'external_context': {'url': 'http://www.shaffer.com/'}}]},\n",
       "  'data': [{'post': 'Here issue born other design senior Congress. Value relate whom within sister strong off. Hour upon out. Executive technology benefit out.\\nFriend see base star message. Feel dream need analysis remember off participant.\\nOn so suggest glass available piece strategy. Coach area recently take lay politics.\\nDemocratic sign somebody join director red. All film huge. Media street stop power.\\nEven serious subject however. Green certain plan improve gas.'}]},\n",
       " {'timestamp': 1603174831,\n",
       "  'title': \"<user> wrote on Nicole Underwood's timeline.\",\n",
       "  'tags': ['Lisa Olson'],\n",
       "  'data': []},\n",
       " {'timestamp': 1599948357,\n",
       "  'title': \"<user> wrote on Jodi Allen's timeline.\",\n",
       "  'tags': ['Christian Freeman MD'],\n",
       "  'data': []},\n",
       " {'timestamp': 1584670156,\n",
       "  'title': \"<user> wrote on Hannah Franco's timeline.\",\n",
       "  'tags': ['Felicia Diaz', 'Karen Johnson'],\n",
       "  'data': []},\n",
       " {'timestamp': 1592013316,\n",
       "  'title': \"<user> wrote on Karen Lewis's timeline.\",\n",
       "  'tags': ['Kelly Kim', 'Seth Edwards', 'Katherine Owen'],\n",
       "  'data': [{'post': 'Exactly create strategy minute. Eat speak gun south physical keep economy factor.\\nBuilding race blood PM between test majority stage. Claim information all speak. This will federal tree.\\nHappy situation deep ok. Laugh music law product parent head. There billion theory son bed alone.\\nGroup open nearly improve statement. Third maintain rest personal. Interest design good of trouble issue.'}]},\n",
       " {'timestamp': 1604190842,\n",
       "  'title': \"<user> wrote on Kimberly Williams's timeline.\",\n",
       "  'tags': ['Megan Ray', 'Mariah Cox'],\n",
       "  'data': []},\n",
       " {'timestamp': 1620169375,\n",
       "  'title': \"<user> wrote on Alexander Gilbert's timeline.\",\n",
       "  'tags': ['Gregory Lee', 'Gregory Richardson', 'Christopher Velez'],\n",
       "  'data': [{'post': 'History back person question fill arm. Brother individual miss responsibility one indeed. Allow really seem east.\\nBad together choice market price participant. Sense strong bank appear. List my foot simple sort officer simple.\\nBuild attorney coach either. Company city prove Mrs person assume.\\nYour Mr special crime baby tell task.\\nFace media knowledge owner free assume bank necessary. At mention radio two audience. Popular into director stage.'}]},\n",
       " {'timestamp': 1599662979,\n",
       "  'title': \"<user> wrote on Justin Martinez's timeline.\",\n",
       "  'tags': ['Daniel Delacruz', 'Kelly Castro', 'Elizabeth Brown'],\n",
       "  'attachments': {'data': [{'external_context': {'url': 'https://www.hart-rivera.com/'}}]},\n",
       "  'data': [{'post': 'Pretty chair evidence card. Miss agent positive soon author white pattern. Concern improve method result must into.\\nCamera identify outside hold energy anything nothing one. Place indeed base rather read take play agent.\\nAcross voice project care attack course wait. Attorney if large particularly. Investment recently cultural return whose all.'}]},\n",
       " {'timestamp': 1584250515,\n",
       "  'title': \"<user> wrote on Steven Graham's timeline.\",\n",
       "  'tags': ['Brian Steele', 'Sean Patterson'],\n",
       "  'data': []},\n",
       " {'timestamp': 1604331861,\n",
       "  'title': \"<user> wrote on Sarah Fischer's timeline.\",\n",
       "  'tags': [],\n",
       "  'attachments': {'data': [{'external_context': {'url': 'http://www.burnett-young.net/'}}]},\n",
       "  'data': []},\n",
       " {'timestamp': 1608450805,\n",
       "  'title': \"<user> wrote on Courtney Holt's timeline.\",\n",
       "  'tags': ['Taylor Nelson'],\n",
       "  'data': []},\n",
       " {'timestamp': 1622179230,\n",
       "  'title': \"<user> wrote on Annette Dunn's timeline.\",\n",
       "  'tags': ['Guy Myers'],\n",
       "  'data': []},\n",
       " {'timestamp': 1591377482,\n",
       "  'title': \"<user> wrote on Janice Brown's timeline.\",\n",
       "  'tags': ['Charles Carr', 'Ronnie Farrell', 'David Sanchez'],\n",
       "  'attachments': {'data': [{'external_context': {'url': 'https://www.mitchell-turner.com/'}}]},\n",
       "  'data': []},\n",
       " {'timestamp': 1599106770,\n",
       "  'title': \"<user> wrote on Tina Solis's timeline.\",\n",
       "  'tags': ['Benjamin Hernandez', 'Daniel Conley'],\n",
       "  'attachments': {'data': [{'external_context': {'url': 'http://brown.com/',\n",
       "      'name': 'Carry share clear since seek interest.',\n",
       "      'source': 'Brown Group'}}]},\n",
       "  'data': [{'post': 'Natural wall bill dream key east test. Artist after writer beat say material. Race but identify various world five.\\nFew deal authority production. First soon stay perform.\\nAudience inside tough hand concern student prove no. Cost peace nature standard tend floor best key. Including trip behavior goal growth foot.\\nGrow through benefit establish ask reach. Response data minute. Protect option sure wonder very.\\nNow doctor treat top often. Say full spring on poor start suffer.'}]},\n",
       " {'timestamp': 1616100990,\n",
       "  'title': \"<user> wrote on Dustin Ball's timeline.\",\n",
       "  'tags': ['Carl Barnes', 'Zachary Moore', 'Robert Bates'],\n",
       "  'data': []},\n",
       " {'timestamp': 1595269314,\n",
       "  'title': \"<user> wrote on Jeremy Perez's timeline.\",\n",
       "  'tags': ['Sandra Fox', 'Aaron Rose'],\n",
       "  'attachments': {'data': [{'external_context': {'url': 'http://nguyen.com/'}}]},\n",
       "  'data': []},\n",
       " {'timestamp': 1604600528,\n",
       "  'title': \"<user> wrote on James Johnson's timeline.\",\n",
       "  'tags': ['Brianna Rasmussen'],\n",
       "  'data': []},\n",
       " {'timestamp': 1604343085,\n",
       "  'title': \"<user> wrote on Darin Martin's timeline.\",\n",
       "  'tags': ['Bruce Miller'],\n",
       "  'data': []},\n",
       " {'timestamp': 1597576531,\n",
       "  'title': \"<user> wrote on Christy Stone's timeline.\",\n",
       "  'tags': ['Jon King'],\n",
       "  'data': [{'post': 'Join goal key clearly admit couple. Population official standard.\\nLoss can environment sometimes institution. Itself hit structure simply instead.\\nSpeech voice recognize rule along reality. Push no tough southern one area standard. Development exactly suggest area third.\\nEveryone sing sea show explain evening night. Buy gun finally want best law. Music trouble form ask table condition.'}]},\n",
       " {'timestamp': 1581303693,\n",
       "  'title': \"<user> wrote on Ashlee Hernandez's timeline.\",\n",
       "  'tags': [],\n",
       "  'attachments': {'data': [{'for_sale_item': {'title': 'Function-based coherent synergy',\n",
       "      'price': '$361',\n",
       "      'seller': 'charlesthompson',\n",
       "      'created_timestamp': 1606518663,\n",
       "      'updated_timestamp': 1598304496,\n",
       "      'category': 'Electronics',\n",
       "      'marketplace': 'program-among',\n",
       "      'location': {'coordinate': {'lattitude': '40.92298',\n",
       "        'longitude': '14.30935'}},\n",
       "      'description': 'Drop most always song student.'}},\n",
       "    {'media': {'uri': 'https://dummyimage.com/746x885',\n",
       "      'creation_timestamp': 1606518663,\n",
       "      'media_metadata': {'upload_ip': '111.15.76.121'},\n",
       "      'title': ''}},\n",
       "    {'media': {'uri': 'https://placekitten.com/590/743',\n",
       "      'creation_timestamp': 1606518663,\n",
       "      'media_metadata': {'upload_ip': '112.208.101.191'},\n",
       "      'title': ''}},\n",
       "    {'media': {'uri': 'https://dummyimage.com/281x74',\n",
       "      'creation_timestamp': 1606518663,\n",
       "      'media_metadata': {'upload_ip': '30.127.253.6'},\n",
       "      'title': ''}}]},\n",
       "  'data': []},\n",
       " {'timestamp': 1579704175,\n",
       "  'title': \"<user> wrote on Aaron Jackson's timeline.\",\n",
       "  'tags': ['Jeffrey Duncan', 'James Hernandez'],\n",
       "  'data': []},\n",
       " {'timestamp': 1603587558,\n",
       "  'title': \"<user> wrote on Mary Berry's timeline.\",\n",
       "  'tags': ['Edward Moore'],\n",
       "  'data': []},\n",
       " {'timestamp': 1619101765,\n",
       "  'title': \"<user> wrote on Jason Miller's timeline.\",\n",
       "  'tags': ['Kimberly Russo'],\n",
       "  'attachments': {'data': [{'external_context': {'url': 'https://bowman.org/',\n",
       "      'name': 'View town bank present scene man.',\n",
       "      'source': 'Gardner Ltd'}}]},\n",
       "  'data': [{'post': 'Experience red fine there girl. There action impact this. Ok prepare nature that assume. Hotel particularly artist enough morning agent day.\\nDinner standard move. Fine high bad statement character sing another.\\nEver argue market. Loss wish design adult kitchen. Defense reduce style short reflect.\\nCollection store morning stock traditional. Well weight purpose cover.'}]},\n",
       " {'timestamp': 1615816455,\n",
       "  'title': \"<user> wrote on Christina Lee's timeline.\",\n",
       "  'tags': ['Jeremy Allen', 'Brian Chavez', 'Veronica Jones'],\n",
       "  'data': []},\n",
       " {'timestamp': 1602380873,\n",
       "  'title': \"<user> wrote on Amanda Reyes's timeline.\",\n",
       "  'tags': ['Brian Harris', 'Carl Sanchez'],\n",
       "  'attachments': {'data': [{'external_context': {'url': 'http://www.ramos.org/',\n",
       "      'name': 'Food often teach work first letter.',\n",
       "      'source': 'Vega, Burke and Holden'}}]},\n",
       "  'data': [{'post': 'His ten sea fear seat pick team. Conference four throughout in sign. Change whether indicate better goal image.\\nTotal this goal young new yes the. Still huge local health newspaper. Win artist information state.\\nMr then a among truth. Interest customer red question feel. Machine that still.\\nArt data visit hope physical television season. Wall describe myself why how class name. Deal forward foreign lot recognize day price.'}]},\n",
       " {'timestamp': 1587506379,\n",
       "  'title': \"<user> wrote on Christina Valdez's timeline.\",\n",
       "  'tags': ['Holly Williams'],\n",
       "  'data': []},\n",
       " {'timestamp': 1606684926,\n",
       "  'title': \"<user> wrote on Ryan Snyder's timeline.\",\n",
       "  'tags': ['Noah Collins', 'Valerie Pham'],\n",
       "  'attachments': {'data': [{'external_context': {'url': 'https://www.garrett.info/',\n",
       "      'name': 'Spend how big effort.',\n",
       "      'source': 'Bass PLC'}}]},\n",
       "  'data': []},\n",
       " {'timestamp': 1614582587,\n",
       "  'title': \"<user> wrote on Sarah Bruce's timeline.\",\n",
       "  'tags': ['Leslie Garcia', 'Eric Jackson'],\n",
       "  'attachments': {'data': [{'external_context': {'url': 'https://www.smith-davis.com/'}}]},\n",
       "  'data': [{'post': 'While century firm animal near. Study military image development have far kind.\\nName peace determine ahead fish perhaps. Thing pass save military even spend.\\nOk build both several action various without myself. Represent test form group garden yeah give. Seven game major claim left itself who husband.\\nThose kid price. Fast bit fire happen green.\\nHim network there color rather figure within care. Or room sit lot law.'}]},\n",
       " {'timestamp': 1580101344,\n",
       "  'title': \"<user> wrote on Jessica Reilly's timeline.\",\n",
       "  'tags': ['Elijah Hammond', 'Monique Downs MD', 'Karen Torres'],\n",
       "  'attachments': {'data': [{'for_sale_item': {'title': 'Switchable didactic website',\n",
       "      'price': '﷼893',\n",
       "      'seller': 'charlesthompson',\n",
       "      'created_timestamp': 1600139205,\n",
       "      'updated_timestamp': 1605645050,\n",
       "      'category': 'Sports & outdoor',\n",
       "      'marketplace': 'benefit-person',\n",
       "      'location': {'coordinate': {'lattitude': '-21.42917',\n",
       "        'longitude': '-45.94722'}},\n",
       "      'description': 'Land middle majority them site staff maybe. Share place base garden board back activity. Produce star use able usually sound right. White decade summer television about company nearly.'}},\n",
       "    {'media': {'uri': 'https://www.lorempixel.com/99/864',\n",
       "      'creation_timestamp': 1600139205,\n",
       "      'media_metadata': {'upload_ip': '183.127.18.221'},\n",
       "      'title': ''}}]},\n",
       "  'data': [{'post': 'Do specific radio. Forward high politics current challenge. Forward official opportunity world impact sometimes. Information believe drive.\\nDemocratic more rich others two short. Music we tough open. Class sort card economy have particularly.\\nFather year determine music ten. Turn begin too.\\nBring real ever stay cause cause. Staff but nearly player light human bar race.'}]},\n",
       " {'timestamp': 1594133256,\n",
       "  'title': \"<user> wrote on Dr. David Nguyen's timeline.\",\n",
       "  'tags': ['Linda Stark'],\n",
       "  'attachments': {'data': [{'external_context': {'url': 'http://www.brady.com/'}}]},\n",
       "  'data': []},\n",
       " {'timestamp': 1609434721,\n",
       "  'title': \"<user> wrote on Kayla Perez's timeline.\",\n",
       "  'tags': ['Daniel Jackson'],\n",
       "  'attachments': {'data': [{'external_context': {'url': 'http://wilcox.info/'}}]},\n",
       "  'data': []},\n",
       " {'timestamp': 1614349377,\n",
       "  'title': \"<user> wrote on Michelle Lopez's timeline.\",\n",
       "  'tags': ['Lisa Bennett'],\n",
       "  'attachments': {'data': [{'external_context': {'url': 'http://www.meza-wolfe.info/'}}]},\n",
       "  'data': []},\n",
       " {'timestamp': 1585455887,\n",
       "  'title': \"<user> wrote on Melissa Webb's timeline.\",\n",
       "  'tags': ['Kristen Francis'],\n",
       "  'attachments': {'data': [{'external_context': {'url': 'http://thomas-anderson.com/'}}]},\n",
       "  'data': []},\n",
       " {'timestamp': 1613518398,\n",
       "  'title': \"<user> wrote on Christopher White's timeline.\",\n",
       "  'tags': ['Kenneth Cook'],\n",
       "  'data': []},\n",
       " {'timestamp': 1585590737,\n",
       "  'title': \"<user> wrote on Roberto Le's timeline.\",\n",
       "  'tags': [],\n",
       "  'attachments': {'data': [{'external_context': {'url': 'http://www.smith.com/',\n",
       "      'name': 'Owner month reveal truth true approach during including.',\n",
       "      'source': 'Ramos LLC'}}]},\n",
       "  'data': [{'post': 'Line woman somebody entire subject. Should store change trade edge pay.\\nTraining present standard say sort. Glass institution color can.\\nMrs upon spring off. Establish politics street interest walk need down.\\nChange respond agency happen road official reflect. Number pass public partner. Such dinner major charge PM.\\nCoach add not political hard executive. Friend art special report measure. Service side and page image few despite.'}]},\n",
       " {'timestamp': 1619622186,\n",
       "  'title': \"<user> wrote on Hannah Rios's timeline.\",\n",
       "  'tags': [],\n",
       "  'attachments': {'data': [{'external_context': {'url': 'http://mejia.com/'}}]},\n",
       "  'data': []},\n",
       " {'timestamp': 1609106124,\n",
       "  'title': \"<user> wrote on Brooke Palmer's timeline.\",\n",
       "  'tags': ['Denise Wilson', 'Clinton Williamson', 'Mckenzie White'],\n",
       "  'attachments': {'data': [{'external_context': {'url': 'https://www.parker.com/'}}]},\n",
       "  'data': [{'post': 'Sound fight interesting us career old. Level see attack mission player let hundred note. Become sing economy price boy buy stage.\\nMother no director bank. Project produce have nor stock will third successful. Public back building.\\nArgue ready without action yet. Business miss them whom great maintain.\\nAlone parent product sense big remain action worry. Home age short can usually big other. Respond check market fire eat community.\\nPrevent occur might own artist. Class a us difference.',\n",
       "    'update_timestamp': 1618855273}]},\n",
       " {'timestamp': 1619862861,\n",
       "  'title': \"<user> wrote on David Lee's timeline.\",\n",
       "  'tags': [],\n",
       "  'data': []},\n",
       " {'timestamp': 1579351700,\n",
       "  'title': \"<user> wrote on Dean Cardenas's timeline.\",\n",
       "  'tags': ['Stephanie Jefferson'],\n",
       "  'attachments': {'data': [{'external_context': {'url': 'https://www.peters-johnson.com/'}}]},\n",
       "  'data': []},\n",
       " {'timestamp': 1619904400,\n",
       "  'title': \"<user> wrote on Michael Bowman's timeline.\",\n",
       "  'tags': [],\n",
       "  'attachments': {'data': [{'external_context': {'url': 'http://ryan-haynes.org/'}}]},\n",
       "  'data': []},\n",
       " {'timestamp': 1617951105,\n",
       "  'title': \"<user> wrote on Michael Haney's timeline.\",\n",
       "  'tags': ['Katie Maldonado', 'William Sloan', 'Zachary Dougherty'],\n",
       "  'attachments': {'data': [{'for_sale_item': {'title': 'Face-to-face solution-oriented parallelism',\n",
       "      'price': '$117',\n",
       "      'seller': 'charlesthompson',\n",
       "      'created_timestamp': 1614352000,\n",
       "      'updated_timestamp': 1606271920,\n",
       "      'category': 'Sports & outdoor',\n",
       "      'marketplace': 'nation-worker-role',\n",
       "      'location': {'coordinate': {'lattitude': '51.62907',\n",
       "        'longitude': '-0.74934'}},\n",
       "      'description': 'Animal model already tell her.'}},\n",
       "    {'media': {'uri': 'https://dummyimage.com/833x806',\n",
       "      'creation_timestamp': 1614352000,\n",
       "      'media_metadata': {'upload_ip': '173.58.245.76'},\n",
       "      'title': ''}}]},\n",
       "  'data': []},\n",
       " {'timestamp': 1597142222,\n",
       "  'title': \"<user> wrote on Perry Robinson's timeline.\",\n",
       "  'tags': ['Jaclyn Anderson'],\n",
       "  'attachments': {'data': [{'external_context': {'url': 'http://www.marshall-smith.com/'}}]},\n",
       "  'data': []},\n",
       " {'timestamp': 1612304427,\n",
       "  'title': \"<user> wrote on Ronald Wade's timeline.\",\n",
       "  'tags': ['Lauren Aguilar DVM', 'Aaron Schmidt'],\n",
       "  'data': []},\n",
       " {'timestamp': 1615003916,\n",
       "  'title': \"<user> wrote on Teresa Maldonado's timeline.\",\n",
       "  'tags': ['Christopher Blankenship', 'Michelle Miller', 'Rita Mccoy'],\n",
       "  'data': []}]"
      ]
     },
     "execution_count": 76,
     "metadata": {},
     "output_type": "execute_result"
    }
   ],
   "source": [
    "data"
   ]
  },
  {
   "cell_type": "code",
   "execution_count": null,
   "metadata": {},
   "outputs": [],
   "source": []
  },
  {
   "cell_type": "markdown",
   "metadata": {},
   "source": [
    "## Extra questions (from the morning):\n",
    "\n",
    "* How do I clean a dataset/list?\n",
    "\n"
   ]
  },
  {
   "cell_type": "markdown",
   "metadata": {},
   "source": [
    "# Your turn:\n",
    "\n",
    "Using the same mockdata, extend the anonymizations steps to:\n",
    "1. Remove also the name of the person in whose timeline the user has written (name the person ```<alter>```)\n",
    "2. Remove the tags from the data"
   ]
  },
  {
   "cell_type": "code",
   "execution_count": null,
   "metadata": {},
   "outputs": [],
   "source": []
  },
  {
   "cell_type": "code",
   "execution_count": 77,
   "metadata": {},
   "outputs": [
    {
     "data": {
      "text/plain": [
       "\"someone wrote on another person's timeline\""
      ]
     },
     "execution_count": 77,
     "metadata": {},
     "output_type": "execute_result"
    }
   ],
   "source": [
    "title"
   ]
  },
  {
   "cell_type": "code",
   "execution_count": 78,
   "metadata": {},
   "outputs": [
    {
     "data": {
      "text/plain": [
       "'someone '"
      ]
     },
     "execution_count": 78,
     "metadata": {},
     "output_type": "execute_result"
    }
   ],
   "source": [
    "title.split('wrote on')[0]"
   ]
  },
  {
   "cell_type": "code",
   "execution_count": 79,
   "metadata": {},
   "outputs": [
    {
     "data": {
      "text/plain": [
       "\" another person's timeline\""
      ]
     },
     "execution_count": 79,
     "metadata": {},
     "output_type": "execute_result"
    }
   ],
   "source": [
    "title.split('wrote on')[1]"
   ]
  },
  {
   "cell_type": "code",
   "execution_count": 80,
   "metadata": {},
   "outputs": [],
   "source": [
    "receiver = title.split('wrote on')[1]"
   ]
  },
  {
   "cell_type": "code",
   "execution_count": 81,
   "metadata": {},
   "outputs": [
    {
     "data": {
      "text/plain": [
       "\" another person's timeline\""
      ]
     },
     "execution_count": 81,
     "metadata": {},
     "output_type": "execute_result"
    }
   ],
   "source": [
    "receiver"
   ]
  },
  {
   "cell_type": "code",
   "execution_count": 82,
   "metadata": {},
   "outputs": [
    {
     "data": {
      "text/plain": [
       "\"someone wrote on <receiver>'s timeline\""
      ]
     },
     "execution_count": 82,
     "metadata": {},
     "output_type": "execute_result"
    }
   ],
   "source": [
    "title.replace(receiver, \" <receiver>'s timeline\")"
   ]
  },
  {
   "cell_type": "code",
   "execution_count": 83,
   "metadata": {},
   "outputs": [
    {
     "data": {
      "text/plain": [
       "\" another person's timeline\""
      ]
     },
     "execution_count": 83,
     "metadata": {},
     "output_type": "execute_result"
    }
   ],
   "source": [
    "receiver"
   ]
  },
  {
   "cell_type": "code",
   "execution_count": 84,
   "metadata": {},
   "outputs": [
    {
     "data": {
      "text/plain": [
       "[' another person', ' timeline']"
      ]
     },
     "execution_count": 84,
     "metadata": {},
     "output_type": "execute_result"
    }
   ],
   "source": [
    "receiver.split(\"'s\")"
   ]
  },
  {
   "cell_type": "code",
   "execution_count": 85,
   "metadata": {},
   "outputs": [],
   "source": [
    "name_receiver = receiver.split(\"'s\")[0]"
   ]
  },
  {
   "cell_type": "code",
   "execution_count": 86,
   "metadata": {},
   "outputs": [
    {
     "data": {
      "text/plain": [
       "' another person'"
      ]
     },
     "execution_count": 86,
     "metadata": {},
     "output_type": "execute_result"
    }
   ],
   "source": [
    "name_receiver"
   ]
  },
  {
   "cell_type": "code",
   "execution_count": 87,
   "metadata": {},
   "outputs": [
    {
     "data": {
      "text/plain": [
       "\"someone wrote on<receiver>'s timeline\""
      ]
     },
     "execution_count": 87,
     "metadata": {},
     "output_type": "execute_result"
    }
   ],
   "source": [
    "title.replace(name_receiver, '<receiver>')"
   ]
  },
  {
   "cell_type": "code",
   "execution_count": 88,
   "metadata": {},
   "outputs": [],
   "source": [
    "def anonymize_receiver(title):\n",
    "    # Some safety measures first... \n",
    "    # 1. Maybe the title is empty (None)\n",
    "    if not title:\n",
    "        return title\n",
    "    # 2. Maybe \"wrote on\" is not in the title...\n",
    "    if 'wrote on' not in title:\n",
    "        return title\n",
    "        \n",
    "    # Now it's time to do the magic...\n",
    "    receiver = title.split('wrote on')[1]\n",
    "    name_receiver = receiver.split(\"'s\")[0].strip()\n",
    "    \n",
    "    return title.replace(name_receiver, '<receiver>')\n",
    "    "
   ]
  },
  {
   "cell_type": "code",
   "execution_count": 89,
   "metadata": {},
   "outputs": [
    {
     "data": {
      "text/plain": [
       "\"someone wrote on <receiver>'s timeline\""
      ]
     },
     "execution_count": 89,
     "metadata": {},
     "output_type": "execute_result"
    }
   ],
   "source": [
    "anonymize_receiver(\"someone wrote on another person's timeline\")"
   ]
  },
  {
   "cell_type": "code",
   "execution_count": 90,
   "metadata": {},
   "outputs": [
    {
     "data": {
      "text/plain": [
       "\"someone wrote on <receiver>'s timeline\""
      ]
     },
     "execution_count": 90,
     "metadata": {},
     "output_type": "execute_result"
    }
   ],
   "source": [
    "anonymize_receiver(\"someone wrote on Mary Smith's timeline\")"
   ]
  },
  {
   "cell_type": "code",
   "execution_count": 91,
   "metadata": {},
   "outputs": [
    {
     "data": {
      "text/plain": [
       "\"someone wrote on another person's timeline\""
      ]
     },
     "execution_count": 91,
     "metadata": {},
     "output_type": "execute_result"
    }
   ],
   "source": [
    "title"
   ]
  },
  {
   "cell_type": "code",
   "execution_count": 92,
   "metadata": {},
   "outputs": [],
   "source": [
    "testdata = data[:15]"
   ]
  },
  {
   "cell_type": "code",
   "execution_count": 93,
   "metadata": {
    "scrolled": true
   },
   "outputs": [
    {
     "name": "stdout",
     "output_type": "stream",
     "text": [
      "<user> wrote on Veronica Olson's timeline.\n",
      "<user> wrote on <receiver>'s timeline.\n",
      "<user> wrote on Veronica Olson's timeline.\n",
      "<user> wrote on <receiver>'s timeline.\n",
      "\n",
      "\n",
      "<user> wrote on Ashley Schneider's timeline.\n",
      "<user> wrote on <receiver>'s timeline.\n",
      "<user> wrote on Ashley Schneider's timeline.\n",
      "<user> wrote on <receiver>'s timeline.\n",
      "\n",
      "\n",
      "<user> wrote on James Dalton's timeline.\n",
      "<user> wrote on <receiver>'s timeline.\n",
      "<user> wrote on James Dalton's timeline.\n",
      "<user> wrote on <receiver>'s timeline.\n",
      "\n",
      "\n",
      "<user> wrote on Tiffany Cantu's timeline.\n",
      "<user> wrote on <receiver>'s timeline.\n",
      "<user> wrote on Tiffany Cantu's timeline.\n",
      "<user> wrote on <receiver>'s timeline.\n",
      "\n",
      "\n",
      "<user> wrote on Kathy Murphy's timeline.\n",
      "<user> wrote on <receiver>'s timeline.\n",
      "<user> wrote on Kathy Murphy's timeline.\n",
      "<user> wrote on <receiver>'s timeline.\n",
      "\n",
      "\n",
      "<user> wrote on Nathan Silva's timeline.\n",
      "<user> wrote on <receiver>'s timeline.\n",
      "<user> wrote on Nathan Silva's timeline.\n",
      "<user> wrote on <receiver>'s timeline.\n",
      "\n",
      "\n",
      "<user> wrote on Michelle Smith's timeline.\n",
      "<user> wrote on <receiver>'s timeline.\n",
      "<user> wrote on Michelle Smith's timeline.\n",
      "<user> wrote on <receiver>'s timeline.\n",
      "\n",
      "\n",
      "<user> wrote on Laura Crosby's timeline.\n",
      "<user> wrote on <receiver>'s timeline.\n",
      "<user> wrote on Laura Crosby's timeline.\n",
      "<user> wrote on <receiver>'s timeline.\n",
      "\n",
      "\n",
      "<user> wrote on Ashley Webb's timeline.\n",
      "<user> wrote on <receiver>'s timeline.\n",
      "<user> wrote on Ashley Webb's timeline.\n",
      "<user> wrote on <receiver>'s timeline.\n",
      "\n",
      "\n",
      "<user> wrote on Martin Marshall's timeline.\n",
      "<user> wrote on <receiver>'s timeline.\n",
      "<user> wrote on Martin Marshall's timeline.\n",
      "<user> wrote on <receiver>'s timeline.\n",
      "\n",
      "\n",
      "<user> wrote on Kenneth Anderson's timeline.\n",
      "<user> wrote on <receiver>'s timeline.\n",
      "<user> wrote on Kenneth Anderson's timeline.\n",
      "<user> wrote on <receiver>'s timeline.\n",
      "\n",
      "\n",
      "<user> wrote on Joseph Rocha DDS's timeline.\n",
      "<user> wrote on <receiver>'s timeline.\n",
      "<user> wrote on Joseph Rocha DDS's timeline.\n",
      "<user> wrote on <receiver>'s timeline.\n",
      "\n",
      "\n",
      "<user> wrote on Albert Thompson's timeline.\n",
      "<user> wrote on <receiver>'s timeline.\n",
      "<user> wrote on Albert Thompson's timeline.\n",
      "<user> wrote on <receiver>'s timeline.\n",
      "\n",
      "\n",
      "<user> wrote on Elizabeth Mosley's timeline.\n",
      "<user> wrote on <receiver>'s timeline.\n",
      "<user> wrote on Elizabeth Mosley's timeline.\n",
      "<user> wrote on <receiver>'s timeline.\n",
      "\n",
      "\n",
      "<user> wrote on Eric Curtis's timeline.\n",
      "<user> wrote on <receiver>'s timeline.\n",
      "<user> wrote on Eric Curtis's timeline.\n",
      "<user> wrote on <receiver>'s timeline.\n",
      "\n",
      "\n"
     ]
    }
   ],
   "source": [
    "for item in testdata:\n",
    "    if 'title' in item.keys():\n",
    "        print(item['title'])\n",
    "        print(anonymize_receiver(item['title']))\n",
    "        print(anonymize_user(item['title']))\n",
    "        print(anonymize_user(anonymize_receiver(item['title'])))\n",
    "        print('\\n')"
   ]
  }
 ],
 "metadata": {
  "kernelspec": {
   "display_name": "Python 3",
   "language": "python",
   "name": "python3"
  },
  "language_info": {
   "codemirror_mode": {
    "name": "ipython",
    "version": 3
   },
   "file_extension": ".py",
   "mimetype": "text/x-python",
   "name": "python",
   "nbconvert_exporter": "python",
   "pygments_lexer": "ipython3",
   "version": "3.8.5"
  }
 },
 "nbformat": 4,
 "nbformat_minor": 4
}

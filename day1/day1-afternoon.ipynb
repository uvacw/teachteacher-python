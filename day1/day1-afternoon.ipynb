{
 "cells": [
  {
   "cell_type": "markdown",
   "metadata": {},
   "source": [
    "## Teaching the Teacher: Python\n",
    "# Day 1 - Afternoon - Python Basics + Jupyter Notebooks\n",
    "\n",
    "\n",
    "\n",
    "28.06.2021\n",
    "\n",
    "\n",
    "*Theo Araujo, Department of Commmunication Science, University of Amsterdam*\n"
   ]
  },
  {
   "cell_type": "markdown",
   "metadata": {},
   "source": [
    "# Agenda\n",
    "\n",
    "1. Jupyter notebooks\n",
    "2. Functions and iterations (again)"
   ]
  },
  {
   "cell_type": "markdown",
   "metadata": {},
   "source": [
    "# 1. Jupyter Notebooks\n",
    "\n",
    "Some of our classes use  Jupyter Notebook (and Jupyter Labs) as they are one of the most popular and powerful ways to execute data analyses in Python. A Jupyter Notebook combines:\n",
    "* the Python code\n",
    "* the results of the Python code\n",
    "* annotations that you can make in MarkDown\n",
    "\n",
    "*Let's dive into this in a bit more detail*"
   ]
  },
  {
   "cell_type": "code",
   "execution_count": null,
   "metadata": {},
   "outputs": [],
   "source": [
    "print('This is a Python code')"
   ]
  },
  {
   "cell_type": "markdown",
   "metadata": {},
   "source": [
    "What we see above is that ```print('This is a Python code')``` is the code you will run. When you run it, the cell will receive a line number on its left side. The results of the code appear immediately below it.\n",
    "\n",
    "In this case, the print command shows something on the screen - whatever is between parenthesis. We'll get to how it works in a bit."
   ]
  },
  {
   "cell_type": "markdown",
   "metadata": {},
   "source": [
    "The annotations you can make are in MarkDown. This is a special formatting language - that I am using now simply to write some text. It does not run any code, but is helpful to document what you are doing. \n",
    "\n",
    "It has a few interesting options:\n",
    "\n",
    "# Here I can make a first level heading\n",
    "## Now a second level heading\n",
    "### or a third level heading\n",
    "\n",
    "I can also write things in **bold** or in *italic*.\n",
    "\n",
    "And I can make unordered lists:\n",
    "* Item 1\n",
    "* Item 2\n",
    "* Item 3\n",
    "\n",
    "Or ordered lists:\n",
    "1. Item 1\n",
    "2. Item 2\n",
    "3. Item 3"
   ]
  },
  {
   "cell_type": "markdown",
   "metadata": {},
   "source": [
    "## Jupyter notebooks & Open Science\n",
    "\n",
    "Notebooks are not *the only way* to ensure code replicability, but are an *important* way to do so. Some of the advantages in research and in teaching:\n",
    "* **Combination** of markdown, code, output, and markdown:<br>the *why*, the *how*, the *what* and the *what it means* <br>&nbsp;<br>\n",
    "* **Portable**: exporting to html or PDF (handy for assignments)<br>&nbsp;<br>\n",
    "* **Online visualisations**: when working with GitHub\n",
    "\n",
    "**Not the solution to everything:**\n",
    "* Sometimes slower than running directly in Python\n",
    "* Not very handy when there's a lot of output\n",
    "* Can crash - when there's **just.too.much.output**.\n"
   ]
  },
  {
   "cell_type": "code",
   "execution_count": null,
   "metadata": {},
   "outputs": [],
   "source": []
  },
  {
   "cell_type": "markdown",
   "metadata": {},
   "source": [
    "# 2. Functions and iterations (again)"
   ]
  },
  {
   "cell_type": "markdown",
   "metadata": {},
   "source": [
    "## Conditions\n",
    "\n",
    "Conditions are a way to test if something is happening and, if so, to do something about it. Let's explore a bit.\n"
   ]
  },
  {
   "cell_type": "code",
   "execution_count": null,
   "metadata": {},
   "outputs": [],
   "source": [
    "a = 1"
   ]
  },
  {
   "cell_type": "code",
   "execution_count": null,
   "metadata": {},
   "outputs": [],
   "source": [
    "if a == 1:\n",
    "    print('a is 1!!!')"
   ]
  },
  {
   "cell_type": "code",
   "execution_count": null,
   "metadata": {},
   "outputs": [],
   "source": [
    "a = 0"
   ]
  },
  {
   "cell_type": "code",
   "execution_count": null,
   "metadata": {},
   "outputs": [],
   "source": [
    "if a == 1:\n",
    "    print('a is 1!')"
   ]
  },
  {
   "cell_type": "code",
   "execution_count": null,
   "metadata": {},
   "outputs": [],
   "source": [
    "if a == 2:\n",
    "    print('a is 2!')\n",
    "else:\n",
    "    print('a is not 2!')"
   ]
  },
  {
   "cell_type": "markdown",
   "metadata": {},
   "source": [
    "Some important things that we've done above:\n",
    "* First, we indicated a condition by checking IF SOMETHING is equal (==) to SOMETHING ELSE.\n",
    "* Notice that after the condition, we have a :. It indicates what needs to be done if that condition is TRUE\n",
    "* After the column, we have indented text (meaning: there's a tab). Everything that is within that area (even the lines below, should they also be indented) belong to that condition\n",
    "* We also used ELSE to indicate what to do if the condition was FALSE\n",
    "\n",
    "\n",
    "Let's look at another example:"
   ]
  },
  {
   "cell_type": "code",
   "execution_count": null,
   "metadata": {},
   "outputs": [],
   "source": [
    "mylist = [1, 2, 3]\n",
    "\n",
    "if 3 in mylist:\n",
    "    print(\"there's a 3 in my list\")\n",
    "    print(\"my list has\", len(mylist), \"items\")\n",
    "else:\n",
    "    print(\"there's no 3 in my list\")"
   ]
  },
  {
   "cell_type": "code",
   "execution_count": null,
   "metadata": {},
   "outputs": [],
   "source": [
    "if 4 in mylist:\n",
    "    print(\"there's a 4 in my list\")\n",
    "    print(\"my list has\", len(mylist), \"items\")\n",
    "else:\n",
    "    print(\"there's no 4 in my list\")"
   ]
  },
  {
   "cell_type": "code",
   "execution_count": null,
   "metadata": {},
   "outputs": [],
   "source": [
    "a = 1\n",
    "b = 1000000\n",
    "\n",
    "if a > b: \n",
    "    print('a > b')\n",
    "elif a < b: \n",
    "    print('a < b')\n",
    "elif a == b: \n",
    "    print('a == b')"
   ]
  },
  {
   "cell_type": "markdown",
   "metadata": {},
   "source": [
    "The ```elif``` condition is a shorthand for ```else if```. This allows us to check one condition and, if it is not true, check another condition. In the example above it does not matter. Check the two examples below and let's see why it matters."
   ]
  },
  {
   "cell_type": "code",
   "execution_count": null,
   "metadata": {},
   "outputs": [],
   "source": [
    "a = 0\n",
    "b = 0\n",
    "\n",
    "\n",
    "if a == b: \n",
    "    print('a == b')\n",
    "elif a == 0: \n",
    "    print('a == 0')\n"
   ]
  },
  {
   "cell_type": "code",
   "execution_count": null,
   "metadata": {},
   "outputs": [],
   "source": [
    "a = 0\n",
    "b = 0\n",
    "\n",
    "\n",
    "if a == b: \n",
    "    print('a == b')\n",
    "if a == 0: \n",
    "    print('a == 0')"
   ]
  },
  {
   "cell_type": "markdown",
   "metadata": {},
   "source": [
    "## Iterations\n",
    "Iterations are a way to ask Python to do something continuously - until a certain condition is met. While it is possible to create a loop that does not end (without an exit condition), we should never do that... otherwise, the code would run forever. Let's see some basic loops."
   ]
  },
  {
   "cell_type": "code",
   "execution_count": null,
   "metadata": {},
   "outputs": [],
   "source": [
    "counter = 0\n",
    "while counter < 10:\n",
    "    print('counter at', counter)\n",
    "    counter += 1\n",
    "\n",
    "print('counter finished at', counter)"
   ]
  },
  {
   "cell_type": "code",
   "execution_count": null,
   "metadata": {},
   "outputs": [],
   "source": [
    "mylist = [1,2,3,4,5,6,7,8,9,10]\n",
    "\n",
    "for i in mylist:\n",
    "    print(i)"
   ]
  },
  {
   "cell_type": "markdown",
   "metadata": {},
   "source": [
    "**while** and **for** are some common ways to do loops in Python:\n",
    "* while will repeat the code (that is in the indented area) until a certain condition is met\n",
    "* for will loop for each element of a list (or a string, or tuple) until there are no elements anymore"
   ]
  },
  {
   "cell_type": "code",
   "execution_count": null,
   "metadata": {},
   "outputs": [],
   "source": [
    "for l in 'this is a sentence!':\n",
    "    print(l)"
   ]
  },
  {
   "cell_type": "markdown",
   "metadata": {},
   "source": [
    "## Functions"
   ]
  },
  {
   "cell_type": "code",
   "execution_count": null,
   "metadata": {},
   "outputs": [],
   "source": [
    "visitors = ['Facebook', 'Twitter', 'Twitter', 'YouTube', 'NYT',\n",
    "           'Facebook', 'WP', 'YouTube', 'NYT', 'NYT', 'Instagram']"
   ]
  },
  {
   "cell_type": "code",
   "execution_count": null,
   "metadata": {},
   "outputs": [],
   "source": [
    "visitors"
   ]
  },
  {
   "cell_type": "code",
   "execution_count": null,
   "metadata": {},
   "outputs": [],
   "source": [
    "def check_website(website):\n",
    "    if website in ['Facebook', 'Twitter', 'Instagram']:\n",
    "        return 'Social Media'\n",
    "    if website in ['NYT', 'WP']:\n",
    "        return 'News website'\n",
    "    return 'not categorized'"
   ]
  },
  {
   "cell_type": "code",
   "execution_count": null,
   "metadata": {},
   "outputs": [],
   "source": [
    "for item in visitors:\n",
    "    print(check_website(item))"
   ]
  },
  {
   "cell_type": "markdown",
   "metadata": {},
   "source": [
    "### Why are functions important?\n",
    "\n",
    "First, a detour: Share of effort in a Computational Communication Science project\n",
    "\n",
    "**Expectations...**\n",
    "\n",
    "| Activity                            | Expectation for time spent  |\n",
    "|-------------------------------------|-----------------------------|\n",
    "|Data collection                      | 10%                         |\n",
    "|Data cleaning                        | 10%                         |\n",
    "|Data exploration / visualisation     | 40%                         |\n",
    "|Model building & analysis.           | 40%                         |\n",
    "\n",
    "\n",
    "**My reality...**\n",
    "\n",
    "| Activity                            | Expectation for time spent  | (My) Reality   |\n",
    "|-------------------------------------|-----------------------------|----------------|\n",
    "|Data collection                      | 10%                         | 60%            |\n",
    "|Data cleaning                        | 10%                         | 60%            |\n",
    "|Data exploration / visualisation     | 40%                         | 10%            |\n",
    "|Model building & analysis.           | 40%                         | 5%             |\n",
    "\n",
    "*(Yep, it doesn't add up to 100% - usually it **always** takes more time than expected)*\n",
    "\n",
    "\n",
    "\n",
    "\n",
    "\n",
    "\n",
    "\n",
    "\n",
    "\n",
    "\n",
    "\n",
    "\n",
    "\n",
    "\n"
   ]
  },
  {
   "cell_type": "markdown",
   "metadata": {},
   "source": [
    "### What do we use functions for?\n",
    "\n",
    "* Data collection\n",
    "* Data cleaning while collecting data\n",
    "* Data cleaning before doing the analysis\n",
    "* And some more data cleaning (because there's always something that doesn't work the first time)\n",
    "\n"
   ]
  },
  {
   "cell_type": "markdown",
   "metadata": {},
   "source": [
    "### My approach to building functions\n",
    "\n",
    "1. Create the sample code for one example\n",
    "2. Encapsulate with a function\n",
    "3. Iterate through a list of examples\n",
    "4. Go wild\n"
   ]
  },
  {
   "cell_type": "markdown",
   "metadata": {},
   "source": [
    "#### Something recent: anonymizers for Facebook data donation\n",
    "\n",
    "Loading some synthetic data from [OSD2F](https://github.com/uvacw/osd2f)."
   ]
  },
  {
   "cell_type": "code",
   "execution_count": null,
   "metadata": {},
   "outputs": [],
   "source": [
    "import json"
   ]
  },
  {
   "cell_type": "code",
   "execution_count": null,
   "metadata": {},
   "outputs": [],
   "source": [
    "data = json.load(open('mockdata/mockdata-your_posts_1.json', 'r'))"
   ]
  },
  {
   "cell_type": "code",
   "execution_count": null,
   "metadata": {},
   "outputs": [],
   "source": [
    "len(data)"
   ]
  },
  {
   "cell_type": "code",
   "execution_count": null,
   "metadata": {},
   "outputs": [],
   "source": [
    "data"
   ]
  },
  {
   "cell_type": "markdown",
   "metadata": {},
   "source": [
    "Challenge: I want to anonymize the titles for now. At least, I want to change the username by the tag ```<user>```"
   ]
  },
  {
   "cell_type": "code",
   "execution_count": null,
   "metadata": {},
   "outputs": [],
   "source": [
    "data[0]"
   ]
  },
  {
   "cell_type": "code",
   "execution_count": null,
   "metadata": {},
   "outputs": [],
   "source": [
    "title = data[0]['title']"
   ]
  },
  {
   "cell_type": "code",
   "execution_count": null,
   "metadata": {},
   "outputs": [],
   "source": [
    "title"
   ]
  },
  {
   "cell_type": "code",
   "execution_count": null,
   "metadata": {},
   "outputs": [],
   "source": [
    "title.split('wrote on')"
   ]
  },
  {
   "cell_type": "code",
   "execution_count": null,
   "metadata": {},
   "outputs": [],
   "source": [
    "title.split('wrote on')[0]"
   ]
  },
  {
   "cell_type": "code",
   "execution_count": null,
   "metadata": {},
   "outputs": [],
   "source": [
    "title.split('wrote on')[0].strip()"
   ]
  },
  {
   "cell_type": "code",
   "execution_count": null,
   "metadata": {},
   "outputs": [],
   "source": [
    "user = title.split('wrote on')[0].strip()"
   ]
  },
  {
   "cell_type": "code",
   "execution_count": null,
   "metadata": {},
   "outputs": [],
   "source": [
    "user"
   ]
  },
  {
   "cell_type": "code",
   "execution_count": null,
   "metadata": {},
   "outputs": [],
   "source": [
    "title.replace(user, '<user>')"
   ]
  },
  {
   "cell_type": "code",
   "execution_count": null,
   "metadata": {},
   "outputs": [],
   "source": [
    "def anonymize_user(title):\n",
    "    # Some safety measures first... \n",
    "    # 1. Maybe the title is empty (None)\n",
    "    if not title:\n",
    "        return title\n",
    "    # 2. Maybe \"wrote on\" is not in the title...\n",
    "    if 'wrote on' not in title:\n",
    "        return title\n",
    "    \n",
    "    # Now it's time to do the magic...\n",
    "    user = title.split('wrote on')[0].strip()\n",
    "    \n",
    "    return title.replace(user, '<user>')\n",
    "        "
   ]
  },
  {
   "cell_type": "code",
   "execution_count": null,
   "metadata": {},
   "outputs": [],
   "source": [
    "example_titles = [None, \n",
    "                  \"someone wrote whatever somewhere else\",\n",
    "                 \"someone wrote on another person's timeline\"]"
   ]
  },
  {
   "cell_type": "code",
   "execution_count": null,
   "metadata": {},
   "outputs": [],
   "source": [
    "for title in example_titles:\n",
    "    print(anonymize_user(title))"
   ]
  },
  {
   "cell_type": "markdown",
   "metadata": {},
   "source": [
    "Trying with a subset of the data"
   ]
  },
  {
   "cell_type": "code",
   "execution_count": null,
   "metadata": {},
   "outputs": [],
   "source": [
    "testdata = data[:15]"
   ]
  },
  {
   "cell_type": "code",
   "execution_count": null,
   "metadata": {},
   "outputs": [],
   "source": [
    "testdata"
   ]
  },
  {
   "cell_type": "code",
   "execution_count": null,
   "metadata": {},
   "outputs": [],
   "source": [
    "for item in testdata:\n",
    "    if 'title' in item.keys():\n",
    "        item['title'] = anonymize_user(item['title'])"
   ]
  },
  {
   "cell_type": "code",
   "execution_count": null,
   "metadata": {},
   "outputs": [],
   "source": [
    "testdata"
   ]
  },
  {
   "cell_type": "markdown",
   "metadata": {},
   "source": [
    "I guess it works... now let's try in all the data"
   ]
  },
  {
   "cell_type": "code",
   "execution_count": null,
   "metadata": {},
   "outputs": [],
   "source": [
    "for item in data:\n",
    "    if 'title' in item.keys():\n",
    "        item['title'] = anonymize_user(item['title'])"
   ]
  },
  {
   "cell_type": "code",
   "execution_count": null,
   "metadata": {},
   "outputs": [],
   "source": [
    "data"
   ]
  },
  {
   "cell_type": "markdown",
   "metadata": {},
   "source": [
    "# Your turn:\n",
    "\n",
    "Using the same mockdata, extend the anonymizations steps to:\n",
    "1. Remove also the name of the person in whose timeline the user has written (name the person ```<alter>```)\n",
    "2. Remove the tags from the data"
   ]
  },
  {
   "cell_type": "code",
   "execution_count": null,
   "metadata": {},
   "outputs": [],
   "source": []
  }
 ],
 "metadata": {
  "kernelspec": {
   "display_name": "Python 3",
   "language": "python",
   "name": "python3"
  },
  "language_info": {
   "codemirror_mode": {
    "name": "ipython",
    "version": 3
   },
   "file_extension": ".py",
   "mimetype": "text/x-python",
   "name": "python",
   "nbconvert_exporter": "python",
   "pygments_lexer": "ipython3",
   "version": "3.8.5"
  }
 },
 "nbformat": 4,
 "nbformat_minor": 4
}

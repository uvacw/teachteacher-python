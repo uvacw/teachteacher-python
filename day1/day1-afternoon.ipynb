{
 "cells": [
  {
   "cell_type": "markdown",
   "metadata": {},
   "source": [
    "## Teaching the Teacher: Python\n",
    "# Day 1 - Afternoon - Python Basics + Jupyter Notebooks\n",
    "\n",
    "\n",
    "\n",
    "28.06.2021\n",
    "\n",
    "\n",
    "*Theo Araujo, Department of Commmunication Science, University of Amsterdam*\n"
   ]
  },
  {
   "cell_type": "markdown",
   "metadata": {},
   "source": [
    "## Agenda\n",
    "\n",
    "1. Jupyter notebooks\n",
    "2. Functions and iterations, once more \n",
    "3. Organizing data\n",
    "4. Teaching the basics"
   ]
  },
  {
   "cell_type": "markdown",
   "metadata": {},
   "source": [
    "## 1. Jupyter Notebooks\n",
    "\n",
    "Some of our classes use  Jupyter Notebook (and Jupyter Labs) as they are one of the most popular and powerful ways to execute data analyses in Python. A Jupyter Notebook combines:\n",
    "* the Python code\n",
    "* the results of the Python code\n",
    "* annotations that you can make in MarkDown\n",
    "\n",
    "*Let's dive into this in a bit more detail*"
   ]
  },
  {
   "cell_type": "code",
   "execution_count": 1,
   "metadata": {},
   "outputs": [
    {
     "name": "stdout",
     "output_type": "stream",
     "text": [
      "This is a Python code\n"
     ]
    }
   ],
   "source": [
    "print('This is a Python code')"
   ]
  },
  {
   "cell_type": "markdown",
   "metadata": {},
   "source": [
    "What we see above is that ```print('This is a Python code')``` is the code you will run. When you run it, the cell will receive a line number on its left side. The results of the code appear immediately below it.\n",
    "\n",
    "In this case, the print command shows something on the screen - whatever is between parenthesis. We'll get to how it works in a bit."
   ]
  },
  {
   "cell_type": "markdown",
   "metadata": {},
   "source": [
    "The annotations you can make are in MarkDown. This is a special formatting language - that I am using now simply to write some text. It does not run any code, but is helpful to document what you are doing. \n",
    "\n",
    "It has a few interesting options:\n",
    "\n",
    "# Here I can make a first level heading\n",
    "## Now a second level heading\n",
    "### or a third level heading\n",
    "\n",
    "I can also write things in **bold** or in *italic*.\n",
    "\n",
    "And I can make unordered lists:\n",
    "* Item 1\n",
    "* Item 2\n",
    "* Item 3\n",
    "\n",
    "Or ordered lists:\n",
    "1. Item 1\n",
    "2. Item 2\n",
    "3. Item 3"
   ]
  },
  {
   "cell_type": "markdown",
   "metadata": {},
   "source": [
    "### Jupyter notebooks & Open Science"
   ]
  },
  {
   "cell_type": "code",
   "execution_count": null,
   "metadata": {},
   "outputs": [],
   "source": []
  }
 ],
 "metadata": {
  "kernelspec": {
   "display_name": "Python 3",
   "language": "python",
   "name": "python3"
  },
  "language_info": {
   "codemirror_mode": {
    "name": "ipython",
    "version": 3
   },
   "file_extension": ".py",
   "mimetype": "text/x-python",
   "name": "python",
   "nbconvert_exporter": "python",
   "pygments_lexer": "ipython3",
   "version": "3.8.5"
  }
 },
 "nbformat": 4,
 "nbformat_minor": 4
}

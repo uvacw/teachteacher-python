{
 "cells": [
  {
   "cell_type": "code",
   "execution_count": 1,
   "metadata": {},
   "outputs": [],
   "source": [
    "import pandas as pd"
   ]
  },
  {
   "cell_type": "code",
   "execution_count": 2,
   "metadata": {},
   "outputs": [],
   "source": [
    "import numpy as np"
   ]
  },
  {
   "cell_type": "code",
   "execution_count": 3,
   "metadata": {},
   "outputs": [],
   "source": [
    "def create_data(IV):\n",
    "    return IV * 2 + (np.random.randint(0,10))/10"
   ]
  },
  {
   "cell_type": "code",
   "execution_count": 4,
   "metadata": {},
   "outputs": [
    {
     "data": {
      "text/plain": [
       "2.0"
      ]
     },
     "execution_count": 4,
     "metadata": {},
     "output_type": "execute_result"
    }
   ],
   "source": [
    "create_data(1)"
   ]
  },
  {
   "cell_type": "code",
   "execution_count": 6,
   "metadata": {},
   "outputs": [
    {
     "data": {
      "text/plain": [
       "50.4"
      ]
     },
     "execution_count": 6,
     "metadata": {},
     "output_type": "execute_result"
    }
   ],
   "source": [
    "create_data(25)"
   ]
  },
  {
   "cell_type": "code",
   "execution_count": 7,
   "metadata": {},
   "outputs": [],
   "source": [
    "df = []"
   ]
  },
  {
   "cell_type": "code",
   "execution_count": 8,
   "metadata": {},
   "outputs": [],
   "source": [
    "counter = 0\n",
    "while counter < 1000:\n",
    "    value = {}\n",
    "    value['IV'] = np.random.randint(0,100)\n",
    "    df.append(value)\n",
    "    counter += 1"
   ]
  },
  {
   "cell_type": "code",
   "execution_count": 9,
   "metadata": {},
   "outputs": [
    {
     "data": {
      "text/plain": [
       "[{'IV': 72},\n",
       " {'IV': 80},\n",
       " {'IV': 47},\n",
       " {'IV': 49},\n",
       " {'IV': 39},\n",
       " {'IV': 16},\n",
       " {'IV': 25},\n",
       " {'IV': 26},\n",
       " {'IV': 67},\n",
       " {'IV': 67}]"
      ]
     },
     "execution_count": 9,
     "metadata": {},
     "output_type": "execute_result"
    }
   ],
   "source": [
    "df[:10]"
   ]
  },
  {
   "cell_type": "code",
   "execution_count": 10,
   "metadata": {},
   "outputs": [],
   "source": [
    "df = pd.DataFrame(df)"
   ]
  },
  {
   "cell_type": "code",
   "execution_count": 11,
   "metadata": {},
   "outputs": [
    {
     "data": {
      "text/html": [
       "<div>\n",
       "<style scoped>\n",
       "    .dataframe tbody tr th:only-of-type {\n",
       "        vertical-align: middle;\n",
       "    }\n",
       "\n",
       "    .dataframe tbody tr th {\n",
       "        vertical-align: top;\n",
       "    }\n",
       "\n",
       "    .dataframe thead th {\n",
       "        text-align: right;\n",
       "    }\n",
       "</style>\n",
       "<table border=\"1\" class=\"dataframe\">\n",
       "  <thead>\n",
       "    <tr style=\"text-align: right;\">\n",
       "      <th></th>\n",
       "      <th>IV</th>\n",
       "    </tr>\n",
       "  </thead>\n",
       "  <tbody>\n",
       "    <tr>\n",
       "      <th>0</th>\n",
       "      <td>72</td>\n",
       "    </tr>\n",
       "    <tr>\n",
       "      <th>1</th>\n",
       "      <td>80</td>\n",
       "    </tr>\n",
       "    <tr>\n",
       "      <th>2</th>\n",
       "      <td>47</td>\n",
       "    </tr>\n",
       "    <tr>\n",
       "      <th>3</th>\n",
       "      <td>49</td>\n",
       "    </tr>\n",
       "    <tr>\n",
       "      <th>4</th>\n",
       "      <td>39</td>\n",
       "    </tr>\n",
       "    <tr>\n",
       "      <th>...</th>\n",
       "      <td>...</td>\n",
       "    </tr>\n",
       "    <tr>\n",
       "      <th>995</th>\n",
       "      <td>57</td>\n",
       "    </tr>\n",
       "    <tr>\n",
       "      <th>996</th>\n",
       "      <td>57</td>\n",
       "    </tr>\n",
       "    <tr>\n",
       "      <th>997</th>\n",
       "      <td>38</td>\n",
       "    </tr>\n",
       "    <tr>\n",
       "      <th>998</th>\n",
       "      <td>32</td>\n",
       "    </tr>\n",
       "    <tr>\n",
       "      <th>999</th>\n",
       "      <td>68</td>\n",
       "    </tr>\n",
       "  </tbody>\n",
       "</table>\n",
       "<p>1000 rows × 1 columns</p>\n",
       "</div>"
      ],
      "text/plain": [
       "     IV\n",
       "0    72\n",
       "1    80\n",
       "2    47\n",
       "3    49\n",
       "4    39\n",
       "..   ..\n",
       "995  57\n",
       "996  57\n",
       "997  38\n",
       "998  32\n",
       "999  68\n",
       "\n",
       "[1000 rows x 1 columns]"
      ]
     },
     "execution_count": 11,
     "metadata": {},
     "output_type": "execute_result"
    }
   ],
   "source": [
    "df"
   ]
  },
  {
   "cell_type": "code",
   "execution_count": 12,
   "metadata": {},
   "outputs": [
    {
     "data": {
      "text/html": [
       "<div>\n",
       "<style scoped>\n",
       "    .dataframe tbody tr th:only-of-type {\n",
       "        vertical-align: middle;\n",
       "    }\n",
       "\n",
       "    .dataframe tbody tr th {\n",
       "        vertical-align: top;\n",
       "    }\n",
       "\n",
       "    .dataframe thead th {\n",
       "        text-align: right;\n",
       "    }\n",
       "</style>\n",
       "<table border=\"1\" class=\"dataframe\">\n",
       "  <thead>\n",
       "    <tr style=\"text-align: right;\">\n",
       "      <th></th>\n",
       "      <th>IV</th>\n",
       "    </tr>\n",
       "  </thead>\n",
       "  <tbody>\n",
       "    <tr>\n",
       "      <th>count</th>\n",
       "      <td>1000.000000</td>\n",
       "    </tr>\n",
       "    <tr>\n",
       "      <th>mean</th>\n",
       "      <td>48.264000</td>\n",
       "    </tr>\n",
       "    <tr>\n",
       "      <th>std</th>\n",
       "      <td>28.046406</td>\n",
       "    </tr>\n",
       "    <tr>\n",
       "      <th>min</th>\n",
       "      <td>0.000000</td>\n",
       "    </tr>\n",
       "    <tr>\n",
       "      <th>25%</th>\n",
       "      <td>25.000000</td>\n",
       "    </tr>\n",
       "    <tr>\n",
       "      <th>50%</th>\n",
       "      <td>47.000000</td>\n",
       "    </tr>\n",
       "    <tr>\n",
       "      <th>75%</th>\n",
       "      <td>72.000000</td>\n",
       "    </tr>\n",
       "    <tr>\n",
       "      <th>max</th>\n",
       "      <td>99.000000</td>\n",
       "    </tr>\n",
       "  </tbody>\n",
       "</table>\n",
       "</div>"
      ],
      "text/plain": [
       "                IV\n",
       "count  1000.000000\n",
       "mean     48.264000\n",
       "std      28.046406\n",
       "min       0.000000\n",
       "25%      25.000000\n",
       "50%      47.000000\n",
       "75%      72.000000\n",
       "max      99.000000"
      ]
     },
     "execution_count": 12,
     "metadata": {},
     "output_type": "execute_result"
    }
   ],
   "source": [
    "df.describe()"
   ]
  },
  {
   "cell_type": "code",
   "execution_count": 13,
   "metadata": {},
   "outputs": [],
   "source": [
    "df['DV'] = df['IV'].apply(create_data)"
   ]
  },
  {
   "cell_type": "code",
   "execution_count": 14,
   "metadata": {},
   "outputs": [
    {
     "data": {
      "text/html": [
       "<div>\n",
       "<style scoped>\n",
       "    .dataframe tbody tr th:only-of-type {\n",
       "        vertical-align: middle;\n",
       "    }\n",
       "\n",
       "    .dataframe tbody tr th {\n",
       "        vertical-align: top;\n",
       "    }\n",
       "\n",
       "    .dataframe thead th {\n",
       "        text-align: right;\n",
       "    }\n",
       "</style>\n",
       "<table border=\"1\" class=\"dataframe\">\n",
       "  <thead>\n",
       "    <tr style=\"text-align: right;\">\n",
       "      <th></th>\n",
       "      <th>IV</th>\n",
       "      <th>DV</th>\n",
       "    </tr>\n",
       "  </thead>\n",
       "  <tbody>\n",
       "    <tr>\n",
       "      <th>0</th>\n",
       "      <td>72</td>\n",
       "      <td>144.1</td>\n",
       "    </tr>\n",
       "    <tr>\n",
       "      <th>1</th>\n",
       "      <td>80</td>\n",
       "      <td>160.9</td>\n",
       "    </tr>\n",
       "    <tr>\n",
       "      <th>2</th>\n",
       "      <td>47</td>\n",
       "      <td>94.0</td>\n",
       "    </tr>\n",
       "    <tr>\n",
       "      <th>3</th>\n",
       "      <td>49</td>\n",
       "      <td>98.2</td>\n",
       "    </tr>\n",
       "    <tr>\n",
       "      <th>4</th>\n",
       "      <td>39</td>\n",
       "      <td>78.2</td>\n",
       "    </tr>\n",
       "    <tr>\n",
       "      <th>...</th>\n",
       "      <td>...</td>\n",
       "      <td>...</td>\n",
       "    </tr>\n",
       "    <tr>\n",
       "      <th>995</th>\n",
       "      <td>57</td>\n",
       "      <td>114.6</td>\n",
       "    </tr>\n",
       "    <tr>\n",
       "      <th>996</th>\n",
       "      <td>57</td>\n",
       "      <td>114.1</td>\n",
       "    </tr>\n",
       "    <tr>\n",
       "      <th>997</th>\n",
       "      <td>38</td>\n",
       "      <td>76.1</td>\n",
       "    </tr>\n",
       "    <tr>\n",
       "      <th>998</th>\n",
       "      <td>32</td>\n",
       "      <td>64.8</td>\n",
       "    </tr>\n",
       "    <tr>\n",
       "      <th>999</th>\n",
       "      <td>68</td>\n",
       "      <td>136.2</td>\n",
       "    </tr>\n",
       "  </tbody>\n",
       "</table>\n",
       "<p>1000 rows × 2 columns</p>\n",
       "</div>"
      ],
      "text/plain": [
       "     IV     DV\n",
       "0    72  144.1\n",
       "1    80  160.9\n",
       "2    47   94.0\n",
       "3    49   98.2\n",
       "4    39   78.2\n",
       "..   ..    ...\n",
       "995  57  114.6\n",
       "996  57  114.1\n",
       "997  38   76.1\n",
       "998  32   64.8\n",
       "999  68  136.2\n",
       "\n",
       "[1000 rows x 2 columns]"
      ]
     },
     "execution_count": 14,
     "metadata": {},
     "output_type": "execute_result"
    }
   ],
   "source": [
    "df"
   ]
  },
  {
   "cell_type": "code",
   "execution_count": 15,
   "metadata": {},
   "outputs": [
    {
     "data": {
      "text/html": [
       "<div>\n",
       "<style scoped>\n",
       "    .dataframe tbody tr th:only-of-type {\n",
       "        vertical-align: middle;\n",
       "    }\n",
       "\n",
       "    .dataframe tbody tr th {\n",
       "        vertical-align: top;\n",
       "    }\n",
       "\n",
       "    .dataframe thead th {\n",
       "        text-align: right;\n",
       "    }\n",
       "</style>\n",
       "<table border=\"1\" class=\"dataframe\">\n",
       "  <thead>\n",
       "    <tr style=\"text-align: right;\">\n",
       "      <th></th>\n",
       "      <th>IV</th>\n",
       "      <th>DV</th>\n",
       "    </tr>\n",
       "  </thead>\n",
       "  <tbody>\n",
       "    <tr>\n",
       "      <th>count</th>\n",
       "      <td>1000.000000</td>\n",
       "      <td>1000.000000</td>\n",
       "    </tr>\n",
       "    <tr>\n",
       "      <th>mean</th>\n",
       "      <td>48.264000</td>\n",
       "      <td>96.975700</td>\n",
       "    </tr>\n",
       "    <tr>\n",
       "      <th>std</th>\n",
       "      <td>28.046406</td>\n",
       "      <td>56.101059</td>\n",
       "    </tr>\n",
       "    <tr>\n",
       "      <th>min</th>\n",
       "      <td>0.000000</td>\n",
       "      <td>0.000000</td>\n",
       "    </tr>\n",
       "    <tr>\n",
       "      <th>25%</th>\n",
       "      <td>25.000000</td>\n",
       "      <td>50.275000</td>\n",
       "    </tr>\n",
       "    <tr>\n",
       "      <th>50%</th>\n",
       "      <td>47.000000</td>\n",
       "      <td>94.050000</td>\n",
       "    </tr>\n",
       "    <tr>\n",
       "      <th>75%</th>\n",
       "      <td>72.000000</td>\n",
       "      <td>144.625000</td>\n",
       "    </tr>\n",
       "    <tr>\n",
       "      <th>max</th>\n",
       "      <td>99.000000</td>\n",
       "      <td>198.800000</td>\n",
       "    </tr>\n",
       "  </tbody>\n",
       "</table>\n",
       "</div>"
      ],
      "text/plain": [
       "                IV           DV\n",
       "count  1000.000000  1000.000000\n",
       "mean     48.264000    96.975700\n",
       "std      28.046406    56.101059\n",
       "min       0.000000     0.000000\n",
       "25%      25.000000    50.275000\n",
       "50%      47.000000    94.050000\n",
       "75%      72.000000   144.625000\n",
       "max      99.000000   198.800000"
      ]
     },
     "execution_count": 15,
     "metadata": {},
     "output_type": "execute_result"
    }
   ],
   "source": [
    "df.describe()"
   ]
  },
  {
   "cell_type": "markdown",
   "metadata": {},
   "source": [
    "## Using sklearn to train a model and make predictions"
   ]
  },
  {
   "cell_type": "code",
   "execution_count": 16,
   "metadata": {},
   "outputs": [],
   "source": [
    "from sklearn.linear_model import LinearRegression"
   ]
  },
  {
   "cell_type": "markdown",
   "metadata": {},
   "source": [
    "Instantiating the model"
   ]
  },
  {
   "cell_type": "code",
   "execution_count": 17,
   "metadata": {},
   "outputs": [],
   "source": [
    "reg = LinearRegression()"
   ]
  },
  {
   "cell_type": "code",
   "execution_count": 18,
   "metadata": {},
   "outputs": [
    {
     "data": {
      "text/plain": [
       "LinearRegression()"
      ]
     },
     "execution_count": 18,
     "metadata": {},
     "output_type": "execute_result"
    }
   ],
   "source": [
    "reg"
   ]
  },
  {
   "cell_type": "markdown",
   "metadata": {},
   "source": [
    "Fitting the model with training data"
   ]
  },
  {
   "cell_type": "code",
   "execution_count": 27,
   "metadata": {},
   "outputs": [
    {
     "data": {
      "text/plain": [
       "LinearRegression()"
      ]
     },
     "execution_count": 27,
     "metadata": {},
     "output_type": "execute_result"
    }
   ],
   "source": [
    "reg.fit(df[['IV']], df['DV'])"
   ]
  },
  {
   "cell_type": "code",
   "execution_count": 25,
   "metadata": {},
   "outputs": [
    {
     "data": {
      "text/html": [
       "<div>\n",
       "<style scoped>\n",
       "    .dataframe tbody tr th:only-of-type {\n",
       "        vertical-align: middle;\n",
       "    }\n",
       "\n",
       "    .dataframe tbody tr th {\n",
       "        vertical-align: top;\n",
       "    }\n",
       "\n",
       "    .dataframe thead th {\n",
       "        text-align: right;\n",
       "    }\n",
       "</style>\n",
       "<table border=\"1\" class=\"dataframe\">\n",
       "  <thead>\n",
       "    <tr style=\"text-align: right;\">\n",
       "      <th></th>\n",
       "      <th>IV</th>\n",
       "    </tr>\n",
       "  </thead>\n",
       "  <tbody>\n",
       "    <tr>\n",
       "      <th>0</th>\n",
       "      <td>72</td>\n",
       "    </tr>\n",
       "    <tr>\n",
       "      <th>1</th>\n",
       "      <td>80</td>\n",
       "    </tr>\n",
       "    <tr>\n",
       "      <th>2</th>\n",
       "      <td>47</td>\n",
       "    </tr>\n",
       "    <tr>\n",
       "      <th>3</th>\n",
       "      <td>49</td>\n",
       "    </tr>\n",
       "    <tr>\n",
       "      <th>4</th>\n",
       "      <td>39</td>\n",
       "    </tr>\n",
       "    <tr>\n",
       "      <th>...</th>\n",
       "      <td>...</td>\n",
       "    </tr>\n",
       "    <tr>\n",
       "      <th>995</th>\n",
       "      <td>57</td>\n",
       "    </tr>\n",
       "    <tr>\n",
       "      <th>996</th>\n",
       "      <td>57</td>\n",
       "    </tr>\n",
       "    <tr>\n",
       "      <th>997</th>\n",
       "      <td>38</td>\n",
       "    </tr>\n",
       "    <tr>\n",
       "      <th>998</th>\n",
       "      <td>32</td>\n",
       "    </tr>\n",
       "    <tr>\n",
       "      <th>999</th>\n",
       "      <td>68</td>\n",
       "    </tr>\n",
       "  </tbody>\n",
       "</table>\n",
       "<p>1000 rows × 1 columns</p>\n",
       "</div>"
      ],
      "text/plain": [
       "     IV\n",
       "0    72\n",
       "1    80\n",
       "2    47\n",
       "3    49\n",
       "4    39\n",
       "..   ..\n",
       "995  57\n",
       "996  57\n",
       "997  38\n",
       "998  32\n",
       "999  68\n",
       "\n",
       "[1000 rows x 1 columns]"
      ]
     },
     "execution_count": 25,
     "metadata": {},
     "output_type": "execute_result"
    }
   ],
   "source": [
    "df[['IV']]"
   ]
  },
  {
   "cell_type": "code",
   "execution_count": 26,
   "metadata": {},
   "outputs": [
    {
     "data": {
      "text/plain": [
       "0      144.1\n",
       "1      160.9\n",
       "2       94.0\n",
       "3       98.2\n",
       "4       78.2\n",
       "       ...  \n",
       "995    114.6\n",
       "996    114.1\n",
       "997     76.1\n",
       "998     64.8\n",
       "999    136.2\n",
       "Name: DV, Length: 1000, dtype: float64"
      ]
     },
     "execution_count": 26,
     "metadata": {},
     "output_type": "execute_result"
    }
   ],
   "source": [
    "df['DV']"
   ]
  },
  {
   "cell_type": "code",
   "execution_count": null,
   "metadata": {},
   "outputs": [],
   "source": []
  },
  {
   "cell_type": "code",
   "execution_count": 29,
   "metadata": {},
   "outputs": [
    {
     "data": {
      "text/plain": [
       "{'copy_X': True, 'fit_intercept': True, 'n_jobs': None, 'normalize': False}"
      ]
     },
     "execution_count": 29,
     "metadata": {},
     "output_type": "execute_result"
    }
   ],
   "source": [
    "reg.get_params()"
   ]
  },
  {
   "cell_type": "markdown",
   "metadata": {},
   "source": [
    "Getting the coefficient(s)"
   ]
  },
  {
   "cell_type": "code",
   "execution_count": 30,
   "metadata": {},
   "outputs": [
    {
     "data": {
      "text/plain": [
       "array([2.00026763])"
      ]
     },
     "execution_count": 30,
     "metadata": {},
     "output_type": "execute_result"
    }
   ],
   "source": [
    "reg.coef_"
   ]
  },
  {
   "cell_type": "markdown",
   "metadata": {},
   "source": [
    "Making predictions"
   ]
  },
  {
   "cell_type": "code",
   "execution_count": 34,
   "metadata": {},
   "outputs": [
    {
     "data": {
      "text/plain": [
       "array([2.43505075])"
      ]
     },
     "execution_count": 34,
     "metadata": {},
     "output_type": "execute_result"
    }
   ],
   "source": [
    "reg.predict([[1]])"
   ]
  },
  {
   "cell_type": "code",
   "execution_count": 35,
   "metadata": {},
   "outputs": [
    {
     "data": {
      "text/plain": [
       "array([200.46154609])"
      ]
     },
     "execution_count": 35,
     "metadata": {},
     "output_type": "execute_result"
    }
   ],
   "source": [
    "reg.predict([[100]])"
   ]
  },
  {
   "cell_type": "code",
   "execution_count": 36,
   "metadata": {},
   "outputs": [
    {
     "data": {
      "text/plain": [
       "array([100.44816461])"
      ]
     },
     "execution_count": 36,
     "metadata": {},
     "output_type": "execute_result"
    }
   ],
   "source": [
    "reg.predict([[50]])"
   ]
  },
  {
   "cell_type": "code",
   "execution_count": 37,
   "metadata": {},
   "outputs": [
    {
     "data": {
      "text/plain": [
       "99"
      ]
     },
     "execution_count": 37,
     "metadata": {},
     "output_type": "execute_result"
    }
   ],
   "source": [
    "df['IV'].max()"
   ]
  },
  {
   "cell_type": "code",
   "execution_count": 38,
   "metadata": {},
   "outputs": [
    {
     "data": {
      "text/plain": [
       "array([2000.70241276])"
      ]
     },
     "execution_count": 38,
     "metadata": {},
     "output_type": "execute_result"
    }
   ],
   "source": [
    "reg.predict([[1000]])"
   ]
  },
  {
   "cell_type": "markdown",
   "metadata": {},
   "source": [
    "## Statistical testing"
   ]
  },
  {
   "cell_type": "code",
   "execution_count": 39,
   "metadata": {},
   "outputs": [],
   "source": [
    "import statsmodels.api as sm"
   ]
  },
  {
   "cell_type": "code",
   "execution_count": 40,
   "metadata": {},
   "outputs": [],
   "source": [
    "Y = df['DV']\n",
    "X = df['IV']"
   ]
  },
  {
   "cell_type": "code",
   "execution_count": 41,
   "metadata": {},
   "outputs": [],
   "source": [
    "X = sm.add_constant(X)"
   ]
  },
  {
   "cell_type": "code",
   "execution_count": 42,
   "metadata": {},
   "outputs": [],
   "source": [
    "model = sm.OLS(Y,X)"
   ]
  },
  {
   "cell_type": "code",
   "execution_count": 43,
   "metadata": {},
   "outputs": [],
   "source": [
    "results = model.fit()"
   ]
  },
  {
   "cell_type": "code",
   "execution_count": 44,
   "metadata": {},
   "outputs": [
    {
     "data": {
      "text/html": [
       "<table class=\"simpletable\">\n",
       "<caption>OLS Regression Results</caption>\n",
       "<tr>\n",
       "  <th>Dep. Variable:</th>           <td>DV</td>        <th>  R-squared:         </th> <td>   1.000</td> \n",
       "</tr>\n",
       "<tr>\n",
       "  <th>Model:</th>                   <td>OLS</td>       <th>  Adj. R-squared:    </th> <td>   1.000</td> \n",
       "</tr>\n",
       "<tr>\n",
       "  <th>Method:</th>             <td>Least Squares</td>  <th>  F-statistic:       </th> <td>3.780e+07</td>\n",
       "</tr>\n",
       "<tr>\n",
       "  <th>Date:</th>             <td>Fri, 02 Jul 2021</td> <th>  Prob (F-statistic):</th>  <td>  0.00</td>  \n",
       "</tr>\n",
       "<tr>\n",
       "  <th>Time:</th>                 <td>11:29:41</td>     <th>  Log-Likelihood:    </th> <td> -174.59</td> \n",
       "</tr>\n",
       "<tr>\n",
       "  <th>No. Observations:</th>      <td>  1000</td>      <th>  AIC:               </th> <td>   353.2</td> \n",
       "</tr>\n",
       "<tr>\n",
       "  <th>Df Residuals:</th>          <td>   998</td>      <th>  BIC:               </th> <td>   363.0</td> \n",
       "</tr>\n",
       "<tr>\n",
       "  <th>Df Model:</th>              <td>     1</td>      <th>                     </th>     <td> </td>    \n",
       "</tr>\n",
       "<tr>\n",
       "  <th>Covariance Type:</th>      <td>nonrobust</td>    <th>                     </th>     <td> </td>    \n",
       "</tr>\n",
       "</table>\n",
       "<table class=\"simpletable\">\n",
       "<tr>\n",
       "    <td></td>       <th>coef</th>     <th>std err</th>      <th>t</th>      <th>P>|t|</th>  <th>[0.025</th>    <th>0.975]</th>  \n",
       "</tr>\n",
       "<tr>\n",
       "  <th>const</th> <td>    0.4348</td> <td>    0.018</td> <td>   23.942</td> <td> 0.000</td> <td>    0.399</td> <td>    0.470</td>\n",
       "</tr>\n",
       "<tr>\n",
       "  <th>IV</th>    <td>    2.0003</td> <td>    0.000</td> <td> 6147.890</td> <td> 0.000</td> <td>    2.000</td> <td>    2.001</td>\n",
       "</tr>\n",
       "</table>\n",
       "<table class=\"simpletable\">\n",
       "<tr>\n",
       "  <th>Omnibus:</th>       <td>926.121</td> <th>  Durbin-Watson:     </th> <td>   2.108</td>\n",
       "</tr>\n",
       "<tr>\n",
       "  <th>Prob(Omnibus):</th> <td> 0.000</td>  <th>  Jarque-Bera (JB):  </th> <td>  62.830</td>\n",
       "</tr>\n",
       "<tr>\n",
       "  <th>Skew:</th>          <td> 0.021</td>  <th>  Prob(JB):          </th> <td>2.27e-14</td>\n",
       "</tr>\n",
       "<tr>\n",
       "  <th>Kurtosis:</th>      <td> 1.773</td>  <th>  Cond. No.          </th> <td>    111.</td>\n",
       "</tr>\n",
       "</table><br/><br/>Notes:<br/>[1] Standard Errors assume that the covariance matrix of the errors is correctly specified."
      ],
      "text/plain": [
       "<class 'statsmodels.iolib.summary.Summary'>\n",
       "\"\"\"\n",
       "                            OLS Regression Results                            \n",
       "==============================================================================\n",
       "Dep. Variable:                     DV   R-squared:                       1.000\n",
       "Model:                            OLS   Adj. R-squared:                  1.000\n",
       "Method:                 Least Squares   F-statistic:                 3.780e+07\n",
       "Date:                Fri, 02 Jul 2021   Prob (F-statistic):               0.00\n",
       "Time:                        11:29:41   Log-Likelihood:                -174.59\n",
       "No. Observations:                1000   AIC:                             353.2\n",
       "Df Residuals:                     998   BIC:                             363.0\n",
       "Df Model:                           1                                         \n",
       "Covariance Type:            nonrobust                                         \n",
       "==============================================================================\n",
       "                 coef    std err          t      P>|t|      [0.025      0.975]\n",
       "------------------------------------------------------------------------------\n",
       "const          0.4348      0.018     23.942      0.000       0.399       0.470\n",
       "IV             2.0003      0.000   6147.890      0.000       2.000       2.001\n",
       "==============================================================================\n",
       "Omnibus:                      926.121   Durbin-Watson:                   2.108\n",
       "Prob(Omnibus):                  0.000   Jarque-Bera (JB):               62.830\n",
       "Skew:                           0.021   Prob(JB):                     2.27e-14\n",
       "Kurtosis:                       1.773   Cond. No.                         111.\n",
       "==============================================================================\n",
       "\n",
       "Notes:\n",
       "[1] Standard Errors assume that the covariance matrix of the errors is correctly specified.\n",
       "\"\"\""
      ]
     },
     "execution_count": 44,
     "metadata": {},
     "output_type": "execute_result"
    }
   ],
   "source": [
    "results.summary()"
   ]
  },
  {
   "cell_type": "code",
   "execution_count": null,
   "metadata": {},
   "outputs": [],
   "source": []
  },
  {
   "cell_type": "markdown",
   "metadata": {},
   "source": [
    "# Using the Google Analytics Dataset\n",
    "(Modified for Digital Analytics)"
   ]
  },
  {
   "cell_type": "code",
   "execution_count": 45,
   "metadata": {},
   "outputs": [
    {
     "name": "stderr",
     "output_type": "stream",
     "text": [
      "/Users/t.b.araujouva.nl/opt/anaconda3/lib/python3.8/site-packages/IPython/core/interactiveshell.py:3146: DtypeWarning: Columns (1,3,7,9,19) have mixed types.Specify dtype option on import or set low_memory=False.\n",
      "  has_raised = await self.run_ast_nodes(code_ast.body, cell_name,\n"
     ]
    }
   ],
   "source": [
    "data = pd.read_csv('/Users/t.b.araujouva.nl/OneDrive - UvA/DigitalSociety/TeachTheTeacher-Python/TeachTheTeacherPython-Datasets/googlestore_DA5weeklychallenges.csv')"
   ]
  },
  {
   "cell_type": "code",
   "execution_count": 46,
   "metadata": {},
   "outputs": [
    {
     "data": {
      "text/html": [
       "<div>\n",
       "<style scoped>\n",
       "    .dataframe tbody tr th:only-of-type {\n",
       "        vertical-align: middle;\n",
       "    }\n",
       "\n",
       "    .dataframe tbody tr th {\n",
       "        vertical-align: top;\n",
       "    }\n",
       "\n",
       "    .dataframe thead th {\n",
       "        text-align: right;\n",
       "    }\n",
       "</style>\n",
       "<table border=\"1\" class=\"dataframe\">\n",
       "  <thead>\n",
       "    <tr style=\"text-align: right;\">\n",
       "      <th></th>\n",
       "      <th>Unnamed: 0</th>\n",
       "      <th>affiliate</th>\n",
       "      <th>channelGrouping</th>\n",
       "      <th>cpc</th>\n",
       "      <th>date</th>\n",
       "      <th>device_browser</th>\n",
       "      <th>device_deviceCategory</th>\n",
       "      <th>device_isMobile</th>\n",
       "      <th>device_operatingSystem</th>\n",
       "      <th>fullVisitorId</th>\n",
       "      <th>...</th>\n",
       "      <th>trafficSource_adwordsClickInfo_slot</th>\n",
       "      <th>trafficSource_campaign</th>\n",
       "      <th>trafficSource_isTrueDirect</th>\n",
       "      <th>trafficSource_keyword</th>\n",
       "      <th>trafficSource_medium</th>\n",
       "      <th>trafficSource_referralPath</th>\n",
       "      <th>trafficSource_source</th>\n",
       "      <th>visitId</th>\n",
       "      <th>visitNumber</th>\n",
       "      <th>visitStartTime</th>\n",
       "    </tr>\n",
       "  </thead>\n",
       "  <tbody>\n",
       "    <tr>\n",
       "      <th>0</th>\n",
       "      <td>0.0</td>\n",
       "      <td>0</td>\n",
       "      <td>Referral</td>\n",
       "      <td>0</td>\n",
       "      <td>20171001.0</td>\n",
       "      <td>Chrome</td>\n",
       "      <td>desktop</td>\n",
       "      <td>False</td>\n",
       "      <td>Macintosh</td>\n",
       "      <td>9460190543836614586</td>\n",
       "      <td>...</td>\n",
       "      <td>NaN</td>\n",
       "      <td>(not set)</td>\n",
       "      <td>NaN</td>\n",
       "      <td>NaN</td>\n",
       "      <td>(none)</td>\n",
       "      <td>/</td>\n",
       "      <td>(direct)</td>\n",
       "      <td>1.506841e+09</td>\n",
       "      <td>1.0</td>\n",
       "      <td>1.506841e+09</td>\n",
       "    </tr>\n",
       "    <tr>\n",
       "      <th>1</th>\n",
       "      <td>1.0</td>\n",
       "      <td>0</td>\n",
       "      <td>Paid Search</td>\n",
       "      <td>1</td>\n",
       "      <td>20171001.0</td>\n",
       "      <td>Chrome</td>\n",
       "      <td>desktop</td>\n",
       "      <td>False</td>\n",
       "      <td>Macintosh</td>\n",
       "      <td>1480173241963500874</td>\n",
       "      <td>...</td>\n",
       "      <td>Top</td>\n",
       "      <td>AW - Dynamic Search Ads Whole Site</td>\n",
       "      <td>NaN</td>\n",
       "      <td>6qEhsCssdK0z36ri</td>\n",
       "      <td>cpc</td>\n",
       "      <td>NaN</td>\n",
       "      <td>google</td>\n",
       "      <td>1.506841e+09</td>\n",
       "      <td>1.0</td>\n",
       "      <td>1.506841e+09</td>\n",
       "    </tr>\n",
       "    <tr>\n",
       "      <th>2</th>\n",
       "      <td>2.0</td>\n",
       "      <td>0</td>\n",
       "      <td>Display</td>\n",
       "      <td>1</td>\n",
       "      <td>20171001.0</td>\n",
       "      <td>Chrome</td>\n",
       "      <td>mobile</td>\n",
       "      <td>True</td>\n",
       "      <td>Android</td>\n",
       "      <td>2873420789599649821</td>\n",
       "      <td>...</td>\n",
       "      <td>RHS</td>\n",
       "      <td>1000557 | GA | US | en | Hybrid | GDN Remarketing</td>\n",
       "      <td>NaN</td>\n",
       "      <td>(automatic matching)</td>\n",
       "      <td>cpc</td>\n",
       "      <td>NaN</td>\n",
       "      <td>google</td>\n",
       "      <td>1.506841e+09</td>\n",
       "      <td>1.0</td>\n",
       "      <td>1.506841e+09</td>\n",
       "    </tr>\n",
       "    <tr>\n",
       "      <th>3</th>\n",
       "      <td>3.0</td>\n",
       "      <td>0</td>\n",
       "      <td>Display</td>\n",
       "      <td>1</td>\n",
       "      <td>20171001.0</td>\n",
       "      <td>Samsung Internet</td>\n",
       "      <td>mobile</td>\n",
       "      <td>True</td>\n",
       "      <td>Android</td>\n",
       "      <td>958777956895332252</td>\n",
       "      <td>...</td>\n",
       "      <td>RHS</td>\n",
       "      <td>1000557 | GA | US | en | Hybrid | GDN Remarketing</td>\n",
       "      <td>NaN</td>\n",
       "      <td>(automatic matching)</td>\n",
       "      <td>cpc</td>\n",
       "      <td>NaN</td>\n",
       "      <td>google</td>\n",
       "      <td>1.506841e+09</td>\n",
       "      <td>1.0</td>\n",
       "      <td>1.506841e+09</td>\n",
       "    </tr>\n",
       "    <tr>\n",
       "      <th>4</th>\n",
       "      <td>4.0</td>\n",
       "      <td>0</td>\n",
       "      <td>Display</td>\n",
       "      <td>1</td>\n",
       "      <td>20171001.0</td>\n",
       "      <td>Safari</td>\n",
       "      <td>mobile</td>\n",
       "      <td>True</td>\n",
       "      <td>iOS</td>\n",
       "      <td>3000721821736270436</td>\n",
       "      <td>...</td>\n",
       "      <td>RHS</td>\n",
       "      <td>1000557 | GA | US | en | Hybrid | GDN Remarketing</td>\n",
       "      <td>NaN</td>\n",
       "      <td>(automatic matching)</td>\n",
       "      <td>cpc</td>\n",
       "      <td>NaN</td>\n",
       "      <td>google</td>\n",
       "      <td>1.506841e+09</td>\n",
       "      <td>1.0</td>\n",
       "      <td>1.506841e+09</td>\n",
       "    </tr>\n",
       "  </tbody>\n",
       "</table>\n",
       "<p>5 rows × 80 columns</p>\n",
       "</div>"
      ],
      "text/plain": [
       "   Unnamed: 0 affiliate channelGrouping cpc        date    device_browser  \\\n",
       "0         0.0         0        Referral   0  20171001.0            Chrome   \n",
       "1         1.0         0     Paid Search   1  20171001.0            Chrome   \n",
       "2         2.0         0         Display   1  20171001.0            Chrome   \n",
       "3         3.0         0         Display   1  20171001.0  Samsung Internet   \n",
       "4         4.0         0         Display   1  20171001.0            Safari   \n",
       "\n",
       "  device_deviceCategory device_isMobile device_operatingSystem  \\\n",
       "0               desktop           False              Macintosh   \n",
       "1               desktop           False              Macintosh   \n",
       "2                mobile            True                Android   \n",
       "3                mobile            True                Android   \n",
       "4                mobile            True                    iOS   \n",
       "\n",
       "         fullVisitorId  ... trafficSource_adwordsClickInfo_slot  \\\n",
       "0  9460190543836614586  ...                                 NaN   \n",
       "1  1480173241963500874  ...                                 Top   \n",
       "2  2873420789599649821  ...                                 RHS   \n",
       "3   958777956895332252  ...                                 RHS   \n",
       "4  3000721821736270436  ...                                 RHS   \n",
       "\n",
       "                              trafficSource_campaign  \\\n",
       "0                                          (not set)   \n",
       "1                 AW - Dynamic Search Ads Whole Site   \n",
       "2  1000557 | GA | US | en | Hybrid | GDN Remarketing   \n",
       "3  1000557 | GA | US | en | Hybrid | GDN Remarketing   \n",
       "4  1000557 | GA | US | en | Hybrid | GDN Remarketing   \n",
       "\n",
       "  trafficSource_isTrueDirect trafficSource_keyword trafficSource_medium  \\\n",
       "0                        NaN                   NaN               (none)   \n",
       "1                        NaN      6qEhsCssdK0z36ri                  cpc   \n",
       "2                        NaN  (automatic matching)                  cpc   \n",
       "3                        NaN  (automatic matching)                  cpc   \n",
       "4                        NaN  (automatic matching)                  cpc   \n",
       "\n",
       "  trafficSource_referralPath trafficSource_source       visitId visitNumber  \\\n",
       "0                          /             (direct)  1.506841e+09         1.0   \n",
       "1                        NaN               google  1.506841e+09         1.0   \n",
       "2                        NaN               google  1.506841e+09         1.0   \n",
       "3                        NaN               google  1.506841e+09         1.0   \n",
       "4                        NaN               google  1.506841e+09         1.0   \n",
       "\n",
       "  visitStartTime  \n",
       "0   1.506841e+09  \n",
       "1   1.506841e+09  \n",
       "2   1.506841e+09  \n",
       "3   1.506841e+09  \n",
       "4   1.506841e+09  \n",
       "\n",
       "[5 rows x 80 columns]"
      ]
     },
     "execution_count": 46,
     "metadata": {},
     "output_type": "execute_result"
    }
   ],
   "source": [
    "data.head()"
   ]
  },
  {
   "cell_type": "code",
   "execution_count": 47,
   "metadata": {},
   "outputs": [
    {
     "data": {
      "text/plain": [
       "Index(['Unnamed: 0', 'affiliate', 'channelGrouping', 'cpc', 'date',\n",
       "       'device_browser', 'device_deviceCategory', 'device_isMobile',\n",
       "       'device_operatingSystem', 'fullVisitorId', 'geoNetwork_city',\n",
       "       'geoNetwork_continent', 'geoNetwork_country', 'geoNetwork_metro',\n",
       "       'geoNetwork_networkDomain', 'geoNetwork_region',\n",
       "       'geoNetwork_subContinent', 'isExit',\n",
       "       'landing_appInfo_landingScreenName', 'landing_appInfo_screenDepth',\n",
       "       'landing_appInfo_screenName', 'landing_contentGroup_contentGroup1',\n",
       "       'landing_contentGroup_contentGroup2',\n",
       "       'landing_contentGroup_contentGroup3',\n",
       "       'landing_contentGroup_contentGroup4',\n",
       "       'landing_contentGroup_contentGroup5', 'landing_hour',\n",
       "       'landing_isEntrance', 'landing_isExit', 'landing_minute',\n",
       "       'landing_page_hostname', 'landing_page_pagePath',\n",
       "       'landing_page_pagePathLevel1', 'landing_page_pagePathLevel2',\n",
       "       'landing_page_pagePathLevel3', 'landing_page_pagePathLevel4',\n",
       "       'landing_page_pageTitle', 'landing_product_isClick',\n",
       "       'landing_product_isImpression', 'landing_product_productBrand',\n",
       "       'landing_product_productListName',\n",
       "       'landing_product_productListPosition', 'landing_product_productPrice',\n",
       "       'landing_product_productQuantity', 'landing_product_productSKU',\n",
       "       'landing_product_productVariant', 'landing_product_v2ProductCategory',\n",
       "       'landing_product_v2ProductName',\n",
       "       'landing_promotionActionInfo_promoIsView',\n",
       "       'landing_promotion_promoCreative', 'landing_promotion_promoId',\n",
       "       'landing_promotion_promoName', 'landing_promotion_promoPosition',\n",
       "       'landing_referer', 'landing_social_hasSocialSourceReferral',\n",
       "       'landing_social_socialInteractionNetworkAction',\n",
       "       'landing_social_socialNetwork', 'order_euros', 'referral',\n",
       "       'totals_bounces', 'totals_newVisits', 'totals_pageviews',\n",
       "       'totals_timeOnSite', 'totals_transactionRevenue', 'totals_transactions',\n",
       "       'trafficSource_adContent',\n",
       "       'trafficSource_adwordsClickInfo_adNetworkType',\n",
       "       'trafficSource_adwordsClickInfo_gclId',\n",
       "       'trafficSource_adwordsClickInfo_isVideoAd',\n",
       "       'trafficSource_adwordsClickInfo_page',\n",
       "       'trafficSource_adwordsClickInfo_slot', 'trafficSource_campaign',\n",
       "       'trafficSource_isTrueDirect', 'trafficSource_keyword',\n",
       "       'trafficSource_medium', 'trafficSource_referralPath',\n",
       "       'trafficSource_source', 'visitId', 'visitNumber', 'visitStartTime'],\n",
       "      dtype='object')"
      ]
     },
     "execution_count": 47,
     "metadata": {},
     "output_type": "execute_result"
    }
   ],
   "source": [
    "data.columns"
   ]
  },
  {
   "cell_type": "code",
   "execution_count": 48,
   "metadata": {},
   "outputs": [
    {
     "data": {
      "text/plain": [
       "0        616.0\n",
       "1          NaN\n",
       "2          NaN\n",
       "3        980.0\n",
       "4        497.0\n",
       "         ...  \n",
       "52305    977.0\n",
       "52306    240.0\n",
       "52307    764.0\n",
       "52308      NaN\n",
       "52309    990.0\n",
       "Name: order_euros, Length: 52310, dtype: float64"
      ]
     },
     "execution_count": 48,
     "metadata": {},
     "output_type": "execute_result"
    }
   ],
   "source": [
    "data['order_euros']"
   ]
  },
  {
   "cell_type": "code",
   "execution_count": 49,
   "metadata": {},
   "outputs": [
    {
     "data": {
      "text/html": [
       "<div>\n",
       "<style scoped>\n",
       "    .dataframe tbody tr th:only-of-type {\n",
       "        vertical-align: middle;\n",
       "    }\n",
       "\n",
       "    .dataframe tbody tr th {\n",
       "        vertical-align: top;\n",
       "    }\n",
       "\n",
       "    .dataframe thead th {\n",
       "        text-align: right;\n",
       "    }\n",
       "</style>\n",
       "<table border=\"1\" class=\"dataframe\">\n",
       "  <thead>\n",
       "    <tr style=\"text-align: right;\">\n",
       "      <th></th>\n",
       "      <th>order_euros</th>\n",
       "    </tr>\n",
       "  </thead>\n",
       "  <tbody>\n",
       "    <tr>\n",
       "      <th>count</th>\n",
       "      <td>28815.000000</td>\n",
       "    </tr>\n",
       "    <tr>\n",
       "      <th>mean</th>\n",
       "      <td>412.265279</td>\n",
       "    </tr>\n",
       "    <tr>\n",
       "      <th>std</th>\n",
       "      <td>312.846197</td>\n",
       "    </tr>\n",
       "    <tr>\n",
       "      <th>min</th>\n",
       "      <td>1.000000</td>\n",
       "    </tr>\n",
       "    <tr>\n",
       "      <th>25%</th>\n",
       "      <td>131.000000</td>\n",
       "    </tr>\n",
       "    <tr>\n",
       "      <th>50%</th>\n",
       "      <td>336.000000</td>\n",
       "    </tr>\n",
       "    <tr>\n",
       "      <th>75%</th>\n",
       "      <td>691.000000</td>\n",
       "    </tr>\n",
       "    <tr>\n",
       "      <th>max</th>\n",
       "      <td>999.000000</td>\n",
       "    </tr>\n",
       "  </tbody>\n",
       "</table>\n",
       "</div>"
      ],
      "text/plain": [
       "        order_euros\n",
       "count  28815.000000\n",
       "mean     412.265279\n",
       "std      312.846197\n",
       "min        1.000000\n",
       "25%      131.000000\n",
       "50%      336.000000\n",
       "75%      691.000000\n",
       "max      999.000000"
      ]
     },
     "execution_count": 49,
     "metadata": {},
     "output_type": "execute_result"
    }
   ],
   "source": [
    "data[['channelGrouping', 'device_browser', 'order_euros']].describe()"
   ]
  },
  {
   "cell_type": "code",
   "execution_count": 50,
   "metadata": {},
   "outputs": [
    {
     "data": {
      "text/plain": [
       "channelGrouping     object\n",
       "device_browser      object\n",
       "order_euros        float64\n",
       "dtype: object"
      ]
     },
     "execution_count": 50,
     "metadata": {},
     "output_type": "execute_result"
    }
   ],
   "source": [
    "data[['channelGrouping', 'device_browser', 'order_euros']].dtypes"
   ]
  },
  {
   "cell_type": "code",
   "execution_count": 51,
   "metadata": {},
   "outputs": [
    {
     "data": {
      "text/plain": [
       "channelGrouping        0\n",
       "device_browser         0\n",
       "order_euros        23495\n",
       "dtype: int64"
      ]
     },
     "execution_count": 51,
     "metadata": {},
     "output_type": "execute_result"
    }
   ],
   "source": [
    "data[['channelGrouping', 'device_browser', 'order_euros']].isna().sum()"
   ]
  },
  {
   "cell_type": "code",
   "execution_count": 52,
   "metadata": {},
   "outputs": [
    {
     "data": {
      "text/plain": [
       "Organic Search    22781\n",
       "Display           12579\n",
       "Direct             6047\n",
       "Referral           4994\n",
       "Social             3828\n",
       "Paid Search        1322\n",
       "Affiliates          756\n",
       " :                    2\n",
       "(Other)               1\n",
       "Name: channelGrouping, dtype: int64"
      ]
     },
     "execution_count": 52,
     "metadata": {},
     "output_type": "execute_result"
    }
   ],
   "source": [
    "data['channelGrouping'].value_counts()"
   ]
  },
  {
   "cell_type": "code",
   "execution_count": 53,
   "metadata": {},
   "outputs": [
    {
     "data": {
      "text/plain": [
       "Chrome                        34324\n",
       "Safari                         8883\n",
       "Samsung Internet               3100\n",
       "Android Webview                1783\n",
       "Firefox                        1693\n",
       "Internet Explorer               780\n",
       "Opera Mini                      484\n",
       "Edge                            432\n",
       "Opera                           261\n",
       "UC Browser                      220\n",
       "Safari (in-app)                 141\n",
       "Amazon Silk                      71\n",
       "YaBrowser                        37\n",
       "Android Browser                  35\n",
       "Coc Coc                          15\n",
       "Puffin                           13\n",
       "Mozilla Compatible Agent         10\n",
       "BlackBerry                        7\n",
       "Maxthon                           7\n",
       "1                                 2\n",
       "osee2unifiedRelease               2\n",
       "tfowdqmibyshaklxuregpcnzvj        1\n",
       "ujvrzsonxihlgaqdmkwtbfcpey        1\n",
       "wfpknuqxovyilmrdzbhgtecjas        1\n",
       "(not set)                         1\n",
       "Browser                           1\n",
       "ecgiwapzltrkujdhmqsbxfonvy        1\n",
       "Nintendo Browser                  1\n",
       "SeaMonkey                         1\n",
       "Seznam                            1\n",
       "SAMSUNG-SM-B355E Opera            1\n",
       "Name: device_browser, dtype: int64"
      ]
     },
     "execution_count": 53,
     "metadata": {},
     "output_type": "execute_result"
    }
   ],
   "source": [
    "data['device_browser'].value_counts()"
   ]
  },
  {
   "cell_type": "code",
   "execution_count": 54,
   "metadata": {},
   "outputs": [
    {
     "data": {
      "text/plain": [
       "count    28815.000000\n",
       "mean       412.265279\n",
       "std        312.846197\n",
       "min          1.000000\n",
       "25%        131.000000\n",
       "50%        336.000000\n",
       "75%        691.000000\n",
       "max        999.000000\n",
       "Name: order_euros, dtype: float64"
      ]
     },
     "execution_count": 54,
     "metadata": {},
     "output_type": "execute_result"
    }
   ],
   "source": [
    "data['order_euros'].describe()"
   ]
  },
  {
   "cell_type": "code",
   "execution_count": 55,
   "metadata": {},
   "outputs": [],
   "source": [
    "data['order_euros_complete'] = data['order_euros'].fillna(0)"
   ]
  },
  {
   "cell_type": "code",
   "execution_count": 56,
   "metadata": {},
   "outputs": [
    {
     "data": {
      "text/plain": [
       "count    52310.000000\n",
       "mean       227.096616\n",
       "std        309.781227\n",
       "min          0.000000\n",
       "25%          0.000000\n",
       "50%         42.000000\n",
       "75%        391.000000\n",
       "max        999.000000\n",
       "Name: order_euros_complete, dtype: float64"
      ]
     },
     "execution_count": 56,
     "metadata": {},
     "output_type": "execute_result"
    }
   ],
   "source": [
    "data['order_euros_complete'].describe()"
   ]
  },
  {
   "cell_type": "code",
   "execution_count": 57,
   "metadata": {},
   "outputs": [
    {
     "data": {
      "text/plain": [
       "0"
      ]
     },
     "execution_count": 57,
     "metadata": {},
     "output_type": "execute_result"
    }
   ],
   "source": [
    "data['order_euros_complete'].isna().sum()"
   ]
  },
  {
   "cell_type": "code",
   "execution_count": 58,
   "metadata": {},
   "outputs": [],
   "source": [
    "def is_organic_search(text):\n",
    "    if text == 'Organic Search':\n",
    "        return 1\n",
    "    return 0"
   ]
  },
  {
   "cell_type": "code",
   "execution_count": 59,
   "metadata": {},
   "outputs": [],
   "source": [
    "data['org_search'] = data['channelGrouping'].apply(is_organic_search)"
   ]
  },
  {
   "cell_type": "code",
   "execution_count": 60,
   "metadata": {},
   "outputs": [
    {
     "data": {
      "text/plain": [
       "0    29529\n",
       "1    22781\n",
       "Name: org_search, dtype: int64"
      ]
     },
     "execution_count": 60,
     "metadata": {},
     "output_type": "execute_result"
    }
   ],
   "source": [
    "data['org_search'].value_counts()"
   ]
  },
  {
   "cell_type": "code",
   "execution_count": 61,
   "metadata": {},
   "outputs": [],
   "source": [
    "def is_chrome(text):\n",
    "    if 'Chrome' in text:\n",
    "        return 1\n",
    "    else:\n",
    "        return 0"
   ]
  },
  {
   "cell_type": "code",
   "execution_count": 63,
   "metadata": {},
   "outputs": [],
   "source": [
    "data['chrome'] = data['device_browser'].apply(is_chrome)"
   ]
  },
  {
   "cell_type": "code",
   "execution_count": 64,
   "metadata": {},
   "outputs": [
    {
     "data": {
      "text/plain": [
       "1    34324\n",
       "0    17986\n",
       "Name: chrome, dtype: int64"
      ]
     },
     "execution_count": 64,
     "metadata": {},
     "output_type": "execute_result"
    }
   ],
   "source": [
    "data['chrome'].value_counts()"
   ]
  },
  {
   "cell_type": "code",
   "execution_count": null,
   "metadata": {},
   "outputs": [],
   "source": []
  },
  {
   "cell_type": "code",
   "execution_count": 69,
   "metadata": {},
   "outputs": [
    {
     "data": {
      "text/plain": [
       "0        1\n",
       "1        1\n",
       "2        1\n",
       "3        0\n",
       "4        0\n",
       "        ..\n",
       "52305    1\n",
       "52306    1\n",
       "52307    1\n",
       "52308    1\n",
       "52309    0\n",
       "Name: chrome, Length: 52310, dtype: int64"
      ]
     },
     "execution_count": 69,
     "metadata": {},
     "output_type": "execute_result"
    }
   ],
   "source": [
    "data['chrome']"
   ]
  },
  {
   "cell_type": "code",
   "execution_count": 70,
   "metadata": {},
   "outputs": [
    {
     "data": {
      "text/html": [
       "<div>\n",
       "<style scoped>\n",
       "    .dataframe tbody tr th:only-of-type {\n",
       "        vertical-align: middle;\n",
       "    }\n",
       "\n",
       "    .dataframe tbody tr th {\n",
       "        vertical-align: top;\n",
       "    }\n",
       "\n",
       "    .dataframe thead th {\n",
       "        text-align: right;\n",
       "    }\n",
       "</style>\n",
       "<table border=\"1\" class=\"dataframe\">\n",
       "  <thead>\n",
       "    <tr style=\"text-align: right;\">\n",
       "      <th></th>\n",
       "      <th>chrome</th>\n",
       "      <th>org_search</th>\n",
       "      <th>order_euros_complete</th>\n",
       "    </tr>\n",
       "  </thead>\n",
       "  <tbody>\n",
       "    <tr>\n",
       "      <th>0</th>\n",
       "      <td>1</td>\n",
       "      <td>0</td>\n",
       "      <td>616.0</td>\n",
       "    </tr>\n",
       "    <tr>\n",
       "      <th>1</th>\n",
       "      <td>1</td>\n",
       "      <td>0</td>\n",
       "      <td>0.0</td>\n",
       "    </tr>\n",
       "    <tr>\n",
       "      <th>2</th>\n",
       "      <td>1</td>\n",
       "      <td>0</td>\n",
       "      <td>0.0</td>\n",
       "    </tr>\n",
       "    <tr>\n",
       "      <th>3</th>\n",
       "      <td>0</td>\n",
       "      <td>0</td>\n",
       "      <td>980.0</td>\n",
       "    </tr>\n",
       "    <tr>\n",
       "      <th>4</th>\n",
       "      <td>0</td>\n",
       "      <td>0</td>\n",
       "      <td>497.0</td>\n",
       "    </tr>\n",
       "    <tr>\n",
       "      <th>...</th>\n",
       "      <td>...</td>\n",
       "      <td>...</td>\n",
       "      <td>...</td>\n",
       "    </tr>\n",
       "    <tr>\n",
       "      <th>52305</th>\n",
       "      <td>1</td>\n",
       "      <td>0</td>\n",
       "      <td>977.0</td>\n",
       "    </tr>\n",
       "    <tr>\n",
       "      <th>52306</th>\n",
       "      <td>1</td>\n",
       "      <td>1</td>\n",
       "      <td>240.0</td>\n",
       "    </tr>\n",
       "    <tr>\n",
       "      <th>52307</th>\n",
       "      <td>1</td>\n",
       "      <td>0</td>\n",
       "      <td>764.0</td>\n",
       "    </tr>\n",
       "    <tr>\n",
       "      <th>52308</th>\n",
       "      <td>1</td>\n",
       "      <td>1</td>\n",
       "      <td>0.0</td>\n",
       "    </tr>\n",
       "    <tr>\n",
       "      <th>52309</th>\n",
       "      <td>0</td>\n",
       "      <td>0</td>\n",
       "      <td>990.0</td>\n",
       "    </tr>\n",
       "  </tbody>\n",
       "</table>\n",
       "<p>52310 rows × 3 columns</p>\n",
       "</div>"
      ],
      "text/plain": [
       "       chrome  org_search  order_euros_complete\n",
       "0           1           0                 616.0\n",
       "1           1           0                   0.0\n",
       "2           1           0                   0.0\n",
       "3           0           0                 980.0\n",
       "4           0           0                 497.0\n",
       "...       ...         ...                   ...\n",
       "52305       1           0                 977.0\n",
       "52306       1           1                 240.0\n",
       "52307       1           0                 764.0\n",
       "52308       1           1                   0.0\n",
       "52309       0           0                 990.0\n",
       "\n",
       "[52310 rows x 3 columns]"
      ]
     },
     "execution_count": 70,
     "metadata": {},
     "output_type": "execute_result"
    }
   ],
   "source": [
    "data[['chrome', 'org_search', 'order_euros_complete']]"
   ]
  },
  {
   "cell_type": "code",
   "execution_count": 71,
   "metadata": {},
   "outputs": [
    {
     "data": {
      "text/html": [
       "<div>\n",
       "<style scoped>\n",
       "    .dataframe tbody tr th:only-of-type {\n",
       "        vertical-align: middle;\n",
       "    }\n",
       "\n",
       "    .dataframe tbody tr th {\n",
       "        vertical-align: top;\n",
       "    }\n",
       "\n",
       "    .dataframe thead th {\n",
       "        text-align: right;\n",
       "    }\n",
       "</style>\n",
       "<table border=\"1\" class=\"dataframe\">\n",
       "  <thead>\n",
       "    <tr style=\"text-align: right;\">\n",
       "      <th></th>\n",
       "      <th>chrome</th>\n",
       "      <th>org_search</th>\n",
       "      <th>order_euros_complete</th>\n",
       "    </tr>\n",
       "  </thead>\n",
       "  <tbody>\n",
       "    <tr>\n",
       "      <th>count</th>\n",
       "      <td>52310.000000</td>\n",
       "      <td>52310.000000</td>\n",
       "      <td>52310.000000</td>\n",
       "    </tr>\n",
       "    <tr>\n",
       "      <th>mean</th>\n",
       "      <td>0.656165</td>\n",
       "      <td>0.435500</td>\n",
       "      <td>227.096616</td>\n",
       "    </tr>\n",
       "    <tr>\n",
       "      <th>std</th>\n",
       "      <td>0.474991</td>\n",
       "      <td>0.495827</td>\n",
       "      <td>309.781227</td>\n",
       "    </tr>\n",
       "    <tr>\n",
       "      <th>min</th>\n",
       "      <td>0.000000</td>\n",
       "      <td>0.000000</td>\n",
       "      <td>0.000000</td>\n",
       "    </tr>\n",
       "    <tr>\n",
       "      <th>25%</th>\n",
       "      <td>0.000000</td>\n",
       "      <td>0.000000</td>\n",
       "      <td>0.000000</td>\n",
       "    </tr>\n",
       "    <tr>\n",
       "      <th>50%</th>\n",
       "      <td>1.000000</td>\n",
       "      <td>0.000000</td>\n",
       "      <td>42.000000</td>\n",
       "    </tr>\n",
       "    <tr>\n",
       "      <th>75%</th>\n",
       "      <td>1.000000</td>\n",
       "      <td>1.000000</td>\n",
       "      <td>391.000000</td>\n",
       "    </tr>\n",
       "    <tr>\n",
       "      <th>max</th>\n",
       "      <td>1.000000</td>\n",
       "      <td>1.000000</td>\n",
       "      <td>999.000000</td>\n",
       "    </tr>\n",
       "  </tbody>\n",
       "</table>\n",
       "</div>"
      ],
      "text/plain": [
       "             chrome    org_search  order_euros_complete\n",
       "count  52310.000000  52310.000000          52310.000000\n",
       "mean       0.656165      0.435500            227.096616\n",
       "std        0.474991      0.495827            309.781227\n",
       "min        0.000000      0.000000              0.000000\n",
       "25%        0.000000      0.000000              0.000000\n",
       "50%        1.000000      0.000000             42.000000\n",
       "75%        1.000000      1.000000            391.000000\n",
       "max        1.000000      1.000000            999.000000"
      ]
     },
     "execution_count": 71,
     "metadata": {},
     "output_type": "execute_result"
    }
   ],
   "source": [
    "data[['chrome', 'org_search', 'order_euros_complete']].describe()"
   ]
  },
  {
   "cell_type": "code",
   "execution_count": 72,
   "metadata": {},
   "outputs": [
    {
     "data": {
      "text/plain": [
       "chrome                  0\n",
       "org_search              0\n",
       "order_euros_complete    0\n",
       "dtype: int64"
      ]
     },
     "execution_count": 72,
     "metadata": {},
     "output_type": "execute_result"
    }
   ],
   "source": [
    "data[['chrome', 'org_search', 'order_euros_complete']].isna().sum()"
   ]
  },
  {
   "cell_type": "code",
   "execution_count": 73,
   "metadata": {},
   "outputs": [],
   "source": [
    "features = ['chrome', 'org_search']"
   ]
  },
  {
   "cell_type": "code",
   "execution_count": 74,
   "metadata": {},
   "outputs": [
    {
     "data": {
      "text/plain": [
       "['chrome', 'org_search']"
      ]
     },
     "execution_count": 74,
     "metadata": {},
     "output_type": "execute_result"
    }
   ],
   "source": [
    "features"
   ]
  },
  {
   "cell_type": "code",
   "execution_count": 75,
   "metadata": {},
   "outputs": [],
   "source": [
    "import statsmodels.api as sm"
   ]
  },
  {
   "cell_type": "code",
   "execution_count": 76,
   "metadata": {},
   "outputs": [],
   "source": [
    "X = sm.add_constant(data[features])"
   ]
  },
  {
   "cell_type": "code",
   "execution_count": 77,
   "metadata": {},
   "outputs": [],
   "source": [
    "model_euros = sm.OLS(data['order_euros_complete'], X)"
   ]
  },
  {
   "cell_type": "code",
   "execution_count": 78,
   "metadata": {},
   "outputs": [],
   "source": [
    "results_model_euros = model_euros.fit()"
   ]
  },
  {
   "cell_type": "code",
   "execution_count": 79,
   "metadata": {},
   "outputs": [
    {
     "data": {
      "text/html": [
       "<table class=\"simpletable\">\n",
       "<caption>OLS Regression Results</caption>\n",
       "<tr>\n",
       "  <th>Dep. Variable:</th>    <td>order_euros_complete</td> <th>  R-squared:         </th>  <td>   0.133</td>  \n",
       "</tr>\n",
       "<tr>\n",
       "  <th>Model:</th>                     <td>OLS</td>         <th>  Adj. R-squared:    </th>  <td>   0.133</td>  \n",
       "</tr>\n",
       "<tr>\n",
       "  <th>Method:</th>               <td>Least Squares</td>    <th>  F-statistic:       </th>  <td>   4023.</td>  \n",
       "</tr>\n",
       "<tr>\n",
       "  <th>Date:</th>               <td>Fri, 02 Jul 2021</td>   <th>  Prob (F-statistic):</th>   <td>  0.00</td>   \n",
       "</tr>\n",
       "<tr>\n",
       "  <th>Time:</th>                   <td>12:03:05</td>       <th>  Log-Likelihood:    </th> <td>-3.7052e+05</td>\n",
       "</tr>\n",
       "<tr>\n",
       "  <th>No. Observations:</th>        <td> 52310</td>        <th>  AIC:               </th>  <td>7.411e+05</td> \n",
       "</tr>\n",
       "<tr>\n",
       "  <th>Df Residuals:</th>            <td> 52307</td>        <th>  BIC:               </th>  <td>7.411e+05</td> \n",
       "</tr>\n",
       "<tr>\n",
       "  <th>Df Model:</th>                <td>     2</td>        <th>                     </th>      <td> </td>     \n",
       "</tr>\n",
       "<tr>\n",
       "  <th>Covariance Type:</th>        <td>nonrobust</td>      <th>                     </th>      <td> </td>     \n",
       "</tr>\n",
       "</table>\n",
       "<table class=\"simpletable\">\n",
       "<tr>\n",
       "       <td></td>         <th>coef</th>     <th>std err</th>      <th>t</th>      <th>P>|t|</th>  <th>[0.025</th>    <th>0.975]</th>  \n",
       "</tr>\n",
       "<tr>\n",
       "  <th>const</th>      <td>  349.1769</td> <td>    2.406</td> <td>  145.108</td> <td> 0.000</td> <td>  344.461</td> <td>  353.893</td>\n",
       "</tr>\n",
       "<tr>\n",
       "  <th>chrome</th>     <td>  -36.8375</td> <td>    2.655</td> <td>  -13.874</td> <td> 0.000</td> <td>  -42.041</td> <td>  -31.634</td>\n",
       "</tr>\n",
       "<tr>\n",
       "  <th>org_search</th> <td> -224.8195</td> <td>    2.543</td> <td>  -88.390</td> <td> 0.000</td> <td> -229.805</td> <td> -219.834</td>\n",
       "</tr>\n",
       "</table>\n",
       "<table class=\"simpletable\">\n",
       "<tr>\n",
       "  <th>Omnibus:</th>       <td>4605.359</td> <th>  Durbin-Watson:     </th> <td>   1.967</td>\n",
       "</tr>\n",
       "<tr>\n",
       "  <th>Prob(Omnibus):</th>  <td> 0.000</td>  <th>  Jarque-Bera (JB):  </th> <td>5183.579</td>\n",
       "</tr>\n",
       "<tr>\n",
       "  <th>Skew:</th>           <td> 0.736</td>  <th>  Prob(JB):          </th> <td>    0.00</td>\n",
       "</tr>\n",
       "<tr>\n",
       "  <th>Kurtosis:</th>       <td> 2.542</td>  <th>  Cond. No.          </th> <td>    3.55</td>\n",
       "</tr>\n",
       "</table><br/><br/>Notes:<br/>[1] Standard Errors assume that the covariance matrix of the errors is correctly specified."
      ],
      "text/plain": [
       "<class 'statsmodels.iolib.summary.Summary'>\n",
       "\"\"\"\n",
       "                             OLS Regression Results                             \n",
       "================================================================================\n",
       "Dep. Variable:     order_euros_complete   R-squared:                       0.133\n",
       "Model:                              OLS   Adj. R-squared:                  0.133\n",
       "Method:                   Least Squares   F-statistic:                     4023.\n",
       "Date:                  Fri, 02 Jul 2021   Prob (F-statistic):               0.00\n",
       "Time:                          12:03:05   Log-Likelihood:            -3.7052e+05\n",
       "No. Observations:                 52310   AIC:                         7.411e+05\n",
       "Df Residuals:                     52307   BIC:                         7.411e+05\n",
       "Df Model:                             2                                         \n",
       "Covariance Type:              nonrobust                                         \n",
       "==============================================================================\n",
       "                 coef    std err          t      P>|t|      [0.025      0.975]\n",
       "------------------------------------------------------------------------------\n",
       "const        349.1769      2.406    145.108      0.000     344.461     353.893\n",
       "chrome       -36.8375      2.655    -13.874      0.000     -42.041     -31.634\n",
       "org_search  -224.8195      2.543    -88.390      0.000    -229.805    -219.834\n",
       "==============================================================================\n",
       "Omnibus:                     4605.359   Durbin-Watson:                   1.967\n",
       "Prob(Omnibus):                  0.000   Jarque-Bera (JB):             5183.579\n",
       "Skew:                           0.736   Prob(JB):                         0.00\n",
       "Kurtosis:                       2.542   Cond. No.                         3.55\n",
       "==============================================================================\n",
       "\n",
       "Notes:\n",
       "[1] Standard Errors assume that the covariance matrix of the errors is correctly specified.\n",
       "\"\"\""
      ]
     },
     "execution_count": 79,
     "metadata": {},
     "output_type": "execute_result"
    }
   ],
   "source": [
    "results_model_euros.summary()"
   ]
  },
  {
   "cell_type": "code",
   "execution_count": 80,
   "metadata": {},
   "outputs": [],
   "source": [
    "from sklearn.linear_model import LinearRegression"
   ]
  },
  {
   "cell_type": "code",
   "execution_count": 81,
   "metadata": {},
   "outputs": [],
   "source": [
    "reg_order_euros = LinearRegression()"
   ]
  },
  {
   "cell_type": "code",
   "execution_count": 82,
   "metadata": {},
   "outputs": [
    {
     "data": {
      "text/plain": [
       "LinearRegression()"
      ]
     },
     "execution_count": 82,
     "metadata": {},
     "output_type": "execute_result"
    }
   ],
   "source": [
    "reg_order_euros.fit(data[features], data['order_euros_complete'])"
   ]
  },
  {
   "cell_type": "code",
   "execution_count": 83,
   "metadata": {},
   "outputs": [
    {
     "data": {
      "text/plain": [
       "array([ -36.83747443, -224.81947091])"
      ]
     },
     "execution_count": 83,
     "metadata": {},
     "output_type": "execute_result"
    }
   ],
   "source": [
    "reg_order_euros.coef_"
   ]
  },
  {
   "cell_type": "code",
   "execution_count": 84,
   "metadata": {},
   "outputs": [
    {
     "data": {
      "text/plain": [
       "array([87.51999672])"
      ]
     },
     "execution_count": 84,
     "metadata": {},
     "output_type": "execute_result"
    }
   ],
   "source": [
    "reg_order_euros.predict([[1,1]])"
   ]
  },
  {
   "cell_type": "code",
   "execution_count": 85,
   "metadata": {},
   "outputs": [
    {
     "data": {
      "text/plain": [
       "array([349.17694206])"
      ]
     },
     "execution_count": 85,
     "metadata": {},
     "output_type": "execute_result"
    }
   ],
   "source": [
    "reg_order_euros.predict([[0,0]])"
   ]
  },
  {
   "cell_type": "code",
   "execution_count": 86,
   "metadata": {},
   "outputs": [
    {
     "data": {
      "text/plain": [
       "array([312.33946763])"
      ]
     },
     "execution_count": 86,
     "metadata": {},
     "output_type": "execute_result"
    }
   ],
   "source": [
    "reg_order_euros.predict([[1,0]])"
   ]
  },
  {
   "cell_type": "code",
   "execution_count": 87,
   "metadata": {},
   "outputs": [
    {
     "data": {
      "text/plain": [
       "array([124.35747115])"
      ]
     },
     "execution_count": 87,
     "metadata": {},
     "output_type": "execute_result"
    }
   ],
   "source": [
    "reg_order_euros.predict([[0,1]])"
   ]
  },
  {
   "cell_type": "code",
   "execution_count": null,
   "metadata": {},
   "outputs": [],
   "source": []
  },
  {
   "cell_type": "markdown",
   "metadata": {},
   "source": [
    "# Moving to categorical targets\n",
    "\n",
    "* Independent variable = feature\n",
    "* Dependent variable = target or label"
   ]
  },
  {
   "cell_type": "code",
   "execution_count": 89,
   "metadata": {},
   "outputs": [
    {
     "data": {
      "text/plain": [
       "count    52310.000000\n",
       "mean       227.096616\n",
       "std        309.781227\n",
       "min          0.000000\n",
       "25%          0.000000\n",
       "50%         42.000000\n",
       "75%        391.000000\n",
       "max        999.000000\n",
       "Name: order_euros_complete, dtype: float64"
      ]
     },
     "execution_count": 89,
     "metadata": {},
     "output_type": "execute_result"
    }
   ],
   "source": [
    "data['order_euros_complete'].describe()"
   ]
  },
  {
   "cell_type": "code",
   "execution_count": 90,
   "metadata": {},
   "outputs": [],
   "source": [
    "def purchased(order):\n",
    "    if order == 0:\n",
    "        return 0\n",
    "    return 1"
   ]
  },
  {
   "cell_type": "code",
   "execution_count": 91,
   "metadata": {},
   "outputs": [],
   "source": [
    "data['purchase'] = data['order_euros_complete'].apply(purchased)"
   ]
  },
  {
   "cell_type": "code",
   "execution_count": 92,
   "metadata": {},
   "outputs": [
    {
     "data": {
      "text/plain": [
       "count    52310.000000\n",
       "mean         0.550851\n",
       "std          0.497412\n",
       "min          0.000000\n",
       "25%          0.000000\n",
       "50%          1.000000\n",
       "75%          1.000000\n",
       "max          1.000000\n",
       "Name: purchase, dtype: float64"
      ]
     },
     "execution_count": 92,
     "metadata": {},
     "output_type": "execute_result"
    }
   ],
   "source": [
    "data['purchase'].describe()"
   ]
  },
  {
   "cell_type": "code",
   "execution_count": 93,
   "metadata": {},
   "outputs": [
    {
     "data": {
      "text/plain": [
       "1    28815\n",
       "0    23495\n",
       "Name: purchase, dtype: int64"
      ]
     },
     "execution_count": 93,
     "metadata": {},
     "output_type": "execute_result"
    }
   ],
   "source": [
    "data['purchase'].value_counts()"
   ]
  },
  {
   "cell_type": "code",
   "execution_count": 94,
   "metadata": {},
   "outputs": [
    {
     "data": {
      "text/plain": [
       "['chrome', 'org_search']"
      ]
     },
     "execution_count": 94,
     "metadata": {},
     "output_type": "execute_result"
    }
   ],
   "source": [
    "features"
   ]
  },
  {
   "cell_type": "code",
   "execution_count": 95,
   "metadata": {},
   "outputs": [],
   "source": [
    "from sklearn.linear_model import LogisticRegression"
   ]
  },
  {
   "cell_type": "code",
   "execution_count": 96,
   "metadata": {},
   "outputs": [],
   "source": [
    "clf_lr = LogisticRegression(random_state=0)"
   ]
  },
  {
   "cell_type": "code",
   "execution_count": 97,
   "metadata": {},
   "outputs": [
    {
     "data": {
      "text/plain": [
       "LogisticRegression(random_state=0)"
      ]
     },
     "execution_count": 97,
     "metadata": {},
     "output_type": "execute_result"
    }
   ],
   "source": [
    "clf_lr"
   ]
  },
  {
   "cell_type": "code",
   "execution_count": 98,
   "metadata": {},
   "outputs": [
    {
     "data": {
      "text/plain": [
       "LogisticRegression(random_state=0)"
      ]
     },
     "execution_count": 98,
     "metadata": {},
     "output_type": "execute_result"
    }
   ],
   "source": [
    "clf_lr.fit(data[features], data['purchase'])"
   ]
  },
  {
   "cell_type": "code",
   "execution_count": 99,
   "metadata": {},
   "outputs": [
    {
     "data": {
      "text/plain": [
       "array([1])"
      ]
     },
     "execution_count": 99,
     "metadata": {},
     "output_type": "execute_result"
    }
   ],
   "source": [
    "clf_lr.predict([[0,0]])"
   ]
  },
  {
   "cell_type": "code",
   "execution_count": 100,
   "metadata": {},
   "outputs": [
    {
     "data": {
      "text/plain": [
       "array([1])"
      ]
     },
     "execution_count": 100,
     "metadata": {},
     "output_type": "execute_result"
    }
   ],
   "source": [
    "clf_lr.predict([[0,1]])"
   ]
  },
  {
   "cell_type": "code",
   "execution_count": 101,
   "metadata": {},
   "outputs": [
    {
     "data": {
      "text/plain": [
       "array([0])"
      ]
     },
     "execution_count": 101,
     "metadata": {},
     "output_type": "execute_result"
    }
   ],
   "source": [
    "clf_lr.predict([[1,1]])"
   ]
  },
  {
   "cell_type": "code",
   "execution_count": 102,
   "metadata": {},
   "outputs": [
    {
     "data": {
      "text/plain": [
       "array([1])"
      ]
     },
     "execution_count": 102,
     "metadata": {},
     "output_type": "execute_result"
    }
   ],
   "source": [
    "clf_lr.predict([[1,0]])"
   ]
  },
  {
   "cell_type": "code",
   "execution_count": 103,
   "metadata": {},
   "outputs": [
    {
     "data": {
      "text/plain": [
       "array([[0.3966664, 0.6033336]])"
      ]
     },
     "execution_count": 103,
     "metadata": {},
     "output_type": "execute_result"
    }
   ],
   "source": [
    "clf_lr.predict_proba([[0,0]])"
   ]
  },
  {
   "cell_type": "code",
   "execution_count": 104,
   "metadata": {},
   "outputs": [
    {
     "data": {
      "text/plain": [
       "array([[0.49025323, 0.50974677]])"
      ]
     },
     "execution_count": 104,
     "metadata": {},
     "output_type": "execute_result"
    }
   ],
   "source": [
    "clf_lr.predict_proba([[0,1]])"
   ]
  },
  {
   "cell_type": "code",
   "execution_count": 105,
   "metadata": {},
   "outputs": [
    {
     "data": {
      "text/plain": [
       "array([[0.41424883, 0.58575117]])"
      ]
     },
     "execution_count": 105,
     "metadata": {},
     "output_type": "execute_result"
    }
   ],
   "source": [
    "clf_lr.predict_proba([[1,0]])"
   ]
  },
  {
   "cell_type": "code",
   "execution_count": 106,
   "metadata": {},
   "outputs": [
    {
     "data": {
      "text/plain": [
       "array([[0.50848778, 0.49151222]])"
      ]
     },
     "execution_count": 106,
     "metadata": {},
     "output_type": "execute_result"
    }
   ],
   "source": [
    "clf_lr.predict_proba([[1,1]])"
   ]
  },
  {
   "cell_type": "code",
   "execution_count": 107,
   "metadata": {},
   "outputs": [
    {
     "data": {
      "text/html": [
       "<div>\n",
       "<style scoped>\n",
       "    .dataframe tbody tr th:only-of-type {\n",
       "        vertical-align: middle;\n",
       "    }\n",
       "\n",
       "    .dataframe tbody tr th {\n",
       "        vertical-align: top;\n",
       "    }\n",
       "\n",
       "    .dataframe thead th {\n",
       "        text-align: right;\n",
       "    }\n",
       "</style>\n",
       "<table border=\"1\" class=\"dataframe\">\n",
       "  <thead>\n",
       "    <tr style=\"text-align: right;\">\n",
       "      <th></th>\n",
       "      <th>Unnamed: 0</th>\n",
       "      <th>affiliate</th>\n",
       "      <th>channelGrouping</th>\n",
       "      <th>cpc</th>\n",
       "      <th>date</th>\n",
       "      <th>device_browser</th>\n",
       "      <th>device_deviceCategory</th>\n",
       "      <th>device_isMobile</th>\n",
       "      <th>device_operatingSystem</th>\n",
       "      <th>fullVisitorId</th>\n",
       "      <th>...</th>\n",
       "      <th>trafficSource_medium</th>\n",
       "      <th>trafficSource_referralPath</th>\n",
       "      <th>trafficSource_source</th>\n",
       "      <th>visitId</th>\n",
       "      <th>visitNumber</th>\n",
       "      <th>visitStartTime</th>\n",
       "      <th>order_euros_complete</th>\n",
       "      <th>org_search</th>\n",
       "      <th>chrome</th>\n",
       "      <th>purchase</th>\n",
       "    </tr>\n",
       "  </thead>\n",
       "  <tbody>\n",
       "    <tr>\n",
       "      <th>0</th>\n",
       "      <td>0.0</td>\n",
       "      <td>0</td>\n",
       "      <td>Referral</td>\n",
       "      <td>0</td>\n",
       "      <td>20171001.0</td>\n",
       "      <td>Chrome</td>\n",
       "      <td>desktop</td>\n",
       "      <td>False</td>\n",
       "      <td>Macintosh</td>\n",
       "      <td>9460190543836614586</td>\n",
       "      <td>...</td>\n",
       "      <td>(none)</td>\n",
       "      <td>/</td>\n",
       "      <td>(direct)</td>\n",
       "      <td>1.506841e+09</td>\n",
       "      <td>1.0</td>\n",
       "      <td>1.506841e+09</td>\n",
       "      <td>616.0</td>\n",
       "      <td>0</td>\n",
       "      <td>1</td>\n",
       "      <td>1</td>\n",
       "    </tr>\n",
       "    <tr>\n",
       "      <th>1</th>\n",
       "      <td>1.0</td>\n",
       "      <td>0</td>\n",
       "      <td>Paid Search</td>\n",
       "      <td>1</td>\n",
       "      <td>20171001.0</td>\n",
       "      <td>Chrome</td>\n",
       "      <td>desktop</td>\n",
       "      <td>False</td>\n",
       "      <td>Macintosh</td>\n",
       "      <td>1480173241963500874</td>\n",
       "      <td>...</td>\n",
       "      <td>cpc</td>\n",
       "      <td>NaN</td>\n",
       "      <td>google</td>\n",
       "      <td>1.506841e+09</td>\n",
       "      <td>1.0</td>\n",
       "      <td>1.506841e+09</td>\n",
       "      <td>0.0</td>\n",
       "      <td>0</td>\n",
       "      <td>1</td>\n",
       "      <td>0</td>\n",
       "    </tr>\n",
       "    <tr>\n",
       "      <th>2</th>\n",
       "      <td>2.0</td>\n",
       "      <td>0</td>\n",
       "      <td>Display</td>\n",
       "      <td>1</td>\n",
       "      <td>20171001.0</td>\n",
       "      <td>Chrome</td>\n",
       "      <td>mobile</td>\n",
       "      <td>True</td>\n",
       "      <td>Android</td>\n",
       "      <td>2873420789599649821</td>\n",
       "      <td>...</td>\n",
       "      <td>cpc</td>\n",
       "      <td>NaN</td>\n",
       "      <td>google</td>\n",
       "      <td>1.506841e+09</td>\n",
       "      <td>1.0</td>\n",
       "      <td>1.506841e+09</td>\n",
       "      <td>0.0</td>\n",
       "      <td>0</td>\n",
       "      <td>1</td>\n",
       "      <td>0</td>\n",
       "    </tr>\n",
       "    <tr>\n",
       "      <th>3</th>\n",
       "      <td>3.0</td>\n",
       "      <td>0</td>\n",
       "      <td>Display</td>\n",
       "      <td>1</td>\n",
       "      <td>20171001.0</td>\n",
       "      <td>Samsung Internet</td>\n",
       "      <td>mobile</td>\n",
       "      <td>True</td>\n",
       "      <td>Android</td>\n",
       "      <td>958777956895332252</td>\n",
       "      <td>...</td>\n",
       "      <td>cpc</td>\n",
       "      <td>NaN</td>\n",
       "      <td>google</td>\n",
       "      <td>1.506841e+09</td>\n",
       "      <td>1.0</td>\n",
       "      <td>1.506841e+09</td>\n",
       "      <td>980.0</td>\n",
       "      <td>0</td>\n",
       "      <td>0</td>\n",
       "      <td>1</td>\n",
       "    </tr>\n",
       "    <tr>\n",
       "      <th>4</th>\n",
       "      <td>4.0</td>\n",
       "      <td>0</td>\n",
       "      <td>Display</td>\n",
       "      <td>1</td>\n",
       "      <td>20171001.0</td>\n",
       "      <td>Safari</td>\n",
       "      <td>mobile</td>\n",
       "      <td>True</td>\n",
       "      <td>iOS</td>\n",
       "      <td>3000721821736270436</td>\n",
       "      <td>...</td>\n",
       "      <td>cpc</td>\n",
       "      <td>NaN</td>\n",
       "      <td>google</td>\n",
       "      <td>1.506841e+09</td>\n",
       "      <td>1.0</td>\n",
       "      <td>1.506841e+09</td>\n",
       "      <td>497.0</td>\n",
       "      <td>0</td>\n",
       "      <td>0</td>\n",
       "      <td>1</td>\n",
       "    </tr>\n",
       "  </tbody>\n",
       "</table>\n",
       "<p>5 rows × 84 columns</p>\n",
       "</div>"
      ],
      "text/plain": [
       "   Unnamed: 0 affiliate channelGrouping cpc        date    device_browser  \\\n",
       "0         0.0         0        Referral   0  20171001.0            Chrome   \n",
       "1         1.0         0     Paid Search   1  20171001.0            Chrome   \n",
       "2         2.0         0         Display   1  20171001.0            Chrome   \n",
       "3         3.0         0         Display   1  20171001.0  Samsung Internet   \n",
       "4         4.0         0         Display   1  20171001.0            Safari   \n",
       "\n",
       "  device_deviceCategory device_isMobile device_operatingSystem  \\\n",
       "0               desktop           False              Macintosh   \n",
       "1               desktop           False              Macintosh   \n",
       "2                mobile            True                Android   \n",
       "3                mobile            True                Android   \n",
       "4                mobile            True                    iOS   \n",
       "\n",
       "         fullVisitorId  ... trafficSource_medium trafficSource_referralPath  \\\n",
       "0  9460190543836614586  ...               (none)                          /   \n",
       "1  1480173241963500874  ...                  cpc                        NaN   \n",
       "2  2873420789599649821  ...                  cpc                        NaN   \n",
       "3   958777956895332252  ...                  cpc                        NaN   \n",
       "4  3000721821736270436  ...                  cpc                        NaN   \n",
       "\n",
       "  trafficSource_source       visitId visitNumber visitStartTime  \\\n",
       "0             (direct)  1.506841e+09         1.0   1.506841e+09   \n",
       "1               google  1.506841e+09         1.0   1.506841e+09   \n",
       "2               google  1.506841e+09         1.0   1.506841e+09   \n",
       "3               google  1.506841e+09         1.0   1.506841e+09   \n",
       "4               google  1.506841e+09         1.0   1.506841e+09   \n",
       "\n",
       "  order_euros_complete  org_search chrome purchase  \n",
       "0                616.0           0      1        1  \n",
       "1                  0.0           0      1        0  \n",
       "2                  0.0           0      1        0  \n",
       "3                980.0           0      0        1  \n",
       "4                497.0           0      0        1  \n",
       "\n",
       "[5 rows x 84 columns]"
      ]
     },
     "execution_count": 107,
     "metadata": {},
     "output_type": "execute_result"
    }
   ],
   "source": [
    "data.head()"
   ]
  },
  {
   "cell_type": "code",
   "execution_count": 109,
   "metadata": {},
   "outputs": [],
   "source": [
    "data['predicted_purchase_LR'] = clf_lr.predict(data[features])"
   ]
  },
  {
   "cell_type": "code",
   "execution_count": 110,
   "metadata": {},
   "outputs": [
    {
     "data": {
      "text/html": [
       "<div>\n",
       "<style scoped>\n",
       "    .dataframe tbody tr th:only-of-type {\n",
       "        vertical-align: middle;\n",
       "    }\n",
       "\n",
       "    .dataframe tbody tr th {\n",
       "        vertical-align: top;\n",
       "    }\n",
       "\n",
       "    .dataframe thead th {\n",
       "        text-align: right;\n",
       "    }\n",
       "</style>\n",
       "<table border=\"1\" class=\"dataframe\">\n",
       "  <thead>\n",
       "    <tr style=\"text-align: right;\">\n",
       "      <th></th>\n",
       "      <th>Unnamed: 0</th>\n",
       "      <th>affiliate</th>\n",
       "      <th>channelGrouping</th>\n",
       "      <th>cpc</th>\n",
       "      <th>date</th>\n",
       "      <th>device_browser</th>\n",
       "      <th>device_deviceCategory</th>\n",
       "      <th>device_isMobile</th>\n",
       "      <th>device_operatingSystem</th>\n",
       "      <th>fullVisitorId</th>\n",
       "      <th>...</th>\n",
       "      <th>trafficSource_referralPath</th>\n",
       "      <th>trafficSource_source</th>\n",
       "      <th>visitId</th>\n",
       "      <th>visitNumber</th>\n",
       "      <th>visitStartTime</th>\n",
       "      <th>order_euros_complete</th>\n",
       "      <th>org_search</th>\n",
       "      <th>chrome</th>\n",
       "      <th>purchase</th>\n",
       "      <th>predicted_purchase_LR</th>\n",
       "    </tr>\n",
       "  </thead>\n",
       "  <tbody>\n",
       "    <tr>\n",
       "      <th>0</th>\n",
       "      <td>0.0</td>\n",
       "      <td>0</td>\n",
       "      <td>Referral</td>\n",
       "      <td>0</td>\n",
       "      <td>20171001.0</td>\n",
       "      <td>Chrome</td>\n",
       "      <td>desktop</td>\n",
       "      <td>False</td>\n",
       "      <td>Macintosh</td>\n",
       "      <td>9460190543836614586</td>\n",
       "      <td>...</td>\n",
       "      <td>/</td>\n",
       "      <td>(direct)</td>\n",
       "      <td>1.506841e+09</td>\n",
       "      <td>1.0</td>\n",
       "      <td>1.506841e+09</td>\n",
       "      <td>616.0</td>\n",
       "      <td>0</td>\n",
       "      <td>1</td>\n",
       "      <td>1</td>\n",
       "      <td>1</td>\n",
       "    </tr>\n",
       "    <tr>\n",
       "      <th>1</th>\n",
       "      <td>1.0</td>\n",
       "      <td>0</td>\n",
       "      <td>Paid Search</td>\n",
       "      <td>1</td>\n",
       "      <td>20171001.0</td>\n",
       "      <td>Chrome</td>\n",
       "      <td>desktop</td>\n",
       "      <td>False</td>\n",
       "      <td>Macintosh</td>\n",
       "      <td>1480173241963500874</td>\n",
       "      <td>...</td>\n",
       "      <td>NaN</td>\n",
       "      <td>google</td>\n",
       "      <td>1.506841e+09</td>\n",
       "      <td>1.0</td>\n",
       "      <td>1.506841e+09</td>\n",
       "      <td>0.0</td>\n",
       "      <td>0</td>\n",
       "      <td>1</td>\n",
       "      <td>0</td>\n",
       "      <td>1</td>\n",
       "    </tr>\n",
       "    <tr>\n",
       "      <th>2</th>\n",
       "      <td>2.0</td>\n",
       "      <td>0</td>\n",
       "      <td>Display</td>\n",
       "      <td>1</td>\n",
       "      <td>20171001.0</td>\n",
       "      <td>Chrome</td>\n",
       "      <td>mobile</td>\n",
       "      <td>True</td>\n",
       "      <td>Android</td>\n",
       "      <td>2873420789599649821</td>\n",
       "      <td>...</td>\n",
       "      <td>NaN</td>\n",
       "      <td>google</td>\n",
       "      <td>1.506841e+09</td>\n",
       "      <td>1.0</td>\n",
       "      <td>1.506841e+09</td>\n",
       "      <td>0.0</td>\n",
       "      <td>0</td>\n",
       "      <td>1</td>\n",
       "      <td>0</td>\n",
       "      <td>1</td>\n",
       "    </tr>\n",
       "    <tr>\n",
       "      <th>3</th>\n",
       "      <td>3.0</td>\n",
       "      <td>0</td>\n",
       "      <td>Display</td>\n",
       "      <td>1</td>\n",
       "      <td>20171001.0</td>\n",
       "      <td>Samsung Internet</td>\n",
       "      <td>mobile</td>\n",
       "      <td>True</td>\n",
       "      <td>Android</td>\n",
       "      <td>958777956895332252</td>\n",
       "      <td>...</td>\n",
       "      <td>NaN</td>\n",
       "      <td>google</td>\n",
       "      <td>1.506841e+09</td>\n",
       "      <td>1.0</td>\n",
       "      <td>1.506841e+09</td>\n",
       "      <td>980.0</td>\n",
       "      <td>0</td>\n",
       "      <td>0</td>\n",
       "      <td>1</td>\n",
       "      <td>1</td>\n",
       "    </tr>\n",
       "    <tr>\n",
       "      <th>4</th>\n",
       "      <td>4.0</td>\n",
       "      <td>0</td>\n",
       "      <td>Display</td>\n",
       "      <td>1</td>\n",
       "      <td>20171001.0</td>\n",
       "      <td>Safari</td>\n",
       "      <td>mobile</td>\n",
       "      <td>True</td>\n",
       "      <td>iOS</td>\n",
       "      <td>3000721821736270436</td>\n",
       "      <td>...</td>\n",
       "      <td>NaN</td>\n",
       "      <td>google</td>\n",
       "      <td>1.506841e+09</td>\n",
       "      <td>1.0</td>\n",
       "      <td>1.506841e+09</td>\n",
       "      <td>497.0</td>\n",
       "      <td>0</td>\n",
       "      <td>0</td>\n",
       "      <td>1</td>\n",
       "      <td>1</td>\n",
       "    </tr>\n",
       "  </tbody>\n",
       "</table>\n",
       "<p>5 rows × 85 columns</p>\n",
       "</div>"
      ],
      "text/plain": [
       "   Unnamed: 0 affiliate channelGrouping cpc        date    device_browser  \\\n",
       "0         0.0         0        Referral   0  20171001.0            Chrome   \n",
       "1         1.0         0     Paid Search   1  20171001.0            Chrome   \n",
       "2         2.0         0         Display   1  20171001.0            Chrome   \n",
       "3         3.0         0         Display   1  20171001.0  Samsung Internet   \n",
       "4         4.0         0         Display   1  20171001.0            Safari   \n",
       "\n",
       "  device_deviceCategory device_isMobile device_operatingSystem  \\\n",
       "0               desktop           False              Macintosh   \n",
       "1               desktop           False              Macintosh   \n",
       "2                mobile            True                Android   \n",
       "3                mobile            True                Android   \n",
       "4                mobile            True                    iOS   \n",
       "\n",
       "         fullVisitorId  ... trafficSource_referralPath trafficSource_source  \\\n",
       "0  9460190543836614586  ...                          /             (direct)   \n",
       "1  1480173241963500874  ...                        NaN               google   \n",
       "2  2873420789599649821  ...                        NaN               google   \n",
       "3   958777956895332252  ...                        NaN               google   \n",
       "4  3000721821736270436  ...                        NaN               google   \n",
       "\n",
       "        visitId visitNumber visitStartTime order_euros_complete org_search  \\\n",
       "0  1.506841e+09         1.0   1.506841e+09                616.0          0   \n",
       "1  1.506841e+09         1.0   1.506841e+09                  0.0          0   \n",
       "2  1.506841e+09         1.0   1.506841e+09                  0.0          0   \n",
       "3  1.506841e+09         1.0   1.506841e+09                980.0          0   \n",
       "4  1.506841e+09         1.0   1.506841e+09                497.0          0   \n",
       "\n",
       "   chrome purchase predicted_purchase_LR  \n",
       "0       1        1                     1  \n",
       "1       1        0                     1  \n",
       "2       1        0                     1  \n",
       "3       0        1                     1  \n",
       "4       0        1                     1  \n",
       "\n",
       "[5 rows x 85 columns]"
      ]
     },
     "execution_count": 110,
     "metadata": {},
     "output_type": "execute_result"
    }
   ],
   "source": [
    "data.head()"
   ]
  },
  {
   "cell_type": "code",
   "execution_count": 111,
   "metadata": {},
   "outputs": [
    {
     "data": {
      "text/plain": [
       "purchase  predicted_purchase_LR\n",
       "0         1                        15870\n",
       "          0                         7625\n",
       "1         1                        21295\n",
       "          0                         7520\n",
       "Name: predicted_purchase_LR, dtype: int64"
      ]
     },
     "execution_count": 111,
     "metadata": {},
     "output_type": "execute_result"
    }
   ],
   "source": [
    "data.groupby('purchase')['predicted_purchase_LR'].value_counts()"
   ]
  },
  {
   "cell_type": "code",
   "execution_count": 112,
   "metadata": {},
   "outputs": [],
   "source": [
    "from sklearn.naive_bayes import GaussianNB"
   ]
  },
  {
   "cell_type": "code",
   "execution_count": 113,
   "metadata": {},
   "outputs": [],
   "source": [
    "clf_NB = GaussianNB()"
   ]
  },
  {
   "cell_type": "code",
   "execution_count": 114,
   "metadata": {},
   "outputs": [
    {
     "data": {
      "text/plain": [
       "GaussianNB()"
      ]
     },
     "execution_count": 114,
     "metadata": {},
     "output_type": "execute_result"
    }
   ],
   "source": [
    "clf_NB.fit(data[features], data['purchase'])"
   ]
  },
  {
   "cell_type": "code",
   "execution_count": 115,
   "metadata": {},
   "outputs": [],
   "source": [
    "data['predicted_purchase_NB'] = clf_NB.predict(data[features])"
   ]
  },
  {
   "cell_type": "code",
   "execution_count": 116,
   "metadata": {},
   "outputs": [
    {
     "data": {
      "text/html": [
       "<div>\n",
       "<style scoped>\n",
       "    .dataframe tbody tr th:only-of-type {\n",
       "        vertical-align: middle;\n",
       "    }\n",
       "\n",
       "    .dataframe tbody tr th {\n",
       "        vertical-align: top;\n",
       "    }\n",
       "\n",
       "    .dataframe thead th {\n",
       "        text-align: right;\n",
       "    }\n",
       "</style>\n",
       "<table border=\"1\" class=\"dataframe\">\n",
       "  <thead>\n",
       "    <tr style=\"text-align: right;\">\n",
       "      <th></th>\n",
       "      <th>Unnamed: 0</th>\n",
       "      <th>affiliate</th>\n",
       "      <th>channelGrouping</th>\n",
       "      <th>cpc</th>\n",
       "      <th>date</th>\n",
       "      <th>device_browser</th>\n",
       "      <th>device_deviceCategory</th>\n",
       "      <th>device_isMobile</th>\n",
       "      <th>device_operatingSystem</th>\n",
       "      <th>fullVisitorId</th>\n",
       "      <th>...</th>\n",
       "      <th>trafficSource_source</th>\n",
       "      <th>visitId</th>\n",
       "      <th>visitNumber</th>\n",
       "      <th>visitStartTime</th>\n",
       "      <th>order_euros_complete</th>\n",
       "      <th>org_search</th>\n",
       "      <th>chrome</th>\n",
       "      <th>purchase</th>\n",
       "      <th>predicted_purchase_LR</th>\n",
       "      <th>predicted_purchase_NB</th>\n",
       "    </tr>\n",
       "  </thead>\n",
       "  <tbody>\n",
       "    <tr>\n",
       "      <th>0</th>\n",
       "      <td>0.0</td>\n",
       "      <td>0</td>\n",
       "      <td>Referral</td>\n",
       "      <td>0</td>\n",
       "      <td>20171001.0</td>\n",
       "      <td>Chrome</td>\n",
       "      <td>desktop</td>\n",
       "      <td>False</td>\n",
       "      <td>Macintosh</td>\n",
       "      <td>9460190543836614586</td>\n",
       "      <td>...</td>\n",
       "      <td>(direct)</td>\n",
       "      <td>1.506841e+09</td>\n",
       "      <td>1.0</td>\n",
       "      <td>1.506841e+09</td>\n",
       "      <td>616.0</td>\n",
       "      <td>0</td>\n",
       "      <td>1</td>\n",
       "      <td>1</td>\n",
       "      <td>1</td>\n",
       "      <td>1</td>\n",
       "    </tr>\n",
       "    <tr>\n",
       "      <th>1</th>\n",
       "      <td>1.0</td>\n",
       "      <td>0</td>\n",
       "      <td>Paid Search</td>\n",
       "      <td>1</td>\n",
       "      <td>20171001.0</td>\n",
       "      <td>Chrome</td>\n",
       "      <td>desktop</td>\n",
       "      <td>False</td>\n",
       "      <td>Macintosh</td>\n",
       "      <td>1480173241963500874</td>\n",
       "      <td>...</td>\n",
       "      <td>google</td>\n",
       "      <td>1.506841e+09</td>\n",
       "      <td>1.0</td>\n",
       "      <td>1.506841e+09</td>\n",
       "      <td>0.0</td>\n",
       "      <td>0</td>\n",
       "      <td>1</td>\n",
       "      <td>0</td>\n",
       "      <td>1</td>\n",
       "      <td>1</td>\n",
       "    </tr>\n",
       "    <tr>\n",
       "      <th>2</th>\n",
       "      <td>2.0</td>\n",
       "      <td>0</td>\n",
       "      <td>Display</td>\n",
       "      <td>1</td>\n",
       "      <td>20171001.0</td>\n",
       "      <td>Chrome</td>\n",
       "      <td>mobile</td>\n",
       "      <td>True</td>\n",
       "      <td>Android</td>\n",
       "      <td>2873420789599649821</td>\n",
       "      <td>...</td>\n",
       "      <td>google</td>\n",
       "      <td>1.506841e+09</td>\n",
       "      <td>1.0</td>\n",
       "      <td>1.506841e+09</td>\n",
       "      <td>0.0</td>\n",
       "      <td>0</td>\n",
       "      <td>1</td>\n",
       "      <td>0</td>\n",
       "      <td>1</td>\n",
       "      <td>1</td>\n",
       "    </tr>\n",
       "    <tr>\n",
       "      <th>3</th>\n",
       "      <td>3.0</td>\n",
       "      <td>0</td>\n",
       "      <td>Display</td>\n",
       "      <td>1</td>\n",
       "      <td>20171001.0</td>\n",
       "      <td>Samsung Internet</td>\n",
       "      <td>mobile</td>\n",
       "      <td>True</td>\n",
       "      <td>Android</td>\n",
       "      <td>958777956895332252</td>\n",
       "      <td>...</td>\n",
       "      <td>google</td>\n",
       "      <td>1.506841e+09</td>\n",
       "      <td>1.0</td>\n",
       "      <td>1.506841e+09</td>\n",
       "      <td>980.0</td>\n",
       "      <td>0</td>\n",
       "      <td>0</td>\n",
       "      <td>1</td>\n",
       "      <td>1</td>\n",
       "      <td>1</td>\n",
       "    </tr>\n",
       "    <tr>\n",
       "      <th>4</th>\n",
       "      <td>4.0</td>\n",
       "      <td>0</td>\n",
       "      <td>Display</td>\n",
       "      <td>1</td>\n",
       "      <td>20171001.0</td>\n",
       "      <td>Safari</td>\n",
       "      <td>mobile</td>\n",
       "      <td>True</td>\n",
       "      <td>iOS</td>\n",
       "      <td>3000721821736270436</td>\n",
       "      <td>...</td>\n",
       "      <td>google</td>\n",
       "      <td>1.506841e+09</td>\n",
       "      <td>1.0</td>\n",
       "      <td>1.506841e+09</td>\n",
       "      <td>497.0</td>\n",
       "      <td>0</td>\n",
       "      <td>0</td>\n",
       "      <td>1</td>\n",
       "      <td>1</td>\n",
       "      <td>1</td>\n",
       "    </tr>\n",
       "  </tbody>\n",
       "</table>\n",
       "<p>5 rows × 86 columns</p>\n",
       "</div>"
      ],
      "text/plain": [
       "   Unnamed: 0 affiliate channelGrouping cpc        date    device_browser  \\\n",
       "0         0.0         0        Referral   0  20171001.0            Chrome   \n",
       "1         1.0         0     Paid Search   1  20171001.0            Chrome   \n",
       "2         2.0         0         Display   1  20171001.0            Chrome   \n",
       "3         3.0         0         Display   1  20171001.0  Samsung Internet   \n",
       "4         4.0         0         Display   1  20171001.0            Safari   \n",
       "\n",
       "  device_deviceCategory device_isMobile device_operatingSystem  \\\n",
       "0               desktop           False              Macintosh   \n",
       "1               desktop           False              Macintosh   \n",
       "2                mobile            True                Android   \n",
       "3                mobile            True                Android   \n",
       "4                mobile            True                    iOS   \n",
       "\n",
       "         fullVisitorId  ... trafficSource_source       visitId visitNumber  \\\n",
       "0  9460190543836614586  ...             (direct)  1.506841e+09         1.0   \n",
       "1  1480173241963500874  ...               google  1.506841e+09         1.0   \n",
       "2  2873420789599649821  ...               google  1.506841e+09         1.0   \n",
       "3   958777956895332252  ...               google  1.506841e+09         1.0   \n",
       "4  3000721821736270436  ...               google  1.506841e+09         1.0   \n",
       "\n",
       "  visitStartTime order_euros_complete org_search chrome  purchase  \\\n",
       "0   1.506841e+09                616.0          0      1         1   \n",
       "1   1.506841e+09                  0.0          0      1         0   \n",
       "2   1.506841e+09                  0.0          0      1         0   \n",
       "3   1.506841e+09                980.0          0      0         1   \n",
       "4   1.506841e+09                497.0          0      0         1   \n",
       "\n",
       "  predicted_purchase_LR predicted_purchase_NB  \n",
       "0                     1                     1  \n",
       "1                     1                     1  \n",
       "2                     1                     1  \n",
       "3                     1                     1  \n",
       "4                     1                     1  \n",
       "\n",
       "[5 rows x 86 columns]"
      ]
     },
     "execution_count": 116,
     "metadata": {},
     "output_type": "execute_result"
    }
   ],
   "source": [
    "data.head()"
   ]
  },
  {
   "cell_type": "code",
   "execution_count": 117,
   "metadata": {},
   "outputs": [
    {
     "data": {
      "text/plain": [
       "purchase  predicted_purchase_NB\n",
       "0         1                        15870\n",
       "          0                         7625\n",
       "1         1                        21295\n",
       "          0                         7520\n",
       "Name: predicted_purchase_NB, dtype: int64"
      ]
     },
     "execution_count": 117,
     "metadata": {},
     "output_type": "execute_result"
    }
   ],
   "source": [
    "data.groupby('purchase')['predicted_purchase_NB'].value_counts()"
   ]
  },
  {
   "cell_type": "code",
   "execution_count": 118,
   "metadata": {},
   "outputs": [],
   "source": [
    "from sklearn.neighbors import KNeighborsClassifier"
   ]
  },
  {
   "cell_type": "code",
   "execution_count": 119,
   "metadata": {},
   "outputs": [],
   "source": [
    "clf_KNN = KNeighborsClassifier(n_neighbors=3)"
   ]
  },
  {
   "cell_type": "code",
   "execution_count": 120,
   "metadata": {},
   "outputs": [
    {
     "data": {
      "text/plain": [
       "KNeighborsClassifier(n_neighbors=3)"
      ]
     },
     "execution_count": 120,
     "metadata": {},
     "output_type": "execute_result"
    }
   ],
   "source": [
    "clf_KNN.fit(data[features], data['purchase'])"
   ]
  },
  {
   "cell_type": "code",
   "execution_count": 121,
   "metadata": {},
   "outputs": [],
   "source": [
    "data['predicted_purchase_KNN'] = clf_KNN.predict(data[features])"
   ]
  },
  {
   "cell_type": "code",
   "execution_count": 122,
   "metadata": {},
   "outputs": [
    {
     "data": {
      "text/plain": [
       "purchase  predicted_purchase_KNN\n",
       "0         1                         19675\n",
       "          0                          3820\n",
       "1         1                         24999\n",
       "          0                          3816\n",
       "Name: predicted_purchase_KNN, dtype: int64"
      ]
     },
     "execution_count": 122,
     "metadata": {},
     "output_type": "execute_result"
    }
   ],
   "source": [
    "data.groupby('purchase')['predicted_purchase_KNN'].value_counts()"
   ]
  },
  {
   "cell_type": "markdown",
   "metadata": {},
   "source": [
    "* Training set ~ 80% (if you only have a test set) or 60% (if you also have a validation set)\n",
    "* Test set 20%\n",
    "* Validation set (if available) 20%"
   ]
  },
  {
   "cell_type": "code",
   "execution_count": 123,
   "metadata": {},
   "outputs": [],
   "source": [
    "from sklearn.model_selection import train_test_split"
   ]
  },
  {
   "cell_type": "code",
   "execution_count": 124,
   "metadata": {},
   "outputs": [],
   "source": [
    "train, test = train_test_split(data, test_size=0.2, random_state=42)"
   ]
  },
  {
   "cell_type": "code",
   "execution_count": 125,
   "metadata": {},
   "outputs": [
    {
     "data": {
      "text/html": [
       "<div>\n",
       "<style scoped>\n",
       "    .dataframe tbody tr th:only-of-type {\n",
       "        vertical-align: middle;\n",
       "    }\n",
       "\n",
       "    .dataframe tbody tr th {\n",
       "        vertical-align: top;\n",
       "    }\n",
       "\n",
       "    .dataframe thead th {\n",
       "        text-align: right;\n",
       "    }\n",
       "</style>\n",
       "<table border=\"1\" class=\"dataframe\">\n",
       "  <thead>\n",
       "    <tr style=\"text-align: right;\">\n",
       "      <th></th>\n",
       "      <th>Unnamed: 0</th>\n",
       "      <th>affiliate</th>\n",
       "      <th>channelGrouping</th>\n",
       "      <th>cpc</th>\n",
       "      <th>date</th>\n",
       "      <th>device_browser</th>\n",
       "      <th>device_deviceCategory</th>\n",
       "      <th>device_isMobile</th>\n",
       "      <th>device_operatingSystem</th>\n",
       "      <th>fullVisitorId</th>\n",
       "      <th>...</th>\n",
       "      <th>visitId</th>\n",
       "      <th>visitNumber</th>\n",
       "      <th>visitStartTime</th>\n",
       "      <th>order_euros_complete</th>\n",
       "      <th>org_search</th>\n",
       "      <th>chrome</th>\n",
       "      <th>purchase</th>\n",
       "      <th>predicted_purchase_LR</th>\n",
       "      <th>predicted_purchase_NB</th>\n",
       "      <th>predicted_purchase_KNN</th>\n",
       "    </tr>\n",
       "  </thead>\n",
       "  <tbody>\n",
       "    <tr>\n",
       "      <th>12044</th>\n",
       "      <td>12044.0</td>\n",
       "      <td>0</td>\n",
       "      <td>Display</td>\n",
       "      <td>1</td>\n",
       "      <td>20171004.0</td>\n",
       "      <td>Chrome</td>\n",
       "      <td>mobile</td>\n",
       "      <td>True</td>\n",
       "      <td>Android</td>\n",
       "      <td>399270061740611406</td>\n",
       "      <td>...</td>\n",
       "      <td>1.507139e+09</td>\n",
       "      <td>2.0</td>\n",
       "      <td>1.507139e+09</td>\n",
       "      <td>971.0</td>\n",
       "      <td>0</td>\n",
       "      <td>1</td>\n",
       "      <td>1</td>\n",
       "      <td>1</td>\n",
       "      <td>1</td>\n",
       "      <td>1</td>\n",
       "    </tr>\n",
       "    <tr>\n",
       "      <th>32928</th>\n",
       "      <td>32927.0</td>\n",
       "      <td>0</td>\n",
       "      <td>Referral</td>\n",
       "      <td>0</td>\n",
       "      <td>20171009.0</td>\n",
       "      <td>Chrome</td>\n",
       "      <td>desktop</td>\n",
       "      <td>False</td>\n",
       "      <td>Linux</td>\n",
       "      <td>2283180547029955203</td>\n",
       "      <td>...</td>\n",
       "      <td>1.507573e+09</td>\n",
       "      <td>1.0</td>\n",
       "      <td>1.507573e+09</td>\n",
       "      <td>0.0</td>\n",
       "      <td>0</td>\n",
       "      <td>1</td>\n",
       "      <td>0</td>\n",
       "      <td>1</td>\n",
       "      <td>1</td>\n",
       "      <td>1</td>\n",
       "    </tr>\n",
       "    <tr>\n",
       "      <th>46083</th>\n",
       "      <td>46082.0</td>\n",
       "      <td>0</td>\n",
       "      <td>Social</td>\n",
       "      <td>0</td>\n",
       "      <td>20171013.0</td>\n",
       "      <td>Chrome</td>\n",
       "      <td>desktop</td>\n",
       "      <td>False</td>\n",
       "      <td>Windows</td>\n",
       "      <td>7946255075327832830</td>\n",
       "      <td>...</td>\n",
       "      <td>1.507909e+09</td>\n",
       "      <td>1.0</td>\n",
       "      <td>1.507909e+09</td>\n",
       "      <td>0.0</td>\n",
       "      <td>0</td>\n",
       "      <td>1</td>\n",
       "      <td>0</td>\n",
       "      <td>1</td>\n",
       "      <td>1</td>\n",
       "      <td>1</td>\n",
       "    </tr>\n",
       "    <tr>\n",
       "      <th>51064</th>\n",
       "      <td>51062.0</td>\n",
       "      <td>0</td>\n",
       "      <td>Organic Search</td>\n",
       "      <td>0</td>\n",
       "      <td>20171015.0</td>\n",
       "      <td>Chrome</td>\n",
       "      <td>desktop</td>\n",
       "      <td>False</td>\n",
       "      <td>Linux</td>\n",
       "      <td>7096084199090126291</td>\n",
       "      <td>...</td>\n",
       "      <td>1.508088e+09</td>\n",
       "      <td>1.0</td>\n",
       "      <td>1.508088e+09</td>\n",
       "      <td>182.0</td>\n",
       "      <td>1</td>\n",
       "      <td>1</td>\n",
       "      <td>1</td>\n",
       "      <td>0</td>\n",
       "      <td>0</td>\n",
       "      <td>1</td>\n",
       "    </tr>\n",
       "    <tr>\n",
       "      <th>25127</th>\n",
       "      <td>25127.0</td>\n",
       "      <td>0</td>\n",
       "      <td>Referral</td>\n",
       "      <td>0</td>\n",
       "      <td>20171007.0</td>\n",
       "      <td>Chrome</td>\n",
       "      <td>desktop</td>\n",
       "      <td>False</td>\n",
       "      <td>Windows</td>\n",
       "      <td>7.67655e+18</td>\n",
       "      <td>...</td>\n",
       "      <td>1.507392e+09</td>\n",
       "      <td>1.0</td>\n",
       "      <td>1.507392e+09</td>\n",
       "      <td>0.0</td>\n",
       "      <td>0</td>\n",
       "      <td>1</td>\n",
       "      <td>0</td>\n",
       "      <td>1</td>\n",
       "      <td>1</td>\n",
       "      <td>1</td>\n",
       "    </tr>\n",
       "  </tbody>\n",
       "</table>\n",
       "<p>5 rows × 87 columns</p>\n",
       "</div>"
      ],
      "text/plain": [
       "       Unnamed: 0 affiliate channelGrouping cpc        date device_browser  \\\n",
       "12044     12044.0         0         Display   1  20171004.0         Chrome   \n",
       "32928     32927.0         0        Referral   0  20171009.0         Chrome   \n",
       "46083     46082.0         0          Social   0  20171013.0         Chrome   \n",
       "51064     51062.0         0  Organic Search   0  20171015.0         Chrome   \n",
       "25127     25127.0         0        Referral   0  20171007.0         Chrome   \n",
       "\n",
       "      device_deviceCategory device_isMobile device_operatingSystem  \\\n",
       "12044                mobile            True                Android   \n",
       "32928               desktop           False                  Linux   \n",
       "46083               desktop           False                Windows   \n",
       "51064               desktop           False                  Linux   \n",
       "25127               desktop           False                Windows   \n",
       "\n",
       "             fullVisitorId  ...       visitId visitNumber visitStartTime  \\\n",
       "12044   399270061740611406  ...  1.507139e+09         2.0   1.507139e+09   \n",
       "32928  2283180547029955203  ...  1.507573e+09         1.0   1.507573e+09   \n",
       "46083  7946255075327832830  ...  1.507909e+09         1.0   1.507909e+09   \n",
       "51064  7096084199090126291  ...  1.508088e+09         1.0   1.508088e+09   \n",
       "25127          7.67655e+18  ...  1.507392e+09         1.0   1.507392e+09   \n",
       "\n",
       "      order_euros_complete org_search chrome purchase  predicted_purchase_LR  \\\n",
       "12044                971.0          0      1        1                      1   \n",
       "32928                  0.0          0      1        0                      1   \n",
       "46083                  0.0          0      1        0                      1   \n",
       "51064                182.0          1      1        1                      0   \n",
       "25127                  0.0          0      1        0                      1   \n",
       "\n",
       "      predicted_purchase_NB predicted_purchase_KNN  \n",
       "12044                     1                      1  \n",
       "32928                     1                      1  \n",
       "46083                     1                      1  \n",
       "51064                     0                      1  \n",
       "25127                     1                      1  \n",
       "\n",
       "[5 rows x 87 columns]"
      ]
     },
     "execution_count": 125,
     "metadata": {},
     "output_type": "execute_result"
    }
   ],
   "source": [
    "train.head()"
   ]
  },
  {
   "cell_type": "code",
   "execution_count": 126,
   "metadata": {},
   "outputs": [
    {
     "data": {
      "text/html": [
       "<div>\n",
       "<style scoped>\n",
       "    .dataframe tbody tr th:only-of-type {\n",
       "        vertical-align: middle;\n",
       "    }\n",
       "\n",
       "    .dataframe tbody tr th {\n",
       "        vertical-align: top;\n",
       "    }\n",
       "\n",
       "    .dataframe thead th {\n",
       "        text-align: right;\n",
       "    }\n",
       "</style>\n",
       "<table border=\"1\" class=\"dataframe\">\n",
       "  <thead>\n",
       "    <tr style=\"text-align: right;\">\n",
       "      <th></th>\n",
       "      <th>Unnamed: 0</th>\n",
       "      <th>affiliate</th>\n",
       "      <th>channelGrouping</th>\n",
       "      <th>cpc</th>\n",
       "      <th>date</th>\n",
       "      <th>device_browser</th>\n",
       "      <th>device_deviceCategory</th>\n",
       "      <th>device_isMobile</th>\n",
       "      <th>device_operatingSystem</th>\n",
       "      <th>fullVisitorId</th>\n",
       "      <th>...</th>\n",
       "      <th>visitId</th>\n",
       "      <th>visitNumber</th>\n",
       "      <th>visitStartTime</th>\n",
       "      <th>order_euros_complete</th>\n",
       "      <th>org_search</th>\n",
       "      <th>chrome</th>\n",
       "      <th>purchase</th>\n",
       "      <th>predicted_purchase_LR</th>\n",
       "      <th>predicted_purchase_NB</th>\n",
       "      <th>predicted_purchase_KNN</th>\n",
       "    </tr>\n",
       "  </thead>\n",
       "  <tbody>\n",
       "    <tr>\n",
       "      <th>36548</th>\n",
       "      <td>36547.0</td>\n",
       "      <td>0</td>\n",
       "      <td>Organic Search</td>\n",
       "      <td>0</td>\n",
       "      <td>20171010.0</td>\n",
       "      <td>Chrome</td>\n",
       "      <td>desktop</td>\n",
       "      <td>False</td>\n",
       "      <td>Macintosh</td>\n",
       "      <td>457810557350214392</td>\n",
       "      <td>...</td>\n",
       "      <td>1.507651e+09</td>\n",
       "      <td>1.0</td>\n",
       "      <td>1.507651e+09</td>\n",
       "      <td>132.0</td>\n",
       "      <td>1</td>\n",
       "      <td>1</td>\n",
       "      <td>1</td>\n",
       "      <td>0</td>\n",
       "      <td>0</td>\n",
       "      <td>1</td>\n",
       "    </tr>\n",
       "    <tr>\n",
       "      <th>26376</th>\n",
       "      <td>26376.0</td>\n",
       "      <td>0</td>\n",
       "      <td>Display</td>\n",
       "      <td>1</td>\n",
       "      <td>20171007.0</td>\n",
       "      <td>Chrome</td>\n",
       "      <td>mobile</td>\n",
       "      <td>True</td>\n",
       "      <td>Android</td>\n",
       "      <td>1.12241e+18</td>\n",
       "      <td>...</td>\n",
       "      <td>1.507419e+09</td>\n",
       "      <td>1.0</td>\n",
       "      <td>1.507419e+09</td>\n",
       "      <td>0.0</td>\n",
       "      <td>0</td>\n",
       "      <td>1</td>\n",
       "      <td>0</td>\n",
       "      <td>1</td>\n",
       "      <td>1</td>\n",
       "      <td>1</td>\n",
       "    </tr>\n",
       "    <tr>\n",
       "      <th>21940</th>\n",
       "      <td>21940.0</td>\n",
       "      <td>0</td>\n",
       "      <td>Organic Search</td>\n",
       "      <td>0</td>\n",
       "      <td>20171006.0</td>\n",
       "      <td>Chrome</td>\n",
       "      <td>desktop</td>\n",
       "      <td>False</td>\n",
       "      <td>Macintosh</td>\n",
       "      <td>5963631948501878610</td>\n",
       "      <td>...</td>\n",
       "      <td>1.507316e+09</td>\n",
       "      <td>1.0</td>\n",
       "      <td>1.507316e+09</td>\n",
       "      <td>154.0</td>\n",
       "      <td>1</td>\n",
       "      <td>1</td>\n",
       "      <td>1</td>\n",
       "      <td>0</td>\n",
       "      <td>0</td>\n",
       "      <td>1</td>\n",
       "    </tr>\n",
       "    <tr>\n",
       "      <th>8907</th>\n",
       "      <td>8907.0</td>\n",
       "      <td>0</td>\n",
       "      <td>Organic Search</td>\n",
       "      <td>0</td>\n",
       "      <td>20171003.0</td>\n",
       "      <td>Chrome</td>\n",
       "      <td>mobile</td>\n",
       "      <td>True</td>\n",
       "      <td>Android</td>\n",
       "      <td>233830236249633791</td>\n",
       "      <td>...</td>\n",
       "      <td>1.507068e+09</td>\n",
       "      <td>1.0</td>\n",
       "      <td>1.507068e+09</td>\n",
       "      <td>0.0</td>\n",
       "      <td>1</td>\n",
       "      <td>1</td>\n",
       "      <td>0</td>\n",
       "      <td>0</td>\n",
       "      <td>0</td>\n",
       "      <td>1</td>\n",
       "    </tr>\n",
       "    <tr>\n",
       "      <th>36441</th>\n",
       "      <td>36440.0</td>\n",
       "      <td>0</td>\n",
       "      <td>Organic Search</td>\n",
       "      <td>0</td>\n",
       "      <td>20171010.0</td>\n",
       "      <td>Chrome</td>\n",
       "      <td>desktop</td>\n",
       "      <td>False</td>\n",
       "      <td>Windows</td>\n",
       "      <td>24264360175766929</td>\n",
       "      <td>...</td>\n",
       "      <td>1.507649e+09</td>\n",
       "      <td>1.0</td>\n",
       "      <td>1.507649e+09</td>\n",
       "      <td>1.0</td>\n",
       "      <td>1</td>\n",
       "      <td>1</td>\n",
       "      <td>1</td>\n",
       "      <td>0</td>\n",
       "      <td>0</td>\n",
       "      <td>1</td>\n",
       "    </tr>\n",
       "  </tbody>\n",
       "</table>\n",
       "<p>5 rows × 87 columns</p>\n",
       "</div>"
      ],
      "text/plain": [
       "       Unnamed: 0 affiliate channelGrouping cpc        date device_browser  \\\n",
       "36548     36547.0         0  Organic Search   0  20171010.0         Chrome   \n",
       "26376     26376.0         0         Display   1  20171007.0         Chrome   \n",
       "21940     21940.0         0  Organic Search   0  20171006.0         Chrome   \n",
       "8907       8907.0         0  Organic Search   0  20171003.0         Chrome   \n",
       "36441     36440.0         0  Organic Search   0  20171010.0         Chrome   \n",
       "\n",
       "      device_deviceCategory device_isMobile device_operatingSystem  \\\n",
       "36548               desktop           False              Macintosh   \n",
       "26376                mobile            True                Android   \n",
       "21940               desktop           False              Macintosh   \n",
       "8907                 mobile            True                Android   \n",
       "36441               desktop           False                Windows   \n",
       "\n",
       "             fullVisitorId  ...       visitId visitNumber visitStartTime  \\\n",
       "36548   457810557350214392  ...  1.507651e+09         1.0   1.507651e+09   \n",
       "26376          1.12241e+18  ...  1.507419e+09         1.0   1.507419e+09   \n",
       "21940  5963631948501878610  ...  1.507316e+09         1.0   1.507316e+09   \n",
       "8907    233830236249633791  ...  1.507068e+09         1.0   1.507068e+09   \n",
       "36441    24264360175766929  ...  1.507649e+09         1.0   1.507649e+09   \n",
       "\n",
       "      order_euros_complete org_search chrome purchase  predicted_purchase_LR  \\\n",
       "36548                132.0          1      1        1                      0   \n",
       "26376                  0.0          0      1        0                      1   \n",
       "21940                154.0          1      1        1                      0   \n",
       "8907                   0.0          1      1        0                      0   \n",
       "36441                  1.0          1      1        1                      0   \n",
       "\n",
       "      predicted_purchase_NB predicted_purchase_KNN  \n",
       "36548                     0                      1  \n",
       "26376                     1                      1  \n",
       "21940                     0                      1  \n",
       "8907                      0                      1  \n",
       "36441                     0                      1  \n",
       "\n",
       "[5 rows x 87 columns]"
      ]
     },
     "execution_count": 126,
     "metadata": {},
     "output_type": "execute_result"
    }
   ],
   "source": [
    "test.head()"
   ]
  },
  {
   "cell_type": "code",
   "execution_count": 128,
   "metadata": {},
   "outputs": [
    {
     "data": {
      "text/plain": [
       "(41848, 10462, 52310, 52310)"
      ]
     },
     "execution_count": 128,
     "metadata": {},
     "output_type": "execute_result"
    }
   ],
   "source": [
    "len(train), len(test), len(train)+len(test), len(data)"
   ]
  },
  {
   "cell_type": "code",
   "execution_count": 129,
   "metadata": {},
   "outputs": [],
   "source": [
    "clf_lr_test = LogisticRegression(random_state=0)"
   ]
  },
  {
   "cell_type": "code",
   "execution_count": 130,
   "metadata": {},
   "outputs": [
    {
     "data": {
      "text/plain": [
       "LogisticRegression(random_state=0)"
      ]
     },
     "execution_count": 130,
     "metadata": {},
     "output_type": "execute_result"
    }
   ],
   "source": [
    "clf_lr_test.fit(train[features], train['purchase'])"
   ]
  },
  {
   "cell_type": "code",
   "execution_count": 131,
   "metadata": {},
   "outputs": [
    {
     "name": "stderr",
     "output_type": "stream",
     "text": [
      "<ipython-input-131-e8986de81e8a>:1: SettingWithCopyWarning: \n",
      "A value is trying to be set on a copy of a slice from a DataFrame.\n",
      "Try using .loc[row_indexer,col_indexer] = value instead\n",
      "\n",
      "See the caveats in the documentation: https://pandas.pydata.org/pandas-docs/stable/user_guide/indexing.html#returning-a-view-versus-a-copy\n",
      "  test['predicted_purchase_LR_test'] = clf_lr_test.predict(test[features])\n"
     ]
    }
   ],
   "source": [
    "test['predicted_purchase_LR_test'] = clf_lr_test.predict(test[features])"
   ]
  },
  {
   "cell_type": "code",
   "execution_count": 132,
   "metadata": {},
   "outputs": [],
   "source": [
    "clf_KNN_test = KNeighborsClassifier(n_neighbors=3)"
   ]
  },
  {
   "cell_type": "code",
   "execution_count": 133,
   "metadata": {},
   "outputs": [
    {
     "data": {
      "text/plain": [
       "KNeighborsClassifier(n_neighbors=3)"
      ]
     },
     "execution_count": 133,
     "metadata": {},
     "output_type": "execute_result"
    }
   ],
   "source": [
    "clf_KNN_test.fit(train[features], train['purchase'])"
   ]
  },
  {
   "cell_type": "code",
   "execution_count": 134,
   "metadata": {},
   "outputs": [
    {
     "name": "stderr",
     "output_type": "stream",
     "text": [
      "<ipython-input-134-46243d428576>:1: SettingWithCopyWarning: \n",
      "A value is trying to be set on a copy of a slice from a DataFrame.\n",
      "Try using .loc[row_indexer,col_indexer] = value instead\n",
      "\n",
      "See the caveats in the documentation: https://pandas.pydata.org/pandas-docs/stable/user_guide/indexing.html#returning-a-view-versus-a-copy\n",
      "  test['predicted_purchase_KNN_test'] = clf_KNN.predict(test[features])\n"
     ]
    }
   ],
   "source": [
    "test['predicted_purchase_KNN_test'] = clf_KNN.predict(test[features])"
   ]
  },
  {
   "cell_type": "code",
   "execution_count": 135,
   "metadata": {},
   "outputs": [
    {
     "data": {
      "text/html": [
       "<div>\n",
       "<style scoped>\n",
       "    .dataframe tbody tr th:only-of-type {\n",
       "        vertical-align: middle;\n",
       "    }\n",
       "\n",
       "    .dataframe tbody tr th {\n",
       "        vertical-align: top;\n",
       "    }\n",
       "\n",
       "    .dataframe thead th {\n",
       "        text-align: right;\n",
       "    }\n",
       "</style>\n",
       "<table border=\"1\" class=\"dataframe\">\n",
       "  <thead>\n",
       "    <tr style=\"text-align: right;\">\n",
       "      <th></th>\n",
       "      <th>Unnamed: 0</th>\n",
       "      <th>affiliate</th>\n",
       "      <th>channelGrouping</th>\n",
       "      <th>cpc</th>\n",
       "      <th>date</th>\n",
       "      <th>device_browser</th>\n",
       "      <th>device_deviceCategory</th>\n",
       "      <th>device_isMobile</th>\n",
       "      <th>device_operatingSystem</th>\n",
       "      <th>fullVisitorId</th>\n",
       "      <th>...</th>\n",
       "      <th>visitStartTime</th>\n",
       "      <th>order_euros_complete</th>\n",
       "      <th>org_search</th>\n",
       "      <th>chrome</th>\n",
       "      <th>purchase</th>\n",
       "      <th>predicted_purchase_LR</th>\n",
       "      <th>predicted_purchase_NB</th>\n",
       "      <th>predicted_purchase_KNN</th>\n",
       "      <th>predicted_purchase_LR_test</th>\n",
       "      <th>predicted_purchase_KNN_test</th>\n",
       "    </tr>\n",
       "  </thead>\n",
       "  <tbody>\n",
       "    <tr>\n",
       "      <th>36548</th>\n",
       "      <td>36547.0</td>\n",
       "      <td>0</td>\n",
       "      <td>Organic Search</td>\n",
       "      <td>0</td>\n",
       "      <td>20171010.0</td>\n",
       "      <td>Chrome</td>\n",
       "      <td>desktop</td>\n",
       "      <td>False</td>\n",
       "      <td>Macintosh</td>\n",
       "      <td>457810557350214392</td>\n",
       "      <td>...</td>\n",
       "      <td>1.507651e+09</td>\n",
       "      <td>132.0</td>\n",
       "      <td>1</td>\n",
       "      <td>1</td>\n",
       "      <td>1</td>\n",
       "      <td>0</td>\n",
       "      <td>0</td>\n",
       "      <td>1</td>\n",
       "      <td>0</td>\n",
       "      <td>1</td>\n",
       "    </tr>\n",
       "    <tr>\n",
       "      <th>26376</th>\n",
       "      <td>26376.0</td>\n",
       "      <td>0</td>\n",
       "      <td>Display</td>\n",
       "      <td>1</td>\n",
       "      <td>20171007.0</td>\n",
       "      <td>Chrome</td>\n",
       "      <td>mobile</td>\n",
       "      <td>True</td>\n",
       "      <td>Android</td>\n",
       "      <td>1.12241e+18</td>\n",
       "      <td>...</td>\n",
       "      <td>1.507419e+09</td>\n",
       "      <td>0.0</td>\n",
       "      <td>0</td>\n",
       "      <td>1</td>\n",
       "      <td>0</td>\n",
       "      <td>1</td>\n",
       "      <td>1</td>\n",
       "      <td>1</td>\n",
       "      <td>1</td>\n",
       "      <td>1</td>\n",
       "    </tr>\n",
       "    <tr>\n",
       "      <th>21940</th>\n",
       "      <td>21940.0</td>\n",
       "      <td>0</td>\n",
       "      <td>Organic Search</td>\n",
       "      <td>0</td>\n",
       "      <td>20171006.0</td>\n",
       "      <td>Chrome</td>\n",
       "      <td>desktop</td>\n",
       "      <td>False</td>\n",
       "      <td>Macintosh</td>\n",
       "      <td>5963631948501878610</td>\n",
       "      <td>...</td>\n",
       "      <td>1.507316e+09</td>\n",
       "      <td>154.0</td>\n",
       "      <td>1</td>\n",
       "      <td>1</td>\n",
       "      <td>1</td>\n",
       "      <td>0</td>\n",
       "      <td>0</td>\n",
       "      <td>1</td>\n",
       "      <td>0</td>\n",
       "      <td>1</td>\n",
       "    </tr>\n",
       "    <tr>\n",
       "      <th>8907</th>\n",
       "      <td>8907.0</td>\n",
       "      <td>0</td>\n",
       "      <td>Organic Search</td>\n",
       "      <td>0</td>\n",
       "      <td>20171003.0</td>\n",
       "      <td>Chrome</td>\n",
       "      <td>mobile</td>\n",
       "      <td>True</td>\n",
       "      <td>Android</td>\n",
       "      <td>233830236249633791</td>\n",
       "      <td>...</td>\n",
       "      <td>1.507068e+09</td>\n",
       "      <td>0.0</td>\n",
       "      <td>1</td>\n",
       "      <td>1</td>\n",
       "      <td>0</td>\n",
       "      <td>0</td>\n",
       "      <td>0</td>\n",
       "      <td>1</td>\n",
       "      <td>0</td>\n",
       "      <td>1</td>\n",
       "    </tr>\n",
       "    <tr>\n",
       "      <th>36441</th>\n",
       "      <td>36440.0</td>\n",
       "      <td>0</td>\n",
       "      <td>Organic Search</td>\n",
       "      <td>0</td>\n",
       "      <td>20171010.0</td>\n",
       "      <td>Chrome</td>\n",
       "      <td>desktop</td>\n",
       "      <td>False</td>\n",
       "      <td>Windows</td>\n",
       "      <td>24264360175766929</td>\n",
       "      <td>...</td>\n",
       "      <td>1.507649e+09</td>\n",
       "      <td>1.0</td>\n",
       "      <td>1</td>\n",
       "      <td>1</td>\n",
       "      <td>1</td>\n",
       "      <td>0</td>\n",
       "      <td>0</td>\n",
       "      <td>1</td>\n",
       "      <td>0</td>\n",
       "      <td>1</td>\n",
       "    </tr>\n",
       "  </tbody>\n",
       "</table>\n",
       "<p>5 rows × 89 columns</p>\n",
       "</div>"
      ],
      "text/plain": [
       "       Unnamed: 0 affiliate channelGrouping cpc        date device_browser  \\\n",
       "36548     36547.0         0  Organic Search   0  20171010.0         Chrome   \n",
       "26376     26376.0         0         Display   1  20171007.0         Chrome   \n",
       "21940     21940.0         0  Organic Search   0  20171006.0         Chrome   \n",
       "8907       8907.0         0  Organic Search   0  20171003.0         Chrome   \n",
       "36441     36440.0         0  Organic Search   0  20171010.0         Chrome   \n",
       "\n",
       "      device_deviceCategory device_isMobile device_operatingSystem  \\\n",
       "36548               desktop           False              Macintosh   \n",
       "26376                mobile            True                Android   \n",
       "21940               desktop           False              Macintosh   \n",
       "8907                 mobile            True                Android   \n",
       "36441               desktop           False                Windows   \n",
       "\n",
       "             fullVisitorId  ... visitStartTime order_euros_complete  \\\n",
       "36548   457810557350214392  ...   1.507651e+09                132.0   \n",
       "26376          1.12241e+18  ...   1.507419e+09                  0.0   \n",
       "21940  5963631948501878610  ...   1.507316e+09                154.0   \n",
       "8907    233830236249633791  ...   1.507068e+09                  0.0   \n",
       "36441    24264360175766929  ...   1.507649e+09                  1.0   \n",
       "\n",
       "      org_search chrome purchase predicted_purchase_LR predicted_purchase_NB  \\\n",
       "36548          1      1        1                     0                     0   \n",
       "26376          0      1        0                     1                     1   \n",
       "21940          1      1        1                     0                     0   \n",
       "8907           1      1        0                     0                     0   \n",
       "36441          1      1        1                     0                     0   \n",
       "\n",
       "       predicted_purchase_KNN predicted_purchase_LR_test  \\\n",
       "36548                       1                          0   \n",
       "26376                       1                          1   \n",
       "21940                       1                          0   \n",
       "8907                        1                          0   \n",
       "36441                       1                          0   \n",
       "\n",
       "      predicted_purchase_KNN_test  \n",
       "36548                           1  \n",
       "26376                           1  \n",
       "21940                           1  \n",
       "8907                            1  \n",
       "36441                           1  \n",
       "\n",
       "[5 rows x 89 columns]"
      ]
     },
     "execution_count": 135,
     "metadata": {},
     "output_type": "execute_result"
    }
   ],
   "source": [
    "test.head()"
   ]
  },
  {
   "cell_type": "code",
   "execution_count": 136,
   "metadata": {},
   "outputs": [
    {
     "data": {
      "text/plain": [
       "purchase  predicted_purchase_KNN_test\n",
       "0         1                              3978\n",
       "          0                               731\n",
       "1         1                              4959\n",
       "          0                               794\n",
       "Name: predicted_purchase_KNN_test, dtype: int64"
      ]
     },
     "execution_count": 136,
     "metadata": {},
     "output_type": "execute_result"
    }
   ],
   "source": [
    "test.groupby('purchase')['predicted_purchase_KNN_test'].value_counts()"
   ]
  },
  {
   "cell_type": "code",
   "execution_count": 137,
   "metadata": {},
   "outputs": [],
   "source": [
    "from sklearn.metrics import confusion_matrix"
   ]
  },
  {
   "cell_type": "code",
   "execution_count": 139,
   "metadata": {},
   "outputs": [
    {
     "name": "stdout",
     "output_type": "stream",
     "text": [
      "[[1565 3144]\n",
      " [1471 4282]]\n"
     ]
    }
   ],
   "source": [
    "print(confusion_matrix(test['purchase'], test['predicted_purchase_LR_test']))"
   ]
  },
  {
   "cell_type": "code",
   "execution_count": 140,
   "metadata": {},
   "outputs": [
    {
     "name": "stdout",
     "output_type": "stream",
     "text": [
      "[[ 731 3978]\n",
      " [ 794 4959]]\n"
     ]
    }
   ],
   "source": [
    "print(confusion_matrix(test['purchase'], test['predicted_purchase_KNN_test']))"
   ]
  },
  {
   "cell_type": "code",
   "execution_count": 144,
   "metadata": {},
   "outputs": [],
   "source": [
    "from sklearn.metrics import classification_report"
   ]
  },
  {
   "cell_type": "code",
   "execution_count": 147,
   "metadata": {},
   "outputs": [
    {
     "name": "stdout",
     "output_type": "stream",
     "text": [
      "              precision    recall  f1-score   support\n",
      "\n",
      "           0       0.52      0.33      0.40      4709\n",
      "           1       0.58      0.74      0.65      5753\n",
      "\n",
      "    accuracy                           0.56     10462\n",
      "   macro avg       0.55      0.54      0.53     10462\n",
      "weighted avg       0.55      0.56      0.54     10462\n",
      "\n"
     ]
    }
   ],
   "source": [
    "print(classification_report(test['purchase'], test['predicted_purchase_LR_test']))"
   ]
  },
  {
   "cell_type": "code",
   "execution_count": 148,
   "metadata": {},
   "outputs": [
    {
     "name": "stdout",
     "output_type": "stream",
     "text": [
      "              precision    recall  f1-score   support\n",
      "\n",
      "           0       0.48      0.16      0.23      4709\n",
      "           1       0.55      0.86      0.68      5753\n",
      "\n",
      "    accuracy                           0.54     10462\n",
      "   macro avg       0.52      0.51      0.45     10462\n",
      "weighted avg       0.52      0.54      0.48     10462\n",
      "\n"
     ]
    }
   ],
   "source": [
    "print(classification_report(test['purchase'], test['predicted_purchase_KNN_test']))"
   ]
  },
  {
   "cell_type": "code",
   "execution_count": 149,
   "metadata": {},
   "outputs": [],
   "source": [
    "clf_KNN_test10 = KNeighborsClassifier(n_neighbors=10)"
   ]
  },
  {
   "cell_type": "code",
   "execution_count": 151,
   "metadata": {},
   "outputs": [
    {
     "data": {
      "text/plain": [
       "KNeighborsClassifier(n_neighbors=10)"
      ]
     },
     "execution_count": 151,
     "metadata": {},
     "output_type": "execute_result"
    }
   ],
   "source": [
    "clf_KNN_test10.fit(train[features], train['purchase'])"
   ]
  },
  {
   "cell_type": "code",
   "execution_count": 152,
   "metadata": {},
   "outputs": [
    {
     "name": "stderr",
     "output_type": "stream",
     "text": [
      "<ipython-input-152-83545588bcb0>:1: SettingWithCopyWarning: \n",
      "A value is trying to be set on a copy of a slice from a DataFrame.\n",
      "Try using .loc[row_indexer,col_indexer] = value instead\n",
      "\n",
      "See the caveats in the documentation: https://pandas.pydata.org/pandas-docs/stable/user_guide/indexing.html#returning-a-view-versus-a-copy\n",
      "  test['predicted_purchase_KNN_test10'] = clf_KNN_test10.predict(test[features])\n"
     ]
    }
   ],
   "source": [
    "test['predicted_purchase_KNN_test10'] = clf_KNN_test10.predict(test[features])"
   ]
  },
  {
   "cell_type": "code",
   "execution_count": 153,
   "metadata": {},
   "outputs": [
    {
     "name": "stdout",
     "output_type": "stream",
     "text": [
      "              precision    recall  f1-score   support\n",
      "\n",
      "           0       0.00      0.00      0.00      4709\n",
      "           1       0.55      1.00      0.71      5753\n",
      "\n",
      "    accuracy                           0.55     10462\n",
      "   macro avg       0.27      0.50      0.35     10462\n",
      "weighted avg       0.30      0.55      0.39     10462\n",
      "\n"
     ]
    },
    {
     "name": "stderr",
     "output_type": "stream",
     "text": [
      "/Users/t.b.araujouva.nl/opt/anaconda3/lib/python3.8/site-packages/sklearn/metrics/_classification.py:1221: UndefinedMetricWarning: Precision and F-score are ill-defined and being set to 0.0 in labels with no predicted samples. Use `zero_division` parameter to control this behavior.\n",
      "  _warn_prf(average, modifier, msg_start, len(result))\n"
     ]
    }
   ],
   "source": [
    "print(classification_report(test['purchase'], test['predicted_purchase_KNN_test10']))"
   ]
  },
  {
   "cell_type": "code",
   "execution_count": null,
   "metadata": {},
   "outputs": [],
   "source": []
  }
 ],
 "metadata": {
  "kernelspec": {
   "display_name": "Python 3",
   "language": "python",
   "name": "python3"
  },
  "language_info": {
   "codemirror_mode": {
    "name": "ipython",
    "version": 3
   },
   "file_extension": ".py",
   "mimetype": "text/x-python",
   "name": "python",
   "nbconvert_exporter": "python",
   "pygments_lexer": "ipython3",
   "version": "3.8.5"
  }
 },
 "nbformat": 4,
 "nbformat_minor": 4
}
